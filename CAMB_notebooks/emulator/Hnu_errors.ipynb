{
 "cells": [
  {
   "cell_type": "code",
   "execution_count": 24,
   "id": "30f09db7-2cfa-446d-817c-a02c1a723faf",
   "metadata": {},
   "outputs": [],
   "source": [
    "import numpy as np\n",
    "import pylab as pb\n",
    "import GPy\n",
    "import copy as cp\n",
    "\n",
    "import pickle\n",
    "\n",
    "import matplotlib as mpl\n",
    "\n",
    "from cassL import camb_interface as ci\n",
    "from cassL import generate_emu_data as ged\n",
    "from cassL import user_interface as ui\n",
    "\n",
    "pb.ion()\n",
    "\n",
    "file_base = \"\""
   ]
  },
  {
   "cell_type": "code",
   "execution_count": 25,
   "id": "9753c8c7-2800-4089-92d5-4968c88f1596",
   "metadata": {},
   "outputs": [],
   "source": [
    "#assert False, \"you should give this emulator a new name instead of over-writing\"\n",
    "# Emulator version label, for plots\n",
    "emu_vlabel = \"Hnu2\""
   ]
  },
  {
   "cell_type": "code",
   "execution_count": 26,
   "id": "12a605fe-e803-427f-9152-5a405ff53e86",
   "metadata": {},
   "outputs": [],
   "source": [
    "X_orig = np.load(\"../../cassL/data_sets/Hnu2/lhc_test_initial.npy\", allow_pickle=True)\n",
    "X_orig = X_orig[:100]\n",
    "X_orig[:, 3]\n",
    "sigma12s = np.sqrt(X_orig[:, 3] * 0.96 + 0.04)"
   ]
  },
  {
   "cell_type": "code",
   "execution_count": 27,
   "id": "a5447cf6-af3a-441b-a5e2-acae1594d88e",
   "metadata": {},
   "outputs": [
    {
     "data": {
      "text/plain": [
       "100"
      ]
     },
     "execution_count": 27,
     "metadata": {},
     "output_type": "execute_result"
    }
   ],
   "source": [
    "len(sigma12s)"
   ]
  },
  {
   "cell_type": "code",
   "execution_count": 28,
   "id": "8ba9ca7b-5410-4486-bd72-829887a740c7",
   "metadata": {},
   "outputs": [
    {
     "data": {
      "text/plain": [
       "(array([ 6.,  6.,  5., 14., 17.,  8., 11., 13., 11.,  9.]),\n",
       " array([0.20684294, 0.28571124, 0.36457955, 0.44344785, 0.52231616,\n",
       "        0.60118446, 0.68005277, 0.75892107, 0.83778938, 0.91665769,\n",
       "        0.99552599]),\n",
       " <BarContainer object of 10 artists>)"
      ]
     },
     "execution_count": 28,
     "metadata": {},
     "output_type": "execute_result"
    },
    {
     "data": {
      "image/png": "[encoded data removed]",
      "text/plain": [
       "<Figure size 640x480 with 1 Axes>"
      ]
     },
     "metadata": {},
     "output_type": "display_data"
    }
   ],
   "source": [
    "pb.hist(sigma12s)"
   ]
  },
  {
   "cell_type": "code",
   "execution_count": 29,
   "id": "7d65295a-58cf-465e-b0dc-080e7b48e4cd",
   "metadata": {},
   "outputs": [],
   "source": [
    "#X_raw = np.load(\"G_versions/hc_G6_test.npy\", allow_pickle=True)\n",
    "#Y_raw = np.load(\"G_versions/samples_G6_test.npy\", allow_pickle=True)\n",
    "linear_in_sigma12 = True\n",
    "\n",
    "# We don't use the emu_vlabel variable in the following code because the lhc\n",
    "# version has decoupled from the emulator version.\n",
    "if linear_in_sigma12:\n",
    "    X_raw = np.load(\"../../cassL/data_sets/Hnu2/lhc_test_final.npy\", allow_pickle=True)\n",
    "    Y_raw = np.load(\"../../cassL/data_sets/Hnu2/samples_test.npy\", allow_pickle=True)\n",
    "else:\n",
    "    # X_raw = np.load(\"hc_backup_i499_H2_train.npy\", allow_pickle=True)\n",
    "    # Y_raw = np.load(\"samples_backup_i499_H2_train.npy\", allow_pickle=True)\n",
    "    X_raw = np.load(\"lhc_unit_H2_test.npy\", allow_pickle=True)\n",
    "    Y_raw = np.load(\"samples_unit_H2_test.npy\", allow_pickle=True)  "
   ]
  },
  {
   "cell_type": "code",
   "execution_count": 30,
   "id": "e62d1728-e240-4e1d-a3f7-3bcaf786b64a",
   "metadata": {},
   "outputs": [],
   "source": [
    "scales = np.load(\"standard_k.npy\", allow_pickle=True)"
   ]
  },
  {
   "cell_type": "code",
   "execution_count": 31,
   "id": "7012f29c-ad91-41fd-8775-8c844fe1c39f",
   "metadata": {},
   "outputs": [],
   "source": [
    "def is_bad(row):\n",
    "    if float('-inf') in row or float('inf') in row \\\n",
    "        or None in row or True in np.isnan(pspec) \\\n",
    "        or 0 in row:\n",
    "        return True\n",
    "    return False\n",
    "\n",
    "bad_row_indices = []\n",
    "for i in range(len(Y_raw)):\n",
    "    pspec = Y_raw[i]\n",
    "    if is_bad(pspec):\n",
    "        bad_row_indices.append(i)\n",
    "\n",
    "X = np.delete(X_raw, bad_row_indices, 0)\n",
    "Y = np.delete(Y_raw, bad_row_indices, 0)"
   ]
  },
  {
   "cell_type": "code",
   "execution_count": 32,
   "id": "a477781b-ae18-4f79-93a1-8c5dc1f96790",
   "metadata": {},
   "outputs": [],
   "source": [
    "m = pickle.load(open(\"analyses/massive_emulator_\" + emu_vlabel + \".cle\", \"rb\"))"
   ]
  },
  {
   "cell_type": "code",
   "execution_count": 33,
   "id": "6a88d0c8-5284-43f7-8a10-042f686c233f",
   "metadata": {},
   "outputs": [],
   "source": [
    "def inverse_ytransform(raw_prediction):\n",
    "    return np.exp(raw_prediction * m.ystdev + m.ymu)"
   ]
  },
  {
   "cell_type": "code",
   "execution_count": 34,
   "id": "f8943427-3831-4dc7-9534-5aeeef2e3215",
   "metadata": {},
   "outputs": [
    {
     "ename": "AttributeError",
     "evalue": "module 'cassL.user_interface' has no attribute 'get_param_ranges'",
     "output_type": "error",
     "traceback": [
      "\u001b[0;31m---------------------------------------------------------------------------\u001b[0m",
      "\u001b[0;31mAttributeError\u001b[0m                            Traceback (most recent call last)",
      "Cell \u001b[0;32mIn[34], line 1\u001b[0m\n\u001b[0;32m----> 1\u001b[0m par_ranges \u001b[38;5;241m=\u001b[39m \u001b[43mui\u001b[49m\u001b[38;5;241;43m.\u001b[39;49m\u001b[43mget_param_ranges\u001b[49m(massive_neutrinos\u001b[38;5;241m=\u001b[39m\u001b[38;5;28;01mTrue\u001b[39;00m)\n\u001b[1;32m      2\u001b[0m xmin \u001b[38;5;241m=\u001b[39m np\u001b[38;5;241m.\u001b[39marray([])\n\u001b[1;32m      3\u001b[0m xrange \u001b[38;5;241m=\u001b[39m np\u001b[38;5;241m.\u001b[39marray([])\n",
      "\u001b[0;31mAttributeError\u001b[0m: module 'cassL.user_interface' has no attribute 'get_param_ranges'"
     ]
    }
   ],
   "source": [
    "par_ranges = ui.get_param_ranges(massive_neutrinos=True)\n",
    "xmin = np.array([])\n",
    "xrange = np.array([])\n",
    "\n",
    "for key in par_ranges.keys():\n",
    "    xmin = np.append(xmin, par_ranges[key][0])\n",
    "    xrange = np.append(xrange, par_ranges[key][1] - par_ranges[key][0])\n",
    "\n",
    "# ! This is bad form, xmin and xrange should be saved with the emulator object\n",
    "#def xtransform(configuration):\n",
    "#    return (configuration - xmin) / xrange\n",
    "\n",
    "def xtransform(configuration):\n",
    "    return configuration"
   ]
  },
  {
   "cell_type": "code",
   "execution_count": null,
   "id": "3ab55be8-1f8c-4c83-978f-8b74fd6cf5b8",
   "metadata": {},
   "outputs": [],
   "source": [
    "def nest(array):\n",
    "    return np.array([np.array(array)])"
   ]
  },
  {
   "cell_type": "code",
   "execution_count": null,
   "id": "4b1123b1-12b9-49a4-8f35-8b573c6014a5",
   "metadata": {},
   "outputs": [],
   "source": [
    "preds = np.zeros(Y.shape)\n",
    "rel_errors = np.zeros(Y.shape)\n",
    "sq_errors = np.zeros(Y.shape)\n",
    "deltas = np.zeros(Y.shape)\n",
    "\n",
    "for i in range(len(X)):\n",
    "    x = xtransform(nest(X[i]))\n",
    "    raw_pred, _ = m.predict(x)\n",
    "    preds[i] = inverse_ytransform(raw_pred)\n",
    "    deltas[i] = preds[i] - Y[i]\n",
    "    rel_errors[i] = deltas[i] / Y[i]\n",
    "    sq_errors[i] = np.square(deltas[i])\n",
    "    \n",
    "# rel_errors = deltas"
   ]
  },
  {
   "cell_type": "code",
   "execution_count": null,
   "id": "be457ee4-6208-4e91-9097-eca163a629ae",
   "metadata": {},
   "outputs": [],
   "source": [
    "print(\"Squared error across all models:\")\n",
    "print(sum(sum(sq_errors)))"
   ]
  },
  {
   "cell_type": "markdown",
   "id": "0adada9a-2fd0-4ad7-b7b6-dd16aa21f0ea",
   "metadata": {},
   "source": [
    "# An example of an extreme error plot, with the cosmology it was\n",
    "# supposed to describe. \n",
    "\n",
    "pb.plot(rel_errors[900] * 100)\n",
    "print(X[900])"
   ]
  },
  {
   "cell_type": "code",
   "execution_count": null,
   "id": "7a4c72fe-a403-4c68-abeb-1f9d8c0a3819",
   "metadata": {},
   "outputs": [],
   "source": [
    "min(X[:, 3])"
   ]
  },
  {
   "cell_type": "code",
   "execution_count": null,
   "id": "88f322da-7d8b-4272-b537-b67710744f12",
   "metadata": {},
   "outputs": [],
   "source": [
    "max(X[:, 3])"
   ]
  },
  {
   "cell_type": "code",
   "execution_count": null,
   "id": "238a994c-132c-463e-992d-0b305623e400",
   "metadata": {},
   "outputs": [],
   "source": [
    "def normalize(array):\n",
    "    min_ = min(array)\n",
    "    max_ = max(array)\n",
    "    range_ = max_ - min_\n",
    "    shifted = array - min_\n",
    "    return shifted / range_"
   ]
  },
  {
   "cell_type": "code",
   "execution_count": null,
   "id": "860282b8-4565-438f-923e-9c37237c40d4",
   "metadata": {},
   "outputs": [],
   "source": [
    "error_i = 3\n",
    "pb.plot(scales, 100 * rel_errors[error_i], color='blue')\n",
    "pb.xscale('log')\n",
    "        \n",
    "pb.title(r\"Emulator \" + emu_vlabel + r\", error curve #\" + str(error_i))\n",
    "pb.ylabel(\"% error between CAMB and CassL\")\n",
    "pb.xlabel(\"scale $k$ [1 / Mpc]\")\n",
    "#pb.savefig(\"../plots/emulator/performance/massive_5k_G7a.png\")"
   ]
  },
  {
   "cell_type": "code",
   "execution_count": null,
   "id": "8d25245e-570e-4d53-adca-3240a8c5bc93",
   "metadata": {},
   "outputs": [],
   "source": [
    "# Let's use the plasma color map\n",
    "def plot_colored_errors(param_index, param_label, param_range=None,\n",
    "    save_label=None):\n",
    "    valid_indices = list(range(len(X[:, param_index])))\n",
    "    if param_range is not None:\n",
    "        valid_indices = np.where(np.logical_and(\n",
    "            X[:, param_index] < param_range[1],\n",
    "            X[:, param_index] > param_range[0]))[0]\n",
    "    valid_vals = X[:, param_index][valid_indices]\n",
    "    normalized_vals = normalize(valid_vals)\n",
    "    # normalized_vals = normalize(X[:, param_index])\n",
    "    colors = pb.cm.plasma(normalized_vals)\n",
    "    valid_errors = rel_errors[valid_indices]\n",
    "    \n",
    "    for i in range(len(valid_errors)):\n",
    "        if i % 1 == 0:\n",
    "            pb.plot(scales, valid_errors[i],\n",
    "                color=colors[i], alpha=0.05)\n",
    "            pb.xscale('log')\n",
    "\n",
    "    pb.title(r\"Emulator \" + emu_vlabel + \", \" + str(len(valid_errors)) + \\\n",
    "             r\" Random Massive-$\\nu$ Models\" + \"\\ncolored by \" + \\\n",
    "             param_label + \" value\")\n",
    "    pb.ylabel(\"% error between CAMB and CassL\")\n",
    "    pb.xlabel(\"scale $k$ [1 / Mpc]\")\n",
    "    norm = mpl.colors.Normalize(\n",
    "        vmin=min(X[:, param_index][valid_indices]),\n",
    "        vmax=max(X[:, param_index][valid_indices]))\n",
    "    pb.colorbar(mpl.cm.ScalarMappable(cmap=pb.cm.plasma, norm=norm))\n",
    "    # Momentarily eliminate saving so that we don't keep crashing on the\n",
    "    # incomplete file handles.\n",
    "    if save_label is not None:\n",
    "        pb.savefig(\"../plots/emulator/performance/\" + save_label + \".png\")"
   ]
  },
  {
   "cell_type": "code",
   "execution_count": null,
   "id": "334071cf-d7f6-49f5-ad4e-f38506ddf746",
   "metadata": {},
   "outputs": [],
   "source": [
    "plot_colored_errors(3, r\"$\\sigma_{12}$\", save_label=\"s12_coloration\")"
   ]
  },
  {
   "cell_type": "code",
   "execution_count": null,
   "id": "a8778a60-b37a-4220-8fcb-0f4d89c9959b",
   "metadata": {},
   "outputs": [],
   "source": [
    "plot_colored_errors(0, r\"$\\omega_b$\")"
   ]
  },
  {
   "cell_type": "code",
   "execution_count": null,
   "id": "ca71648a-37e9-4b55-9020-9a14cea7689e",
   "metadata": {},
   "outputs": [],
   "source": [
    "plot_colored_errors(1, r\"$\\omega_c$\")"
   ]
  },
  {
   "cell_type": "code",
   "execution_count": null,
   "id": "0f56c5cf-74d6-410f-8e26-de34ecaef013",
   "metadata": {},
   "outputs": [],
   "source": [
    "plot_colored_errors(2, r\"$n_s$\")"
   ]
  },
  {
   "cell_type": "code",
   "execution_count": null,
   "id": "2e05c2e1-ce4b-421e-9029-383bd424e30f",
   "metadata": {},
   "outputs": [],
   "source": [
    "plot_colored_errors(4, r\"$A_s$\", save_label=\"_colored_by_As\")"
   ]
  },
  {
   "cell_type": "code",
   "execution_count": null,
   "id": "fc6febd1-7a94-4be6-a2b5-240baa94788a",
   "metadata": {},
   "outputs": [],
   "source": [
    "plot_colored_errors(5, r\"$\\omega_\\nu$\", save_label=\"_colored_by_omnu\")"
   ]
  },
  {
   "cell_type": "code",
   "execution_count": null,
   "id": "2b74d450-6de1-4951-8fc8-2c61f8b3a6e0",
   "metadata": {},
   "outputs": [],
   "source": [
    "# This cell is wrong, right? It must be a leftover... it doesn't seem to have\n",
    "# anything that the already-correct solution above lacks...\n",
    "\n",
    "# Let's use the plasma color map\n",
    "normalized_omc_vals = normalize(X[:, 1])\n",
    "colors_omc = pb.cm.plasma(normalized_omc_vals)\n",
    "\n",
    "for i in range(len(rel_errors)):\n",
    "    if i % 1 == 0:\n",
    "        pb.plot(scales, 100 * rel_errors[i],\n",
    "            color=colors_omc[i], alpha=0.05)\n",
    "        pb.xscale('log')\n",
    "        \n",
    "pb.title(r\"Emulator \" + emu_vlabel + r\", 5000 Random Massive-$\\nu$ Models\" \"\\n\" \n",
    "        r\"colored by $\\omega_c$ value\")\n",
    "pb.ylabel(\"% error between CAMB and CassL\")\n",
    "pb.xlabel(\"scale $k$ [1 / Mpc]\")\n",
    "pb.colorbar(mpl.cm.ScalarMappable(cmap=pb.cm.plasma))\n",
    "#pb.savefig(\"../plots/emulator/performance/massive_5k_G6.png\")"
   ]
  },
  {
   "cell_type": "code",
   "execution_count": null,
   "id": "bf134e04-5165-4b73-8a30-5c6ea4eacffa",
   "metadata": {},
   "outputs": [],
   "source": [
    "# This cell is wrong, right? It must be a leftover... it doesn't seem to have\n",
    "# anything that the already-correct solution above lacks...\n",
    "\n",
    "for i in range(len(rel_errors)):\n",
    "    if i % 1 == 0: # plot one out of every one hundred errors\n",
    "        pb.plot(scales, 100 * rel_errors[i],\n",
    "            color=pb.cm.plasma(X[i][0]), alpha=0.05)\n",
    "        pb.xscale('log')\n",
    "        \n",
    "pb.title(r\"Emulator \" + emu_vlabel + r\", 5000 Random Massive-$\\nu$ Models\" \"\\n\" \n",
    "        r\"colored by $\\omega_b$ value\")\n",
    "pb.ylabel(\"% error between CAMB and CassL\")\n",
    "pb.xlabel(\"scale $k$ [1 / Mpc]\")"
   ]
  },
  {
   "cell_type": "code",
   "execution_count": null,
   "id": "3f52a378-208b-42e6-8426-c3538ed4ca7b",
   "metadata": {},
   "outputs": [],
   "source": [
    "for i in range(len(rel_errors)):\n",
    "    if i % 1 == 0: # plot one out of every one hundred errors\n",
    "        pb.plot(scales[:80], 100 * rel_errors[i][:80],\n",
    "            color='blue', alpha=0.05)\n",
    "        pb.xscale('log')\n",
    "        \n",
    "pb.title(r\"Emulator \" + emu_vlabel + r\", 5000 Random Massive-$\\nu$ Models\")\n",
    "pb.ylabel(\"% error between CAMB and CassL\")\n",
    "pb.xlabel(\"scale $k$ [1 / Mpc]\")\n",
    "#pb.savefig(\"../plots/emulator/performance/massive_5k_G6.png\")"
   ]
  },
  {
   "cell_type": "code",
   "execution_count": null,
   "id": "b9a9f346-bae5-4332-b11f-f77820b7b3f9",
   "metadata": {},
   "outputs": [],
   "source": [
    "for i in range(len(rel_errors)):\n",
    "    if i % 1 == 0: # plot one out of every one hundred errors\n",
    "        pb.plot(scales, 100 * rel_errors[i],\n",
    "            color='blue', alpha=0.05)\n",
    "        pb.xscale('log')\n",
    "        \n",
    "pb.title(r\"Emulator \" + emu_vlabel + r\", 5000 Random Massive-$\\nu$ Models\")\n",
    "pb.ylabel(\"% error between CAMB and CassL\")\n",
    "pb.xlabel(\"scale $k$ [1 / Mpc]\")\n",
    "pb.savefig(\"../plots/emulator/performance/massive_5k_\" + emu_vlabel + \".png\")"
   ]
  },
  {
   "cell_type": "code",
   "execution_count": null,
   "id": "f7f88deb-1c78-4f0a-819d-dda47fe937a3",
   "metadata": {},
   "outputs": [],
   "source": [
    "# Error statistics ideas: parentheticals describe building blocks\n",
    "\n",
    "# (for each curve:)\n",
    "    # a minimum percent error\n",
    "    # b maximum percent error\n",
    "    # c standard deviation of errors\n",
    "    # d mean error\n",
    "    # e median error\n",
    "\n",
    "# Median, mean, stddev of a-e.\n",
    "\n",
    "mins = np.array([min(abs(rel_error_curve)) for rel_error_curve in rel_errors])\n",
    "print(\"MINIMUM RELATIVE ERRORS:\")\n",
    "print(\"this ranges from\", min(mins), \"to\", max(mins))\n",
    "print(\"median is\", np.median(mins))\n",
    "print(\"mean is\", np.mean(mins))\n",
    "print(\"st.dev. is\", np.std(mins))"
   ]
  },
  {
   "cell_type": "code",
   "execution_count": null,
   "id": "a20ab67d-9887-47e8-80dd-6ce5946bcb2d",
   "metadata": {},
   "outputs": [],
   "source": [
    "maxs = np.array([max(abs(rel_error_curve)) for rel_error_curve in rel_errors])\n",
    "print(\"MAXIMUM RELATIVE ERRORS:\")\n",
    "print(\"this ranges from\", min(maxs), \"to\", max(maxs))\n",
    "print(\"median is\", np.median(maxs))\n",
    "print(\"mean is\", np.mean(maxs))\n",
    "print(\"st.dev. is\", np.std(maxs))"
   ]
  },
  {
   "cell_type": "code",
   "execution_count": null,
   "id": "84c58f2c-2309-4fbf-a606-e65ae60a9856",
   "metadata": {},
   "outputs": [],
   "source": [
    "means = np.array([np.mean(rel_error_curve) for rel_error_curve in rel_errors])\n",
    "print(\"MEAN RELATIVE ERRORS:\")\n",
    "print(\"this ranges from\", min(means), \"to\", max(means))\n",
    "print(\"median is\", np.median(means))\n",
    "print(\"mean is\", np.mean(means))\n",
    "print(\"st.dev. is\", np.std(means))"
   ]
  },
  {
   "cell_type": "code",
   "execution_count": null,
   "id": "cd20a4c6-c5cd-4b4f-85ea-fd8a9de44a9a",
   "metadata": {},
   "outputs": [],
   "source": [
    "meds = np.array([np.median(rel_error_curve) for rel_error_curve in rel_errors])\n",
    "print(\"MEDIAN RELATIVE ERRORS:\")\n",
    "print(\"this ranges from\", min(meds), \"to\", max(meds))\n",
    "print(\"median is\", np.median(meds))\n",
    "print(\"mean is\", np.mean(meds))\n",
    "print(\"st.dev. is\", np.std(meds))"
   ]
  },
  {
   "cell_type": "code",
   "execution_count": null,
   "id": "2c46c589-75d4-480b-8c56-115a3c764faf",
   "metadata": {},
   "outputs": [],
   "source": [
    "pb.hist(100 * meds, bins=22)\n",
    "pb.title(\"Histogram of Median Percent Errors: Emulator \" + emu_vlabel)\n",
    "pb.ylabel(\"Frequency [counts]\")\n",
    "pb.xlabel(\"% Error between CAMB and Cass-L\")\n",
    "pb.savefig(\"../plots/emulator/performance/err_hist_\" + emu_vlabel + \".png\")"
   ]
  },
  {
   "cell_type": "code",
   "execution_count": null,
   "id": "f38b1d5b-7ee7-43d5-b655-83a481982b31",
   "metadata": {},
   "outputs": [],
   "source": [
    "stddevs = np.array([np.std(rel_error_curve) for rel_error_curve in rel_errors])\n",
    "print(\"ST.DEV.S IN RELATIVE ERRORS:\")\n",
    "print(\"this ranges from\", min(stddevs), \"to\", max(stddevs))\n",
    "print(\"median is\", np.median(stddevs))\n",
    "print(\"mean is\", np.mean(stddevs))\n",
    "print(\"st.dev. is\", np.std(stddevs))"
   ]
  },
  {
   "cell_type": "code",
   "execution_count": null,
   "id": "801c2f6d-cf4d-40dc-bc9f-b55291fc2fa7",
   "metadata": {},
   "outputs": [],
   "source": [
    "pb.hist(mins)"
   ]
  },
  {
   "cell_type": "code",
   "execution_count": null,
   "id": "4a7b396e-04e7-42b5-b87e-972755ee2df0",
   "metadata": {},
   "outputs": [],
   "source": [
    "pb.hist(maxs)"
   ]
  },
  {
   "cell_type": "code",
   "execution_count": null,
   "id": "110d37ca-04f5-4a26-80c0-319bbba0aafa",
   "metadata": {},
   "outputs": [],
   "source": [
    "pb.hist(stddevs)"
   ]
  },
  {
   "cell_type": "code",
   "execution_count": null,
   "id": "c6f08346-0b58-479b-acac-2e374e67c571",
   "metadata": {},
   "outputs": [],
   "source": [
    "pb.hist(meds)"
   ]
  },
  {
   "cell_type": "code",
   "execution_count": null,
   "id": "4fb72cd6-0ecb-4f16-a1f6-a0305f7a8406",
   "metadata": {},
   "outputs": [],
   "source": [
    "pb.hist(means)"
   ]
  },
  {
   "cell_type": "code",
   "execution_count": null,
   "id": "6c5f46cf-0858-4462-a950-96b1195dc229",
   "metadata": {},
   "outputs": [],
   "source": []
  }
 ],
 "metadata": {
  "kernelspec": {
   "display_name": "Python 3 (ipykernel)",
   "language": "python",
   "name": "python3"
  },
  "language_info": {
   "codemirror_mode": {
    "name": "ipython",
    "version": 3
   },
   "file_extension": ".py",
   "mimetype": "text/x-python",
   "name": "python",
   "nbconvert_exporter": "python",
   "pygments_lexer": "ipython3",
   "version": "3.9.16"
  }
 },
 "nbformat": 4,
 "nbformat_minor": 5
}
