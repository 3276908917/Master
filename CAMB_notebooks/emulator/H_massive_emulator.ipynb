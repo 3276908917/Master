{
 "cells": [
  {
   "cell_type": "code",
   "execution_count": 1,
   "id": "ce2e6269-d53c-4d7e-a0ab-819d34d9331b",
   "metadata": {},
   "outputs": [],
   "source": [
    "import numpy as np\n",
    "import pylab as pb\n",
    "import GPy\n",
    "import copy as cp\n",
    "import pickle\n",
    "\n",
    "from cassL import camb_interface as ci\n",
    "from cassL import generate_emu_data as ged\n",
    "from cassL import user_interface as ui\n",
    "\n",
    "regenerate = True\n",
    "\n",
    "linear_in_sigma12 = False\n",
    "\n",
    "pb.ion()\n",
    "\n",
    "file_base = \"\""
   ]
  },
  {
   "cell_type": "code",
   "execution_count": 2,
   "id": "113043ce-d203-4fca-ae22-640ba6c95701",
   "metadata": {},
   "outputs": [],
   "source": [
    "#assert False, \"you should give this emulator a new name instead of over-writing\"\n",
    "emu_vlabel = \"H3\""
   ]
  },
  {
   "cell_type": "code",
   "execution_count": 4,
   "id": "3dc64ac5-b34d-4a71-84ab-1cdd70822bcb",
   "metadata": {},
   "outputs": [],
   "source": [
    "# X_raw = np.load(\"hc_G6_pred_r1.npy\", allow_pickle=True)\n",
    "# Y_raw = np.load(\"samples_G6_pred_r1.npy\", allow_pickle=True)\n",
    "\n",
    "# We don't use the emu_vlabel variable in the following code because the lhc\n",
    "# version has decoupled from the emulator version.\n",
    "if linear_in_sigma12:\n",
    "    X_raw = np.load(\"hc_backup_i99_H3_unit_train.npy\", allow_pickle=True)\n",
    "    Y_raw = np.load(\"samples_backup_i99_H3_unit_train.npy\", allow_pickle=True)\n",
    "else:\n",
    "    #X_raw = np.load(\"hc_backup_i499_H2_train.npy\", allow_pickle=True)\n",
    "    #Y_raw = np.load(\"samples_backup_i499_H2_train.npy\", allow_pickle=True)  \n",
    "    X_raw = np.load(\"hc_backup_i4999_H3_unit_train.npy\", allow_pickle=True)\n",
    "    Y_raw = np.load(\"samples_backup_i4999_H3_unit_train.npy\", allow_pickle=True)  \n"
   ]
  },
  {
   "cell_type": "code",
   "execution_count": 5,
   "id": "1256984c-9f34-4678-84be-1fe813222341",
   "metadata": {},
   "outputs": [],
   "source": [
    "scales = np.load(\"standard_k.npy\", allow_pickle=True)"
   ]
  },
  {
   "cell_type": "code",
   "execution_count": 6,
   "id": "b307fd57-94b3-4d51-8ad9-69b2afed0e56",
   "metadata": {},
   "outputs": [
    {
     "data": {
      "text/plain": [
       "[<matplotlib.lines.Line2D at 0x7f8781e552b0>]"
      ]
     },
     "execution_count": 6,
     "metadata": {},
     "output_type": "execute_result"
    },
    {
     "data": {
      "image/png": "[encoded data removed]",
      "text/plain": [
       "<Figure size 640x480 with 1 Axes>"
      ]
     },
     "metadata": {},
     "output_type": "display_data"
    }
   ],
   "source": [
    "# This plot only serves to make sure that the first row actually describes a\n",
    "# function.\n",
    "pb.loglog(scales, Y_raw[0])"
   ]
  },
  {
   "cell_type": "code",
   "execution_count": 7,
   "id": "10a6df5e-3563-4300-8193-d7b407bce0f8",
   "metadata": {},
   "outputs": [],
   "source": [
    "def is_bad(row):\n",
    "    if float('-inf') in row or float('inf') in row \\\n",
    "        or None in row or True in np.isnan(pspec) \\\n",
    "        or 0 in row:\n",
    "        return True\n",
    "    return False\n",
    "\n",
    "bad_row_indices = []\n",
    "for i in range(len(Y_raw)):\n",
    "    pspec = Y_raw[i]\n",
    "    if is_bad(pspec):\n",
    "        bad_row_indices.append(i)\n",
    "\n",
    "X = np.delete(X_raw, bad_row_indices, 0)\n",
    "Y = np.delete(Y_raw, bad_row_indices, 0)"
   ]
  },
  {
   "cell_type": "code",
   "execution_count": 8,
   "id": "9d6176f6-0e5b-4df5-a937-7e670c0c6f00",
   "metadata": {},
   "outputs": [
    {
     "data": {
      "text/plain": [
       "(300,)"
      ]
     },
     "execution_count": 8,
     "metadata": {},
     "output_type": "execute_result"
    }
   ],
   "source": [
    "# Now the goal is to compute summary statistics on Y for each value k\n",
    "Ylog = np.log(Y)\n",
    "ymu = np.mean(Ylog, axis=0)\n",
    "ymu.shape\n",
    "ystdev = np.std(Ylog, axis=0)\n",
    "ystdev.shape"
   ]
  },
  {
   "cell_type": "code",
   "execution_count": 9,
   "id": "c6e4ef50-4b66-4f12-9342-42160fccc7bb",
   "metadata": {},
   "outputs": [],
   "source": [
    "# now normalize the data with these summary statistics\n",
    "Y_normalized = cp.deepcopy(Ylog)\n",
    "\n",
    "for i in range(len(Y)):\n",
    "    Y_normalized[i] -= ymu\n",
    "    Y_normalized[i] /= ystdev"
   ]
  },
  {
   "cell_type": "code",
   "execution_count": 10,
   "id": "ea668e2d-3833-4fde-9def-d45e495b6a5d",
   "metadata": {},
   "outputs": [],
   "source": [
    "par_ranges = ui.get_param_ranges(massive_neutrinos=True)\n",
    "if not linear_in_sigma12:\n",
    "    del par_ranges['sigma12']\n",
    "    par_ranges['sigma12_2'] = [0.04, 1]"
   ]
  },
  {
   "cell_type": "code",
   "execution_count": 11,
   "id": "2d5db48e-11bb-4612-b4de-8c904aedd138",
   "metadata": {
    "scrolled": true
   },
   "outputs": [
    {
     "data": {
      "text/plain": [
       "{'ombh2': [0.0205, 0.02415],\n",
       " 'omch2': [0.085, 0.155],\n",
       " 'n_s': [0.92, 1.01],\n",
       " 'A_s': [1.15e-09, 4.989895197340787e-09],\n",
       " 'omnuh2': [0.0, 0.01],\n",
       " 'sigma12_2': [0.04, 1]}"
      ]
     },
     "execution_count": 11,
     "metadata": {},
     "output_type": "execute_result"
    }
   ],
   "source": [
    "par_ranges"
   ]
  },
  {
   "cell_type": "code",
   "execution_count": 12,
   "id": "42ce649f-9f4c-4c21-8cd4-a5b85d279367",
   "metadata": {},
   "outputs": [
    {
     "name": "stdout",
     "output_type": "stream",
     "text": [
      "[2.05e-02 8.50e-02 9.20e-01 4.00e-02 1.15e-09 0.00e+00]\n",
      "[3.6500000e-03 7.0000000e-02 9.0000000e-02 9.6000000e-01 3.8398952e-09\n",
      " 1.0000000e-02]\n"
     ]
    }
   ],
   "source": [
    "xmin = np.array([])\n",
    "xrange = np.array([])\n",
    "\n",
    "if linear_in_sigma12:\n",
    "    for key in par_ranges.keys():\n",
    "        xmin = np.append(xmin, par_ranges[key][0])\n",
    "        xrange = np.append(xrange, par_ranges[key][1] - par_ranges[key][0])\n",
    "\n",
    "else:\n",
    "    for key in par_ranges.keys():\n",
    "        xmin = np.append(xmin, par_ranges[key][0])\n",
    "        xrange = np.append(xrange, par_ranges[key][1] - par_ranges[key][0])\n",
    "        if key == \"n_s\":\n",
    "            xmin = np.append(xmin, 0)\n",
    "            xrange = np.append(xrange, 0)\n",
    "        if key == \"omnuh2\":\n",
    "            break\n",
    "    \n",
    "    xmin[3] = 0.04\n",
    "    xrange[3] = 0.96\n",
    "\n",
    "print(xmin)\n",
    "print(xrange)"
   ]
  },
  {
   "cell_type": "code",
   "execution_count": 13,
   "id": "733aeba4-c006-4470-b459-7e17a6f9fe3d",
   "metadata": {},
   "outputs": [],
   "source": [
    "def inverse_ytransform(raw_prediction):\n",
    "    return np.exp(raw_prediction * ystdev + ymu)"
   ]
  },
  {
   "cell_type": "code",
   "execution_count": 14,
   "id": "69221e25-3cf5-4c02-93fc-14df44f9ba2a",
   "metadata": {},
   "outputs": [],
   "source": [
    "def xtransform(configuration):\n",
    "    return (configuration - xmin) / xrange"
   ]
  },
  {
   "cell_type": "code",
   "execution_count": 15,
   "id": "d49916b0-d380-4780-96e9-c6197bbd3c1e",
   "metadata": {},
   "outputs": [
    {
     "data": {
      "text/plain": [
       "[<matplotlib.lines.Line2D at 0x7f877fb72880>]"
      ]
     },
     "execution_count": 15,
     "metadata": {},
     "output_type": "execute_result"
    },
    {
     "data": {
      "image/png": "[encoded data removed]",
      "text/plain": [
       "<Figure size 640x480 with 1 Axes>"
      ]
     },
     "metadata": {},
     "output_type": "display_data"
    }
   ],
   "source": [
    "pb.loglog(scales, inverse_ytransform(Y_normalized[0]))"
   ]
  },
  {
   "cell_type": "code",
   "execution_count": 16,
   "id": "170e8cdd-08da-4f7c-85bf-bdd116b88113",
   "metadata": {},
   "outputs": [
    {
     "name": "stdout",
     "output_type": "stream",
     "text": [
      "(5000, 6) (5000, 300)\n"
     ]
    }
   ],
   "source": [
    "print(X.shape, Y_normalized.shape)"
   ]
  },
  {
   "cell_type": "code",
   "execution_count": 17,
   "id": "68082d41-bc03-49c1-8ee1-c26595d844ec",
   "metadata": {},
   "outputs": [],
   "source": [
    "test_omnuh2 = 0.002\n",
    "\n",
    "m0_without_neuts = ci.specify_neutrino_mass(ci.cosm.iloc[0], 0, 0)\n",
    "m0_with_neuts = ci.specify_neutrino_mass(ci.cosm.iloc[0], test_omnuh2, 1)\n",
    "\n",
    "m0_with_neuts['omch2'] -= test_omnuh2"
   ]
  },
  {
   "cell_type": "code",
   "execution_count": 18,
   "id": "937e009a-a425-4e23-ae06-d1774ba33368",
   "metadata": {},
   "outputs": [
    {
     "name": "stdout",
     "output_type": "stream",
     "text": [
      "nnu_massive: 1\n",
      "0.7864558724216139\n"
     ]
    }
   ],
   "source": [
    "# We'll need to check our work using CAMB\n",
    "p_true_interpolator = ci.andrea_interpolator(m0_with_neuts)#,\n",
    "#    redshifts=[0], kmax=10)\n",
    "p_m0truth = np.array([p_true_interpolator.P(0, k) for k in scales])\n",
    "\n",
    "s_m0truth = ci.s12_from_interpolator(p_true_interpolator, 0)\n",
    "\n",
    "m0_without_neuts['sigma12'] = m0_with_neuts['sigma12'] = s_m0truth\n",
    "\n",
    "print(s_m0truth)"
   ]
  },
  {
   "cell_type": "code",
   "execution_count": 19,
   "id": "d455e20e-0dcb-4abf-b7ea-cfb4c72b571a",
   "metadata": {},
   "outputs": [],
   "source": [
    "p_m0truth2, actual_sigma12, best_z = ged.interpolate_cell(m0_with_neuts, scales,\n",
    "    using_andrea_code=False)"
   ]
  },
  {
   "cell_type": "code",
   "execution_count": 20,
   "id": "91ce7cc6-d0ea-4cf4-9711-ef5ce5ede4e9",
   "metadata": {},
   "outputs": [],
   "source": [
    "kernel = GPy.kern.RBF(input_dim=6, variance=1., lengthscale=1.)\n",
    "m = GPy.models.GPRegression(X, Y_normalized, kernel)"
   ]
  },
  {
   "cell_type": "code",
   "execution_count": null,
   "id": "288ffe0d-e532-4059-a14e-22a168e92ec6",
   "metadata": {},
   "outputs": [],
   "source": [
    "if regenerate:\n",
    "    m.constrain_positive('') # '' is a regex matching all parameter names\n",
    "    m.optimize()\n",
    "    \n",
    "    m.ymu = ymu\n",
    "    m.ystdev = ystdev\n",
    "    m.xmin = xmin\n",
    "    m.xrange = xrange\n",
    "    pickle.dump(m, open(\"analyses/massive_emulator_\" + emu_vlabel + \".cle\", \"wb\"), protocol=5) \n",
    "else:\n",
    "    m = pickle.load(open(\"analyses/massive_emulator_\" + emu_vlabel + \".cle\", \"rb\"))"
   ]
  },
  {
   "cell_type": "code",
   "execution_count": null,
   "id": "3b5711f3-c3c3-4a6a-851d-fb25458d28af",
   "metadata": {},
   "outputs": [],
   "source": [
    "# Remember that the structure of an hc entry is DIFFERENT NOW\n",
    "# omb, omc, ns, s12, As, omnu\n",
    "x = np.array([np.array([\n",
    "    m0_with_neuts['ombh2'], m0_with_neuts['omch2'], m0_with_neuts['n_s'],\n",
    "    s_m0truth, m0_with_neuts['A_s'], m0_with_neuts['omnuh2']\n",
    "])])\n",
    "x"
   ]
  },
  {
   "cell_type": "code",
   "execution_count": null,
   "id": "6b586cc7-1b04-4855-8df2-119d7b3295dc",
   "metadata": {},
   "outputs": [],
   "source": [
    "if not linear_in_sigma12:\n",
    "    x[0][3] *= x[0][3]"
   ]
  },
  {
   "cell_type": "code",
   "execution_count": null,
   "id": "c55040a9-8ed6-42c5-83f0-bed887388436",
   "metadata": {},
   "outputs": [],
   "source": [
    "# guess, uncertainties = m.predict(xtransform(x))\n",
    "guess, uncertainties = m.predict(xtransform(x))"
   ]
  },
  {
   "cell_type": "code",
   "execution_count": null,
   "id": "e115e94a-56cc-45e3-9de7-5e0ef48e78e0",
   "metadata": {},
   "outputs": [],
   "source": [
    "pb.plot(scales, inverse_ytransform(guess[0]), label=emu_vlabel + \" emulator\")\n",
    "pb.loglog(scales, p_m0truth, label=\"CAMB\", linestyle='dashed')\n",
    "pb.loglog(scales, p_m0truth2, label=\"Training Point\")#, linestyle='dashed')\n",
    "pb.title(\"Aletheia model 0, redshift zero\")\n",
    "pb.ylabel('$P(k)$ [Mpc$^3$]')\n",
    "pb.xlabel('scale $k$ [1 / Mpc]')\n",
    "pb.legend()"
   ]
  },
  {
   "cell_type": "code",
   "execution_count": null,
   "id": "ecac5ee3-9e46-484c-9516-59ad190c04d0",
   "metadata": {},
   "outputs": [],
   "source": [
    "pb.plot(scales,\n",
    "    ui.percent_error(p_m0truth, p_m0truth2))\n",
    "pb.xscale('log')\n",
    "pb.title(\"Aletheia model 0, redshift zero, percent error\")\n",
    "pb.ylabel('% Error in $P(k)$ between Andrea interp and interp_cell')\n",
    "pb.xlabel('scale $k$ [1 / Mpc]')\n",
    "# pb.savefig(\"../../plots/emulator/performance/massive_m0_G5.png\")"
   ]
  },
  {
   "cell_type": "code",
   "execution_count": null,
   "id": "19c03b8f-e04d-4aa9-8262-56f728592723",
   "metadata": {},
   "outputs": [],
   "source": [
    "pb.plot(scales,\n",
    "    ui.percent_error(p_m0truth2, inverse_ytransform(guess[0])))\n",
    "pb.xscale('log')\n",
    "pb.title(\"Aletheia model 0, redshift zero, percent error\")\n",
    "pb.ylabel('% Error in $P(k)$ between Andrea interp and emu')\n",
    "pb.xlabel('scale $k$ [1 / Mpc]')\n",
    "# pb.savefig(\"../../plots/emulator/performance/massive_m0_G5.png\")"
   ]
  },
  {
   "cell_type": "code",
   "execution_count": null,
   "id": "f6c4af86-3fcf-41fe-8e3d-6bcf723e95e4",
   "metadata": {},
   "outputs": [],
   "source": [
    "# Remember that the structure of an hc entry is\n",
    "# omb, omc, ns, s12, omnu, As\n",
    "x_hi_ns = np.array([np.array([\n",
    "    0.022445, 0.120567, 1.01, 0.82466774,\n",
    "    2.12723788013000E-09, 0\n",
    "])])\n",
    "guess_hi_ns, uncertainties_hi_ns = m.predict(x_hi_ns)\n",
    "x_lo_ns = np.array([np.array([\n",
    "    0.022445, 0.120567, 0.92, 0.82466774,\n",
    "    2.12723788013000E-09, 0\n",
    "])])\n",
    "guess_lo_ns, uncertainties_lo_ns = m.predict(xtransform(x_lo_ns))\n"
   ]
  },
  {
   "cell_type": "code",
   "execution_count": null,
   "id": "348815cd-0378-44aa-bb5e-0d5b741117e0",
   "metadata": {},
   "outputs": [],
   "source": [
    "pb.loglog(scales, inverse_ytransform(guess[0]), label=\"n_s 0.96\")\n",
    "pb.loglog(scales, inverse_ytransform(guess_hi_ns[0]), label=\"n_s 1.01\")\n",
    "pb.loglog(scales, inverse_ytransform(guess_lo_ns[0]), label=\"n_s 0.92\")\n",
    "\n",
    "pb.title(\"Aletheia model 0, redshift zero\")\n",
    "pb.ylabel('log $P(k)$')\n",
    "pb.xlabel('scale $k$ [1 / Mpc]')\n",
    "pb.legend()"
   ]
  },
  {
   "cell_type": "code",
   "execution_count": null,
   "id": "52380b7c-6991-4fe4-bf61-643153822bb1",
   "metadata": {},
   "outputs": [],
   "source": [
    "# Remember that the structure of a hc entry is\n",
    "# omb, omc, ns, s12, omnu, As\n",
    "omnu_hi = 0.01\n",
    "x_hi_omnu = np.array([np.array([\n",
    "    0.022445, 0.120567 - omnu_hi, 0.96, 0.82466774,\n",
    "    2.12723788013000E-09, omnu_hi\n",
    "])])\n",
    "guess_hi_omnu, uncertainties_hi_omnu = m.predict(xtransform(x_hi_omnu))\n",
    "\n",
    "omnu_mid = 0.002148659574468\n",
    "x_mid_omnu = np.array([np.array([\n",
    "    0.022445, 0.120567 - omnu_mid, 0.96, 0.82466774,\n",
    "    2.12723788013000E-09, omnu_mid,\n",
    "])])\n",
    "guess_mid_omnu, uncertainties_mid_omnu = m.predict(xtransform(x_mid_omnu))\n"
   ]
  },
  {
   "cell_type": "code",
   "execution_count": null,
   "id": "e69ac2bb-f19f-494d-8429-f9c6ff599146",
   "metadata": {},
   "outputs": [],
   "source": [
    "pb.loglog(scales, inverse_ytransform(guess[0]),\n",
    "          label=\"omnu 0\")\n",
    "pb.loglog(scales, inverse_ytransform(guess_hi_omnu[0]),\n",
    "          label=\"omnu 0.01\")\n",
    "pb.loglog(scales, inverse_ytransform(guess_mid_omnu[0]),\n",
    "          label=\"omnu 0.002\")\n",
    "\n",
    "pb.title(\"Aletheia model 0, redshift zero\")\n",
    "pb.ylabel('log $P(k)$')\n",
    "pb.xlabel(\"scale $k$ [1 / Mpc]\")\n",
    "pb.legend()"
   ]
  },
  {
   "cell_type": "code",
   "execution_count": null,
   "id": "0f0553d6-464b-4784-8449-e7177d928661",
   "metadata": {},
   "outputs": [],
   "source": [
    "# Remember that the structure of a hc entry is\n",
    "# omb, omc, ns, s12, omnu, As\n",
    "x_hi_omb = np.array([np.array([\n",
    "    0.02415, 0.120567, 0.96, 0.82466774,\n",
    "    2.12723788013000E-09, 0\n",
    "])])\n",
    "guess_hi_omb, uncertainties_hi_omb = m.predict(xtransform(x_hi_omb))\n",
    "\n",
    "x_lo_omb = np.array([np.array([\n",
    "    0.0205, 0.120567, 0.96, 0.82466774,\n",
    "    2.12723788013000E-09, 0\n",
    "])])\n",
    "guess_lo_omb, uncertainties_lo_omb = m.predict(xtransform(x_lo_omb))\n"
   ]
  },
  {
   "cell_type": "code",
   "execution_count": null,
   "id": "d9a02cdd-c1f8-4671-823a-11c82b43e546",
   "metadata": {},
   "outputs": [],
   "source": [
    "pb.loglog(scales, inverse_ytransform(guess[0]),\n",
    "        label=\"om_b Planck\")\n",
    "pb.loglog(scales, inverse_ytransform(guess_hi_omb[0]),\n",
    "        label=\"om_b 0.02415\")\n",
    "pb.loglog(scales, inverse_ytransform(guess_lo_omb[0]),\n",
    "        label=\"om_b 0.0205\")\n",
    "\n",
    "pb.title(\"Aletheia model 0, redshift zero\")\n",
    "pb.ylabel('log $P(k)$')\n",
    "pb.xlabel(\"scale $k$ [1 / Mpc]\")\n",
    "pb.legend()"
   ]
  },
  {
   "cell_type": "code",
   "execution_count": null,
   "id": "06498e21-412a-40a5-b886-b68ffd7dcb33",
   "metadata": {},
   "outputs": [],
   "source": [
    "# Remember that the structure of a hc entry is\n",
    "# omb, omc, ns, s12, omnu, As\n",
    "x_hi_omc = np.array([np.array([\n",
    "    0.022445, 0.155, 0.96, 0.82466774,\n",
    "    2.12723788013000E-09, 0\n",
    "])])\n",
    "guess_hi_omc, uncertainties_hi_omc = m.predict(xtransform(x_hi_omc))\n",
    "\n",
    "x_lo_omc = np.array([np.array([\n",
    "    0.022445, 0.085, 0.96, 0.82466774,\n",
    "    2.12723788013000E-09, 0\n",
    "])])\n",
    "guess_lo_omc, uncertainties_lo_omc = m.predict(xtransform(x_lo_omc))\n"
   ]
  },
  {
   "cell_type": "code",
   "execution_count": null,
   "id": "e5d374ec-0781-439c-a270-e95fa00c3bd1",
   "metadata": {},
   "outputs": [],
   "source": [
    "pb.loglog(scales, inverse_ytransform(guess[0]),\n",
    "        label=\"om_c Planck\")\n",
    "pb.loglog(scales, inverse_ytransform(guess_hi_omc[0]),\n",
    "        label=\"om_c 0.155\")\n",
    "pb.loglog(scales, inverse_ytransform(guess_lo_omc[0]),\n",
    "        label=\"om_c 0.085\")\n",
    "\n",
    "pb.title(\"Aletheia model 0, redshift zero\")\n",
    "pb.ylabel('log $P(k)$')\n",
    "pb.xlabel(\"scale $k$ [1 / Mpc]\")\n",
    "pb.legend()"
   ]
  },
  {
   "cell_type": "code",
   "execution_count": null,
   "id": "6ac1462d-5f2b-44db-9c75-3b948ee66eba",
   "metadata": {},
   "outputs": [],
   "source": [
    "# Remember that the structure of a hc entry is\n",
    "# omb, omc, ns, s12, omnu, As\n",
    "x_hi_As = np.array([np.array([\n",
    "    0.022445, 0.120567, 0.96, 0.82466774,\n",
    "    np.exp(3.91) / 10 ** 10, 0\n",
    "])])\n",
    "guess_hi_As, uncertainties_hi_As = m.predict(xtransform(x_hi_As))\n",
    "x_lo_As = np.array([np.array([\n",
    "    0.022445, 0.120567, 0.96, 0.82466774,\n",
    "    np.exp(2.35) / 10 ** 10, 0\n",
    "])])\n",
    "guess_lo_As, uncertainties_lo_As = m.predict(xtransform(x_lo_As))"
   ]
  },
  {
   "cell_type": "code",
   "execution_count": null,
   "id": "6e039bbb-78b3-4deb-be87-2abe0b468ba0",
   "metadata": {},
   "outputs": [],
   "source": [
    "pb.loglog(scales, inverse_ytransform(guess[0]), label=\"As Planck\")\n",
    "pb.loglog(scales, inverse_ytransform(guess_hi_As[0]), label=\"As high\")\n",
    "pb.loglog(scales, inverse_ytransform(guess_lo_As[0]), label=\"As low\")\n",
    "\n",
    "pb.title(\"Aletheia model 0, redshift zero\")\n",
    "pb.ylabel('log $P(k)$')\n",
    "pb.xlabel(\"scale $k$ [1 / Mpc]\")\n",
    "pb.legend()"
   ]
  }
 ],
 "metadata": {
  "kernelspec": {
   "display_name": "Python 3 (ipykernel)",
   "language": "python",
   "name": "python3"
  },
  "language_info": {
   "codemirror_mode": {
    "name": "ipython",
    "version": 3
   },
   "file_extension": ".py",
   "mimetype": "text/x-python",
   "name": "python",
   "nbconvert_exporter": "python",
   "pygments_lexer": "ipython3",
   "version": "3.9.16"
  }
 },
 "nbformat": 4,
 "nbformat_minor": 5
}
