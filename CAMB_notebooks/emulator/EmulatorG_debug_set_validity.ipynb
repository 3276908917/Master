{
 "cells": [
  {
   "cell_type": "code",
   "execution_count": 1,
   "id": "ecfa7341-a590-4eaa-93b9-97bade33930c",
   "metadata": {},
   "outputs": [],
   "source": [
    "import numpy as np\n",
    "import matplotlib.pyplot as plt\n",
    "import camb\n",
    "from camb import model, initialpower\n",
    "from scipy.interpolate import interp1d\n",
    "import pickle\n",
    "\n",
    "import importlib.util\n",
    "import sys\n",
    "\n",
    "from cassL import camb_interface as ci\n",
    "from cassL import user_interface as ui\n",
    "from cassL import generate_emu_data as ged"
   ]
  },
  {
   "cell_type": "code",
   "execution_count": 3,
   "id": "5cb3df8b-a52a-412a-91cf-30ad785eee1e",
   "metadata": {},
   "outputs": [],
   "source": [
    "''' This messiness is necessary to import scripts which are not installed and\n",
    "which are not located in the cwd.'''\n",
    "\n",
    "spec = importlib.util.spec_from_file_location(\n",
    "    \"andreap\", \"andreap.py\")\n",
    "andreap = importlib.util.module_from_spec(spec)\n",
    "sys.modules[\"andreap\"] = andreap\n",
    "spec.loader.exec_module(andreap)"
   ]
  },
  {
   "cell_type": "code",
   "execution_count": 7,
   "id": "5073d69c-a93b-47c9-a3b3-a33b8f313a66",
   "metadata": {},
   "outputs": [],
   "source": [
    "# Get the latin hypercubes so that we know which values to use for our test\n",
    "# cosmological configurations.\n",
    "\n",
    "# Eventually this kind of code should go in a user_interface.py function,\n",
    "# which will automatically take the requested set and the emulator version and\n",
    "# correctly translate that into a set of loaded files. That requires, of course,\n",
    "# that we stick more rigorously to a file naming scheme.\n",
    "\n",
    "data_set = \"test\"\n",
    "\n",
    "fname_ending = \"pred_r1\" if data_set == \"train\" else \"test\"\n",
    "\n",
    "hc = np.load(\"G_versions/hc_G6_\" + fname_ending + \".npy\",\n",
    "    allow_pickle=True)\n",
    "samples = np.load(\"G_versions/samples_G6_\" + fname_ending + \".npy\",\n",
    "    allow_pickle=True)\n",
    "rescale_params = np.load(\"G_versions/rescalers_G6_\" + fname_ending + \".npy\",\n",
    "    allow_pickle=True)\n",
    "    \n",
    "standard_k = np.load(\"standard_k.npy\", allow_pickle=True)"
   ]
  },
  {
   "cell_type": "code",
   "execution_count": 9,
   "id": "cd70b666-3d59-4389-a6ed-8050efcefc95",
   "metadata": {},
   "outputs": [],
   "source": [
    "# Load the emulator so that we can compare our results with, say, Andrea's\n",
    "\n",
    "m = pickle.load(open(\"G_versions/analyses/massive_emulator_G6_r1.nucomet\", \"rb\"))\n",
    "\n",
    "def inverse_transform(raw_prediction):\n",
    "    return np.exp(raw_prediction * m.stdev + m.mu)\n",
    "\n",
    "def nest(array):\n",
    "    return np.array([np.array(array)])"
   ]
  },
  {
   "cell_type": "code",
   "execution_count": 10,
   "id": "f592050f-880f-4123-a249-4816e6faaf00",
   "metadata": {},
   "outputs": [],
   "source": [
    "percent_errors = []"
   ]
  },
  {
   "cell_type": "code",
   "execution_count": null,
   "id": "3fc0a87c-a46a-4bec-a1a2-bc05b753e5fb",
   "metadata": {},
   "outputs": [],
   "source": [
    "# Select an individual cosmology to interrogate\n",
    "for test_index in range(50):\n",
    "    test_cosmology = hc[test_index]\n",
    "    test_pspec = samples[test_index]\n",
    "    \n",
    "    # Break the configuration into explicit labels\n",
    "    ombh2 = test_cosmology[0]\n",
    "    omch2 = test_cosmology[1]\n",
    "    ns = test_cosmology[2]\n",
    "    sigma12 = test_cosmology[3]\n",
    "    As = test_cosmology[4]\n",
    "    omnuh2 = test_cosmology[5]\n",
    "    best_h = rescale_params[test_index][0]\n",
    "    best_z = rescale_params[test_index][1]\n",
    "    \n",
    "    andrea_Pk = andreap.get_PK(ombh2, omch2, ns, omnuh2, best_h * 100, As)\n",
    "    andrea_spectrum = andrea_Pk['mnu'].P(best_z, standard_k)\n",
    "    \n",
    "    percent_errors.append(ui.percent_error(andrea_spectrum, test_pspec))"
   ]
  },
  {
   "cell_type": "code",
   "execution_count": null,
   "id": "ce1ba4e3-5098-4dd4-b9eb-7d49fc756d2c",
   "metadata": {},
   "outputs": [],
   "source": [
    "# Percent error comparison\n",
    "for test_index in range(50):\n",
    "    plt.plot(standard_k, percent_errors[test_index])\n",
    "\n",
    "plt.xscale('log')\n",
    "plt.xlabel('$k$ [1 / Mpc]')\n",
    "plt.ylabel('% error')\n",
    "plt.title(\"Andrea's power spectrum vs. Lukas' emu \" + data_set + \" spectrum\")\n",
    "#plt.savefig(\"../../plots/emulator/debugging/Andrea_old_discrepancy.png\")"
   ]
  },
  {
   "cell_type": "code",
   "execution_count": null,
   "id": "aa1b4fdd-c912-4c44-ba71-694e906fdfdf",
   "metadata": {},
   "outputs": [],
   "source": []
  }
 ],
 "metadata": {
  "kernelspec": {
   "display_name": "Python 3 (ipykernel)",
   "language": "python",
   "name": "python3"
  },
  "language_info": {
   "codemirror_mode": {
    "name": "ipython",
    "version": 3
   },
   "file_extension": ".py",
   "mimetype": "text/x-python",
   "name": "python",
   "nbconvert_exporter": "python",
   "pygments_lexer": "ipython3",
   "version": "3.9.16"
  }
 },
 "nbformat": 4,
 "nbformat_minor": 5
}
