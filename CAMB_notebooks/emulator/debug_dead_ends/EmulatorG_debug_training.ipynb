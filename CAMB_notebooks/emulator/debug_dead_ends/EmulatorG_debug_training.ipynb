{
 "cells": [
  {
   "cell_type": "code",
   "execution_count": 2,
   "id": "ecfa7341-a590-4eaa-93b9-97bade33930c",
   "metadata": {},
   "outputs": [],
   "source": [
    "import numpy as np\n",
    "import matplotlib.pyplot as plt\n",
    "import camb\n",
    "from camb import model, initialpower\n",
    "import andreap\n",
    "from scipy.interpolate import interp1d\n",
    "import pickle\n",
    "\n",
    "import importlib.util\n",
    "import sys"
   ]
  },
  {
   "cell_type": "code",
   "execution_count": 3,
   "id": "51ecb939-ba68-441e-a2cf-5656c29ae9b6",
   "metadata": {},
   "outputs": [],
   "source": [
    "test_index = 400\n",
    "validation_set = False\n",
    "# skips comparison with Andrea's code\n",
    "fast = True"
   ]
  },
  {
   "cell_type": "code",
   "execution_count": 7,
   "id": "5cb3df8b-a52a-412a-91cf-30ad785eee1e",
   "metadata": {},
   "outputs": [],
   "source": [
    "''' This messiness is necessary to import scripts which are not installed and\n",
    "which are not located in the cwd.'''\n",
    "\n",
    "spec = importlib.util.spec_from_file_location(\n",
    "    \"camb_interface\", \"../../../cassL/camb_interface.py\")\n",
    "ci = importlib.util.module_from_spec(spec)\n",
    "sys.modules[\"camb_interface\"] = ci\n",
    "spec.loader.exec_module(ci)\n",
    "\n",
    "spec = importlib.util.spec_from_file_location(\n",
    "    \"generate_training_data\", \"../../../cassL/generate_training_data.py\")\n",
    "gtd = importlib.util.module_from_spec(spec)\n",
    "sys.modules[\"generate_training_data\"] = gtd\n",
    "spec.loader.exec_module(gtd)"
   ]
  },
  {
   "cell_type": "code",
   "execution_count": 9,
   "id": "5073d69c-a93b-47c9-a3b3-a33b8f313a66",
   "metadata": {},
   "outputs": [],
   "source": [
    "hc = np.load(\"../hc_G3_redo.npy\",\n",
    "    allow_pickle=True)\n",
    "samples = np.load(\"../samples_G3_redo.npy\",\n",
    "    allow_pickle=True)\n",
    "\n",
    "if False:\n",
    "    hc = np.load(\"../hc_backup_i4999_massive_pred_revised.npy\",\n",
    "        allow_pickle=True)\n",
    "    samples = np.load(\"../samples_backup_i4999_massive_pred_revised.npy\",\n",
    "        allow_pickle=True)\n",
    "\n",
    "if validation_set:\n",
    "    hc = np.load(\"../hc_test_G3.npy\",\n",
    "        allow_pickle=True)\n",
    "    samples = np.load(\"../samples_test_G3.npy\",\n",
    "        allow_pickle=True)\n",
    "    \n",
    "standard_k = np.load(\"../standard_k.npy\", allow_pickle=True)"
   ]
  },
  {
   "cell_type": "code",
   "execution_count": 11,
   "id": "cd70b666-3d59-4389-a6ed-8050efcefc95",
   "metadata": {},
   "outputs": [],
   "source": [
    "m = pickle.load(open(\"../analyses/massive_emulator_G3_full.nucomet\", \"rb\"))\n",
    "\n",
    "def inverse_transform(raw_prediction):\n",
    "    return np.exp(raw_prediction * m.stdev + m.mu)\n",
    "\n",
    "def nest(array):\n",
    "    return np.array([np.array(array)])"
   ]
  },
  {
   "cell_type": "code",
   "execution_count": null,
   "id": "3fc0a87c-a46a-4bec-a1a2-bc05b753e5fb",
   "metadata": {},
   "outputs": [],
   "source": [
    "test_cosmology = hc[test_index]\n",
    "test_pspec = samples[test_index]"
   ]
  },
  {
   "cell_type": "code",
   "execution_count": null,
   "id": "5d8c99f7-ed26-4386-b5b7-4e2aa2429f62",
   "metadata": {},
   "outputs": [],
   "source": [
    "ombh2 = test_cosmology[0]\n",
    "omch2 = test_cosmology[1]\n",
    "ns = test_cosmology[2]\n",
    "sigma12 = test_cosmology[3]\n",
    "As = test_cosmology[4]\n",
    "omnuh2 = test_cosmology[5]"
   ]
  },
  {
   "cell_type": "code",
   "execution_count": null,
   "id": "7fca1d1b-105e-47d4-ab02-ff7b0cd66a03",
   "metadata": {},
   "outputs": [],
   "source": [
    "full_cosm = gtd.build_cosmology(ombh2, omch2, ns, sigma12, As, omnuh2)"
   ]
  },
  {
   "cell_type": "code",
   "execution_count": null,
   "id": "6f36da24-9678-484b-9fee-7473ce4c4136",
   "metadata": {},
   "outputs": [],
   "source": [
    "mnu = full_cosm['mnu']"
   ]
  },
  {
   "cell_type": "code",
   "execution_count": null,
   "id": "42f2a181-3560-4adc-9f3b-407e2e9e5f42",
   "metadata": {},
   "outputs": [],
   "source": [
    "if not fast:\n",
    "    Pk_lo_h = andreap.get_PK(ombh2, omch2, ns, mnu, 10, As)\n",
    "    Pk_hi_h = andreap.get_PK(ombh2, omch2, ns, mnu, 67, As)\n",
    "    Pk_target_h = andreap.get_PK(ombh2, omch2, ns, mnu, 57, As)"
   ]
  },
  {
   "cell_type": "code",
   "execution_count": null,
   "id": "0bd1e1a1-5773-48cf-86a6-75cc10d748aa",
   "metadata": {},
   "outputs": [],
   "source": [
    "if not fast:\n",
    "    z = np.linspace(0., 5., 500)\n",
    "    sig12 = np.zeros(500)\n",
    "    for i in range(500):\n",
    "        sig12[i] = andreap.get_s12(Pk_hi_h['mzero'], z[i])\n",
    "\n",
    "    sig12[0]\n",
    "    \n",
    "    sig12_interpolator = interp1d(sig12, z, kind='cubic')"
   ]
  },
  {
   "cell_type": "code",
   "execution_count": null,
   "id": "a6370a78-c82f-435f-a554-77bd995d9b6f",
   "metadata": {},
   "outputs": [],
   "source": [
    "sigma12"
   ]
  },
  {
   "cell_type": "code",
   "execution_count": null,
   "id": "a5e1b8e2-5e47-4a64-b028-e07584a38e01",
   "metadata": {},
   "outputs": [],
   "source": [
    "g_pspec, g_sigma12, g_z = gtd.psz(full_cosm, standard_k)\n",
    "print(\"This is our approximation\", g_sigma12)"
   ]
  },
  {
   "cell_type": "code",
   "execution_count": null,
   "id": "f1e93529-1d33-408e-863b-ca89595f941b",
   "metadata": {},
   "outputs": [],
   "source": [
    "import copy as cp\n",
    "tilde_cosm = cp.deepcopy(full_cosm)\n",
    "tilde_cosm['omch2'] += tilde_cosm['omnuh2']\n",
    "tilde_cosm = ci.specify_neutrino_mass(tilde_cosm, 0, 0)\n",
    "gtd.print_cosmology(tilde_cosm)\n",
    "print()\n",
    "gtd.print_cosmology(full_cosm)"
   ]
  },
  {
   "cell_type": "code",
   "execution_count": null,
   "id": "02fabc71-75b4-4142-bed1-1f5a7e4312f3",
   "metadata": {},
   "outputs": [],
   "source": [
    "kci_t, zci_t, pci_t, sci_t = ci.kzps(tilde_cosm, redshifts=[g_z], k_points=300)\n",
    "kci, zci, pci, sci = ci.kzps(full_cosm, redshifts=[g_z], k_points=300)"
   ]
  },
  {
   "cell_type": "code",
   "execution_count": null,
   "id": "25026c1c-cf02-46a2-9a5e-4726f6316e2d",
   "metadata": {},
   "outputs": [],
   "source": [
    "sci"
   ]
  },
  {
   "cell_type": "code",
   "execution_count": null,
   "id": "f09b7a90-692f-4ab1-90c9-397f3bd4b0de",
   "metadata": {},
   "outputs": [],
   "source": [
    "g_pspec_t, g_sigma12_t, g_z_t = gtd.psz(tilde_cosm, standard_k)\n",
    "print(\"This is our approximation\", g_sigma12_t)"
   ]
  },
  {
   "cell_type": "code",
   "execution_count": null,
   "id": "ca40c98a-4496-4a3d-b65b-469cf2a820fd",
   "metadata": {},
   "outputs": [],
   "source": [
    "if not fast:\n",
    "    andreap.get_s12(Pk_hi_h['mzero'], 0)"
   ]
  },
  {
   "cell_type": "code",
   "execution_count": null,
   "id": "287e5f92-f45c-47ea-8747-565a65f2e50d",
   "metadata": {},
   "outputs": [],
   "source": [
    "# I cannot figure out how to get AndreaP's function to work\n",
    "#andreap.get_s12_fixedz(Pk_hi_h['mzero'])"
   ]
  },
  {
   "cell_type": "code",
   "execution_count": null,
   "id": "b0ab9b9f-7647-4c7d-b9a1-6c57e726e10b",
   "metadata": {},
   "outputs": [],
   "source": [
    "raw_pred_emulator, _ = m.predict(nest(test_cosmology))\n",
    "pred_emulator = inverse_transform(raw_pred_emulator)[0]"
   ]
  },
  {
   "cell_type": "code",
   "execution_count": null,
   "id": "75ae11a7-f89a-430e-8b60-6d131266a8cf",
   "metadata": {},
   "outputs": [],
   "source": [
    "plt.plot(standard_k, (pci - pred_emulator) / pred_emulator * 100)\n",
    "plt.xscale('log')\n",
    "plt.title(\"Discrepancy between Saved Spectrum and Direct kzps Call\")\n",
    "plt.ylabel('Percent Error')\n",
    "plt.xlabel('scale $k$ [1 / Mpc]')"
   ]
  },
  {
   "cell_type": "code",
   "execution_count": null,
   "id": "bd8e1f09-bd4c-4fb5-839d-0bef0b770ba3",
   "metadata": {},
   "outputs": [],
   "source": [
    "plt.plot(standard_k, (g_pspec - pred_emulator) / pred_emulator * 100)\n",
    "plt.xscale('log')\n",
    "plt.title(\"Discrepancy between Saved Spectrum and On-the-fly psz Call\")\n",
    "plt.ylabel('Percent Error')\n",
    "plt.xlabel('scale $k$ [1 / Mpc]')"
   ]
  },
  {
   "cell_type": "code",
   "execution_count": null,
   "id": "059cb54d-1be5-4a35-b6ba-e602bc8b9614",
   "metadata": {},
   "outputs": [],
   "source": [
    "plt.plot(standard_k, (pci - g_pspec) / pci * 100)\n",
    "plt.xscale('log')\n",
    "plt.title(\"Discrepancy between On-the-fly psz and kzps Calls\")\n",
    "plt.ylabel('Percent Error')\n",
    "plt.xlabel('scale $k$ [1 / Mpc]')"
   ]
  },
  {
   "cell_type": "markdown",
   "id": "20d8e200-b4bd-4b2a-82c0-1efd9356e6e2",
   "metadata": {},
   "source": [
    "This most recent plot is weak enough that we're happy. But why do we see differences in the previous plots? Is this a reproduceable discrepancy?"
   ]
  },
  {
   "cell_type": "code",
   "execution_count": null,
   "id": "aa14bb9a-01d0-4fa8-a36f-232d2a50d2ec",
   "metadata": {},
   "outputs": [],
   "source": [
    "resample, bestz = gtd.fill_hypercube(hc, standard_k, massive_neutrinos=True,\n",
    "    cell_range=range(1))\n",
    "resample = resample[0]"
   ]
  },
  {
   "cell_type": "code",
   "execution_count": null,
   "id": "884122ba-e273-4f52-875e-ac57db549421",
   "metadata": {},
   "outputs": [],
   "source": [
    "plt.plot(standard_k,\n",
    "    (resample - pred_emulator) / pred_emulator * 100)\n",
    "plt.xscale('log')"
   ]
  },
  {
   "cell_type": "code",
   "execution_count": null,
   "id": "cc153e16-3638-4750-a3f4-761067ccf5c1",
   "metadata": {},
   "outputs": [],
   "source": []
  }
 ],
 "metadata": {
  "kernelspec": {
   "display_name": "Python 3 (ipykernel)",
   "language": "python",
   "name": "python3"
  },
  "language_info": {
   "codemirror_mode": {
    "name": "ipython",
    "version": 3
   },
   "file_extension": ".py",
   "mimetype": "text/x-python",
   "name": "python",
   "nbconvert_exporter": "python",
   "pygments_lexer": "ipython3",
   "version": "3.9.16"
  }
 },
 "nbformat": 4,
 "nbformat_minor": 5
}
