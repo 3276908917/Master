{
 "cells": [
  {
   "cell_type": "code",
   "execution_count": 1,
   "id": "ecfa7341-a590-4eaa-93b9-97bade33930c",
   "metadata": {},
   "outputs": [],
   "source": [
    "import numpy as np\n",
    "import matplotlib.pyplot as plt\n",
    "import camb\n",
    "from camb import model, initialpower\n",
    "import andreap\n",
    "from scipy.interpolate import interp1d\n",
    "\n",
    "import importlib.util\n",
    "import sys"
   ]
  },
  {
   "cell_type": "code",
   "execution_count": 2,
   "id": "ae98f174-e894-4c1b-b48d-ba62881c0d72",
   "metadata": {},
   "outputs": [
    {
     "data": {
      "text/plain": [
       "'/home/lfinkbei/Documents/Master/CAMB_notebooks/emulator/debug_dead_ends'"
      ]
     },
     "execution_count": 2,
     "metadata": {},
     "output_type": "execute_result"
    }
   ],
   "source": [
    "import os\n",
    "os.getcwd()"
   ]
  },
  {
   "cell_type": "code",
   "execution_count": 3,
   "id": "51ecb939-ba68-441e-a2cf-5656c29ae9b6",
   "metadata": {},
   "outputs": [],
   "source": [
    "test_index = 0\n",
    "validation_set = False\n",
    "# skips comparison with Andrea's code\n",
    "fast = False"
   ]
  },
  {
   "cell_type": "code",
   "execution_count": 5,
   "id": "5cb3df8b-a52a-412a-91cf-30ad785eee1e",
   "metadata": {},
   "outputs": [],
   "source": [
    "''' This messiness is necessary to import scripts which are not installed and\n",
    "which are not located in the cwd.'''\n",
    "\n",
    "spec = importlib.util.spec_from_file_location(\n",
    "    \"camb_interface\", \"../../../cassL/camb_interface.py\")\n",
    "ci = importlib.util.module_from_spec(spec)\n",
    "sys.modules[\"camb_interface\"] = ci\n",
    "spec.loader.exec_module(ci)\n",
    "\n",
    "spec = importlib.util.spec_from_file_location(\n",
    "    \"generate_emu_data\", \"../../../cassL/generate_emu_data.py\")\n",
    "ged = importlib.util.module_from_spec(spec)\n",
    "sys.modules[\"generate_emu_data\"] = ged\n",
    "spec.loader.exec_module(ged)"
   ]
  },
  {
   "cell_type": "code",
   "execution_count": 6,
   "id": "5073d69c-a93b-47c9-a3b3-a33b8f313a66",
   "metadata": {},
   "outputs": [],
   "source": [
    "hc = np.load(\"../hc_G3_redo.npy\",\n",
    "    allow_pickle=True)\n",
    "samples = np.load(\"../samples_G3_redo.npy\",\n",
    "    allow_pickle=True)\n",
    "\n",
    "if False:\n",
    "    hc = np.load(\"../hc_backup_i4999_massive_pred_revised.npy\",\n",
    "        allow_pickle=True)\n",
    "    samples = np.load(\"../samples_backup_i4999_massive_pred_revised.npy\",\n",
    "        allow_pickle=True)\n",
    "\n",
    "if validation_set:\n",
    "    hc = np.load(\"../hc_test_G3.npy\",\n",
    "        allow_pickle=True)\n",
    "    samples = np.load(\"../samples_test_G3.npy\",\n",
    "        allow_pickle=True)\n",
    "    \n",
    "standard_k = np.load(\"../standard_k.npy\", allow_pickle=True)"
   ]
  },
  {
   "cell_type": "code",
   "execution_count": 7,
   "id": "3fc0a87c-a46a-4bec-a1a2-bc05b753e5fb",
   "metadata": {},
   "outputs": [],
   "source": [
    "test_cosmology = hc[test_index]\n",
    "test_pspec = samples[test_index]"
   ]
  },
  {
   "cell_type": "code",
   "execution_count": 8,
   "id": "5d8c99f7-ed26-4386-b5b7-4e2aa2429f62",
   "metadata": {},
   "outputs": [],
   "source": [
    "ombh2 = test_cosmology[0]\n",
    "omch2 = test_cosmology[1]\n",
    "ns = test_cosmology[2]\n",
    "sigma12 = test_cosmology[3]\n",
    "As = test_cosmology[4]\n",
    "omnuh2 = test_cosmology[5]"
   ]
  },
  {
   "cell_type": "code",
   "execution_count": 9,
   "id": "7fca1d1b-105e-47d4-ab02-ff7b0cd66a03",
   "metadata": {},
   "outputs": [],
   "source": [
    "full_cosm = ged.build_cosmology(ombh2, omch2, ns, sigma12, As, omnuh2)"
   ]
  },
  {
   "cell_type": "code",
   "execution_count": 10,
   "id": "6f36da24-9678-484b-9fee-7473ce4c4136",
   "metadata": {},
   "outputs": [],
   "source": [
    "mnu = full_cosm['mnu']"
   ]
  },
  {
   "cell_type": "code",
   "execution_count": 11,
   "id": "66f0845e-836a-48aa-87ff-ee5b5fd3e79f",
   "metadata": {},
   "outputs": [],
   "source": [
    "# Comprehensive checking function\n",
    "def get_sigma12_interpolator(ombh2, omch2, ns, mnu, h, As):\n",
    "    Pk = andreap.get_PK(ombh2, omch2, ns, mnu, h * 100, As, w_mzero=True)\n",
    "    \n",
    "    z = np.linspace(0., 9., 500)\n",
    "    sig12 = np.zeros(500)\n",
    "    for i in range(500):\n",
    "        sig12[i] = andreap.get_s12(Pk['mzero'], z[i])\n",
    "    \n",
    "    return interp1d(sig12, z, kind='cubic')\n",
    "    \n",
    "def validate_results(interpolator, sigma12, best_z):\n",
    "    interpolator_best_z = None\n",
    "    try:\n",
    "        interpolator_best_z = interpolator(sigma12)\n",
    "    except ValueError:\n",
    "        print(\"The desired sigma12 is not attainable with this interpolator!\")\n",
    "        return\n",
    "    \n",
    "    print(best_z is None, interpolator_best_z is None)\n",
    "    \n",
    "    print(\"% discrepancy between results for best redshift:\",\n",
    "          (best_z - interpolator_best_z) / interpolator_best_z * 100)"
   ]
  },
  {
   "cell_type": "code",
   "execution_count": 12,
   "id": "a5e1b8e2-5e47-4a64-b028-e07584a38e01",
   "metadata": {},
   "outputs": [
    {
     "name": "stdout",
     "output_type": "stream",
     "text": [
      "\n",
      "MEMNeC:\n",
      "ombh2 0.023080185000000003\n",
      "omch2 0.11757400000000001\n",
      "n_s 0.946505\n",
      "A_s 2.8729609750468113e-09\n",
      "OmK 0.0\n",
      "OmL 0.681415906\n",
      "h 0.67\n",
      "w0 -1.0\n",
      "wa 0.00\n",
      "sigma12 0.9719208001518633\n",
      "omnuh2 0\n",
      "mnu 0.0\n",
      "\n",
      "Original cosmology:\n",
      "ombh2 0.023080185000000003\n",
      "omch2 0.109367\n",
      "n_s 0.946505\n",
      "A_s 2.8729609750468113e-09\n",
      "OmK 0.0\n",
      "OmL 0.681415906\n",
      "h 0.67\n",
      "w0 -1.0\n",
      "wa 0.00\n",
      "sigma12 0.9719208001518633\n",
      "omnuh2 0.008207\n",
      "mnu 0.763278082362583\n",
      "\n",
      "\n",
      "Maximum s12: 0.933928392486508\n"
     ]
    },
    {
     "data": {
      "image/png": "[encoded data removed]",
      "text/plain": [
       "<Figure size 640x480 with 1 Axes>"
      ]
     },
     "metadata": {},
     "output_type": "display_data"
    },
    {
     "name": "stdout",
     "output_type": "stream",
     "text": [
      "Target sigma12: 0.9719208001518633\n",
      "\n",
      "MEMNeC:\n",
      "ombh2 0.023080185000000003\n",
      "omch2 0.11757400000000001\n",
      "n_s 0.946505\n",
      "A_s 2.8729609750468113e-09\n",
      "OmK 0.0\n",
      "OmL 0.681415906\n",
      "h 0.5700000000000001\n",
      "w0 -1.0\n",
      "wa 0.00\n",
      "sigma12 0.9719208001518633\n",
      "omnuh2 0\n",
      "mnu 0.0\n",
      "\n",
      "Original cosmology:\n",
      "ombh2 0.023080185000000003\n",
      "omch2 0.109367\n",
      "n_s 0.946505\n",
      "A_s 2.8729609750468113e-09\n",
      "OmK 0.0\n",
      "OmL 0.681415906\n",
      "h 0.5700000000000001\n",
      "w0 -1.0\n",
      "wa 0.00\n",
      "sigma12 0.9719208001518633\n",
      "omnuh2 0.008207\n",
      "mnu 0.763278082362583\n",
      "\n",
      "\n",
      "Maximum s12: 1.0040115361127562\n"
     ]
    },
    {
     "data": {
      "image/png": "[encoded data removed]",
      "text/plain": [
       "<Figure size 640x480 with 1 Axes>"
      ]
     },
     "metadata": {},
     "output_type": "display_data"
    },
    {
     "name": "stdout",
     "output_type": "stream",
     "text": [
      "Target sigma12: 0.9719208001518633\n",
      "recommended redshift 0.05165726166971435\n",
      "We had to move h to 0.57\n",
      "This is our approximation 0.9719201815328333\n"
     ]
    }
   ],
   "source": [
    "g_pspec, g_sigma12, g_z = ged.evaluate_cell(full_cosm, standard_k, debug=True)\n",
    "print(\"This is our approximation\", g_sigma12)"
   ]
  },
  {
   "cell_type": "code",
   "execution_count": 13,
   "id": "e8682fe0-1562-4139-9830-a1fd4848ddc3",
   "metadata": {},
   "outputs": [
    {
     "name": "stdout",
     "output_type": "stream",
     "text": [
      "0.008207\n",
      "1\n",
      "massive-neutrino sigma12 [0.80262619]\n",
      "massless-neutrino sigma12 [1.00397832]\n",
      "False False\n",
      "% discrepancy between results for best redshift: [1.00457902e+03 1.04433951e-01]\n",
      "\n",
      "False False\n",
      "% discrepancy between results for best redshift: [1.00455730e+03 1.02465974e-01]\n"
     ]
    }
   ],
   "source": [
    "s12i_hi_h = get_sigma12_interpolator(\n",
    "    ombh2, omch2, ns, mnu, .57, As)\n",
    "    \n",
    "validate_results(s12i_hi_h, sigma12, g_z)\n",
    "print()\n",
    "validate_results(s12i_hi_h, g_sigma12, g_z)"
   ]
  },
  {
   "cell_type": "code",
   "execution_count": 14,
   "id": "8ad98161-b20f-475d-90e1-03354933cca0",
   "metadata": {},
   "outputs": [
    {
     "data": {
      "text/plain": [
       "array(0.05160206)"
      ]
     },
     "execution_count": 14,
     "metadata": {},
     "output_type": "execute_result"
    }
   ],
   "source": [
    "s12i_hi_h(0.971921597558254)"
   ]
  },
  {
   "cell_type": "code",
   "execution_count": 15,
   "id": "f1e93529-1d33-408e-863b-ca89595f941b",
   "metadata": {},
   "outputs": [
    {
     "name": "stdout",
     "output_type": "stream",
     "text": [
      "ombh2 0.023080185000000003\n",
      "omch2 0.11757400000000001\n",
      "n_s 0.946505\n",
      "A_s 2.8729609750468113e-09\n",
      "OmK 0.0\n",
      "OmL 0.681415906\n",
      "h 0.5700000000000001\n",
      "w0 -1.0\n",
      "wa 0.00\n",
      "sigma12 0.9719208001518633\n",
      "omnuh2 0\n",
      "mnu 0.0\n",
      "\n",
      "ombh2 0.023080185000000003\n",
      "omch2 0.109367\n",
      "n_s 0.946505\n",
      "A_s 2.8729609750468113e-09\n",
      "OmK 0.0\n",
      "OmL 0.681415906\n",
      "h 0.5700000000000001\n",
      "w0 -1.0\n",
      "wa 0.00\n",
      "sigma12 0.9719208001518633\n",
      "omnuh2 0.008207\n",
      "mnu 0.763278082362583\n"
     ]
    }
   ],
   "source": [
    "import copy as cp\n",
    "MEMNeC = cp.deepcopy(full_cosm)\n",
    "MEMNeC['omch2'] += MEMNeC['omnuh2']\n",
    "MEMNeC = ci.specify_neutrino_mass(MEMNeC, 0, 0)\n",
    "ged.print_cosmology(MEMNeC)\n",
    "print()\n",
    "ged.print_cosmology(full_cosm)"
   ]
  },
  {
   "cell_type": "code",
   "execution_count": 16,
   "id": "02fabc71-75b4-4142-bed1-1f5a7e4312f3",
   "metadata": {},
   "outputs": [
    {
     "ename": "TypeError",
     "evalue": "only size-1 arrays can be converted to Python scalars",
     "output_type": "error",
     "traceback": [
      "\u001b[0;31m---------------------------------------------------------------------------\u001b[0m",
      "\u001b[0;31mTypeError\u001b[0m                                 Traceback (most recent call last)",
      "Cell \u001b[0;32mIn[16], line 1\u001b[0m\n\u001b[0;32m----> 1\u001b[0m kci_t, zci_t, pci_t, sci_t \u001b[38;5;241m=\u001b[39m \u001b[43mci\u001b[49m\u001b[38;5;241;43m.\u001b[39;49m\u001b[43mevaluate_cosmology\u001b[49m\u001b[43m(\u001b[49m\u001b[43mMEMNeC\u001b[49m\u001b[43m,\u001b[49m\u001b[43m \u001b[49m\u001b[43mredshifts\u001b[49m\u001b[38;5;241;43m=\u001b[39;49m\u001b[43m[\u001b[49m\u001b[43mg_z\u001b[49m\u001b[43m]\u001b[49m\u001b[43m,\u001b[49m\u001b[43m \u001b[49m\u001b[43mk_points\u001b[49m\u001b[38;5;241;43m=\u001b[39;49m\u001b[38;5;241;43m300\u001b[39;49m\u001b[43m)\u001b[49m\n\u001b[1;32m      2\u001b[0m kci, zci, pci, sci \u001b[38;5;241m=\u001b[39m ci\u001b[38;5;241m.\u001b[39mevaluate_cosmology(full_cosm, redshifts\u001b[38;5;241m=\u001b[39m[g_z], k_points\u001b[38;5;241m=\u001b[39m\u001b[38;5;241m300\u001b[39m)\n",
      "File \u001b[0;32m~/Documents/Master/cassL/camb_interface.py:673\u001b[0m, in \u001b[0;36mevaluate_cosmology\u001b[0;34m(cosmology, redshifts, fancy_neutrinos, k_points, hubble_units)\u001b[0m\n\u001b[1;32m    669\u001b[0m     make_neutrinos_fancy(pars, cosmology[\u001b[38;5;124m\"\u001b[39m\u001b[38;5;124mnnu_massive\u001b[39m\u001b[38;5;124m\"\u001b[39m])\n\u001b[1;32m    671\u001b[0m apply_universal_output_settings(pars)\n\u001b[0;32m--> 673\u001b[0m \u001b[38;5;28;01mreturn\u001b[39;00m \u001b[43mobtain_pspectrum\u001b[49m\u001b[43m(\u001b[49m\u001b[43mpars\u001b[49m\u001b[43m,\u001b[49m\u001b[43m \u001b[49m\u001b[43mredshifts\u001b[49m\u001b[43m,\u001b[49m\u001b[43m \u001b[49m\u001b[43mk_points\u001b[49m\u001b[38;5;241;43m=\u001b[39;49m\u001b[43mk_points\u001b[49m\u001b[43m,\u001b[49m\n\u001b[1;32m    674\u001b[0m \u001b[43m                        \u001b[49m\u001b[43mhubble_units\u001b[49m\u001b[38;5;241;43m=\u001b[39;49m\u001b[43mhubble_units\u001b[49m\u001b[43m)\u001b[49m\n",
      "File \u001b[0;32m~/Documents/Master/cassL/camb_interface.py:605\u001b[0m, in \u001b[0;36mobtain_pspectrum\u001b[0;34m(pars, redshifts, k_points, hubble_units)\u001b[0m\n\u001b[1;32m    596\u001b[0m \u001b[38;5;250m\u001b[39m\u001b[38;5;124;03m\"\"\"\u001b[39;00m\n\u001b[1;32m    597\u001b[0m \u001b[38;5;124;03mHelper function for kzps.\u001b[39;00m\n\u001b[1;32m    598\u001b[0m \u001b[38;5;124;03mGiven a fully set-up pars function, return the following in this order:\u001b[39;00m\n\u001b[1;32m    599\u001b[0m \u001b[38;5;124;03m    scale axis, redshifts used, power spectra, and sigma12 values.\u001b[39;00m\n\u001b[1;32m    600\u001b[0m \n\u001b[1;32m    601\u001b[0m \u001b[38;5;124;03m\"\"\"\u001b[39;00m\n\u001b[1;32m    603\u001b[0m \u001b[38;5;250m\u001b[39m\u001b[38;5;124;03m''' To change the the extent of the k-axis, change the following line as\u001b[39;00m\n\u001b[1;32m    604\u001b[0m \u001b[38;5;124;03mwell as the \"get_matter_power_spectrum\" call. '''\u001b[39;00m\n\u001b[0;32m--> 605\u001b[0m \u001b[43mpars\u001b[49m\u001b[38;5;241;43m.\u001b[39;49m\u001b[43mset_matter_power\u001b[49m\u001b[43m(\u001b[49m\u001b[43mredshifts\u001b[49m\u001b[38;5;241;43m=\u001b[39;49m\u001b[43mredshifts\u001b[49m\u001b[43m,\u001b[49m\u001b[43m \u001b[49m\u001b[43mkmax\u001b[49m\u001b[38;5;241;43m=\u001b[39;49m\u001b[38;5;241;43m10.0\u001b[39;49m\u001b[43m \u001b[49m\u001b[38;5;241;43m/\u001b[39;49m\u001b[43m \u001b[49m\u001b[43mpars\u001b[49m\u001b[38;5;241;43m.\u001b[39;49m\u001b[43mh\u001b[49m\u001b[43m,\u001b[49m\n\u001b[1;32m    606\u001b[0m \u001b[43m                      \u001b[49m\u001b[43mnonlinear\u001b[49m\u001b[38;5;241;43m=\u001b[39;49m\u001b[38;5;28;43;01mFalse\u001b[39;49;00m\u001b[43m)\u001b[49m\n\u001b[1;32m    608\u001b[0m results \u001b[38;5;241m=\u001b[39m camb\u001b[38;5;241m.\u001b[39mget_results(pars)\n\u001b[1;32m    610\u001b[0m sigma12 \u001b[38;5;241m=\u001b[39m results\u001b[38;5;241m.\u001b[39mget_sigmaR(\u001b[38;5;241m12\u001b[39m, hubble_units\u001b[38;5;241m=\u001b[39m\u001b[38;5;28;01mFalse\u001b[39;00m)\n",
      "File \u001b[0;32m~/anaconda3/envs/camb/lib/python3.9/site-packages/camb/model.py:699\u001b[0m, in \u001b[0;36mCAMBparams.set_matter_power\u001b[0;34m(self, redshifts, kmax, k_per_logint, nonlinear, accurate_massive_neutrino_transfers, silent)\u001b[0m\n\u001b[1;32m    697\u001b[0m \u001b[38;5;28;01mif\u001b[39;00m \u001b[38;5;28mlen\u001b[39m(redshifts) \u001b[38;5;241m>\u001b[39m max_transfer_redshifts:\n\u001b[1;32m    698\u001b[0m     \u001b[38;5;28;01mraise\u001b[39;00m CAMBError(\u001b[38;5;124m'\u001b[39m\u001b[38;5;124mYou can have at most \u001b[39m\u001b[38;5;132;01m%s\u001b[39;00m\u001b[38;5;124m redshifts\u001b[39m\u001b[38;5;124m'\u001b[39m \u001b[38;5;241m%\u001b[39m max_transfer_redshifts)\n\u001b[0;32m--> 699\u001b[0m \u001b[38;5;28mself\u001b[39m\u001b[38;5;241m.\u001b[39mTransfer\u001b[38;5;241m.\u001b[39mPK_redshifts \u001b[38;5;241m=\u001b[39m zs\n\u001b[1;32m    700\u001b[0m \u001b[38;5;28;01mreturn\u001b[39;00m \u001b[38;5;28mself\u001b[39m\n",
      "File \u001b[0;32m~/anaconda3/envs/camb/lib/python3.9/site-packages/camb/baseconfig.py:464\u001b[0m, in \u001b[0;36mSizedArrayField.__set__\u001b[0;34m(self, instance, value)\u001b[0m\n\u001b[1;32m    461\u001b[0m \u001b[38;5;28;01mif\u001b[39;00m \u001b[38;5;28mlen\u001b[39m(value) \u001b[38;5;241m>\u001b[39m \u001b[38;5;28mlen\u001b[39m(field):\n\u001b[1;32m    462\u001b[0m     \u001b[38;5;28;01mraise\u001b[39;00m CAMBParamRangeError(\n\u001b[1;32m    463\u001b[0m         \u001b[38;5;124m\"\u001b[39m\u001b[38;5;132;01m%s\u001b[39;00m\u001b[38;5;124m can be of max length \u001b[39m\u001b[38;5;132;01m%s\u001b[39;00m\u001b[38;5;124m\"\u001b[39m \u001b[38;5;241m%\u001b[39m (\u001b[38;5;28mself\u001b[39m\u001b[38;5;241m.\u001b[39mreal_name[\u001b[38;5;241m1\u001b[39m:], \u001b[38;5;28mlen\u001b[39m(field)))\n\u001b[0;32m--> 464\u001b[0m field[:\u001b[38;5;28mlen\u001b[39m(value)] \u001b[38;5;241m=\u001b[39m value\n\u001b[1;32m    465\u001b[0m \u001b[38;5;28msetattr\u001b[39m(instance, \u001b[38;5;28mself\u001b[39m\u001b[38;5;241m.\u001b[39msize_name, \u001b[38;5;28mlen\u001b[39m(value))\n",
      "\u001b[0;31mTypeError\u001b[0m: only size-1 arrays can be converted to Python scalars"
     ]
    }
   ],
   "source": [
    "kci_t, zci_t, pci_t, sci_t = ci.evaluate_cosmology(MEMNeC, redshifts=[g_z], k_points=300)\n",
    "kci, zci, pci, sci = ci.evaluate_cosmology(full_cosm, redshifts=[g_z], k_points=300)"
   ]
  },
  {
   "cell_type": "code",
   "execution_count": null,
   "id": "25026c1c-cf02-46a2-9a5e-4726f6316e2d",
   "metadata": {},
   "outputs": [],
   "source": [
    "sci"
   ]
  },
  {
   "cell_type": "code",
   "execution_count": null,
   "id": "f09b7a90-692f-4ab1-90c9-397f3bd4b0de",
   "metadata": {},
   "outputs": [],
   "source": [
    "g_pspec_t, g_sigma12_t, g_z_t = ged.evaluate_cell(MEMNeC, standard_k)\n",
    "print(\"This is our approximation\", g_sigma12_t)"
   ]
  },
  {
   "cell_type": "code",
   "execution_count": null,
   "id": "ca40c98a-4496-4a3d-b65b-469cf2a820fd",
   "metadata": {},
   "outputs": [],
   "source": [
    "if not fast:\n",
    "    andreap.get_s12(Pk_hi_h['mzero'], 0)"
   ]
  },
  {
   "cell_type": "code",
   "execution_count": null,
   "id": "287e5f92-f45c-47ea-8747-565a65f2e50d",
   "metadata": {},
   "outputs": [],
   "source": [
    "# I cannot figure out how to get AndreaP's function to work\n",
    "#andreap.get_s12_fixedz(Pk_hi_h['mzero'])"
   ]
  },
  {
   "cell_type": "code",
   "execution_count": null,
   "id": "b0ab9b9f-7647-4c7d-b9a1-6c57e726e10b",
   "metadata": {},
   "outputs": [],
   "source": [
    "MEMNeC"
   ]
  },
  {
   "cell_type": "code",
   "execution_count": null,
   "id": "75ae11a7-f89a-430e-8b60-6d131266a8cf",
   "metadata": {},
   "outputs": [],
   "source": [
    "plt.plot(standard_k, (pci - samples[test_index]) / samples[test_index] * 100)\n",
    "plt.xscale('log')\n",
    "plt.title(\"Discrepancy between Saved Spectrum and Direct kzps Call\")\n",
    "plt.ylabel('Percent Error')\n",
    "plt.xlabel('scale $k$ [1 / Mpc]')"
   ]
  },
  {
   "cell_type": "code",
   "execution_count": null,
   "id": "bd8e1f09-bd4c-4fb5-839d-0bef0b770ba3",
   "metadata": {},
   "outputs": [],
   "source": [
    "plt.plot(standard_k, (g_pspec - samples[test_index]) / samples[test_index] * 100)\n",
    "plt.xscale('log')\n",
    "plt.title(\"Discrepancy between Saved Spectrum and On-the-fly psz Call\")\n",
    "plt.ylabel('Percent Error')\n",
    "plt.xlabel('scale $k$ [1 / Mpc]')"
   ]
  },
  {
   "cell_type": "code",
   "execution_count": null,
   "id": "059cb54d-1be5-4a35-b6ba-e602bc8b9614",
   "metadata": {},
   "outputs": [],
   "source": [
    "plt.plot(standard_k, (pci - g_pspec) / pci * 100)\n",
    "plt.xscale('log')\n",
    "plt.title(\"Discrepancy between On-the-fly psz and kzps Calls\")\n",
    "plt.ylabel('Percent Error')\n",
    "plt.xlabel('scale $k$ [1 / Mpc]')"
   ]
  },
  {
   "cell_type": "markdown",
   "id": "20d8e200-b4bd-4b2a-82c0-1efd9356e6e2",
   "metadata": {},
   "source": [
    "This most recent plot is weak enough that we're happy. But why do we see differences in the previous plots? Is this a reproduceable discrepancy?"
   ]
  },
  {
   "cell_type": "code",
   "execution_count": null,
   "id": "aa14bb9a-01d0-4fa8-a36f-232d2a50d2ec",
   "metadata": {},
   "outputs": [],
   "source": [
    "resample, bestz = ged.fill_hypercube(hc, standard_k, massive_neutrinos=True,\n",
    "    cell_range=range(1))\n",
    "resample = resample[0]"
   ]
  },
  {
   "cell_type": "code",
   "execution_count": null,
   "id": "884122ba-e273-4f52-875e-ac57db549421",
   "metadata": {},
   "outputs": [],
   "source": [
    "plt.plot(standard_k,\n",
    "    (resample - samples[test_index]) / samples[test_index] * 100)\n",
    "plt.xscale('log')"
   ]
  },
  {
   "cell_type": "code",
   "execution_count": null,
   "id": "cc153e16-3638-4750-a3f4-761067ccf5c1",
   "metadata": {},
   "outputs": [],
   "source": []
  }
 ],
 "metadata": {
  "kernelspec": {
   "display_name": "Python 3 (ipykernel)",
   "language": "python",
   "name": "python3"
  },
  "language_info": {
   "codemirror_mode": {
    "name": "ipython",
    "version": 3
   },
   "file_extension": ".py",
   "mimetype": "text/x-python",
   "name": "python",
   "nbconvert_exporter": "python",
   "pygments_lexer": "ipython3",
   "version": "3.9.16"
  }
 },
 "nbformat": 4,
 "nbformat_minor": 5
}
