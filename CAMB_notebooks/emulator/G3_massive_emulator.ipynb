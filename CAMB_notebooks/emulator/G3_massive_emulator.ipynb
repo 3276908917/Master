{
 "cells": [
  {
   "cell_type": "code",
   "execution_count": 1,
   "id": "ce2e6269-d53c-4d7e-a0ab-819d34d9331b",
   "metadata": {},
   "outputs": [],
   "source": [
    "regenerate = False\n",
    "\n",
    "import numpy as np\n",
    "import pylab as pb\n",
    "import GPy\n",
    "import copy as cp\n",
    "\n",
    "pb.ion()\n",
    "\n",
    "file_base = \"\""
   ]
  },
  {
   "cell_type": "markdown",
   "id": "aee721f8-35d5-44a7-9434-4d930bb434bc",
   "metadata": {},
   "source": [
    "X = np.load(\"hc_baby.npy\", allow_pickle=True)\n",
    "Y = np.log(np.load(\"samples_baby.npy\", allow_pickle=True))"
   ]
  },
  {
   "cell_type": "code",
   "execution_count": 2,
   "id": "3dc64ac5-b34d-4a71-84ab-1cdd70822bcb",
   "metadata": {},
   "outputs": [],
   "source": [
    "X_raw = Y_raw = None\n",
    "segment = False\n",
    "\n",
    "if segment:\n",
    "    backup_size = 1700\n",
    "    file_ending = \"_backup_i\" + str(backup_size - 1) + \"_unlabeled.npy\"\n",
    "    X_raw = np.load(file_base + \"hc\" + file_ending, allow_pickle=True)\n",
    "    Y_raw = np.load(file_base + \"samples\" + file_ending, allow_pickle=True)\n",
    "    X_raw = X_raw[:backup_size]\n",
    "    Y_raw = Y_raw[:backup_size]\n",
    "else:\n",
    "    X_raw = np.load(\"hc_G3_redo.npy\", allow_pickle=True)\n",
    "    Y_raw = np.load(\"samples_G3_redo.npy\", allow_pickle=True)"
   ]
  },
  {
   "cell_type": "code",
   "execution_count": 3,
   "id": "1256984c-9f34-4678-84be-1fe813222341",
   "metadata": {},
   "outputs": [],
   "source": [
    "scales = np.load(\"standard_k.npy\", allow_pickle=True)"
   ]
  },
  {
   "cell_type": "code",
   "execution_count": 4,
   "id": "b307fd57-94b3-4d51-8ad9-69b2afed0e56",
   "metadata": {},
   "outputs": [
    {
     "data": {
      "text/plain": [
       "[<matplotlib.lines.Line2D at 0x7f83c5b75dc0>]"
      ]
     },
     "execution_count": 4,
     "metadata": {},
     "output_type": "execute_result"
    },
    {
     "data": {
      "image/png": "[encoded data removed]",
      "text/plain": [
       "<Figure size 640x480 with 1 Axes>"
      ]
     },
     "metadata": {},
     "output_type": "display_data"
    }
   ],
   "source": [
    "# This plot only serves to make sure that the first row actually describes a\n",
    "# function.\n",
    "pb.plot(scales, Y_raw[0])"
   ]
  },
  {
   "cell_type": "code",
   "execution_count": 5,
   "id": "10a6df5e-3563-4300-8193-d7b407bce0f8",
   "metadata": {},
   "outputs": [],
   "source": [
    "def is_bad(row):\n",
    "    if float('-inf') in row or float('inf') in row \\\n",
    "        or None in row or True in np.isnan(pspec) \\\n",
    "        or 0 in row:\n",
    "        return True\n",
    "    return False\n",
    "\n",
    "bad_row_indices = []\n",
    "for i in range(len(Y_raw)):\n",
    "    pspec = Y_raw[i]\n",
    "    if is_bad(pspec):\n",
    "        bad_row_indices.append(i)\n",
    "\n",
    "X = np.delete(X_raw, bad_row_indices, 0)\n",
    "Y = np.delete(Y_raw, bad_row_indices, 0)"
   ]
  },
  {
   "cell_type": "code",
   "execution_count": 6,
   "id": "9d6176f6-0e5b-4df5-a937-7e670c0c6f00",
   "metadata": {},
   "outputs": [
    {
     "data": {
      "text/plain": [
       "(300,)"
      ]
     },
     "execution_count": 6,
     "metadata": {},
     "output_type": "execute_result"
    }
   ],
   "source": [
    "# Now the goal is to compute summary statistics on Y for each value k\n",
    "Ylog = np.log(Y)\n",
    "mu = np.mean(Ylog, axis=0)\n",
    "mu.shape\n",
    "stdev = np.std(Ylog, axis=0)\n",
    "stdev.shape"
   ]
  },
  {
   "cell_type": "code",
   "execution_count": 7,
   "id": "c6e4ef50-4b66-4f12-9342-42160fccc7bb",
   "metadata": {},
   "outputs": [],
   "source": [
    "# now normalize the data with these summary statistics\n",
    "Y_normalized = cp.deepcopy(Ylog)\n",
    "\n",
    "for i in range(len(Y)):\n",
    "    Y_normalized[i] -= mu\n",
    "    Y_normalized[i] /= stdev"
   ]
  },
  {
   "cell_type": "code",
   "execution_count": null,
   "id": "699deb44-4888-4966-8adc-59db23bb137b",
   "metadata": {},
   "outputs": [],
   "source": [
    "plt.loglog(standard_k, Y_normalized[0])"
   ]
  },
  {
   "cell_type": "code",
   "execution_count": 8,
   "id": "733aeba4-c006-4470-b459-7e17a6f9fe3d",
   "metadata": {},
   "outputs": [],
   "source": [
    "def inverse_transform(raw_prediction):\n",
    "    return np.exp(raw_prediction * stdev + mu)"
   ]
  },
  {
   "cell_type": "code",
   "execution_count": 9,
   "id": "170e8cdd-08da-4f7c-85bf-bdd116b88113",
   "metadata": {},
   "outputs": [
    {
     "name": "stdout",
     "output_type": "stream",
     "text": [
      "(5000, 6) (5000, 300)\n"
     ]
    }
   ],
   "source": [
    "print(X.shape, Y_normalized.shape)"
   ]
  },
  {
   "cell_type": "code",
   "execution_count": 10,
   "id": "91ce7cc6-d0ea-4cf4-9711-ef5ce5ede4e9",
   "metadata": {},
   "outputs": [],
   "source": [
    "kernel = GPy.kern.RBF(input_dim=6, variance=1., lengthscale=1.)\n",
    "m = GPy.models.GPRegression(X,Y_normalized,kernel)"
   ]
  },
  {
   "cell_type": "code",
   "execution_count": 11,
   "id": "68082d41-bc03-49c1-8ee1-c26595d844ec",
   "metadata": {},
   "outputs": [],
   "source": [
    "import importlib.util\n",
    "import sys\n",
    "spec = importlib.util.spec_from_file_location(\n",
    "    \"camb_interface\", \"../../nuCOMET/camb_interface.py\")\n",
    "ci = importlib.util.module_from_spec(spec)\n",
    "sys.modules[\"camb_interface\"] = ci\n",
    "spec.loader.exec_module(ci)\n",
    "\n",
    "test_omnuh2 = 0.002\n",
    "\n",
    "m0_without_neuts = ci.specify_neutrino_mass(ci.cosm.iloc[0], 0, 0)\n",
    "m0_with_neuts = ci.specify_neutrino_mass(ci.cosm.iloc[0], test_omnuh2, 1)\n",
    "\n",
    "m0_with_neuts['omch2'] -= test_omnuh2"
   ]
  },
  {
   "cell_type": "code",
   "execution_count": 12,
   "id": "937e009a-a425-4e23-ae06-d1774ba33368",
   "metadata": {},
   "outputs": [
    {
     "name": "stdout",
     "output_type": "stream",
     "text": [
      "[0.82466774]\n"
     ]
    }
   ],
   "source": [
    "# We'll need to check our work using CAMB\n",
    "k_m0truth, z_m0truth, p_m0truth, _ = ci.kzps(m0_with_neuts,\n",
    "    fancy_neutrinos=False, redshifts=[0], k_points=300, hubble_units=False)\n",
    "\n",
    "_, _, _, s_m0truth = ci.kzps(m0_without_neuts, fancy_neutrinos=False,\n",
    "    redshifts=[0], k_points=300, hubble_units=False)\n",
    "\n",
    "m0_without_neuts['sigma12'] = m0_with_neuts['sigma12'] = s_m0truth\n",
    "\n",
    "print(s_m0truth)"
   ]
  },
  {
   "cell_type": "code",
   "execution_count": 13,
   "id": "1e9f9a5e-1217-4fe2-bd33-7f6afbbabffc",
   "metadata": {},
   "outputs": [],
   "source": [
    "spec = importlib.util.spec_from_file_location(\n",
    "    \"generate_training_data\", \"../../nuCOMET/generate_training_data.py\")\n",
    "gtd = importlib.util.module_from_spec(spec)\n",
    "sys.modules[\"generate_training_data\"] = gtd\n",
    "spec.loader.exec_module(gtd)"
   ]
  },
  {
   "cell_type": "code",
   "execution_count": 14,
   "id": "d455e20e-0dcb-4abf-b7ea-cfb4c72b571a",
   "metadata": {},
   "outputs": [
    {
     "name": "stdout",
     "output_type": "stream",
     "text": [
      "We had to move h to 0.57\n"
     ]
    }
   ],
   "source": [
    "p_m0truth, actual_sigma12, best_z = gtd.psz(m0_with_neuts, scales)"
   ]
  },
  {
   "cell_type": "code",
   "execution_count": 15,
   "id": "288ffe0d-e532-4059-a14e-22a168e92ec6",
   "metadata": {},
   "outputs": [
    {
     "ename": "AssertionError",
     "evalue": "you should give this emulator a new name instead of over-writing",
     "output_type": "error",
     "traceback": [
      "\u001b[0;31m---------------------------------------------------------------------------\u001b[0m",
      "\u001b[0;31mAssertionError\u001b[0m                            Traceback (most recent call last)",
      "Cell \u001b[0;32mIn[15], line 1\u001b[0m\n\u001b[0;32m----> 1\u001b[0m \u001b[38;5;28;01massert\u001b[39;00m \u001b[38;5;28;01mFalse\u001b[39;00m, \u001b[38;5;124m\"\u001b[39m\u001b[38;5;124myou should give this emulator a new name instead of over-writing\u001b[39m\u001b[38;5;124m\"\u001b[39m\n\u001b[1;32m      3\u001b[0m \u001b[38;5;28;01mimport\u001b[39;00m \u001b[38;5;21;01mpickle\u001b[39;00m\n\u001b[1;32m      5\u001b[0m \u001b[38;5;28;01mif\u001b[39;00m regenerate:\n",
      "\u001b[0;31mAssertionError\u001b[0m: you should give this emulator a new name instead of over-writing"
     ]
    }
   ],
   "source": [
    "assert False, \"you should give this emulator a new name instead of over-writing\"\n",
    "\n",
    "import pickle\n",
    "\n",
    "if regenerate:\n",
    "    m.constrain_positive('') # '' is a regex matching all parameter names\n",
    "    m.optimize()\n",
    "    \n",
    "    m.mu = mu\n",
    "    m.stdev = stdev\n",
    "    pickle.dump(m, open(\"analyses/massive_emulator_G3_full.nucomet\", \"wb\"), protocol=5) \n",
    "else:\n",
    "    m = pickle.load(open(\"analyses/massive_emulator_G3_full.nucomet\", \"rb\"))"
   ]
  },
  {
   "cell_type": "code",
   "execution_count": null,
   "id": "3b5711f3-c3c3-4a6a-851d-fb25458d28af",
   "metadata": {},
   "outputs": [],
   "source": [
    "# Remember that the structure of an hc entry is DIFFERENT NOW\n",
    "# omb, omc, ns, s12, As, omnu\n",
    "x = np.array([np.array([\n",
    "    m0_with_neuts['ombh2'], m0_with_neuts['omch2'], m0_with_neuts['n_s'],\n",
    "    s_m0truth, m0_with_neuts['A_s'], m0_with_neuts['omnuh2']\n",
    "])])\n",
    "x"
   ]
  },
  {
   "cell_type": "code",
   "execution_count": null,
   "id": "c55040a9-8ed6-42c5-83f0-bed887388436",
   "metadata": {},
   "outputs": [],
   "source": [
    "guess, uncertainties = m.predict(x)"
   ]
  },
  {
   "cell_type": "code",
   "execution_count": null,
   "id": "15f88eb6-d56f-4720-b5d8-0089b328dc4a",
   "metadata": {},
   "outputs": [],
   "source": [
    "#import matplotlib.pyplot as plt\n",
    "pb.loglog(scales, inverse_transform(guess[0]))\n",
    "pb.title(\"Emulator G, 1800 Samples, Aletheia model 0\\n\" + r\"$\\omega_\\nu=0.002$\")\n",
    "pb.ylabel('P(k) at redshift zero')\n",
    "pb.xlabel('scale $k$ [1 / Mpc]')"
   ]
  },
  {
   "cell_type": "code",
   "execution_count": null,
   "id": "14f04b49-f7eb-4a94-a9ac-d7774d87f1a4",
   "metadata": {},
   "outputs": [],
   "source": [
    "#import matplotlib.pyplot as plt\n",
    "pb.loglog(k_m0truth, p_m0truth)\n",
    "pb.title(\"CAMB, Aletheia model 0\")\n",
    "pb.ylabel('P(k) at redshift zero')\n",
    "pb.xlabel('scale $k$ [1 / Mpc]')"
   ]
  },
  {
   "cell_type": "code",
   "execution_count": null,
   "id": "e115e94a-56cc-45e3-9de7-5e0ef48e78e0",
   "metadata": {},
   "outputs": [],
   "source": [
    "pb.plot(scales, inverse_transform(guess[0]),\n",
    "    label=\"G emulator\")\n",
    "pb.loglog(k_m0truth, p_m0truth, label=\"CAMB\")\n",
    "pb.title(\"Aletheia model 0, redshift zero\")\n",
    "pb.ylabel('$P(k)$ [Mpc$^3$]')\n",
    "pb.xlabel('scale $k$ [1 / Mpc]')\n",
    "pb.legend()"
   ]
  },
  {
   "cell_type": "code",
   "execution_count": null,
   "id": "19c03b8f-e04d-4aa9-8262-56f728592723",
   "metadata": {},
   "outputs": [],
   "source": [
    "pb.plot(scales,\n",
    "    (inverse_transform(guess[0]) - p_m0truth) / p_m0truth * 100)\n",
    "pb.xscale('log')\n",
    "pb.title(\"Aletheia model 0, redshift zero, percent error\")\n",
    "pb.ylabel('% Error in $P(k)$')\n",
    "pb.xlabel('scale $k$ [1 / Mpc]')"
   ]
  },
  {
   "cell_type": "code",
   "execution_count": null,
   "id": "f6c4af86-3fcf-41fe-8e3d-6bcf723e95e4",
   "metadata": {},
   "outputs": [],
   "source": [
    "# Remember that the structure of a hc entry is\n",
    "# omb, omc, ns, s12, omnu, As\n",
    "x_hi_ns = np.array([np.array([\n",
    "    0.022445, 0.120567, 1.01, 0.82466774,\n",
    "    2.12723788013000E-09, 0\n",
    "])])\n",
    "guess_hi_ns, uncertainties_hi_ns = m.predict(x_hi_ns)\n",
    "x_lo_ns = np.array([np.array([\n",
    "    0.022445, 0.120567, 0.92, 0.82466774,\n",
    "    2.12723788013000E-09, 0\n",
    "])])\n",
    "guess_lo_ns, uncertainties_lo_ns = m.predict(x_lo_ns)\n"
   ]
  },
  {
   "cell_type": "code",
   "execution_count": null,
   "id": "348815cd-0378-44aa-bb5e-0d5b741117e0",
   "metadata": {},
   "outputs": [],
   "source": [
    "pb.loglog(scales, inverse_transform(guess[0]), label=\"n_s 0.96\")\n",
    "pb.loglog(scales, inverse_transform(guess_hi_ns[0]), label=\"n_s 1.01\")\n",
    "pb.loglog(scales, inverse_transform(guess_lo_ns[0]), label=\"n_s 0.92\")\n",
    "\n",
    "pb.title(\"Aletheia model 0, redshift zero\")\n",
    "pb.ylabel('log $P(k)$')\n",
    "pb.xlabel('scale $k$ [1 / Mpc]')\n",
    "pb.legend()"
   ]
  },
  {
   "cell_type": "code",
   "execution_count": null,
   "id": "52380b7c-6991-4fe4-bf61-643153822bb1",
   "metadata": {},
   "outputs": [],
   "source": [
    "# Remember that the structure of a hc entry is\n",
    "# omb, omc, ns, s12, omnu, As\n",
    "omnu_hi = 0.01\n",
    "x_hi_omnu = np.array([np.array([\n",
    "    0.022445, 0.120567 - omnu_hi, 0.96, 0.82466774,\n",
    "    2.12723788013000E-09, omnu_hi\n",
    "])])\n",
    "guess_hi_omnu, uncertainties_hi_omnu = m.predict(x_hi_omnu)\n",
    "\n",
    "omnu_mid = 0.002148659574468\n",
    "x_mid_omnu = np.array([np.array([\n",
    "    0.022445, 0.120567 - omnu_mid, 0.96, 0.82466774,\n",
    "    2.12723788013000E-09, omnu_mid,\n",
    "])])\n",
    "guess_mid_omnu, uncertainties_mid_omnu = m.predict(x_mid_omnu)\n"
   ]
  },
  {
   "cell_type": "code",
   "execution_count": null,
   "id": "e69ac2bb-f19f-494d-8429-f9c6ff599146",
   "metadata": {},
   "outputs": [],
   "source": [
    "pb.loglog(scales, inverse_transform(guess[0]),\n",
    "          label=\"omnu 0\")\n",
    "pb.loglog(scales, inverse_transform(guess_hi_omnu[0]),\n",
    "          label=\"omnu 0.01\")\n",
    "pb.loglog(scales, inverse_transform(guess_mid_omnu[0]),\n",
    "          label=\"omnu 0.002\")\n",
    "\n",
    "pb.title(\"Aletheia model 0, redshift zero\")\n",
    "pb.ylabel('log $P(k)$')\n",
    "pb.xlabel(\"scale $k$ [1 / Mpc]\")\n",
    "pb.legend()"
   ]
  },
  {
   "cell_type": "code",
   "execution_count": null,
   "id": "0f0553d6-464b-4784-8449-e7177d928661",
   "metadata": {},
   "outputs": [],
   "source": [
    "# Remember that the structure of a hc entry is\n",
    "# omb, omc, ns, s12, omnu, As\n",
    "x_hi_omb = np.array([np.array([\n",
    "    0.02415, 0.120567, 0.96, 0.82466774,\n",
    "    2.12723788013000E-09, 0\n",
    "])])\n",
    "guess_hi_omb, uncertainties_hi_omb = m.predict(x_hi_omb)\n",
    "\n",
    "x_lo_omb = np.array([np.array([\n",
    "    0.0205, 0.120567, 0.96, 0.82466774,\n",
    "    2.12723788013000E-09, 0\n",
    "])])\n",
    "guess_lo_omb, uncertainties_lo_omb = m.predict(x_lo_omb)\n"
   ]
  },
  {
   "cell_type": "code",
   "execution_count": null,
   "id": "d9a02cdd-c1f8-4671-823a-11c82b43e546",
   "metadata": {},
   "outputs": [],
   "source": [
    "pb.loglog(scales, inverse_transform(guess[0]),\n",
    "        label=\"om_b Planck\")\n",
    "pb.loglog(scales, inverse_transform(guess_hi_omb[0]),\n",
    "        label=\"om_b 0.02415\")\n",
    "pb.loglog(scales, inverse_transform(guess_lo_omb[0]),\n",
    "        label=\"om_b 0.0205\")\n",
    "\n",
    "pb.title(\"Aletheia model 0, redshift zero\")\n",
    "pb.ylabel('log $P(k)$')\n",
    "pb.xlabel(\"scale $k$ [1 / Mpc]\")\n",
    "pb.legend()"
   ]
  },
  {
   "cell_type": "code",
   "execution_count": null,
   "id": "06498e21-412a-40a5-b886-b68ffd7dcb33",
   "metadata": {},
   "outputs": [],
   "source": [
    "# Remember that the structure of a hc entry is\n",
    "# omb, omc, ns, s12, omnu, As\n",
    "x_hi_omc = np.array([np.array([\n",
    "    0.022445, 0.155, 0.96, 0.82466774,\n",
    "    2.12723788013000E-09, 0\n",
    "])])\n",
    "guess_hi_omc, uncertainties_hi_omc = m.predict(x_hi_omc)\n",
    "\n",
    "x_lo_omc = np.array([np.array([\n",
    "    0.022445, 0.085, 0.96, 0.82466774,\n",
    "    2.12723788013000E-09, 0\n",
    "])])\n",
    "guess_lo_omc, uncertainties_lo_omc = m.predict(x_lo_omc)\n"
   ]
  },
  {
   "cell_type": "code",
   "execution_count": null,
   "id": "e5d374ec-0781-439c-a270-e95fa00c3bd1",
   "metadata": {},
   "outputs": [],
   "source": [
    "pb.loglog(scales, inverse_transform(guess[0]),\n",
    "        label=\"om_c Planck\")\n",
    "pb.loglog(scales, inverse_transform(guess_hi_omc[0]),\n",
    "        label=\"om_c 0.155\")\n",
    "pb.loglog(scales, inverse_transform(guess_lo_omc[0]),\n",
    "        label=\"om_c 0.085\")\n",
    "\n",
    "pb.title(\"Aletheia model 0, redshift zero\")\n",
    "pb.ylabel('log $P(k)$')\n",
    "pb.xlabel(\"scale $k$ [1 / Mpc]\")\n",
    "pb.legend()"
   ]
  },
  {
   "cell_type": "code",
   "execution_count": null,
   "id": "6ac1462d-5f2b-44db-9c75-3b948ee66eba",
   "metadata": {},
   "outputs": [],
   "source": [
    "# Remember that the structure of a hc entry is\n",
    "# omb, omc, ns, s12, omnu, As\n",
    "x_hi_As = np.array([np.array([\n",
    "    0.022445, 0.120567, 0.96, 0.82466774,\n",
    "    np.exp(3.91) / 10 ** 10, 0\n",
    "])])\n",
    "guess_hi_As, uncertainties_hi_As = m.predict(x_hi_As)\n",
    "x_lo_As = np.array([np.array([\n",
    "    0.022445, 0.120567, 0.96, 0.82466774,\n",
    "    np.exp(2.35) / 10 ** 10, 0\n",
    "])])\n",
    "guess_lo_As, uncertainties_lo_As = m.predict(x_lo_As)"
   ]
  },
  {
   "cell_type": "code",
   "execution_count": null,
   "id": "6e039bbb-78b3-4deb-be87-2abe0b468ba0",
   "metadata": {},
   "outputs": [],
   "source": [
    "pb.loglog(scales, inverse_transform(guess[0]), label=\"As Planck\")\n",
    "pb.loglog(scales, inverse_transform(guess_hi_As[0]), label=\"As high\")\n",
    "pb.loglog(scales, inverse_transform(guess_lo_As[0]), label=\"As low\")\n",
    "\n",
    "pb.title(\"Aletheia model 0, redshift zero\")\n",
    "pb.ylabel('log $P(k)$')\n",
    "pb.xlabel(\"scale $k$ [1 / Mpc]\")\n",
    "pb.legend()"
   ]
  },
  {
   "cell_type": "markdown",
   "id": "5494af8b-78f7-49c5-8626-8b8d7e9a87c9",
   "metadata": {},
   "source": [
    "I guess this shows that sigma12 countermands As, huh?"
   ]
  }
 ],
 "metadata": {
  "kernelspec": {
   "display_name": "Python 3 (ipykernel)",
   "language": "python",
   "name": "python3"
  },
  "language_info": {
   "codemirror_mode": {
    "name": "ipython",
    "version": 3
   },
   "file_extension": ".py",
   "mimetype": "text/x-python",
   "name": "python",
   "nbconvert_exporter": "python",
   "pygments_lexer": "ipython3",
   "version": "3.9.16"
  }
 },
 "nbformat": 4,
 "nbformat_minor": 5
}
