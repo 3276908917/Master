{
 "cells": [
  {
   "cell_type": "code",
   "execution_count": null,
   "id": "30f09db7-2cfa-446d-817c-a02c1a723faf",
   "metadata": {},
   "outputs": [],
   "source": [
    "import numpy as np\n",
    "import pylab as pb\n",
    "import GPy\n",
    "import copy as cp\n",
    "\n",
    "pb.ion()\n",
    "\n",
    "file_base = \"modularized_v4_backup/\""
   ]
  },
  {
   "cell_type": "code",
   "execution_count": 1,
   "id": "aa78ffac-467f-49ce-ab6e-f3812347c26b",
   "metadata": {},
   "outputs": [],
   "source": [
    "# In this cell, assign m to some serially-loaded trained GPy\n",
    "# emulator"
   ]
  },
  {
   "cell_type": "code",
   "execution_count": 2,
   "id": "7d65295a-58cf-465e-b0dc-080e7b48e4cd",
   "metadata": {},
   "outputs": [
    {
     "ename": "NameError",
     "evalue": "name 'np' is not defined",
     "output_type": "error",
     "traceback": [
      "\u001b[0;31m---------------------------------------------------------------------------\u001b[0m",
      "\u001b[0;31mNameError\u001b[0m                                 Traceback (most recent call last)",
      "Cell \u001b[0;32mIn[2], line 2\u001b[0m\n\u001b[1;32m      1\u001b[0m file_base \u001b[38;5;241m=\u001b[39m \u001b[38;5;124m\"\u001b[39m\u001b[38;5;124mmodularized_v4_backup/\u001b[39m\u001b[38;5;124m\"\u001b[39m\n\u001b[0;32m----> 2\u001b[0m X_raw \u001b[38;5;241m=\u001b[39m \u001b[43mnp\u001b[49m\u001b[38;5;241m.\u001b[39mload(file_base \u001b[38;5;241m+\u001b[39m \u001b[38;5;124m\"\u001b[39m\u001b[38;5;124mhc_massive_test_actual.npy\u001b[39m\u001b[38;5;124m\"\u001b[39m,\n\u001b[1;32m      3\u001b[0m     allow_pickle\u001b[38;5;241m=\u001b[39m\u001b[38;5;28;01mTrue\u001b[39;00m)\n\u001b[1;32m      4\u001b[0m Y_raw \u001b[38;5;241m=\u001b[39m np\u001b[38;5;241m.\u001b[39mload(file_base \u001b[38;5;241m+\u001b[39m \u001b[38;5;124m\"\u001b[39m\u001b[38;5;124msamples_massive_test.npy\u001b[39m\u001b[38;5;124m\"\u001b[39m,\n\u001b[1;32m      5\u001b[0m     allow_pickle\u001b[38;5;241m=\u001b[39m\u001b[38;5;28;01mTrue\u001b[39;00m)\n",
      "\u001b[0;31mNameError\u001b[0m: name 'np' is not defined"
     ]
    }
   ],
   "source": [
    "X_raw = np.load(file_base + \"hc_massive_test_actual.npy\",\n",
    "    allow_pickle=True)\n",
    "Y_raw = np.load(file_base + \"samples_massive_test.npy\",\n",
    "    allow_pickle=True)"
   ]
  },
  {
   "cell_type": "code",
   "execution_count": null,
   "id": "e62d1728-e240-4e1d-a3f7-3bcaf786b64a",
   "metadata": {},
   "outputs": [],
   "source": [
    "scale_factor = np.load(\"standard_k.npy\", allow_pickle=True)"
   ]
  },
  {
   "cell_type": "code",
   "execution_count": null,
   "id": "7012f29c-ad91-41fd-8775-8c844fe1c39f",
   "metadata": {},
   "outputs": [],
   "source": [
    "def is_bad(row):\n",
    "    if float('-inf') in row or float('inf') in row \\\n",
    "        or None in row or True in np.isnan(pspec) \\\n",
    "        or 0 in row:\n",
    "        return True\n",
    "    return False\n",
    "\n",
    "bad_row_indices = []\n",
    "for i in range(len(Y_raw)):\n",
    "    pspec = Y_raw[i]\n",
    "    if is_bad(pspec):\n",
    "        bad_row_indices.append(i)\n",
    "\n",
    "X = np.delete(X_raw, bad_row_indices, 0)\n",
    "Y = np.delete(Y_raw, bad_row_indices, 0)"
   ]
  },
  {
   "cell_type": "code",
   "execution_count": null,
   "id": "4b1123b1-12b9-49a4-8f35-8b573c6014a5",
   "metadata": {},
   "outputs": [],
   "source": [
    "predictions = np.zeros(Y.shape)\n",
    "\n",
    "for i in range(len(X)):\n",
    "    predictions[i], uncertainties = m."
   ]
  }
 ],
 "metadata": {
  "kernelspec": {
   "display_name": "Python 3 (ipykernel)",
   "language": "python",
   "name": "python3"
  },
  "language_info": {
   "codemirror_mode": {
    "name": "ipython",
    "version": 3
   },
   "file_extension": ".py",
   "mimetype": "text/x-python",
   "name": "python",
   "nbconvert_exporter": "python",
   "pygments_lexer": "ipython3",
   "version": "3.9.16"
  }
 },
 "nbformat": 4,
 "nbformat_minor": 5
}
