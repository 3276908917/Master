{
 "cells": [
  {
   "cell_type": "code",
   "execution_count": 1,
   "id": "ecfa7341-a590-4eaa-93b9-97bade33930c",
   "metadata": {},
   "outputs": [],
   "source": [
    "import numpy as np\n",
    "import matplotlib.pyplot as plt\n",
    "import camb\n",
    "from camb import model, initialpower\n",
    "import andreap\n",
    "from scipy.interpolate import interp1d\n",
    "\n",
    "import importlib.util\n",
    "import sys"
   ]
  },
  {
   "cell_type": "code",
   "execution_count": 2,
   "id": "51ecb939-ba68-441e-a2cf-5656c29ae9b6",
   "metadata": {},
   "outputs": [],
   "source": [
    "test_index = 0\n",
    "validation_set = False\n",
    "# skips comparison with Andrea's code\n",
    "fast = False"
   ]
  },
  {
   "cell_type": "code",
   "execution_count": 3,
   "id": "5cb3df8b-a52a-412a-91cf-30ad785eee1e",
   "metadata": {},
   "outputs": [],
   "source": [
    "''' This messiness is necessary to import scripts which are not installed and\n",
    "which are not located in the cwd.'''\n",
    "\n",
    "spec = importlib.util.spec_from_file_location(\n",
    "    \"camb_interface\", \"../../cassL/camb_interface.py\")\n",
    "ci = importlib.util.module_from_spec(spec)\n",
    "sys.modules[\"camb_interface\"] = ci\n",
    "spec.loader.exec_module(ci)\n",
    "\n",
    "spec = importlib.util.spec_from_file_location(\n",
    "    \"generate_emu_data\", \"../../cassL/generate_emu_data.py\")\n",
    "ged = importlib.util.module_from_spec(spec)\n",
    "sys.modules[\"generate_emu_data\"] = ged\n",
    "spec.loader.exec_module(ged)"
   ]
  },
  {
   "cell_type": "code",
   "execution_count": 4,
   "id": "5073d69c-a93b-47c9-a3b3-a33b8f313a66",
   "metadata": {},
   "outputs": [],
   "source": [
    "hc = np.load(\"hc_G3_redo.npy\",\n",
    "    allow_pickle=True)\n",
    "samples = np.load(\"samples_G3_redo.npy\",\n",
    "    allow_pickle=True)\n",
    "\n",
    "if False:\n",
    "    hc = np.load(\"hc_backup_i4999_massive_pred_revised.npy\",\n",
    "        allow_pickle=True)\n",
    "    samples = np.load(\"samples_backup_i4999_massive_pred_revised.npy\",\n",
    "        allow_pickle=True)\n",
    "\n",
    "if validation_set:\n",
    "    hc = np.load(\"hc_test_G3.npy\",\n",
    "        allow_pickle=True)\n",
    "    samples = np.load(\"samples_test_G3.npy\",\n",
    "        allow_pickle=True)\n",
    "    \n",
    "standard_k = np.load(\"standard_k.npy\", allow_pickle=True)"
   ]
  },
  {
   "cell_type": "code",
   "execution_count": 5,
   "id": "3fc0a87c-a46a-4bec-a1a2-bc05b753e5fb",
   "metadata": {},
   "outputs": [],
   "source": [
    "test_cosmology = hc[test_index]\n",
    "test_pspec = samples[test_index]"
   ]
  },
  {
   "cell_type": "code",
   "execution_count": 6,
   "id": "5d8c99f7-ed26-4386-b5b7-4e2aa2429f62",
   "metadata": {},
   "outputs": [],
   "source": [
    "ombh2 = test_cosmology[0]\n",
    "omch2 = test_cosmology[1]\n",
    "ns = test_cosmology[2]\n",
    "sigma12 = test_cosmology[3]\n",
    "As = test_cosmology[4]\n",
    "omnuh2 = test_cosmology[5]"
   ]
  },
  {
   "cell_type": "code",
   "execution_count": 7,
   "id": "7fca1d1b-105e-47d4-ab02-ff7b0cd66a03",
   "metadata": {},
   "outputs": [],
   "source": [
    "full_cosm = ged.build_cosmology(\n",
    "    ombh2, omch2, ns, sigma12, As, omnuh2)"
   ]
  },
  {
   "cell_type": "code",
   "execution_count": 8,
   "id": "6f36da24-9678-484b-9fee-7473ce4c4136",
   "metadata": {},
   "outputs": [],
   "source": [
    "mnu = full_cosm['mnu']"
   ]
  },
  {
   "cell_type": "code",
   "execution_count": 9,
   "id": "66f0845e-836a-48aa-87ff-ee5b5fd3e79f",
   "metadata": {},
   "outputs": [],
   "source": [
    "# Comprehensive checking function\n",
    "def get_sigma12_interpolator(ombh2, omch2, ns, mnu, h, As):\n",
    "    Pk = andreap.get_PK(ombh2, omch2, ns, mnu, h * 100, As, w_mzero=True)\n",
    "    NUM_Z_POINTS=150\n",
    "    \n",
    "    z = np.linspace(0., 9., NUM_Z_POINTS)\n",
    "    sig12 = np.zeros(NUM_Z_POINTS)\n",
    "    for i in range(NUM_Z_POINTS):\n",
    "        sig12[i] = andreap.get_s12(Pk['mzero'], z[i])\n",
    "    \n",
    "    return interp1d(sig12, z, kind='cubic')"
   ]
  },
  {
   "cell_type": "code",
   "execution_count": 10,
   "id": "53ce00a8-382b-45cb-bbea-fa9fede6856f",
   "metadata": {},
   "outputs": [],
   "source": [
    "def validate_results(interpolator, sigma12, best_z):\n",
    "    interpolator_best_z = None\n",
    "    try:\n",
    "        interpolator_best_z = interpolator(sigma12)\n",
    "    except ValueError:\n",
    "        print(\"The desired sigma12 is not attainable with this interpolator!\")\n",
    "        return\n",
    "    \n",
    "    # print(best_z is None, interpolator_best_z is None)\n",
    "    \n",
    "    print(\"% discrepancy between results for best redshift:\",\n",
    "          (best_z - interpolator_best_z) / interpolator_best_z * 100)"
   ]
  },
  {
   "cell_type": "code",
   "execution_count": 21,
   "id": "a5e1b8e2-5e47-4a64-b028-e07584a38e01",
   "metadata": {},
   "outputs": [
    {
     "name": "stdout",
     "output_type": "stream",
     "text": [
      "We had to move h to 0.57\n",
      "This is our approximation 0.9719201815328333\n"
     ]
    }
   ],
   "source": [
    "g_pspec, g_sigma12, g_rescale_params = ged.evaluate_cell(\n",
    "    full_cosm, standard_k, debug=False)\n",
    "print(\"This is our approximation\", g_sigma12)\n",
    "g_z = g_rescale_params[1]"
   ]
  },
  {
   "cell_type": "code",
   "execution_count": 22,
   "id": "e8682fe0-1562-4139-9830-a1fd4848ddc3",
   "metadata": {},
   "outputs": [
    {
     "name": "stdout",
     "output_type": "stream",
     "text": [
      "Physical density in massive neutrinos 0.008207\n",
      "Number of massive neutrinos: 1\n",
      "Massive-neutrino sigma12: [0.80262619]\n",
      "Massless-neutrino sigma12: [1.00397832]\n",
      "\n",
      "% discrepancy between results for best redshift: 0.10365758201466051\n",
      "\n",
      "% discrepancy between results for best redshift: 0.10168972966687763\n"
     ]
    }
   ],
   "source": [
    "s12i_hi_h = get_sigma12_interpolator(\n",
    "    ombh2, omch2, ns, mnu, .57, As)\n",
    "print()\n",
    "validate_results(s12i_hi_h, sigma12, g_z)\n",
    "print()\n",
    "validate_results(s12i_hi_h, g_sigma12, g_z)"
   ]
  },
  {
   "cell_type": "code",
   "execution_count": 23,
   "id": "8ad98161-b20f-475d-90e1-03354933cca0",
   "metadata": {},
   "outputs": [
    {
     "data": {
      "text/plain": [
       "array(0.05160246)"
      ]
     },
     "execution_count": 23,
     "metadata": {},
     "output_type": "execute_result"
    }
   ],
   "source": [
    "z_best_andrea = s12i_hi_h(0.971921597558254)\n",
    "z_best_andrea"
   ]
  },
  {
   "cell_type": "code",
   "execution_count": 16,
   "id": "007e0616-0bf1-4d3b-9ee2-d1c352a897e7",
   "metadata": {},
   "outputs": [],
   "source": [
    "import copy as cp\n",
    "MEMNeC = cp.deepcopy(full_cosm)\n",
    "MEMNeC['omch2'] += MEMNeC['omnuh2']\n",
    "MEMNeC = ci.specify_neutrino_mass(MEMNeC, 0, 0)"
   ]
  },
  {
   "cell_type": "code",
   "execution_count": 17,
   "id": "2d8c625d-d4a4-4616-b15b-8425dc91c190",
   "metadata": {},
   "outputs": [],
   "source": [
    "kci_t, zci_t, pci, sci_t = ci.evaluate_cosmology(MEMNeC,\n",
    "    redshifts=[z_best_andrea], k_points=300)"
   ]
  },
  {
   "cell_type": "code",
   "execution_count": 24,
   "id": "4f6c0951-3760-4e86-9cf9-dec1a13bbbef",
   "metadata": {},
   "outputs": [
    {
     "name": "stdout",
     "output_type": "stream",
     "text": [
      "% error in sigma12 for redshift given by Andrea's code:\n"
     ]
    },
    {
     "data": {
      "text/plain": [
       "array([0.0034377])"
      ]
     },
     "execution_count": 24,
     "metadata": {},
     "output_type": "execute_result"
    }
   ],
   "source": [
    "print(\"% error in sigma12 for redshift given by Andrea's code:\")\n",
    "(sci_t - g_sigma12) / g_sigma12 * 100"
   ]
  },
  {
   "cell_type": "code",
   "execution_count": 25,
   "id": "e4360650-3c1a-4e2a-90d8-d393a9b75b32",
   "metadata": {},
   "outputs": [],
   "source": [
    "kci, zci, pci, sci = ci.evaluate_cosmology(\n",
    "    full_cosm, redshifts=[z_best_andrea],\n",
    "    k_points=300)"
   ]
  },
  {
   "cell_type": "code",
   "execution_count": 26,
   "id": "2e7a6b3e-501e-4f00-84d1-715e8f721e2a",
   "metadata": {},
   "outputs": [
    {
     "data": {
      "text/plain": [
       "[<matplotlib.lines.Line2D at 0x7f296416e670>]"
      ]
     },
     "execution_count": 26,
     "metadata": {},
     "output_type": "execute_result"
    },
    {
     "data": {
      "image/png": "[encoded data removed]",
      "text/plain": [
       "<Figure size 640x480 with 1 Axes>"
      ]
     },
     "metadata": {},
     "output_type": "display_data"
    }
   ],
   "source": [
    "plt.loglog(standard_k, g_pspec, label=\"ged\")\n",
    "plt.loglog(standard_k, pci, label=\"Andrea\")"
   ]
  },
  {
   "cell_type": "code",
   "execution_count": 32,
   "id": "7a306ba0-a65e-4389-9cd6-09e724ae8979",
   "metadata": {},
   "outputs": [
    {
     "data": {
      "image/png": "[encoded data removed]",
      "text/plain": [
       "<Figure size 640x480 with 1 Axes>"
      ]
     },
     "metadata": {},
     "output_type": "display_data"
    }
   ],
   "source": [
    "plt.plot(standard_k, (g_pspec - pci) / pci * 100, label=\"errors\")\n",
    "plt.title(\"% Error Between $P(k, z_L)$ and $P(k, z_A)$\")\n",
    "plt.xlabel(\"$k$ [1 / Mpc]\")\n",
    "plt.ylabel(\"% error in $P(k)$\")\n",
    "plt.savefig(\"../plots/emulator/debugging/z_discrepancy.png\")"
   ]
  },
  {
   "cell_type": "markdown",
   "id": "140dcdf4-b405-4cbc-8bdc-448c9bb737b2",
   "metadata": {},
   "source": [
    "What did this notebook teach us? That the differences that we see in the optimum z values are not significant. That is, it's not important that Andrea's code returns a best z value that is slightly different from the one my code returns."
   ]
  },
  {
   "cell_type": "code",
   "execution_count": null,
   "id": "9650e981-2e89-4e0b-8ddb-2a1c05407bc6",
   "metadata": {},
   "outputs": [],
   "source": []
  }
 ],
 "metadata": {
  "kernelspec": {
   "display_name": "Python 3 (ipykernel)",
   "language": "python",
   "name": "python3"
  },
  "language_info": {
   "codemirror_mode": {
    "name": "ipython",
    "version": 3
   },
   "file_extension": ".py",
   "mimetype": "text/x-python",
   "name": "python",
   "nbconvert_exporter": "python",
   "pygments_lexer": "ipython3",
   "version": "3.9.16"
  }
 },
 "nbformat": 4,
 "nbformat_minor": 5
}
