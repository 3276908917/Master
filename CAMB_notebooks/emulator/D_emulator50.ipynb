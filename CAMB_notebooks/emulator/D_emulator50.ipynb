{
 "cells": [
  {
   "cell_type": "code",
   "execution_count": 1,
   "id": "ce2e6269-d53c-4d7e-a0ab-819d34d9331b",
   "metadata": {},
   "outputs": [
    {
     "data": {
      "text/plain": [
       "<contextlib.ExitStack at 0x7f2c400560d0>"
      ]
     },
     "execution_count": 1,
     "metadata": {},
     "output_type": "execute_result"
    }
   ],
   "source": [
    "import numpy as np\n",
    "import pylab as pb\n",
    "import GPy\n",
    "\n",
    "pb.ion()"
   ]
  },
  {
   "cell_type": "code",
   "execution_count": 2,
   "id": "d306f6bc-1c77-4506-9b1f-c3d86680abd8",
   "metadata": {},
   "outputs": [],
   "source": [
    "# Edit this line to access a different backup file\n",
    "backup_index = 49"
   ]
  },
  {
   "cell_type": "markdown",
   "id": "aee721f8-35d5-44a7-9434-4d930bb434bc",
   "metadata": {},
   "source": [
    "X = np.load(\"hc_baby.npy\", allow_pickle=True)\n",
    "Y = np.log(np.load(\"samples_baby.npy\", allow_pickle=True))"
   ]
  },
  {
   "cell_type": "code",
   "execution_count": 3,
   "id": "3dc64ac5-b34d-4a71-84ab-1cdd70822bcb",
   "metadata": {},
   "outputs": [
    {
     "name": "stderr",
     "output_type": "stream",
     "text": [
      " /tmp/ipykernel_73452/699833149.py:2: RuntimeWarning:divide by zero encountered in log\n"
     ]
    }
   ],
   "source": [
    "X_raw = np.load(\"hc_demo3.npy\", allow_pickle=True)\n",
    "Y_raw = np.log(np.load(\"samples_backup_i\" + str(backup_index) + \".npy\",\n",
    "    allow_pickle=True))"
   ]
  },
  {
   "cell_type": "code",
   "execution_count": 4,
   "id": "7aa0abbd-989a-4305-8aca-8c885b59e907",
   "metadata": {},
   "outputs": [],
   "source": [
    "# We have to truncate the matrices a little because they use the shapes of the\n",
    "# final products, meaning a lot of unfilled cells\n",
    "X_truncated = X_raw[:backup_index]\n",
    "Y_truncated = Y_raw[:backup_index]\n",
    "# Possible off-by-one error here, but in this case that just means we're\n",
    "# excluding one sample."
   ]
  },
  {
   "cell_type": "code",
   "execution_count": 5,
   "id": "1256984c-9f34-4678-84be-1fe813222341",
   "metadata": {},
   "outputs": [],
   "source": [
    "scale_factor = np.load(\"standard_k.npy\", allow_pickle=True)"
   ]
  },
  {
   "cell_type": "code",
   "execution_count": 6,
   "id": "b307fd57-94b3-4d51-8ad9-69b2afed0e56",
   "metadata": {},
   "outputs": [
    {
     "data": {
      "text/plain": [
       "[<matplotlib.lines.Line2D at 0x7f2c080e42b0>]"
      ]
     },
     "execution_count": 6,
     "metadata": {},
     "output_type": "execute_result"
    },
    {
     "data": {
      "image/png": "[encoded data removed]",
      "text/plain": [
       "<Figure size 640x480 with 1 Axes>"
      ]
     },
     "metadata": {},
     "output_type": "display_data"
    }
   ],
   "source": [
    "# This plot only serves to make sure that the first row actually describes a\n",
    "# function.\n",
    "pb.plot(scale_factor, Y_truncated[0])"
   ]
  },
  {
   "cell_type": "code",
   "execution_count": 7,
   "id": "9f436af1-ffee-4afe-9700-18b397b830bc",
   "metadata": {},
   "outputs": [],
   "source": [
    "for i in range(len(Y_truncated)):\n",
    "    pspec = Y_truncated[i]\n",
    "    if float('-inf') in pspec:\n",
    "        print(\"-inf\")\n",
    "    if float('inf') in pspec:\n",
    "        print(\"inf\")\n",
    "    if None in pspec:\n",
    "        print(\"None\")\n",
    "    if True in np.isnan(pspec):\n",
    "        print(\"NaN in row\", i)\n",
    "        print(X_truncated[i])\n",
    "    if 0 in pspec:\n",
    "        print(\"zero\")"
   ]
  },
  {
   "cell_type": "code",
   "execution_count": 8,
   "id": "10a6df5e-3563-4300-8193-d7b407bce0f8",
   "metadata": {},
   "outputs": [
    {
     "data": {
      "text/plain": [
       "'\\n# Now remove the offending rows\\nfor i in reversed(bad_row_indices):\\n    # iterate backwards or else concurrent modification\\n    # makes the indices meaningless\\n    X.pop(i)\\n    Y.pop(i)\\n'"
      ]
     },
     "execution_count": 8,
     "metadata": {},
     "output_type": "execute_result"
    }
   ],
   "source": [
    "def is_bad(row):\n",
    "    if float('-inf') in row or float('inf') in row \\\n",
    "        or None in row or True in np.isnan(pspec) \\\n",
    "        or 0 in row:\n",
    "        return True\n",
    "    return False\n",
    "\n",
    "bad_row_indices = []\n",
    "for i in range(len(Y_truncated)):\n",
    "    pspec = Y_truncated[i]\n",
    "    if is_bad(pspec):\n",
    "        bad_row_indices.append(i)\n",
    "\n",
    "X = np.delete(X_truncated, bad_row_indices, 0)\n",
    "Y = np.delete(Y_truncated, bad_row_indices, 0)\n",
    "\n",
    "'''\n",
    "# Now remove the offending rows\n",
    "for i in reversed(bad_row_indices):\n",
    "    # iterate backwards or else concurrent modification\n",
    "    # makes the indices meaningless\n",
    "    X.pop(i)\n",
    "    Y.pop(i)\n",
    "'''"
   ]
  },
  {
   "cell_type": "code",
   "execution_count": 9,
   "id": "170e8cdd-08da-4f7c-85bf-bdd116b88113",
   "metadata": {},
   "outputs": [
    {
     "name": "stdout",
     "output_type": "stream",
     "text": [
      "(49, 6) (49, 300)\n"
     ]
    }
   ],
   "source": [
    "print(X.shape, Y.shape)"
   ]
  },
  {
   "cell_type": "code",
   "execution_count": 10,
   "id": "91ce7cc6-d0ea-4cf4-9711-ef5ce5ede4e9",
   "metadata": {},
   "outputs": [],
   "source": [
    "kernel = GPy.kern.RBF(input_dim=6, variance=1., lengthscale=1.)\n",
    "m = GPy.models.GPRegression(X,Y,kernel)"
   ]
  },
  {
   "cell_type": "code",
   "execution_count": 11,
   "id": "6d5df2d9-b8d6-4056-9826-afe0f3950d41",
   "metadata": {},
   "outputs": [
    {
     "data": {
      "text/plain": [
       "<paramz.optimization.optimization.opt_lbfgsb at 0x7f2c078c8d30>"
      ]
     },
     "execution_count": 11,
     "metadata": {},
     "output_type": "execute_result"
    }
   ],
   "source": [
    "m.constrain_positive('') # '' is a regex matching all parameter names\n",
    "m.optimize()"
   ]
  },
  {
   "cell_type": "code",
   "execution_count": 12,
   "id": "3b5711f3-c3c3-4a6a-851d-fb25458d28af",
   "metadata": {},
   "outputs": [
    {
     "data": {
      "text/plain": [
       "array([[2.24450000e-02, 1.20567000e-01, 9.60000000e-01, 8.24667740e-01,\n",
       "        0.00000000e+00, 2.12723788e-09]])"
      ]
     },
     "execution_count": 12,
     "metadata": {},
     "output_type": "execute_result"
    }
   ],
   "source": [
    "# Remember that the structure of a hc entry is\n",
    "# omb, omc, ns, s12, omnu, As\n",
    "x = np.array([np.array([\n",
    "    0.022445, 0.120567, 0.96, 0.82466774, 0, 2.12723788013000E-09\n",
    "])])\n",
    "x"
   ]
  },
  {
   "cell_type": "code",
   "execution_count": 13,
   "id": "c55040a9-8ed6-42c5-83f0-bed887388436",
   "metadata": {},
   "outputs": [],
   "source": [
    "guess, uncertainties = m.predict(x)"
   ]
  },
  {
   "cell_type": "code",
   "execution_count": 14,
   "id": "15f88eb6-d56f-4720-b5d8-0089b328dc4a",
   "metadata": {},
   "outputs": [
    {
     "data": {
      "text/plain": [
       "Text(0.5, 0, 'scale factor k')"
      ]
     },
     "execution_count": 14,
     "metadata": {},
     "output_type": "execute_result"
    },
    {
     "data": {
      "image/png": "[encoded data removed]",
      "text/plain": [
       "<Figure size 640x480 with 1 Axes>"
      ]
     },
     "metadata": {},
     "output_type": "display_data"
    }
   ],
   "source": [
    "#import matplotlib.pyplot as plt\n",
    "pb.plot(scale_factor, guess[0])\n",
    "pb.title(\"Emulator C, 1599 Samples, Aletheia model 0\")\n",
    "pb.xscale('log')\n",
    "pb.ylabel('log P(k) at redshift zero')\n",
    "pb.xlabel('scale factor k')"
   ]
  },
  {
   "cell_type": "code",
   "execution_count": 15,
   "id": "1f4aeb40-d15a-49ed-8260-6e540d96c5fd",
   "metadata": {},
   "outputs": [
    {
     "ename": "KeyError",
     "evalue": "'mnu'",
     "output_type": "error",
     "traceback": [
      "\u001b[0;31m---------------------------------------------------------------------------\u001b[0m",
      "\u001b[0;31mKeyError\u001b[0m                                  Traceback (most recent call last)",
      "File \u001b[0;32m~/anaconda3/envs/camb/lib/python3.9/site-packages/pandas/core/indexes/base.py:3802\u001b[0m, in \u001b[0;36mIndex.get_loc\u001b[0;34m(self, key, method, tolerance)\u001b[0m\n\u001b[1;32m   3801\u001b[0m \u001b[38;5;28;01mtry\u001b[39;00m:\n\u001b[0;32m-> 3802\u001b[0m     \u001b[38;5;28;01mreturn\u001b[39;00m \u001b[38;5;28;43mself\u001b[39;49m\u001b[38;5;241;43m.\u001b[39;49m\u001b[43m_engine\u001b[49m\u001b[38;5;241;43m.\u001b[39;49m\u001b[43mget_loc\u001b[49m\u001b[43m(\u001b[49m\u001b[43mcasted_key\u001b[49m\u001b[43m)\u001b[49m\n\u001b[1;32m   3803\u001b[0m \u001b[38;5;28;01mexcept\u001b[39;00m \u001b[38;5;167;01mKeyError\u001b[39;00m \u001b[38;5;28;01mas\u001b[39;00m err:\n",
      "File \u001b[0;32m~/anaconda3/envs/camb/lib/python3.9/site-packages/pandas/_libs/index.pyx:138\u001b[0m, in \u001b[0;36mpandas._libs.index.IndexEngine.get_loc\u001b[0;34m()\u001b[0m\n",
      "File \u001b[0;32m~/anaconda3/envs/camb/lib/python3.9/site-packages/pandas/_libs/index.pyx:165\u001b[0m, in \u001b[0;36mpandas._libs.index.IndexEngine.get_loc\u001b[0;34m()\u001b[0m\n",
      "File \u001b[0;32mpandas/_libs/hashtable_class_helper.pxi:5745\u001b[0m, in \u001b[0;36mpandas._libs.hashtable.PyObjectHashTable.get_item\u001b[0;34m()\u001b[0m\n",
      "File \u001b[0;32mpandas/_libs/hashtable_class_helper.pxi:5753\u001b[0m, in \u001b[0;36mpandas._libs.hashtable.PyObjectHashTable.get_item\u001b[0;34m()\u001b[0m\n",
      "\u001b[0;31mKeyError\u001b[0m: 'mnu'",
      "\nThe above exception was the direct cause of the following exception:\n",
      "\u001b[0;31mKeyError\u001b[0m                                  Traceback (most recent call last)",
      "Cell \u001b[0;32mIn[15], line 14\u001b[0m\n\u001b[1;32m     10\u001b[0m h \u001b[38;5;241m=\u001b[39m spectra\u001b[38;5;241m.\u001b[39mcosm\u001b[38;5;241m.\u001b[39miloc[\u001b[38;5;241m0\u001b[39m][\u001b[38;5;124m'\u001b[39m\u001b[38;5;124mh\u001b[39m\u001b[38;5;124m'\u001b[39m]\n\u001b[1;32m     12\u001b[0m \u001b[38;5;66;03m# Compare like to like\u001b[39;00m\n\u001b[1;32m     13\u001b[0m kh_m0truth, z_m0truth, ph_m0truth, s_m0truth \u001b[38;5;241m=\u001b[39m \\\n\u001b[0;32m---> 14\u001b[0m     \u001b[43mspectra\u001b[49m\u001b[38;5;241;43m.\u001b[39;49m\u001b[43mkzps\u001b[49m\u001b[43m(\u001b[49m\u001b[43mspectra\u001b[49m\u001b[38;5;241;43m.\u001b[39;49m\u001b[43mcosm\u001b[49m\u001b[38;5;241;43m.\u001b[39;49m\u001b[43miloc\u001b[49m\u001b[43m[\u001b[49m\u001b[38;5;241;43m0\u001b[39;49m\u001b[43m]\u001b[49m\u001b[43m,\u001b[49m\u001b[43m \u001b[49m\u001b[38;5;241;43m0\u001b[39;49m\u001b[43m,\u001b[49m\u001b[43m \u001b[49m\u001b[43mk_points\u001b[49m\u001b[38;5;241;43m=\u001b[39;49m\u001b[38;5;241;43m300\u001b[39;49m\u001b[43m)\u001b[49m\n\u001b[1;32m     15\u001b[0m k_m0truth \u001b[38;5;241m=\u001b[39m kh_m0truth \u001b[38;5;241m*\u001b[39m h\n\u001b[1;32m     16\u001b[0m p_m0truth \u001b[38;5;241m=\u001b[39m ph_m0truth \u001b[38;5;241m/\u001b[39m h \u001b[38;5;241m*\u001b[39m\u001b[38;5;241m*\u001b[39m \u001b[38;5;241m3\u001b[39m\n",
      "File \u001b[0;32m~/Documents/Master/CAMB_notebooks/shared/spectra.py:498\u001b[0m, in \u001b[0;36mkzps\u001b[0;34m(cosmology, zs, fancy_neutrinos, k_points, hubble_units)\u001b[0m\n\u001b[1;32m    472\u001b[0m \u001b[38;5;124;03m\"\"\"\u001b[39;00m\n\u001b[1;32m    473\u001b[0m \u001b[38;5;124;03mReturns the scale axis, redshifts, power spectrum, and sigma12\u001b[39;00m\n\u001b[1;32m    474\u001b[0m \u001b[38;5;124;03m    of a massless-neutrino Lambda-CDM model\u001b[39;00m\n\u001b[0;32m   (...)\u001b[0m\n\u001b[1;32m    487\u001b[0m \u001b[38;5;124;03m    results seem to be inconsistent with observation.\u001b[39;00m\n\u001b[1;32m    488\u001b[0m \u001b[38;5;124;03m\"\"\"\u001b[39;00m\n\u001b[1;32m    489\u001b[0m \u001b[38;5;124;03m''' Retire this code block until we figure out z dominance\u001b[39;00m\n\u001b[1;32m    490\u001b[0m \u001b[38;5;124;03mif zs is None:\u001b[39;00m\n\u001b[1;32m    491\u001b[0m \u001b[38;5;124;03m    assert \"sigma12\" in cosmology.keys(), \\\u001b[39;00m\n\u001b[0;32m   (...)\u001b[0m\n\u001b[1;32m    495\u001b[0m \u001b[38;5;124;03m        \"Redshift and sigma12 cannot be supplied simultaneously.\"\u001b[39;00m\n\u001b[1;32m    496\u001b[0m \u001b[38;5;124;03m'''\u001b[39;00m\n\u001b[0;32m--> 498\u001b[0m pars \u001b[38;5;241m=\u001b[39m \u001b[43minput_cosmology\u001b[49m\u001b[43m(\u001b[49m\u001b[43mcosmology\u001b[49m\u001b[43m)\u001b[49m\n\u001b[1;32m    500\u001b[0m \u001b[38;5;28;01mif\u001b[39;00m fancy_neutrinos:\n\u001b[1;32m    501\u001b[0m     make_neutrinos_fancy(pars, cosmology[\u001b[38;5;124m\"\u001b[39m\u001b[38;5;124mnnu_massive\u001b[39m\u001b[38;5;124m\"\u001b[39m])\n",
      "File \u001b[0;32m~/Documents/Master/CAMB_notebooks/shared/spectra.py:415\u001b[0m, in \u001b[0;36minput_cosmology\u001b[0;34m(cosmology, hubble_units)\u001b[0m\n\u001b[1;32m    406\u001b[0m h \u001b[38;5;241m=\u001b[39m cosmology[\u001b[38;5;124m\"\u001b[39m\u001b[38;5;124mh\u001b[39m\u001b[38;5;124m\"\u001b[39m]\n\u001b[1;32m    408\u001b[0m \u001b[38;5;66;03m# tau is a desperation argument\u001b[39;00m\n\u001b[1;32m    409\u001b[0m \u001b[38;5;66;03m### Why are we using the degenerate hierarchy? Isn't that wrong?\u001b[39;00m\n\u001b[1;32m    410\u001b[0m pars\u001b[38;5;241m.\u001b[39mset_cosmology(\n\u001b[1;32m    411\u001b[0m     H0\u001b[38;5;241m=\u001b[39mh \u001b[38;5;241m*\u001b[39m \u001b[38;5;241m100\u001b[39m,\n\u001b[1;32m    412\u001b[0m     ombh2\u001b[38;5;241m=\u001b[39mcosmology[\u001b[38;5;124m\"\u001b[39m\u001b[38;5;124mombh2\u001b[39m\u001b[38;5;124m\"\u001b[39m],\n\u001b[1;32m    413\u001b[0m     omch2\u001b[38;5;241m=\u001b[39mcosmology[\u001b[38;5;124m\"\u001b[39m\u001b[38;5;124momch2\u001b[39m\u001b[38;5;124m\"\u001b[39m],\n\u001b[1;32m    414\u001b[0m     omk\u001b[38;5;241m=\u001b[39mcosmology[\u001b[38;5;124m\"\u001b[39m\u001b[38;5;124mOmK\u001b[39m\u001b[38;5;124m\"\u001b[39m],\n\u001b[0;32m--> 415\u001b[0m     mnu\u001b[38;5;241m=\u001b[39m\u001b[43mcosmology\u001b[49m\u001b[43m[\u001b[49m\u001b[38;5;124;43m\"\u001b[39;49m\u001b[38;5;124;43mmnu\u001b[39;49m\u001b[38;5;124;43m\"\u001b[39;49m\u001b[43m]\u001b[49m,\n\u001b[1;32m    416\u001b[0m     num_massive_neutrinos\u001b[38;5;241m=\u001b[39mcosmology[\u001b[38;5;124m\"\u001b[39m\u001b[38;5;124mnnu_massive\u001b[39m\u001b[38;5;124m\"\u001b[39m],\n\u001b[1;32m    417\u001b[0m     tau\u001b[38;5;241m=\u001b[39m\u001b[38;5;241m0.0952\u001b[39m, \u001b[38;5;66;03m# for justification, ask Matteo\u001b[39;00m\n\u001b[1;32m    418\u001b[0m     neutrino_hierarchy\u001b[38;5;241m=\u001b[39m\u001b[38;5;124m\"\u001b[39m\u001b[38;5;124mdegenerate\u001b[39m\u001b[38;5;124m\"\u001b[39m \u001b[38;5;66;03m# 1 eigenstate approximation; our\u001b[39;00m\n\u001b[1;32m    419\u001b[0m     \u001b[38;5;66;03m# neutrino setup (see below) is not valid for inverted/normal\u001b[39;00m\n\u001b[1;32m    420\u001b[0m     \u001b[38;5;66;03m# hierarchies.\u001b[39;00m\n\u001b[1;32m    421\u001b[0m )\n\u001b[1;32m    423\u001b[0m pars\u001b[38;5;241m.\u001b[39mInitPower\u001b[38;5;241m.\u001b[39mset_params(As\u001b[38;5;241m=\u001b[39mcosmology[\u001b[38;5;124m\"\u001b[39m\u001b[38;5;124mA_s\u001b[39m\u001b[38;5;124m\"\u001b[39m], ns\u001b[38;5;241m=\u001b[39mcosmology[\u001b[38;5;124m\"\u001b[39m\u001b[38;5;124mn_s\u001b[39m\u001b[38;5;124m\"\u001b[39m],\n\u001b[1;32m    424\u001b[0m     r\u001b[38;5;241m=\u001b[39m\u001b[38;5;241m0\u001b[39m, nt\u001b[38;5;241m=\u001b[39m\u001b[38;5;241m0.0\u001b[39m, ntrun\u001b[38;5;241m=\u001b[39m\u001b[38;5;241m0.0\u001b[39m) \u001b[38;5;66;03m# the last three are desperation arguments\u001b[39;00m\n\u001b[1;32m    426\u001b[0m input_dark_energy(pars, cosmology[\u001b[38;5;124m\"\u001b[39m\u001b[38;5;124mw0\u001b[39m\u001b[38;5;124m\"\u001b[39m], \u001b[38;5;28mfloat\u001b[39m(cosmology[\u001b[38;5;124m\"\u001b[39m\u001b[38;5;124mwa\u001b[39m\u001b[38;5;124m\"\u001b[39m]))\n",
      "File \u001b[0;32m~/anaconda3/envs/camb/lib/python3.9/site-packages/pandas/core/series.py:981\u001b[0m, in \u001b[0;36mSeries.__getitem__\u001b[0;34m(self, key)\u001b[0m\n\u001b[1;32m    978\u001b[0m     \u001b[38;5;28;01mreturn\u001b[39;00m \u001b[38;5;28mself\u001b[39m\u001b[38;5;241m.\u001b[39m_values[key]\n\u001b[1;32m    980\u001b[0m \u001b[38;5;28;01melif\u001b[39;00m key_is_scalar:\n\u001b[0;32m--> 981\u001b[0m     \u001b[38;5;28;01mreturn\u001b[39;00m \u001b[38;5;28;43mself\u001b[39;49m\u001b[38;5;241;43m.\u001b[39;49m\u001b[43m_get_value\u001b[49m\u001b[43m(\u001b[49m\u001b[43mkey\u001b[49m\u001b[43m)\u001b[49m\n\u001b[1;32m    983\u001b[0m \u001b[38;5;28;01mif\u001b[39;00m is_hashable(key):\n\u001b[1;32m    984\u001b[0m     \u001b[38;5;66;03m# Otherwise index.get_value will raise InvalidIndexError\u001b[39;00m\n\u001b[1;32m    985\u001b[0m     \u001b[38;5;28;01mtry\u001b[39;00m:\n\u001b[1;32m    986\u001b[0m         \u001b[38;5;66;03m# For labels that don't resolve as scalars like tuples and frozensets\u001b[39;00m\n",
      "File \u001b[0;32m~/anaconda3/envs/camb/lib/python3.9/site-packages/pandas/core/series.py:1089\u001b[0m, in \u001b[0;36mSeries._get_value\u001b[0;34m(self, label, takeable)\u001b[0m\n\u001b[1;32m   1086\u001b[0m     \u001b[38;5;28;01mreturn\u001b[39;00m \u001b[38;5;28mself\u001b[39m\u001b[38;5;241m.\u001b[39m_values[label]\n\u001b[1;32m   1088\u001b[0m \u001b[38;5;66;03m# Similar to Index.get_value, but we do not fall back to positional\u001b[39;00m\n\u001b[0;32m-> 1089\u001b[0m loc \u001b[38;5;241m=\u001b[39m \u001b[38;5;28;43mself\u001b[39;49m\u001b[38;5;241;43m.\u001b[39;49m\u001b[43mindex\u001b[49m\u001b[38;5;241;43m.\u001b[39;49m\u001b[43mget_loc\u001b[49m\u001b[43m(\u001b[49m\u001b[43mlabel\u001b[49m\u001b[43m)\u001b[49m\n\u001b[1;32m   1090\u001b[0m \u001b[38;5;28;01mreturn\u001b[39;00m \u001b[38;5;28mself\u001b[39m\u001b[38;5;241m.\u001b[39mindex\u001b[38;5;241m.\u001b[39m_get_values_for_loc(\u001b[38;5;28mself\u001b[39m, loc, label)\n",
      "File \u001b[0;32m~/anaconda3/envs/camb/lib/python3.9/site-packages/pandas/core/indexes/base.py:3804\u001b[0m, in \u001b[0;36mIndex.get_loc\u001b[0;34m(self, key, method, tolerance)\u001b[0m\n\u001b[1;32m   3802\u001b[0m     \u001b[38;5;28;01mreturn\u001b[39;00m \u001b[38;5;28mself\u001b[39m\u001b[38;5;241m.\u001b[39m_engine\u001b[38;5;241m.\u001b[39mget_loc(casted_key)\n\u001b[1;32m   3803\u001b[0m \u001b[38;5;28;01mexcept\u001b[39;00m \u001b[38;5;167;01mKeyError\u001b[39;00m \u001b[38;5;28;01mas\u001b[39;00m err:\n\u001b[0;32m-> 3804\u001b[0m     \u001b[38;5;28;01mraise\u001b[39;00m \u001b[38;5;167;01mKeyError\u001b[39;00m(key) \u001b[38;5;28;01mfrom\u001b[39;00m \u001b[38;5;21;01merr\u001b[39;00m\n\u001b[1;32m   3805\u001b[0m \u001b[38;5;28;01mexcept\u001b[39;00m \u001b[38;5;167;01mTypeError\u001b[39;00m:\n\u001b[1;32m   3806\u001b[0m     \u001b[38;5;66;03m# If we have a listlike key, _check_indexing_error will raise\u001b[39;00m\n\u001b[1;32m   3807\u001b[0m     \u001b[38;5;66;03m#  InvalidIndexError. Otherwise we fall through and re-raise\u001b[39;00m\n\u001b[1;32m   3808\u001b[0m     \u001b[38;5;66;03m#  the TypeError.\u001b[39;00m\n\u001b[1;32m   3809\u001b[0m     \u001b[38;5;28mself\u001b[39m\u001b[38;5;241m.\u001b[39m_check_indexing_error(key)\n",
      "\u001b[0;31mKeyError\u001b[0m: 'mnu'"
     ]
    }
   ],
   "source": [
    "# Now let's check our work with battery\n",
    "import importlib.util\n",
    "import sys\n",
    "spec = importlib.util.spec_from_file_location(\n",
    "    \"spectra\", \"../shared/spectra.py\")\n",
    "spectra = importlib.util.module_from_spec(spec)\n",
    "sys.modules[\"spectra\"] = spectra\n",
    "spec.loader.exec_module(spectra)\n",
    "\n",
    "h = spectra.cosm.iloc[0]['h']\n",
    "\n",
    "# Compare like to like\n",
    "kh_m0truth, z_m0truth, ph_m0truth, s_m0truth = \\\n",
    "    spectra.kzps(spectra.cosm.iloc[0], 0, k_points=300)\n",
    "k_m0truth = kh_m0truth * h\n",
    "p_m0truth = ph_m0truth / h ** 3\n",
    "print(s_m0truth)"
   ]
  },
  {
   "cell_type": "markdown",
   "id": "7d81bc21-5748-48e1-9d90-9abc253850a7",
   "metadata": {},
   "source": [
    "Next steps:\n",
    "* Import \"ground truth\": what the plot was really supposed to look like for model 0\n",
    "* Play with omega_nu, n_s, omega_nu + omega_cdm to see if you can get the same behavior as in the animations"
   ]
  },
  {
   "cell_type": "code",
   "execution_count": null,
   "id": "14f04b49-f7eb-4a94-a9ac-d7774d87f1a4",
   "metadata": {},
   "outputs": [],
   "source": [
    "#import matplotlib.pyplot as plt\n",
    "pb.loglog(k_m0truth, p_m0truth)\n",
    "pb.title(\"CAMB, Aletheia model 0\")\n",
    "pb.ylabel('P(k) at redshift zero')\n",
    "pb.xlabel('scale factor k')"
   ]
  },
  {
   "cell_type": "code",
   "execution_count": null,
   "id": "e115e94a-56cc-45e3-9de7-5e0ef48e78e0",
   "metadata": {},
   "outputs": [],
   "source": [
    "pb.plot(scale_factor, np.exp(guess[0]) / h**3, label=\"C\" + str(backup_index) + \"emulator\")\n",
    "pb.loglog(k_m0truth, p_m0truth, label=\"CAMB\")\n",
    "pb.title(\"Aletheia model 0, redshift zero\")\n",
    "pb.ylabel('$P(k)$ [Mpc$^3$]')\n",
    "pb.xlabel('$k$ [1 / Mpc]')\n",
    "pb.legend()"
   ]
  },
  {
   "cell_type": "code",
   "execution_count": null,
   "id": "f6c4af86-3fcf-41fe-8e3d-6bcf723e95e4",
   "metadata": {},
   "outputs": [],
   "source": [
    "# Remember that the structure of a hc entry is\n",
    "# omb, omc, ns, s12, omnu, As\n",
    "x_hi_ns = np.array([np.array([\n",
    "    0.022445, 0.120567, 1.1, 0.82466774, 0, 2.12723788013000E-09\n",
    "])])\n",
    "guess_hi_ns, uncertainties_hi_ns = m.predict(x_hi_ns)\n",
    "x_lo_ns = np.array([np.array([\n",
    "    0.022445, 0.120567, 0.84, 0.82466774, 0, 2.12723788013000E-09\n",
    "])])\n",
    "guess_lo_ns, uncertainties_lo_ns = m.predict(x_lo_ns)\n"
   ]
  },
  {
   "cell_type": "code",
   "execution_count": null,
   "id": "348815cd-0378-44aa-bb5e-0d5b741117e0",
   "metadata": {},
   "outputs": [],
   "source": [
    "pb.plot(scale_factor, guess[0], label=\"n_s 0.96\")\n",
    "pb.plot(scale_factor, guess_hi_ns[0], label=\"n_s 1.1\")\n",
    "pb.plot(scale_factor, guess_lo_ns[0], label=\"n_s 0.84\")\n",
    "\n",
    "pb.xscale('log')\n",
    "\n",
    "pb.title(\"Aletheia model 0, redshift zero\")\n",
    "pb.ylabel('log $P(k)$')\n",
    "pb.xlabel('$k$')\n",
    "pb.legend()"
   ]
  },
  {
   "cell_type": "code",
   "execution_count": null,
   "id": "52380b7c-6991-4fe4-bf61-643153822bb1",
   "metadata": {},
   "outputs": [],
   "source": [
    "# Remember that the structure of a hc entry is\n",
    "# omb, omc, ns, s12, omnu, As\n",
    "omnu_hi = 0.01\n",
    "x_hi_omnu = np.array([np.array([\n",
    "    0.022445, 0.120567 - omnu_hi, 0.96, 0.82466774, omnu_hi,\\\n",
    "    2.12723788013000E-09\n",
    "])])\n",
    "guess_hi_omnu, uncertainties_hi_omnu = m.predict(x_hi_omnu)\n",
    "\n",
    "omnu_mid = 0.002148659574468\n",
    "x_mid_omnu = np.array([np.array([\n",
    "    0.022445, 0.120567 - omnu_mid, 0.96, 0.82466774, omnu_mid, \\\n",
    "    2.12723788013000E-09\n",
    "])])\n",
    "guess_mid_omnu, uncertainties_mid_omnu = m.predict(x_mid_omnu)\n"
   ]
  },
  {
   "cell_type": "code",
   "execution_count": null,
   "id": "e69ac2bb-f19f-494d-8429-f9c6ff599146",
   "metadata": {},
   "outputs": [],
   "source": [
    "pb.plot(scale_factor, guess[0], label=\"omnu 0\")\n",
    "pb.plot(scale_factor, guess_hi_omnu[0], label=\"omnu 0.01\")\n",
    "pb.plot(scale_factor, guess_mid_omnu[0], label=\"omnu 0.002\")\n",
    "\n",
    "pb.xscale('log')\n",
    "\n",
    "pb.title(\"Aletheia model 0, redshift zero\")\n",
    "pb.ylabel('log $P(k)$')\n",
    "pb.xlabel('$k$')\n",
    "pb.legend()"
   ]
  },
  {
   "cell_type": "code",
   "execution_count": null,
   "id": "0f0553d6-464b-4784-8449-e7177d928661",
   "metadata": {},
   "outputs": [],
   "source": [
    "# Remember that the structure of a hc entry is\n",
    "# omb, omc, ns, s12, omnu, As\n",
    "hi_factor = 1.15\n",
    "x_hi_omm = np.array([np.array([\n",
    "    0.022445 * hi_factor, 0.120567 * hi_factor, 0.96, 0.82466774, 0,\\\n",
    "    2.12723788013000E-09\n",
    "])])\n",
    "guess_hi_omm, uncertainties_hi_omm = m.predict(x_hi_omm)\n",
    "\n",
    "lo_factor = 0.85\n",
    "x_lo_omm = np.array([np.array([\n",
    "    0.022445 * lo_factor, 0.120567 * lo_factor, 0.96, 0.82466774, 0, \\\n",
    "    2.12723788013000E-09\n",
    "])])\n",
    "guess_lo_omm, uncertainties_lo_omm = m.predict(x_lo_omm)\n"
   ]
  },
  {
   "cell_type": "code",
   "execution_count": null,
   "id": "d9a02cdd-c1f8-4671-823a-11c82b43e546",
   "metadata": {},
   "outputs": [],
   "source": [
    "pb.plot(scale_factor, guess[0], label=\"omm Planck\")\n",
    "pb.plot(scale_factor, guess_hi_omm[0], label=\"omm Planck * 1.15\")\n",
    "pb.plot(scale_factor, guess_lo_omm[0], label=\"omm Planck * 0.85\")\n",
    "\n",
    "pb.xscale('log')\n",
    "\n",
    "pb.title(\"Aletheia model 0, redshift zero\")\n",
    "pb.ylabel('log $P(k)$')\n",
    "pb.xlabel('$k$')\n",
    "pb.legend()"
   ]
  },
  {
   "cell_type": "code",
   "execution_count": null,
   "id": "6ac1462d-5f2b-44db-9c75-3b948ee66eba",
   "metadata": {},
   "outputs": [],
   "source": [
    "# Remember that the structure of a hc entry is\n",
    "# omb, omc, ns, s12, omnu, As\n",
    "x_hi_As = np.array([np.array([\n",
    "    0.022445, 0.120567, 0.96, 0.82466774, 0, np.exp(3.91) / 10 ** 10\n",
    "])])\n",
    "guess_hi_As, uncertainties_hi_As = m.predict(x_hi_As)\n",
    "x_lo_As = np.array([np.array([\n",
    "    0.022445, 0.120567, 0.96, 0.82466774, 0, np.exp(2.35) / 10 ** 10 \n",
    "])])\n",
    "guess_lo_As, uncertainties_lo_As = m.predict(x_lo_As)"
   ]
  },
  {
   "cell_type": "code",
   "execution_count": null,
   "id": "6e039bbb-78b3-4deb-be87-2abe0b468ba0",
   "metadata": {},
   "outputs": [],
   "source": [
    "pb.plot(scale_factor, guess[0], label=\"As Planck\")\n",
    "pb.plot(scale_factor, guess_hi_As[0], label=\"As high\")\n",
    "pb.plot(scale_factor, guess_lo_As[0], label=\"As low\")\n",
    "\n",
    "pb.xscale('log')\n",
    "\n",
    "pb.title(\"Aletheia model 0, redshift zero\")\n",
    "pb.ylabel('log $P(k)$')\n",
    "pb.xlabel('$k$')\n",
    "pb.legend()"
   ]
  },
  {
   "cell_type": "markdown",
   "id": "5494af8b-78f7-49c5-8626-8b8d7e9a87c9",
   "metadata": {},
   "source": [
    "I guess this shows that sigma12 countermands As, huh?"
   ]
  }
 ],
 "metadata": {
  "kernelspec": {
   "display_name": "Python 3 (ipykernel)",
   "language": "python",
   "name": "python3"
  },
  "language_info": {
   "codemirror_mode": {
    "name": "ipython",
    "version": 3
   },
   "file_extension": ".py",
   "mimetype": "text/x-python",
   "name": "python",
   "nbconvert_exporter": "python",
   "pygments_lexer": "ipython3",
   "version": "3.9.16"
  }
 },
 "nbformat": 4,
 "nbformat_minor": 5
}
