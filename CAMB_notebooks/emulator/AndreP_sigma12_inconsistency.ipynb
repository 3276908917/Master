{
 "cells": [
  {
   "cell_type": "code",
   "execution_count": 1,
   "id": "ecfa7341-a590-4eaa-93b9-97bade33930c",
   "metadata": {},
   "outputs": [],
   "source": [
    "import numpy as np\n",
    "import matplotlib.pyplot as plt\n",
    "import camb\n",
    "from camb import model, initialpower\n",
    "import andreap\n",
    "from scipy.interpolate import interp1d\n",
    "\n",
    "import importlib.util\n",
    "import sys"
   ]
  },
  {
   "cell_type": "code",
   "execution_count": 2,
   "id": "51ecb939-ba68-441e-a2cf-5656c29ae9b6",
   "metadata": {},
   "outputs": [],
   "source": [
    "test_index = 0"
   ]
  },
  {
   "cell_type": "code",
   "execution_count": 3,
   "id": "5cb3df8b-a52a-412a-91cf-30ad785eee1e",
   "metadata": {},
   "outputs": [],
   "source": [
    "''' This messiness is necessary to import scripts which are not installed and\n",
    "which are not located in the cwd.'''\n",
    "\n",
    "spec = importlib.util.spec_from_file_location(\n",
    "    \"camb_interface\", \"../../cassL/camb_interface.py\")\n",
    "ci = importlib.util.module_from_spec(spec)\n",
    "sys.modules[\"camb_interface\"] = ci\n",
    "spec.loader.exec_module(ci)\n",
    "\n",
    "spec = importlib.util.spec_from_file_location(\n",
    "    \"generate_training_data\", \"../../cassL/generate_training_data.py\")\n",
    "gtd = importlib.util.module_from_spec(spec)\n",
    "sys.modules[\"generate_training_data\"] = gtd\n",
    "spec.loader.exec_module(gtd)"
   ]
  },
  {
   "cell_type": "code",
   "execution_count": 4,
   "id": "5073d69c-a93b-47c9-a3b3-a33b8f313a66",
   "metadata": {},
   "outputs": [],
   "source": [
    "hc = np.load(\"hc_G3_redo.npy\",\n",
    "    allow_pickle=True)\n",
    "samples = np.load(\"samples_G3_redo.npy\",\n",
    "    allow_pickle=True)\n",
    "\n",
    "standard_k = np.load(\"standard_k.npy\", allow_pickle=True)"
   ]
  },
  {
   "cell_type": "code",
   "execution_count": 5,
   "id": "3fc0a87c-a46a-4bec-a1a2-bc05b753e5fb",
   "metadata": {},
   "outputs": [],
   "source": [
    "test_cosmology = hc[test_index]\n",
    "test_pspec = samples[test_index]"
   ]
  },
  {
   "cell_type": "code",
   "execution_count": 6,
   "id": "5d8c99f7-ed26-4386-b5b7-4e2aa2429f62",
   "metadata": {},
   "outputs": [],
   "source": [
    "ombh2 = test_cosmology[0]\n",
    "omch2 = test_cosmology[1]\n",
    "ns = test_cosmology[2]\n",
    "sigma12 = test_cosmology[3]\n",
    "As = test_cosmology[4]\n",
    "omnuh2 = test_cosmology[5]"
   ]
  },
  {
   "cell_type": "code",
   "execution_count": 7,
   "id": "7fca1d1b-105e-47d4-ab02-ff7b0cd66a03",
   "metadata": {},
   "outputs": [],
   "source": [
    "full_cosm = gtd.build_cosmology(ombh2, omch2, ns, sigma12, As, omnuh2)"
   ]
  },
  {
   "cell_type": "code",
   "execution_count": 8,
   "id": "6f36da24-9678-484b-9fee-7473ce4c4136",
   "metadata": {},
   "outputs": [],
   "source": [
    "mnu = full_cosm['mnu']"
   ]
  },
  {
   "cell_type": "code",
   "execution_count": 9,
   "id": "42f2a181-3560-4adc-9f3b-407e2e9e5f42",
   "metadata": {},
   "outputs": [
    {
     "name": "stdout",
     "output_type": "stream",
     "text": [
      "0.008207\n",
      "1\n",
      "massive-neutrino sigma12 [0.74706875]\n",
      "massless-neutrino sigma12 [0.93389778]\n"
     ]
    }
   ],
   "source": [
    "Pk_hi_h = andreap.get_PK(ombh2, omch2, ns, mnu, 67, As, w_mzero=True)"
   ]
  },
  {
   "cell_type": "code",
   "execution_count": 10,
   "id": "0bd1e1a1-5773-48cf-86a6-75cc10d748aa",
   "metadata": {},
   "outputs": [],
   "source": [
    "z = np.linspace(0., 5., 500)\n",
    "sig12 = np.zeros(500)\n",
    "for i in range(500):\n",
    "    sig12[i] = andreap.get_s12(Pk_hi_h['mzero'], z[i])\n",
    "\n",
    "sig12_interpolator = interp1d(sig12, z, kind='cubic')"
   ]
  },
  {
   "cell_type": "code",
   "execution_count": 15,
   "id": "a6370a78-c82f-435f-a554-77bd995d9b6f",
   "metadata": {},
   "outputs": [
    {
     "data": {
      "text/plain": [
       "0.9338976410228134"
      ]
     },
     "execution_count": 15,
     "metadata": {},
     "output_type": "execute_result"
    }
   ],
   "source": [
    "sig12[0]"
   ]
  },
  {
   "cell_type": "code",
   "execution_count": 14,
   "id": "22bb8d33-9576-4dd0-87f5-34aa49b0fc6a",
   "metadata": {},
   "outputs": [
    {
     "data": {
      "text/plain": [
       "0.0501002004008016"
      ]
     },
     "execution_count": 14,
     "metadata": {},
     "output_type": "execute_result"
    }
   ],
   "source": [
    "z[5]"
   ]
  },
  {
   "cell_type": "code",
   "execution_count": 12,
   "id": "a5e1b8e2-5e47-4a64-b028-e07584a38e01",
   "metadata": {},
   "outputs": [
    {
     "name": "stdout",
     "output_type": "stream",
     "text": [
      "We had to move h to 0.57\n",
      "This is our approximation 0.971921597558254 at redshift 0.05165493613300337\n"
     ]
    }
   ],
   "source": [
    "g_pspec, g_sigma12, g_z = gtd.evaluate_cell(full_cosm, standard_k)\n",
    "print(\"This is our approximation\", g_sigma12, \"at redshift\", g_z)"
   ]
  }
 ],
 "metadata": {
  "kernelspec": {
   "display_name": "Python 3 (ipykernel)",
   "language": "python",
   "name": "python3"
  },
  "language_info": {
   "codemirror_mode": {
    "name": "ipython",
    "version": 3
   },
   "file_extension": ".py",
   "mimetype": "text/x-python",
   "name": "python",
   "nbconvert_exporter": "python",
   "pygments_lexer": "ipython3",
   "version": "3.9.16"
  }
 },
 "nbformat": 4,
 "nbformat_minor": 5
}
