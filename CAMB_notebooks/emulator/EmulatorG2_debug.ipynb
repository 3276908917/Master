{
 "cells": [
  {
   "cell_type": "code",
   "execution_count": 1,
   "id": "ecfa7341-a590-4eaa-93b9-97bade33930c",
   "metadata": {},
   "outputs": [],
   "source": [
    "import numpy as np\n",
    "import matplotlib.pyplot as plt\n",
    "import camb\n",
    "from camb import model, initialpower\n",
    "import andreap\n",
    "from scipy.interpolate import interp1d\n",
    "\n",
    "import importlib.util\n",
    "import sys"
   ]
  },
  {
   "cell_type": "code",
   "execution_count": 2,
   "id": "5cb3df8b-a52a-412a-91cf-30ad785eee1e",
   "metadata": {},
   "outputs": [],
   "source": [
    "''' This messiness is necessary to import scripts which are not installed and\n",
    "which are not located in the cwd.'''\n",
    "\n",
    "spec = importlib.util.spec_from_file_location(\n",
    "    \"camb_interface\", \"../../nuCOMET/camb_interface.py\")\n",
    "ci = importlib.util.module_from_spec(spec)\n",
    "sys.modules[\"camb_interface\"] = ci\n",
    "spec.loader.exec_module(ci)\n",
    "\n",
    "spec = importlib.util.spec_from_file_location(\n",
    "    \"generate_training_data\", \"../../nuCOMET/generate_training_data.py\")\n",
    "gtd = importlib.util.module_from_spec(spec)\n",
    "sys.modules[\"generate_training_data\"] = gtd\n",
    "spec.loader.exec_module(gtd)"
   ]
  },
  {
   "cell_type": "code",
   "execution_count": 3,
   "id": "5073d69c-a93b-47c9-a3b3-a33b8f313a66",
   "metadata": {},
   "outputs": [],
   "source": [
    "hc_massive_pred = np.load(\"hc_backup_i4999_massive_pred_revised.npy\",\n",
    "    allow_pickle=True)\n",
    "samples_massive_pred = np.load(\"samples_backup_i4999_massive_pred_revised.npy\",\n",
    "    allow_pickle=True)\n",
    "standard_k = np.load(\"standard_k.npy\", allow_pickle=True)"
   ]
  },
  {
   "cell_type": "code",
   "execution_count": 4,
   "id": "3fc0a87c-a46a-4bec-a1a2-bc05b753e5fb",
   "metadata": {},
   "outputs": [],
   "source": [
    "first_cosmology = hc_massive_pred[0]\n",
    "first_pspec = samples_massive_pred[0]"
   ]
  },
  {
   "cell_type": "code",
   "execution_count": 5,
   "id": "5d8c99f7-ed26-4386-b5b7-4e2aa2429f62",
   "metadata": {},
   "outputs": [],
   "source": [
    "ombh2 = first_cosmology[0]\n",
    "omch2 = first_cosmology[1]\n",
    "ns = first_cosmology[2]\n",
    "sigma12 = first_cosmology[3]\n",
    "As = first_cosmology[4]\n",
    "omnuh2 = first_cosmology[5]"
   ]
  },
  {
   "cell_type": "code",
   "execution_count": 6,
   "id": "7fca1d1b-105e-47d4-ab02-ff7b0cd66a03",
   "metadata": {},
   "outputs": [],
   "source": [
    "full_cosm = gtd.build_cosmology(ombh2, omch2, ns, sigma12, As, omnuh2)"
   ]
  },
  {
   "cell_type": "code",
   "execution_count": 7,
   "id": "6f36da24-9678-484b-9fee-7473ce4c4136",
   "metadata": {},
   "outputs": [],
   "source": [
    "mnu = full_cosm['mnu']"
   ]
  },
  {
   "cell_type": "code",
   "execution_count": 19,
   "id": "42f2a181-3560-4adc-9f3b-407e2e9e5f42",
   "metadata": {},
   "outputs": [
    {
     "name": "stdout",
     "output_type": "stream",
     "text": [
      "0.008207\n",
      "1\n",
      "0.008207\n",
      "1\n",
      "0.008207\n",
      "1\n"
     ]
    }
   ],
   "source": [
    "Pk_lo_h = andreap.get_PK(ombh2, omch2, ns, mnu, 10, As)\n",
    "Pk_hi_h = andreap.get_PK(ombh2, omch2, ns, mnu, 67, As)\n",
    "Pk_target_h = andreap.get_PK(ombh2, omch2, ns, mnu, 57, As)"
   ]
  },
  {
   "cell_type": "code",
   "execution_count": 9,
   "id": "0bd1e1a1-5773-48cf-86a6-75cc10d748aa",
   "metadata": {},
   "outputs": [],
   "source": [
    "z = np.linspace(0., 5., 500)\n",
    "sig12 = np.zeros(500)\n",
    "for i in range(500):\n",
    "    sig12[i] = andreap.get_s12(Pk['mzero'], z[i])"
   ]
  },
  {
   "cell_type": "code",
   "execution_count": 10,
   "id": "a6370a78-c82f-435f-a554-77bd995d9b6f",
   "metadata": {},
   "outputs": [
    {
     "data": {
      "text/plain": [
       "0.9719207949661621"
      ]
     },
     "execution_count": 10,
     "metadata": {},
     "output_type": "execute_result"
    }
   ],
   "source": [
    "sigma12"
   ]
  },
  {
   "cell_type": "code",
   "execution_count": 11,
   "id": "35970024-c555-44c4-9e4c-d8140888e557",
   "metadata": {},
   "outputs": [
    {
     "data": {
      "text/plain": [
       "1.3210696340492791"
      ]
     },
     "execution_count": 11,
     "metadata": {},
     "output_type": "execute_result"
    }
   ],
   "source": [
    "sig12[0]"
   ]
  },
  {
   "cell_type": "code",
   "execution_count": 12,
   "id": "19966b4d-d458-4f3d-9da7-1a9271a291f4",
   "metadata": {},
   "outputs": [],
   "source": [
    "sig12_interpolator = interp1d(sig12, z, kind='cubic')"
   ]
  },
  {
   "cell_type": "code",
   "execution_count": 13,
   "id": "a5e1b8e2-5e47-4a64-b028-e07584a38e01",
   "metadata": {},
   "outputs": [
    {
     "name": "stdout",
     "output_type": "stream",
     "text": [
      "Discrepancy between maximal achievable sigma12 and target -0.03799240966654416\n",
      "Desired 0.9719207949661621\n",
      "Discrepancy between maximal achievable sigma12 and target 0.03209088418396622\n",
      "Desired 0.9719207949661621\n",
      "We had to move h to 0.57\n"
     ]
    }
   ],
   "source": [
    "g_pspec, g_sigma12, g_z = gtd.psz(full_cosm, standard_k)"
   ]
  },
  {
   "cell_type": "code",
   "execution_count": 15,
   "id": "f1e93529-1d33-408e-863b-ca89595f941b",
   "metadata": {},
   "outputs": [],
   "source": [
    "import copy as cp\n",
    "tilde_cosm = cp.deepcopy(full_cosm)\n",
    "tilde_cosm['omch2'] += tilde_cosm['omnuh2']\n",
    "tilde_cosm = ci.specify_neutrino_mass(tilde_cosm, 0, 0)"
   ]
  },
  {
   "cell_type": "code",
   "execution_count": 16,
   "id": "02fabc71-75b4-4142-bed1-1f5a7e4312f3",
   "metadata": {},
   "outputs": [],
   "source": [
    "kci, zci, pci, sci = ci.kzps(tilde_cosm)"
   ]
  },
  {
   "cell_type": "code",
   "execution_count": 17,
   "id": "25026c1c-cf02-46a2-9a5e-4726f6316e2d",
   "metadata": {},
   "outputs": [
    {
     "data": {
      "text/plain": [
       "array([1.00401168])"
      ]
     },
     "execution_count": 17,
     "metadata": {},
     "output_type": "execute_result"
    }
   ],
   "source": [
    "sci"
   ]
  },
  {
   "cell_type": "code",
   "execution_count": 20,
   "id": "ca40c98a-4496-4a3d-b65b-469cf2a820fd",
   "metadata": {},
   "outputs": [
    {
     "data": {
      "text/plain": [
       "0.7470678684364096"
      ]
     },
     "execution_count": 20,
     "metadata": {},
     "output_type": "execute_result"
    }
   ],
   "source": [
    "andreap.get_s12(Pk_hi_h['mzero'], 0)"
   ]
  },
  {
   "cell_type": "code",
   "execution_count": 24,
   "id": "287e5f92-f45c-47ea-8747-565a65f2e50d",
   "metadata": {},
   "outputs": [
    {
     "ename": "TypeError",
     "evalue": "__call__() missing 1 required positional argument: 'y'",
     "output_type": "error",
     "traceback": [
      "\u001b[0;31m---------------------------------------------------------------------------\u001b[0m",
      "\u001b[0;31mTypeError\u001b[0m                                 Traceback (most recent call last)",
      "Cell \u001b[0;32mIn[24], line 1\u001b[0m\n\u001b[0;32m----> 1\u001b[0m \u001b[43mandreap\u001b[49m\u001b[38;5;241;43m.\u001b[39;49m\u001b[43mget_s12_fixedz\u001b[49m\u001b[43m(\u001b[49m\u001b[43mPk_hi_h\u001b[49m\u001b[43m[\u001b[49m\u001b[38;5;124;43m'\u001b[39;49m\u001b[38;5;124;43mmzero\u001b[39;49m\u001b[38;5;124;43m'\u001b[39;49m\u001b[43m]\u001b[49m\u001b[43m,\u001b[49m\u001b[43m \u001b[49m\u001b[38;5;241;43m0\u001b[39;49m\u001b[43m)\u001b[49m\n",
      "File \u001b[0;32m~/Documents/Master/CAMB_notebooks/emulator/andreap.py:76\u001b[0m, in \u001b[0;36mget_s12_fixedz\u001b[0;34m(PK, z)\u001b[0m\n\u001b[1;32m     73\u001b[0m \u001b[38;5;28;01mdef\u001b[39;00m \u001b[38;5;21mintegrand\u001b[39m(x):\n\u001b[1;32m     74\u001b[0m     \u001b[38;5;28;01mreturn\u001b[39;00m x\u001b[38;5;241m*\u001b[39m\u001b[38;5;241m*\u001b[39m\u001b[38;5;241m2\u001b[39m \u001b[38;5;241m*\u001b[39m PK(x) \u001b[38;5;241m*\u001b[39m W(x\u001b[38;5;241m*\u001b[39m\u001b[38;5;241m12\u001b[39m)\u001b[38;5;241m*\u001b[39m\u001b[38;5;241m*\u001b[39m\u001b[38;5;241m2\u001b[39m\n\u001b[0;32m---> 76\u001b[0m s12 \u001b[38;5;241m=\u001b[39m \u001b[43mquad\u001b[49m\u001b[43m(\u001b[49m\u001b[43mintegrand\u001b[49m\u001b[43m,\u001b[49m\u001b[43m \u001b[49m\u001b[38;5;241;43m1e-4\u001b[39;49m\u001b[43m,\u001b[49m\u001b[43m \u001b[49m\u001b[38;5;241;43m5\u001b[39;49m\u001b[43m)\u001b[49m[\u001b[38;5;241m0\u001b[39m]\n\u001b[1;32m     78\u001b[0m \u001b[38;5;28;01mreturn\u001b[39;00m np\u001b[38;5;241m.\u001b[39msqrt(s12\u001b[38;5;241m/\u001b[39m(\u001b[38;5;241m2\u001b[39m\u001b[38;5;241m*\u001b[39mnp\u001b[38;5;241m.\u001b[39mpi\u001b[38;5;241m*\u001b[39m\u001b[38;5;241m*\u001b[39m\u001b[38;5;241m2\u001b[39m))\n",
      "File \u001b[0;32m~/anaconda3/envs/camb/lib/python3.9/site-packages/scipy/integrate/_quadpack_py.py:463\u001b[0m, in \u001b[0;36mquad\u001b[0;34m(func, a, b, args, full_output, epsabs, epsrel, limit, points, weight, wvar, wopts, maxp1, limlst, complex_func)\u001b[0m\n\u001b[1;32m    460\u001b[0m     \u001b[38;5;28;01mreturn\u001b[39;00m retval\n\u001b[1;32m    462\u001b[0m \u001b[38;5;28;01mif\u001b[39;00m weight \u001b[38;5;129;01mis\u001b[39;00m \u001b[38;5;28;01mNone\u001b[39;00m:\n\u001b[0;32m--> 463\u001b[0m     retval \u001b[38;5;241m=\u001b[39m \u001b[43m_quad\u001b[49m\u001b[43m(\u001b[49m\u001b[43mfunc\u001b[49m\u001b[43m,\u001b[49m\u001b[43m \u001b[49m\u001b[43ma\u001b[49m\u001b[43m,\u001b[49m\u001b[43m \u001b[49m\u001b[43mb\u001b[49m\u001b[43m,\u001b[49m\u001b[43m \u001b[49m\u001b[43margs\u001b[49m\u001b[43m,\u001b[49m\u001b[43m \u001b[49m\u001b[43mfull_output\u001b[49m\u001b[43m,\u001b[49m\u001b[43m \u001b[49m\u001b[43mepsabs\u001b[49m\u001b[43m,\u001b[49m\u001b[43m \u001b[49m\u001b[43mepsrel\u001b[49m\u001b[43m,\u001b[49m\u001b[43m \u001b[49m\u001b[43mlimit\u001b[49m\u001b[43m,\u001b[49m\n\u001b[1;32m    464\u001b[0m \u001b[43m                   \u001b[49m\u001b[43mpoints\u001b[49m\u001b[43m)\u001b[49m\n\u001b[1;32m    465\u001b[0m \u001b[38;5;28;01melse\u001b[39;00m:\n\u001b[1;32m    466\u001b[0m     \u001b[38;5;28;01mif\u001b[39;00m points \u001b[38;5;129;01mis\u001b[39;00m \u001b[38;5;129;01mnot\u001b[39;00m \u001b[38;5;28;01mNone\u001b[39;00m:\n",
      "File \u001b[0;32m~/anaconda3/envs/camb/lib/python3.9/site-packages/scipy/integrate/_quadpack_py.py:575\u001b[0m, in \u001b[0;36m_quad\u001b[0;34m(func, a, b, args, full_output, epsabs, epsrel, limit, points)\u001b[0m\n\u001b[1;32m    573\u001b[0m \u001b[38;5;28;01mif\u001b[39;00m points \u001b[38;5;129;01mis\u001b[39;00m \u001b[38;5;28;01mNone\u001b[39;00m:\n\u001b[1;32m    574\u001b[0m     \u001b[38;5;28;01mif\u001b[39;00m infbounds \u001b[38;5;241m==\u001b[39m \u001b[38;5;241m0\u001b[39m:\n\u001b[0;32m--> 575\u001b[0m         \u001b[38;5;28;01mreturn\u001b[39;00m \u001b[43m_quadpack\u001b[49m\u001b[38;5;241;43m.\u001b[39;49m\u001b[43m_qagse\u001b[49m\u001b[43m(\u001b[49m\u001b[43mfunc\u001b[49m\u001b[43m,\u001b[49m\u001b[43ma\u001b[49m\u001b[43m,\u001b[49m\u001b[43mb\u001b[49m\u001b[43m,\u001b[49m\u001b[43margs\u001b[49m\u001b[43m,\u001b[49m\u001b[43mfull_output\u001b[49m\u001b[43m,\u001b[49m\u001b[43mepsabs\u001b[49m\u001b[43m,\u001b[49m\u001b[43mepsrel\u001b[49m\u001b[43m,\u001b[49m\u001b[43mlimit\u001b[49m\u001b[43m)\u001b[49m\n\u001b[1;32m    576\u001b[0m     \u001b[38;5;28;01melse\u001b[39;00m:\n\u001b[1;32m    577\u001b[0m         \u001b[38;5;28;01mreturn\u001b[39;00m _quadpack\u001b[38;5;241m.\u001b[39m_qagie(func,bound,infbounds,args,full_output,epsabs,epsrel,limit)\n",
      "File \u001b[0;32m~/Documents/Master/CAMB_notebooks/emulator/andreap.py:74\u001b[0m, in \u001b[0;36mget_s12_fixedz.<locals>.integrand\u001b[0;34m(x)\u001b[0m\n\u001b[1;32m     73\u001b[0m \u001b[38;5;28;01mdef\u001b[39;00m \u001b[38;5;21mintegrand\u001b[39m(x):\n\u001b[0;32m---> 74\u001b[0m     \u001b[38;5;28;01mreturn\u001b[39;00m x\u001b[38;5;241m*\u001b[39m\u001b[38;5;241m*\u001b[39m\u001b[38;5;241m2\u001b[39m \u001b[38;5;241m*\u001b[39m \u001b[43mPK\u001b[49m\u001b[43m(\u001b[49m\u001b[43mx\u001b[49m\u001b[43m)\u001b[49m \u001b[38;5;241m*\u001b[39m W(x\u001b[38;5;241m*\u001b[39m\u001b[38;5;241m12\u001b[39m)\u001b[38;5;241m*\u001b[39m\u001b[38;5;241m*\u001b[39m\u001b[38;5;241m2\u001b[39m\n",
      "\u001b[0;31mTypeError\u001b[0m: __call__() missing 1 required positional argument: 'y'"
     ]
    }
   ],
   "source": [
    "andreap.get_s12_fixedz(Pk_hi_h['mzero'], 0)"
   ]
  },
  {
   "cell_type": "code",
   "execution_count": 21,
   "id": "b0ab9b9f-7647-4c7d-b9a1-6c57e726e10b",
   "metadata": {},
   "outputs": [
    {
     "data": {
      "text/plain": [
       "Name           Columbus_0\n",
       "ombh2             0.02308\n",
       "omch2            0.117574\n",
       "n_s              0.946505\n",
       "A_s                   0.0\n",
       "OmB                  0.05\n",
       "OmC              0.268584\n",
       "OmM              0.318584\n",
       "OmK                   0.0\n",
       "OmL              0.681416\n",
       "h                    0.57\n",
       "w0                   -1.0\n",
       "wa                   0.00\n",
       "EOmDE                   -\n",
       "z(4)                  2.0\n",
       "z(3)                  1.0\n",
       "z(2)                 0.57\n",
       "z(1)                  0.3\n",
       "z(0)                  0.0\n",
       "Lbox               1000.0\n",
       "sigma8            0.82755\n",
       "sigma12          0.971921\n",
       "omnuh2                  0\n",
       "mnu                   0.0\n",
       "nnu_massive             0\n",
       "Name: 0, dtype: object"
      ]
     },
     "execution_count": 21,
     "metadata": {},
     "output_type": "execute_result"
    }
   ],
   "source": [
    "tilde_cosm"
   ]
  },
  {
   "cell_type": "code",
   "execution_count": null,
   "id": "75ae11a7-f89a-430e-8b60-6d131266a8cf",
   "metadata": {},
   "outputs": [],
   "source": []
  }
 ],
 "metadata": {
  "kernelspec": {
   "display_name": "Python 3 (ipykernel)",
   "language": "python",
   "name": "python3"
  },
  "language_info": {
   "codemirror_mode": {
    "name": "ipython",
    "version": 3
   },
   "file_extension": ".py",
   "mimetype": "text/x-python",
   "name": "python",
   "nbconvert_exporter": "python",
   "pygments_lexer": "ipython3",
   "version": "3.9.16"
  }
 },
 "nbformat": 4,
 "nbformat_minor": 5
}
