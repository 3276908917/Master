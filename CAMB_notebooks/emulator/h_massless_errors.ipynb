{
 "cells": [
  {
   "cell_type": "code",
   "execution_count": 1,
   "id": "30f09db7-2cfa-446d-817c-a02c1a723faf",
   "metadata": {},
   "outputs": [],
   "source": [
    "import numpy as np\n",
    "import pylab as pb\n",
    "import GPy\n",
    "import copy as cp\n",
    "\n",
    "import pickle\n",
    "\n",
    "pb.ion()\n",
    "\n",
    "#file_base = \"modularized_v5_backup/\"\n",
    "file_base = \"\"\n",
    "emu_vlabel = \"h1\""
   ]
  },
  {
   "cell_type": "code",
   "execution_count": 2,
   "id": "aa78ffac-467f-49ce-ab6e-f3812347c26b",
   "metadata": {},
   "outputs": [],
   "source": [
    "# In this cell, assign m to some serially-loaded trained GPy\n",
    "# emulator\n",
    "m = pickle.load(open(\"analyses/massless_emulator_\" + emu_vlabel + \".cle\", \"rb\"))"
   ]
  },
  {
   "cell_type": "code",
   "execution_count": 3,
   "id": "7d65295a-58cf-465e-b0dc-080e7b48e4cd",
   "metadata": {},
   "outputs": [],
   "source": [
    "#X_raw = np.load(file_base + \"hc_massless_test_actual.npy\",\n",
    "#    allow_pickle=True)\n",
    "#Y_raw = np.load(file_base + \"samples_massless_test.npy\",\n",
    "#    allow_pickle=True)\n",
    "\n",
    "# We don't use the emu_vlabel variable in the following code because the lhc\n",
    "# version has decoupled from the emulator version.\n",
    "X_raw = np.load(file_base + \"hc_backup_i4999_h1_unit_train.npy\",\n",
    "                allow_pickle=True)\n",
    "Y_raw = np.load(file_base + \"samples_backup_i4999_h1_unit_train.npy\",\n",
    "                allow_pickle=True)"
   ]
  },
  {
   "cell_type": "code",
   "execution_count": 4,
   "id": "e62d1728-e240-4e1d-a3f7-3bcaf786b64a",
   "metadata": {},
   "outputs": [],
   "source": [
    "scales = np.load(\"standard_k.npy\", allow_pickle=True)"
   ]
  },
  {
   "cell_type": "code",
   "execution_count": 5,
   "id": "7012f29c-ad91-41fd-8775-8c844fe1c39f",
   "metadata": {},
   "outputs": [],
   "source": [
    "def is_bad(row):\n",
    "    if float('-inf') in row or float('inf') in row \\\n",
    "        or None in row or True in np.isnan(pspec) \\\n",
    "        or 0 in row:\n",
    "        return True\n",
    "    return False\n",
    "\n",
    "bad_row_indices = []\n",
    "for i in range(len(Y_raw)):\n",
    "    pspec = Y_raw[i]\n",
    "    if is_bad(pspec):\n",
    "        bad_row_indices.append(i)\n",
    "\n",
    "X = np.delete(X_raw, bad_row_indices, 0)\n",
    "Y = np.delete(Y_raw, bad_row_indices, 0)"
   ]
  },
  {
   "cell_type": "code",
   "execution_count": 6,
   "id": "6a88d0c8-5284-43f7-8a10-042f686c233f",
   "metadata": {},
   "outputs": [],
   "source": [
    "def inverse_ytransform(raw_prediction):\n",
    "    return np.exp(raw_prediction * m.ystdev + m.ymu)"
   ]
  },
  {
   "cell_type": "code",
   "execution_count": 7,
   "id": "d0896205-4a4b-4b50-89ec-35892a3b3310",
   "metadata": {},
   "outputs": [],
   "source": [
    "def nest(array):\n",
    "    return np.array([np.array(array)])"
   ]
  },
  {
   "cell_type": "code",
   "execution_count": 8,
   "id": "4b1123b1-12b9-49a4-8f35-8b573c6014a5",
   "metadata": {},
   "outputs": [
    {
     "ename": "KeyboardInterrupt",
     "evalue": "",
     "output_type": "error",
     "traceback": [
      "\u001b[0;31m---------------------------------------------------------------------------\u001b[0m",
      "\u001b[0;31mKeyboardInterrupt\u001b[0m                         Traceback (most recent call last)",
      "Cell \u001b[0;32mIn[8], line 6\u001b[0m\n\u001b[1;32m      4\u001b[0m \u001b[38;5;28;01mfor\u001b[39;00m i \u001b[38;5;129;01min\u001b[39;00m \u001b[38;5;28mrange\u001b[39m(\u001b[38;5;28mlen\u001b[39m(X)):\n\u001b[1;32m      5\u001b[0m     x \u001b[38;5;241m=\u001b[39m nest(X[i])\n\u001b[0;32m----> 6\u001b[0m     raw_pred, _ \u001b[38;5;241m=\u001b[39m \u001b[43mm\u001b[49m\u001b[38;5;241;43m.\u001b[39;49m\u001b[43mpredict\u001b[49m\u001b[43m(\u001b[49m\u001b[43mx\u001b[49m\u001b[43m)\u001b[49m\n\u001b[1;32m      7\u001b[0m     preds[i] \u001b[38;5;241m=\u001b[39m inverse_ytransform(raw_pred)\n\u001b[1;32m      8\u001b[0m     rel_errors[i] \u001b[38;5;241m=\u001b[39m (preds[i] \u001b[38;5;241m-\u001b[39m Y[i]) \u001b[38;5;241m/\u001b[39m Y[i]\n",
      "File \u001b[0;32m~/anaconda3/envs/camb/lib/python3.9/site-packages/GPy/core/gp.py:342\u001b[0m, in \u001b[0;36mGP.predict\u001b[0;34m(self, Xnew, full_cov, Y_metadata, kern, likelihood, include_likelihood)\u001b[0m\n\u001b[1;32m    306\u001b[0m \u001b[38;5;250m\u001b[39m\u001b[38;5;124;03m\"\"\"\u001b[39;00m\n\u001b[1;32m    307\u001b[0m \u001b[38;5;124;03mPredict the function(s) at the new point(s) Xnew. This includes the\u001b[39;00m\n\u001b[1;32m    308\u001b[0m \u001b[38;5;124;03mlikelihood variance added to the predicted underlying function\u001b[39;00m\n\u001b[0;32m   (...)\u001b[0m\n\u001b[1;32m    338\u001b[0m \u001b[38;5;124;03minterval) use :py:func:`~GPy.core.gp.GP.predict_quantiles`.\u001b[39;00m\n\u001b[1;32m    339\u001b[0m \u001b[38;5;124;03m\"\"\"\u001b[39;00m\n\u001b[1;32m    341\u001b[0m \u001b[38;5;66;03m# Predict the latent function values\u001b[39;00m\n\u001b[0;32m--> 342\u001b[0m mean, var \u001b[38;5;241m=\u001b[39m \u001b[38;5;28;43mself\u001b[39;49m\u001b[38;5;241;43m.\u001b[39;49m\u001b[43m_raw_predict\u001b[49m\u001b[43m(\u001b[49m\u001b[43mXnew\u001b[49m\u001b[43m,\u001b[49m\u001b[43m \u001b[49m\u001b[43mfull_cov\u001b[49m\u001b[38;5;241;43m=\u001b[39;49m\u001b[43mfull_cov\u001b[49m\u001b[43m,\u001b[49m\u001b[43m \u001b[49m\u001b[43mkern\u001b[49m\u001b[38;5;241;43m=\u001b[39;49m\u001b[43mkern\u001b[49m\u001b[43m)\u001b[49m\n\u001b[1;32m    344\u001b[0m \u001b[38;5;28;01mif\u001b[39;00m include_likelihood:\n\u001b[1;32m    345\u001b[0m     \u001b[38;5;66;03m# now push through likelihood\u001b[39;00m\n\u001b[1;32m    346\u001b[0m     \u001b[38;5;28;01mif\u001b[39;00m likelihood \u001b[38;5;129;01mis\u001b[39;00m \u001b[38;5;28;01mNone\u001b[39;00m:\n",
      "File \u001b[0;32m~/anaconda3/envs/camb/lib/python3.9/site-packages/GPy/core/gp.py:299\u001b[0m, in \u001b[0;36mGP._raw_predict\u001b[0;34m(self, Xnew, full_cov, kern)\u001b[0m\n\u001b[1;32m    286\u001b[0m \u001b[38;5;28;01mdef\u001b[39;00m \u001b[38;5;21m_raw_predict\u001b[39m(\u001b[38;5;28mself\u001b[39m, Xnew, full_cov\u001b[38;5;241m=\u001b[39m\u001b[38;5;28;01mFalse\u001b[39;00m, kern\u001b[38;5;241m=\u001b[39m\u001b[38;5;28;01mNone\u001b[39;00m):\n\u001b[1;32m    287\u001b[0m \u001b[38;5;250m    \u001b[39m\u001b[38;5;124;03m\"\"\"\u001b[39;00m\n\u001b[1;32m    288\u001b[0m \u001b[38;5;124;03m    For making predictions, does not account for normalization or likelihood\u001b[39;00m\n\u001b[1;32m    289\u001b[0m \n\u001b[0;32m   (...)\u001b[0m\n\u001b[1;32m    297\u001b[0m \u001b[38;5;124;03m        \\Sigma := \\texttt{Likelihood.variance / Approximate likelihood covariance}\u001b[39;00m\n\u001b[1;32m    298\u001b[0m \u001b[38;5;124;03m    \"\"\"\u001b[39;00m\n\u001b[0;32m--> 299\u001b[0m     mu, var \u001b[38;5;241m=\u001b[39m \u001b[38;5;28;43mself\u001b[39;49m\u001b[38;5;241;43m.\u001b[39;49m\u001b[43mposterior\u001b[49m\u001b[38;5;241;43m.\u001b[39;49m\u001b[43m_raw_predict\u001b[49m\u001b[43m(\u001b[49m\u001b[43mkern\u001b[49m\u001b[38;5;241;43m=\u001b[39;49m\u001b[38;5;28;43mself\u001b[39;49m\u001b[38;5;241;43m.\u001b[39;49m\u001b[43mkern\u001b[49m\u001b[43m \u001b[49m\u001b[38;5;28;43;01mif\u001b[39;49;00m\u001b[43m \u001b[49m\u001b[43mkern\u001b[49m\u001b[43m \u001b[49m\u001b[38;5;129;43;01mis\u001b[39;49;00m\u001b[43m \u001b[49m\u001b[38;5;28;43;01mNone\u001b[39;49;00m\u001b[43m \u001b[49m\u001b[38;5;28;43;01melse\u001b[39;49;00m\u001b[43m \u001b[49m\u001b[43mkern\u001b[49m\u001b[43m,\u001b[49m\u001b[43m \u001b[49m\u001b[43mXnew\u001b[49m\u001b[38;5;241;43m=\u001b[39;49m\u001b[43mXnew\u001b[49m\u001b[43m,\u001b[49m\u001b[43m \u001b[49m\u001b[43mpred_var\u001b[49m\u001b[38;5;241;43m=\u001b[39;49m\u001b[38;5;28;43mself\u001b[39;49m\u001b[38;5;241;43m.\u001b[39;49m\u001b[43m_predictive_variable\u001b[49m\u001b[43m,\u001b[49m\u001b[43m \u001b[49m\u001b[43mfull_cov\u001b[49m\u001b[38;5;241;43m=\u001b[39;49m\u001b[43mfull_cov\u001b[49m\u001b[43m)\u001b[49m\n\u001b[1;32m    300\u001b[0m     \u001b[38;5;28;01mif\u001b[39;00m \u001b[38;5;28mself\u001b[39m\u001b[38;5;241m.\u001b[39mmean_function \u001b[38;5;129;01mis\u001b[39;00m \u001b[38;5;129;01mnot\u001b[39;00m \u001b[38;5;28;01mNone\u001b[39;00m:\n\u001b[1;32m    301\u001b[0m         mu \u001b[38;5;241m+\u001b[39m\u001b[38;5;241m=\u001b[39m \u001b[38;5;28mself\u001b[39m\u001b[38;5;241m.\u001b[39mmean_function\u001b[38;5;241m.\u001b[39mf(Xnew)\n",
      "File \u001b[0;32m~/anaconda3/envs/camb/lib/python3.9/site-packages/GPy/inference/latent_function_inference/posterior.py:277\u001b[0m, in \u001b[0;36mPosteriorExact._raw_predict\u001b[0;34m(self, kern, Xnew, pred_var, full_cov)\u001b[0m\n\u001b[1;32m    274\u001b[0m \u001b[38;5;28;01mdef\u001b[39;00m \u001b[38;5;21m_raw_predict\u001b[39m(\u001b[38;5;28mself\u001b[39m, kern, Xnew, pred_var, full_cov\u001b[38;5;241m=\u001b[39m\u001b[38;5;28;01mFalse\u001b[39;00m):\n\u001b[1;32m    276\u001b[0m     Kx \u001b[38;5;241m=\u001b[39m kern\u001b[38;5;241m.\u001b[39mK(pred_var, Xnew)\n\u001b[0;32m--> 277\u001b[0m     mu \u001b[38;5;241m=\u001b[39m \u001b[43mnp\u001b[49m\u001b[38;5;241;43m.\u001b[39;49m\u001b[43mdot\u001b[49m\u001b[43m(\u001b[49m\u001b[43mKx\u001b[49m\u001b[38;5;241;43m.\u001b[39;49m\u001b[43mT\u001b[49m\u001b[43m,\u001b[49m\u001b[43m \u001b[49m\u001b[38;5;28;43mself\u001b[39;49m\u001b[38;5;241;43m.\u001b[39;49m\u001b[43mwoodbury_vector\u001b[49m\u001b[43m)\u001b[49m\n\u001b[1;32m    278\u001b[0m     \u001b[38;5;28;01mif\u001b[39;00m \u001b[38;5;28mlen\u001b[39m(mu\u001b[38;5;241m.\u001b[39mshape) \u001b[38;5;241m==\u001b[39m \u001b[38;5;241m1\u001b[39m:\n\u001b[1;32m    279\u001b[0m         mu \u001b[38;5;241m=\u001b[39m mu\u001b[38;5;241m.\u001b[39mreshape(\u001b[38;5;241m-\u001b[39m\u001b[38;5;241m1\u001b[39m, \u001b[38;5;241m1\u001b[39m)\n",
      "File \u001b[0;32m<__array_function__ internals>:180\u001b[0m, in \u001b[0;36mdot\u001b[0;34m(*args, **kwargs)\u001b[0m\n",
      "\u001b[0;31mKeyboardInterrupt\u001b[0m: "
     ]
    }
   ],
   "source": [
    "preds = np.zeros(Y.shape)\n",
    "rel_errors = np.zeros(Y.shape)\n",
    "\n",
    "for i in range(len(X)):\n",
    "    x = nest(X[i])\n",
    "    raw_pred, _ = m.predict(x)\n",
    "    preds[i] = inverse_ytransform(raw_pred)\n",
    "    rel_errors[i] = (preds[i] - Y[i]) / Y[i]"
   ]
  },
  {
   "cell_type": "code",
   "execution_count": null,
   "id": "334071cf-d7f6-49f5-ad4e-f38506ddf746",
   "metadata": {},
   "outputs": [],
   "source": [
    "for i in range(len(rel_errors)):\n",
    "    if i % 1 == 0: # plot one out of every one hundred errors\n",
    "        pb.plot(scales, 100 * rel_errors[i],\n",
    "            color='blue', alpha=0.05)\n",
    "        pb.xscale('log')\n",
    "        \n",
    "pb.title(r\"Emulator G, \" + str(len(rel_errors)) + \\\n",
    "         r\" Random Massless-$\\nu$ Models\")\n",
    "pb.ylabel(\"% error between CAMB and CassL\")\n",
    "pb.xlabel(\"scale $k$ [1 / Mpc]\")\n",
    "pb.savefig(\"../plots/emulator/performance/massless_5k.png\")"
   ]
  },
  {
   "cell_type": "code",
   "execution_count": null,
   "id": "6c6fece4-2adb-4cb7-b9d5-4478d8cee755",
   "metadata": {},
   "outputs": [],
   "source": [
    "# Error statistics ideas: parentheticals describe building blocks\n",
    "\n",
    "# (for each curve:)\n",
    "    # a minimum percent error\n",
    "    # b maximum percent error\n",
    "    # c standard deviation of errors\n",
    "    # d mean error\n",
    "    # e median error\n",
    "\n",
    "# Median, mean, stddev of a-e.\n",
    "\n",
    "mins = np.array([min(abs(rel_error_curve)) for rel_error_curve in rel_errors])\n",
    "print(\"MINIMUM RELATIVE ERRORS:\")\n",
    "print(\"this ranges from\", min(mins), \"to\", max(mins))\n",
    "print(\"median is\", np.median(mins))\n",
    "print(\"mean is\", np.mean(mins))\n",
    "print(\"st.dev. is\", np.std(mins))"
   ]
  },
  {
   "cell_type": "code",
   "execution_count": null,
   "id": "19b2d1f4-5945-4575-b6cc-b29100b5af4f",
   "metadata": {},
   "outputs": [],
   "source": [
    "maxs = np.array([max(abs(rel_error_curve)) for rel_error_curve in rel_errors])\n",
    "print(\"MAXIMUM RELATIVE ERRORS:\")\n",
    "print(\"this ranges from\", min(maxs), \"to\", max(maxs))\n",
    "print(\"median is\", np.median(maxs))\n",
    "print(\"mean is\", np.mean(maxs))\n",
    "print(\"st.dev. is\", np.std(maxs))"
   ]
  },
  {
   "cell_type": "code",
   "execution_count": null,
   "id": "97f48acd-a36d-4fa0-bf9b-2992f524ca02",
   "metadata": {},
   "outputs": [],
   "source": [
    "means = np.array([np.mean(rel_error_curve) for rel_error_curve in rel_errors])\n",
    "print(\"MEAN RELATIVE ERRORS:\")\n",
    "print(\"this ranges from\", min(means), \"to\", max(means))\n",
    "print(\"median is\", np.median(means))\n",
    "print(\"mean is\", np.mean(means))\n",
    "print(\"st.dev. is\", np.std(means))"
   ]
  },
  {
   "cell_type": "code",
   "execution_count": null,
   "id": "60bd6c19-cd6c-40b1-8417-cac5799a4999",
   "metadata": {},
   "outputs": [],
   "source": [
    "meds = np.array([np.median(rel_error_curve) for rel_error_curve in rel_errors])\n",
    "print(\"MEDIAN RELATIVE ERRORS:\")\n",
    "print(\"this ranges from\", min(meds), \"to\", max(meds))\n",
    "print(\"median is\", np.median(meds))\n",
    "print(\"mean is\", np.mean(meds))\n",
    "print(\"st.dev. is\", np.std(meds))"
   ]
  },
  {
   "cell_type": "code",
   "execution_count": null,
   "id": "35bad824-afcd-4d6a-bad6-cb2779578518",
   "metadata": {},
   "outputs": [],
   "source": [
    "pb.hist(100 * meds, bins=30)\n",
    "pb.title(\"Histogram of Median Percent Errors: Emulator \" + emu_vlabel)\n",
    "pb.ylabel(\"Frequency [counts]\")\n",
    "pb.xlabel(\"% Error between CAMB and Cass-L\")\n",
    "pb.savefig(\"../plots/emulator/performance/err_hist_\" + emu_vlabel + \".png\")"
   ]
  },
  {
   "cell_type": "code",
   "execution_count": null,
   "id": "d4e18fd2-7b6f-4a0d-bebc-133c0a50f329",
   "metadata": {},
   "outputs": [],
   "source": [
    "stddevs = np.array([np.std(rel_error_curve) for rel_error_curve in rel_errors])\n",
    "print(\"ST.DEV.S IN RELATIVE ERRORS:\")\n",
    "print(\"this ranges from\", min(stddevs), \"to\", max(stddevs))\n",
    "print(\"median is\", np.median(stddevs))\n",
    "print(\"mean is\", np.mean(stddevs))\n",
    "print(\"st.dev. is\", np.std(stddevs))"
   ]
  },
  {
   "cell_type": "code",
   "execution_count": null,
   "id": "c1326291-0143-4397-8c6f-5bec60d4d92c",
   "metadata": {},
   "outputs": [],
   "source": []
  }
 ],
 "metadata": {
  "kernelspec": {
   "display_name": "Python 3 (ipykernel)",
   "language": "python",
   "name": "python3"
  },
  "language_info": {
   "codemirror_mode": {
    "name": "ipython",
    "version": 3
   },
   "file_extension": ".py",
   "mimetype": "text/x-python",
   "name": "python",
   "nbconvert_exporter": "python",
   "pygments_lexer": "ipython3",
   "version": "3.9.16"
  }
 },
 "nbformat": 4,
 "nbformat_minor": 5
}
