{
 "cells": [
  {
   "cell_type": "code",
   "execution_count": 3,
   "id": "ce2e6269-d53c-4d7e-a0ab-819d34d9331b",
   "metadata": {},
   "outputs": [],
   "source": [
    "import numpy as np\n",
    "import pylab as pb\n",
    "import GPy\n",
    "import copy as cp\n",
    "\n",
    "pb.ion()\n",
    "\n",
    "file_base = \"modularized_v4_backup/\""
   ]
  },
  {
   "cell_type": "markdown",
   "id": "aee721f8-35d5-44a7-9434-4d930bb434bc",
   "metadata": {},
   "source": [
    "X = np.load(\"hc_baby.npy\", allow_pickle=True)\n",
    "Y = np.log(np.load(\"samples_baby.npy\", allow_pickle=True))"
   ]
  },
  {
   "cell_type": "code",
   "execution_count": 5,
   "id": "3dc64ac5-b34d-4a71-84ab-1cdd70822bcb",
   "metadata": {},
   "outputs": [],
   "source": [
    "X_raw = np.load(file_base + \"hc_massive_predictor.npy\", allow_pickle=True)\n",
    "Y_raw = np.log(np.load(file_base + \"samples_massive_predictor.npy\",\n",
    "    allow_pickle=True))"
   ]
  },
  {
   "cell_type": "code",
   "execution_count": 7,
   "id": "7aa0abbd-989a-4305-8aca-8c885b59e907",
   "metadata": {},
   "outputs": [],
   "source": [
    "# We have to truncate the matrices a little because they use the shapes of the\n",
    "# final products, meaning a lot of unfilled cells\n",
    "X_truncated = X_raw#[:backup_index]\n",
    "Y_truncated = Y_raw#[:backup_index]\n",
    "# Possible off-by-one error here, but in this case that just means we're\n",
    "# excluding one sample."
   ]
  },
  {
   "cell_type": "code",
   "execution_count": 8,
   "id": "1256984c-9f34-4678-84be-1fe813222341",
   "metadata": {},
   "outputs": [],
   "source": [
    "scale_factor = np.load(\"standard_k.npy\", allow_pickle=True)"
   ]
  },
  {
   "cell_type": "code",
   "execution_count": 9,
   "id": "b307fd57-94b3-4d51-8ad9-69b2afed0e56",
   "metadata": {},
   "outputs": [
    {
     "data": {
      "text/plain": [
       "[<matplotlib.lines.Line2D at 0x7ff12abcf910>]"
      ]
     },
     "execution_count": 9,
     "metadata": {},
     "output_type": "execute_result"
    },
    {
     "data": {
      "image/png": "[encoded data removed]",
      "text/plain": [
       "<Figure size 640x480 with 1 Axes>"
      ]
     },
     "metadata": {},
     "output_type": "display_data"
    }
   ],
   "source": [
    "# This plot only serves to make sure that the first row actually describes a\n",
    "# function.\n",
    "pb.plot(scale_factor, Y_truncated[0])"
   ]
  },
  {
   "cell_type": "code",
   "execution_count": 10,
   "id": "9f436af1-ffee-4afe-9700-18b397b830bc",
   "metadata": {},
   "outputs": [
    {
     "data": {
      "text/plain": [
       "'\\nfor i in range(len(Y_truncated)):\\n    pspec = Y_truncated[i]\\n    if float(\\'-inf\\') in pspec:\\n        print(\"-inf\")\\n    if float(\\'inf\\') in pspec:\\n        print(\"inf\")\\n    if None in pspec:\\n        print(\"None\")\\n    if True in np.isnan(pspec):\\n        print(\"NaN in row\", i)\\n        print(X_truncated[i])\\n    if 0 in pspec:\\n        print(\"zero\")\\n'"
      ]
     },
     "execution_count": 10,
     "metadata": {},
     "output_type": "execute_result"
    }
   ],
   "source": [
    "'''\n",
    "for i in range(len(Y_truncated)):\n",
    "    pspec = Y_truncated[i]\n",
    "    if float('-inf') in pspec:\n",
    "        print(\"-inf\")\n",
    "    if float('inf') in pspec:\n",
    "        print(\"inf\")\n",
    "    if None in pspec:\n",
    "        print(\"None\")\n",
    "    if True in np.isnan(pspec):\n",
    "        print(\"NaN in row\", i)\n",
    "        print(X_truncated[i])\n",
    "    if 0 in pspec:\n",
    "        print(\"zero\")\n",
    "'''"
   ]
  },
  {
   "cell_type": "code",
   "execution_count": 11,
   "id": "10a6df5e-3563-4300-8193-d7b407bce0f8",
   "metadata": {},
   "outputs": [
    {
     "data": {
      "text/plain": [
       "'\\n# Now remove the offending rows\\nfor i in reversed(bad_row_indices):\\n    # iterate backwards or else concurrent modification\\n    # makes the indices meaningless\\n    X.pop(i)\\n    Y.pop(i)\\n'"
      ]
     },
     "execution_count": 11,
     "metadata": {},
     "output_type": "execute_result"
    }
   ],
   "source": [
    "def is_bad(row):\n",
    "    if float('-inf') in row or float('inf') in row \\\n",
    "        or None in row or True in np.isnan(pspec) \\\n",
    "        or 0 in row:\n",
    "        return True\n",
    "    return False\n",
    "\n",
    "bad_row_indices = []\n",
    "for i in range(len(Y_truncated)):\n",
    "    pspec = Y_truncated[i]\n",
    "    if is_bad(pspec):\n",
    "        bad_row_indices.append(i)\n",
    "\n",
    "X = np.delete(X_truncated, bad_row_indices, 0)\n",
    "Y = np.delete(Y_truncated, bad_row_indices, 0)\n",
    "\n",
    "'''\n",
    "# Now remove the offending rows\n",
    "for i in reversed(bad_row_indices):\n",
    "    # iterate backwards or else concurrent modification\n",
    "    # makes the indices meaningless\n",
    "    X.pop(i)\n",
    "    Y.pop(i)\n",
    "'''"
   ]
  },
  {
   "cell_type": "code",
   "execution_count": 12,
   "id": "9d6176f6-0e5b-4df5-a937-7e670c0c6f00",
   "metadata": {},
   "outputs": [
    {
     "data": {
      "text/plain": [
       "(300,)"
      ]
     },
     "execution_count": 12,
     "metadata": {},
     "output_type": "execute_result"
    }
   ],
   "source": [
    "# Now the goal is to compute summary statistics on Y for each value k\n",
    "len(Y[0])\n",
    "len(Y[:, 0])\n",
    "mu = np.mean(Y, axis=0)\n",
    "mu.shape\n",
    "stdev = np.std(Y, axis=0)\n",
    "stdev.shape"
   ]
  },
  {
   "cell_type": "code",
   "execution_count": 13,
   "id": "c6e4ef50-4b66-4f12-9342-42160fccc7bb",
   "metadata": {},
   "outputs": [],
   "source": [
    "# now normalize the data with these summary statistics\n",
    "Y_normalized = cp.deepcopy(Y)\n",
    "\n",
    "for i in range(len(Y)):\n",
    "    Y_normalized[i] -= mu\n",
    "    Y_normalized[i] /= stdev"
   ]
  },
  {
   "cell_type": "code",
   "execution_count": 14,
   "id": "733aeba4-c006-4470-b459-7e17a6f9fe3d",
   "metadata": {},
   "outputs": [],
   "source": [
    "def inverse_transform(raw_prediction):\n",
    "    return np.exp(raw_prediction * stdev + mu)"
   ]
  },
  {
   "cell_type": "code",
   "execution_count": 15,
   "id": "170e8cdd-08da-4f7c-85bf-bdd116b88113",
   "metadata": {},
   "outputs": [
    {
     "name": "stdout",
     "output_type": "stream",
     "text": [
      "(4987, 6) (4987, 300)\n"
     ]
    }
   ],
   "source": [
    "print(X.shape, Y_normalized.shape)"
   ]
  },
  {
   "cell_type": "code",
   "execution_count": 16,
   "id": "91ce7cc6-d0ea-4cf4-9711-ef5ce5ede4e9",
   "metadata": {},
   "outputs": [],
   "source": [
    "kernel = GPy.kern.RBF(input_dim=6, variance=1., lengthscale=1.)\n",
    "m = GPy.models.GPRegression(X,Y_normalized,kernel)"
   ]
  },
  {
   "cell_type": "code",
   "execution_count": null,
   "id": "6d5df2d9-b8d6-4056-9826-afe0f3950d41",
   "metadata": {},
   "outputs": [],
   "source": [
    "m.constrain_positive('') # '' is a regex matching all parameter names\n",
    "m.optimize()"
   ]
  },
  {
   "cell_type": "code",
   "execution_count": null,
   "id": "3b5711f3-c3c3-4a6a-851d-fb25458d28af",
   "metadata": {},
   "outputs": [],
   "source": [
    "# Remember that the structure of a hc entry is\n",
    "# omb, omc, ns, s12, omnu, As\n",
    "x = np.array([np.array([\n",
    "    0.022445, 0.120567, 0.96, 0.78667255, 0.002, 2.12723788013000E-09\n",
    "])])\n",
    "x"
   ]
  },
  {
   "cell_type": "code",
   "execution_count": null,
   "id": "c55040a9-8ed6-42c5-83f0-bed887388436",
   "metadata": {},
   "outputs": [],
   "source": [
    "guess, uncertainties = m.predict(x)"
   ]
  },
  {
   "cell_type": "code",
   "execution_count": null,
   "id": "15f88eb6-d56f-4720-b5d8-0089b328dc4a",
   "metadata": {},
   "outputs": [],
   "source": [
    "#import matplotlib.pyplot as plt\n",
    "pb.loglog(scale_factor, inverse_transform(guess[0]))\n",
    "pb.title(\"Emulator F, 5000 Samples, Aletheia model 0\")\n",
    "pb.ylabel('P(k) at redshift zero')\n",
    "pb.xlabel('scale factor k')"
   ]
  },
  {
   "cell_type": "code",
   "execution_count": null,
   "id": "1f4aeb40-d15a-49ed-8260-6e540d96c5fd",
   "metadata": {},
   "outputs": [],
   "source": [
    "# Now let's check our work with battery\n",
    "import importlib.util\n",
    "import sys\n",
    "spec = importlib.util.spec_from_file_location(\n",
    "    \"spectra\", \"../shared/spectra.py\")\n",
    "spectra = importlib.util.module_from_spec(spec)\n",
    "sys.modules[\"spectra\"] = spectra\n",
    "spec.loader.exec_module(spectra)\n",
    "\n",
    "# Compare like to like\n",
    "massless_cosmology = spectra.specify_neutrino_mass(spectra.cosm.iloc[0], 0.002,\n",
    "    1)\n",
    "k_m0truth, z_m0truth, p_m0truth, s_m0truth = \\\n",
    "    spectra.kzps(massless_cosmology, zs=[0], k_points=300)\n",
    "print(s_m0truth)"
   ]
  },
  {
   "cell_type": "markdown",
   "id": "7d81bc21-5748-48e1-9d90-9abc253850a7",
   "metadata": {},
   "source": [
    "Next steps:\n",
    "* Import \"ground truth\": what the plot was really supposed to look like for model 0\n",
    "* Play with omega_nu, n_s, omega_nu + omega_cdm to see if you can get the same behavior as in the animations"
   ]
  },
  {
   "cell_type": "code",
   "execution_count": null,
   "id": "14f04b49-f7eb-4a94-a9ac-d7774d87f1a4",
   "metadata": {},
   "outputs": [],
   "source": [
    "#import matplotlib.pyplot as plt\n",
    "pb.loglog(k_m0truth, p_m0truth)\n",
    "pb.title(\"CAMB, Aletheia model 0\")\n",
    "pb.ylabel('P(k) at redshift zero')\n",
    "pb.xlabel('scale factor k')"
   ]
  },
  {
   "cell_type": "code",
   "execution_count": null,
   "id": "e115e94a-56cc-45e3-9de7-5e0ef48e78e0",
   "metadata": {},
   "outputs": [],
   "source": [
    "pb.plot(scale_factor, inverse_transform(guess[0]),\n",
    "    label=\"F5000 emulator\")\n",
    "pb.loglog(k_m0truth, p_m0truth, label=\"CAMB\")\n",
    "pb.title(\"Aletheia model 0, redshift zero\")\n",
    "pb.ylabel('$P(k)$ [Mpc$^3$]')\n",
    "pb.xlabel('$k$ [1 / Mpc]')\n",
    "pb.legend()"
   ]
  },
  {
   "cell_type": "code",
   "execution_count": null,
   "id": "19c03b8f-e04d-4aa9-8262-56f728592723",
   "metadata": {},
   "outputs": [],
   "source": [
    "pb.plot(scale_factor,\n",
    "    (inverse_transform(guess[0]) - p_m0truth) / p_m0truth * 100)\n",
    "pb.xscale('log')\n",
    "pb.title(\"Aletheia model 0, redshift zero, percent error\")\n",
    "pb.ylabel('% Error in $P(k)$')\n",
    "pb.xlabel('$k$ [1 / Mpc]')"
   ]
  },
  {
   "cell_type": "markdown",
   "id": "bedf893a-5319-4247-9312-19a52a8d86d0",
   "metadata": {},
   "source": [
    "Pretty encouraging for such an early iteration."
   ]
  },
  {
   "cell_type": "code",
   "execution_count": null,
   "id": "f6c4af86-3fcf-41fe-8e3d-6bcf723e95e4",
   "metadata": {},
   "outputs": [],
   "source": [
    "# Remember that the structure of a hc entry is\n",
    "# omb, omc, ns, s12, omnu, As\n",
    "x_hi_ns = np.array([np.array([\n",
    "    0.022445, 0.120567, 1.1, 0.82466774, 0, 2.12723788013000E-09\n",
    "])])\n",
    "guess_hi_ns, uncertainties_hi_ns = m.predict(x_hi_ns)\n",
    "x_lo_ns = np.array([np.array([\n",
    "    0.022445, 0.120567, 0.84, 0.82466774, 0, 2.12723788013000E-09\n",
    "])])\n",
    "guess_lo_ns, uncertainties_lo_ns = m.predict(x_lo_ns)\n"
   ]
  },
  {
   "cell_type": "code",
   "execution_count": null,
   "id": "348815cd-0378-44aa-bb5e-0d5b741117e0",
   "metadata": {},
   "outputs": [],
   "source": [
    "pb.plot(scale_factor, guess[0], label=\"n_s 0.96\")\n",
    "pb.plot(scale_factor, guess_hi_ns[0], label=\"n_s 1.1\")\n",
    "pb.plot(scale_factor, guess_lo_ns[0], label=\"n_s 0.84\")\n",
    "\n",
    "pb.xscale('log')\n",
    "\n",
    "pb.title(\"Aletheia model 0, redshift zero\")\n",
    "pb.ylabel('log $P(k)$')\n",
    "pb.xlabel('$k$')\n",
    "pb.legend()"
   ]
  },
  {
   "cell_type": "code",
   "execution_count": null,
   "id": "52380b7c-6991-4fe4-bf61-643153822bb1",
   "metadata": {},
   "outputs": [],
   "source": [
    "# Remember that the structure of a hc entry is\n",
    "# omb, omc, ns, s12, omnu, As\n",
    "omnu_hi = 0.01\n",
    "x_hi_omnu = np.array([np.array([\n",
    "    0.022445, 0.120567 - omnu_hi, 0.96, 0.82466774, omnu_hi,\\\n",
    "    2.12723788013000E-09\n",
    "])])\n",
    "guess_hi_omnu, uncertainties_hi_omnu = m.predict(x_hi_omnu)\n",
    "\n",
    "omnu_mid = 0.002148659574468\n",
    "x_mid_omnu = np.array([np.array([\n",
    "    0.022445, 0.120567 - omnu_mid, 0.96, 0.82466774, omnu_mid, \\\n",
    "    2.12723788013000E-09\n",
    "])])\n",
    "guess_mid_omnu, uncertainties_mid_omnu = m.predict(x_mid_omnu)\n"
   ]
  },
  {
   "cell_type": "code",
   "execution_count": null,
   "id": "e69ac2bb-f19f-494d-8429-f9c6ff599146",
   "metadata": {},
   "outputs": [],
   "source": [
    "pb.plot(scale_factor, guess[0], label=\"omnu 0\")\n",
    "pb.plot(scale_factor, guess_hi_omnu[0], label=\"omnu 0.01\")\n",
    "pb.plot(scale_factor, guess_mid_omnu[0], label=\"omnu 0.002\")\n",
    "\n",
    "pb.xscale('log')\n",
    "\n",
    "pb.title(\"Aletheia model 0, redshift zero\")\n",
    "pb.ylabel('log $P(k)$')\n",
    "pb.xlabel('$k$')\n",
    "pb.legend()"
   ]
  },
  {
   "cell_type": "code",
   "execution_count": null,
   "id": "0f0553d6-464b-4784-8449-e7177d928661",
   "metadata": {},
   "outputs": [],
   "source": [
    "# Remember that the structure of a hc entry is\n",
    "# omb, omc, ns, s12, omnu, As\n",
    "hi_factor = 1.15\n",
    "x_hi_omm = np.array([np.array([\n",
    "    0.022445 * hi_factor, 0.120567 * hi_factor, 0.96, 0.82466774, 0,\\\n",
    "    2.12723788013000E-09\n",
    "])])\n",
    "guess_hi_omm, uncertainties_hi_omm = m.predict(x_hi_omm)\n",
    "\n",
    "lo_factor = 0.85\n",
    "x_lo_omm = np.array([np.array([\n",
    "    0.022445 * lo_factor, 0.120567 * lo_factor, 0.96, 0.82466774, 0, \\\n",
    "    2.12723788013000E-09\n",
    "])])\n",
    "guess_lo_omm, uncertainties_lo_omm = m.predict(x_lo_omm)\n"
   ]
  },
  {
   "cell_type": "code",
   "execution_count": null,
   "id": "d9a02cdd-c1f8-4671-823a-11c82b43e546",
   "metadata": {},
   "outputs": [],
   "source": [
    "pb.plot(scale_factor, guess[0], label=\"omm Planck\")\n",
    "pb.plot(scale_factor, guess_hi_omm[0], label=\"omm Planck * 1.15\")\n",
    "pb.plot(scale_factor, guess_lo_omm[0], label=\"omm Planck * 0.85\")\n",
    "\n",
    "pb.xscale('log')\n",
    "\n",
    "pb.title(\"Aletheia model 0, redshift zero\")\n",
    "pb.ylabel('log $P(k)$')\n",
    "pb.xlabel('$k$')\n",
    "pb.legend()"
   ]
  },
  {
   "cell_type": "code",
   "execution_count": null,
   "id": "6ac1462d-5f2b-44db-9c75-3b948ee66eba",
   "metadata": {},
   "outputs": [],
   "source": [
    "# Remember that the structure of a hc entry is\n",
    "# omb, omc, ns, s12, omnu, As\n",
    "x_hi_As = np.array([np.array([\n",
    "    0.022445, 0.120567, 0.96, 0.82466774, 0, np.exp(3.91) / 10 ** 10\n",
    "])])\n",
    "guess_hi_As, uncertainties_hi_As = m.predict(x_hi_As)\n",
    "x_lo_As = np.array([np.array([\n",
    "    0.022445, 0.120567, 0.96, 0.82466774, 0, np.exp(2.35) / 10 ** 10 \n",
    "])])\n",
    "guess_lo_As, uncertainties_lo_As = m.predict(x_lo_As)"
   ]
  },
  {
   "cell_type": "code",
   "execution_count": null,
   "id": "6e039bbb-78b3-4deb-be87-2abe0b468ba0",
   "metadata": {},
   "outputs": [],
   "source": [
    "pb.plot(scale_factor, guess[0], label=\"As Planck\")\n",
    "pb.plot(scale_factor, guess_hi_As[0], label=\"As high\")\n",
    "pb.plot(scale_factor, guess_lo_As[0], label=\"As low\")\n",
    "\n",
    "pb.xscale('log')\n",
    "\n",
    "pb.title(\"Aletheia model 0, redshift zero\")\n",
    "pb.ylabel('log $P(k)$')\n",
    "pb.xlabel('$k$')\n",
    "pb.legend()"
   ]
  },
  {
   "cell_type": "markdown",
   "id": "5494af8b-78f7-49c5-8626-8b8d7e9a87c9",
   "metadata": {},
   "source": [
    "I guess this shows that sigma12 countermands As, huh?"
   ]
  }
 ],
 "metadata": {
  "kernelspec": {
   "display_name": "Python 3 (ipykernel)",
   "language": "python",
   "name": "python3"
  },
  "language_info": {
   "codemirror_mode": {
    "name": "ipython",
    "version": 3
   },
   "file_extension": ".py",
   "mimetype": "text/x-python",
   "name": "python",
   "nbconvert_exporter": "python",
   "pygments_lexer": "ipython3",
   "version": "3.9.16"
  }
 },
 "nbformat": 4,
 "nbformat_minor": 5
}
