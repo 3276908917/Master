{
 "cells": [
  {
   "cell_type": "code",
   "execution_count": 1,
   "id": "ce2e6269-d53c-4d7e-a0ab-819d34d9331b",
   "metadata": {},
   "outputs": [],
   "source": [
    "import numpy as np\n",
    "import pylab as pb\n",
    "import GPy\n",
    "import copy as cp\n",
    "\n",
    "from cassL import camb_interface as ci\n",
    "from cassL import generate_emu_data as ged\n",
    "from cassL import user_interface as ui\n",
    "\n",
    "regenerate = False\n",
    "\n",
    "pb.ion()\n",
    "\n",
    "file_base = \"\""
   ]
  },
  {
   "cell_type": "code",
   "execution_count": 2,
   "id": "3dc64ac5-b34d-4a71-84ab-1cdd70822bcb",
   "metadata": {},
   "outputs": [],
   "source": [
    "X_raw = np.load(file_base + \"hc_massless_pred_actual.npy\", allow_pickle=True)\n",
    "Y_raw = np.load(file_base + \"samples_massless_pred.npy\", allow_pickle=True)\n",
    "assert False, \"You should give the emulator a new name instead of over-writing.\"\n",
    "emu_vlabel = \"h1\""
   ]
  },
  {
   "cell_type": "code",
   "execution_count": 3,
   "id": "1256984c-9f34-4678-84be-1fe813222341",
   "metadata": {},
   "outputs": [],
   "source": [
    "scales = np.load(\"standard_k.npy\", allow_pickle=True)"
   ]
  },
  {
   "cell_type": "code",
   "execution_count": 4,
   "id": "b307fd57-94b3-4d51-8ad9-69b2afed0e56",
   "metadata": {},
   "outputs": [
    {
     "data": {
      "text/plain": [
       "[<matplotlib.lines.Line2D at 0x7f06ec73b940>]"
      ]
     },
     "execution_count": 4,
     "metadata": {},
     "output_type": "execute_result"
    },
    {
     "data": {
      "image/png": "[encoded data removed]",
      "text/plain": [
       "<Figure size 640x480 with 1 Axes>"
      ]
     },
     "metadata": {},
     "output_type": "display_data"
    }
   ],
   "source": [
    "# This plot only serves to make sure that the first row actually describes a\n",
    "# function.\n",
    "pb.plot(scales, Y_raw[0])"
   ]
  },
  {
   "cell_type": "code",
   "execution_count": 5,
   "id": "10a6df5e-3563-4300-8193-d7b407bce0f8",
   "metadata": {},
   "outputs": [],
   "source": [
    "def is_bad(row):\n",
    "    if float('-inf') in row or float('inf') in row \\\n",
    "        or None in row or True in np.isnan(pspec) \\\n",
    "        or 0 in row:\n",
    "        return True\n",
    "    return False\n",
    "\n",
    "bad_row_indices = []\n",
    "for i in range(len(Y_raw)):\n",
    "    pspec = Y_raw[i]\n",
    "    if is_bad(pspec):\n",
    "        bad_row_indices.append(i)\n",
    "\n",
    "X = np.delete(X_raw, bad_row_indices, 0)\n",
    "Y = np.delete(Y_raw, bad_row_indices, 0)"
   ]
  },
  {
   "cell_type": "code",
   "execution_count": 6,
   "id": "9d6176f6-0e5b-4df5-a937-7e670c0c6f00",
   "metadata": {},
   "outputs": [
    {
     "data": {
      "text/plain": [
       "(300,)"
      ]
     },
     "execution_count": 6,
     "metadata": {},
     "output_type": "execute_result"
    }
   ],
   "source": [
    "# Now the goal is to compute summary statistics on Y for each value k\n",
    "Ylog = np.log(Y)\n",
    "ymu = np.mean(Ylog, axis=0)\n",
    "ymu.shape\n",
    "ystdev = np.std(Ylog, axis=0)\n",
    "ystdev.shape"
   ]
  },
  {
   "cell_type": "code",
   "execution_count": 7,
   "id": "c6e4ef50-4b66-4f12-9342-42160fccc7bb",
   "metadata": {},
   "outputs": [],
   "source": [
    "# now normalize the data with these summary statistics\n",
    "Y_normalized = cp.deepcopy(Ylog)\n",
    "\n",
    "for i in range(len(Y)):\n",
    "    Y_normalized[i] -= ymu\n",
    "    Y_normalized[i] /= ystdev"
   ]
  },
  {
   "cell_type": "code",
   "execution_count": 8,
   "id": "b9340323-fcfc-42cc-9427-a5e1f0c8244b",
   "metadata": {},
   "outputs": [],
   "source": [
    "par_ranges = ui.get_param_ranges(massive_neutrinos=False)"
   ]
  },
  {
   "cell_type": "code",
   "execution_count": 9,
   "id": "1bb89220-4d0c-404a-ad6a-dfcaf56c6b3f",
   "metadata": {},
   "outputs": [
    {
     "name": "stdout",
     "output_type": "stream",
     "text": [
      "[0.0205 0.085  0.92   0.2   ]\n",
      "[0.00365 0.07    0.09    0.8    ]\n"
     ]
    }
   ],
   "source": [
    "xmin = np.array([])\n",
    "xrange = np.array([])\n",
    "\n",
    "for key in par_ranges.keys():\n",
    "    xmin = np.append(xmin, par_ranges[key][0])\n",
    "    xrange = np.append(xrange, par_ranges[key][1] - par_ranges[key][0])\n",
    "\n",
    "print(xmin)\n",
    "print(xrange)"
   ]
  },
  {
   "cell_type": "code",
   "execution_count": 10,
   "id": "733aeba4-c006-4470-b459-7e17a6f9fe3d",
   "metadata": {},
   "outputs": [],
   "source": [
    "def inverse_ytransform(raw_prediction):\n",
    "    return np.exp(raw_prediction * stdev + mu)"
   ]
  },
  {
   "cell_type": "code",
   "execution_count": 11,
   "id": "294d733e-0a8d-4707-97be-bfc477454277",
   "metadata": {},
   "outputs": [],
   "source": [
    "# This transforms from a cosmological configuration to an LHC coordinate,\n",
    "# i.e. the input format that the emulator expects.\n",
    "def xtransform(configuration):\n",
    "    return (configuration - xmin) / xrange"
   ]
  },
  {
   "cell_type": "code",
   "execution_count": 12,
   "id": "170e8cdd-08da-4f7c-85bf-bdd116b88113",
   "metadata": {},
   "outputs": [
    {
     "name": "stdout",
     "output_type": "stream",
     "text": [
      "(5000, 4) (5000, 300)\n"
     ]
    }
   ],
   "source": [
    "print(X.shape, Y_normalized.shape)"
   ]
  },
  {
   "cell_type": "code",
   "execution_count": 13,
   "id": "acee3803-1507-4340-a565-4db7f1d8f2e5",
   "metadata": {},
   "outputs": [],
   "source": [
    "m0 = ci.specify_neutrino_mass(ci.cosm.iloc[0], 0, 0)"
   ]
  },
  {
   "cell_type": "code",
   "execution_count": 14,
   "id": "88c38b75-3dc4-4e9f-a9e7-db40c811a054",
   "metadata": {
    "tags": []
   },
   "outputs": [
    {
     "name": "stdout",
     "output_type": "stream",
     "text": [
      "nnu_massive: 0\n",
      "0.8246417529534887\n"
     ]
    }
   ],
   "source": [
    "# We'll need to check our work using CAMB\n",
    "p_true_interpolator = ci.andrea_interpolator(m0)#,\n",
    "#    redshifts=[0], kmax=10)\n",
    "p_m0truth = np.array([p_true_interpolator.P(0, k) for k in scales])\n",
    "\n",
    "s_m0truth = ci.s12_from_interpolator(p_true_interpolator, 0)\n",
    "\n",
    "m0['sigma12'] = s_m0truth\n",
    "\n",
    "print(s_m0truth)"
   ]
  },
  {
   "cell_type": "code",
   "execution_count": 15,
   "id": "619d0942-97f6-4e65-b408-2c9dbfde6dce",
   "metadata": {},
   "outputs": [],
   "source": [
    "p_m0truth2, actual_sigma12, best_z = ged.interpolate_cell(m0, scales,\n",
    "    using_andrea_code=False)"
   ]
  },
  {
   "cell_type": "code",
   "execution_count": 16,
   "id": "91ce7cc6-d0ea-4cf4-9711-ef5ce5ede4e9",
   "metadata": {},
   "outputs": [],
   "source": [
    "kernel = GPy.kern.RBF(input_dim=4, variance=1., lengthscale=1.)\n",
    "m = GPy.models.GPRegression(X, Y_normalized, kernel)"
   ]
  },
  {
   "cell_type": "code",
   "execution_count": null,
   "id": "6d5df2d9-b8d6-4056-9826-afe0f3950d41",
   "metadata": {},
   "outputs": [],
   "source": [
    "m.constrain_positive('') # '' is a regex matching all parameter names\n",
    "m.optimize()\n",
    "\n",
    "m = None\n",
    "if regenerate:\n",
    "    m.constrain_positive('') # '' is a regex matching all parameter names\n",
    "    m.optimize()\n",
    "\n",
    "    m.ymu = ymu\n",
    "    m.ystdev = ystdev\n",
    "    m.xmin = xmin\n",
    "    m.xrange = xrange\n",
    "    pickle.dump(m, open(\"analyses/massless_emulator_\" + emu_vlabel + \\\n",
    "                        \".cle\", \"wb\"), protocol=5) \n",
    "else:\n",
    "    m = pickle.load(open(\"analyses/massless_emulator_\" + emu_vlabel + \\\n",
    "                         \".cle\", \"rb\"))"
   ]
  },
  {
   "cell_type": "code",
   "execution_count": null,
   "id": "3b5711f3-c3c3-4a6a-851d-fb25458d28af",
   "metadata": {},
   "outputs": [],
   "source": [
    "# Remember that the structure of an hc entry is DIFFERENT NOW\n",
    "# omb, omc, ns, s12, As, omnu\n",
    "x = np.array([np.array([\n",
    "    m0['ombh2'], m0['omch2'], m0['n_s'],\n",
    "    s_m0truth, m0['A_s'], m0_with_neuts['omnuh2']\n",
    "])])\n",
    "x"
   ]
  },
  {
   "cell_type": "code",
   "execution_count": null,
   "id": "c55040a9-8ed6-42c5-83f0-bed887388436",
   "metadata": {},
   "outputs": [],
   "source": [
    "guess, uncertainties = m.predict(xtransform(x))"
   ]
  },
  {
   "cell_type": "code",
   "execution_count": null,
   "id": "15f88eb6-d56f-4720-b5d8-0089b328dc4a",
   "metadata": {},
   "outputs": [],
   "source": [
    "pb.plot(scales, inverse_ytransform(guess[0]), label=emu_vlabel + \" emulator\")\n",
    "pb.loglog(scales, p_m0truth, label=\"CAMB\", linestyle='dashed')\n",
    "pb.loglog(scales, p_m0truth2, label=\"Training Point\")#, linestyle='dashed')\n",
    "pb.title(\"Aletheia model 0, redshift zero\")\n",
    "pb.ylabel('$P(k)$ [Mpc$^3$]')\n",
    "pb.xlabel('scale $k$ [1 / Mpc]')\n",
    "pb.legend()"
   ]
  },
  {
   "cell_type": "code",
   "execution_count": null,
   "id": "9d8f6f2a-a478-4faf-8ad3-77b0711a6e6e",
   "metadata": {},
   "outputs": [],
   "source": [
    "pb.plot(scales,\n",
    "    ui.percent_error(p_m0truth, p_m0truth2))\n",
    "pb.xscale('log')\n",
    "pb.title(\"Aletheia model 0, redshift zero, percent error\")\n",
    "pb.ylabel('% Error in $P(k)$ between Andrea interp and interp_cell')\n",
    "pb.xlabel('scale $k$ [1 / Mpc]')\n",
    "# pb.savefig(\"../../plots/emulator/performance/massive_m0_G5.png\")"
   ]
  },
  {
   "cell_type": "code",
   "execution_count": null,
   "id": "6db2b6e7-9ce3-4a09-a58a-3736f40381a1",
   "metadata": {},
   "outputs": [],
   "source": [
    "pb.plot(scales,\n",
    "    ui.percent_error(p_m0truth2, inverse_ytransform(guess[0])))\n",
    "pb.xscale('log')\n",
    "pb.title(\"Aletheia model 0, redshift zero, percent error\")\n",
    "pb.ylabel('% Error in $P(k)$ between Andrea interp and emu')\n",
    "pb.xlabel('scale $k$ [1 / Mpc]')\n",
    "# pb.savefig(\"../../plots/emulator/performance/massive_m0_G5.png\")"
   ]
  },
  {
   "cell_type": "code",
   "execution_count": null,
   "id": "f6c4af86-3fcf-41fe-8e3d-6bcf723e95e4",
   "metadata": {},
   "outputs": [],
   "source": [
    "# Remember that the structure of a hc entry is\n",
    "# omb, omc, ns, s12, omnu, As\n",
    "x_hi_ns = np.array([np.array([\n",
    "    0.022445, 0.120567, 1.01, 0.82466774\n",
    "])])\n",
    "guess_hi_ns, uncertainties_hi_ns = m.predict(xtransform(x_hi_ns))\n",
    "x_lo_ns = np.array([np.array([\n",
    "    0.022445, 0.120567, 0.92, 0.82466774\n",
    "])])\n",
    "guess_lo_ns, uncertainties_lo_ns = m.predict(xtransform(x_lo_ns))\n"
   ]
  },
  {
   "cell_type": "code",
   "execution_count": null,
   "id": "348815cd-0378-44aa-bb5e-0d5b741117e0",
   "metadata": {},
   "outputs": [],
   "source": [
    "pb.loglog(scales, inverse_ytransform(guess[0]), label=\"n_s 0.96\")\n",
    "pb.loglog(scales, inverse_ytransform(guess_hi_ns[0]), label=\"n_s 1.01\")\n",
    "pb.loglog(scales, inverse_ytransform(guess_lo_ns[0]), label=\"n_s 0.92\")\n",
    "\n",
    "pb.title(\"Aletheia model 0, redshift zero\")\n",
    "pb.ylabel('log $P(k)$')\n",
    "pb.xlabel('$k$')\n",
    "pb.legend()"
   ]
  },
  {
   "cell_type": "code",
   "execution_count": null,
   "id": "0f0553d6-464b-4784-8449-e7177d928661",
   "metadata": {},
   "outputs": [],
   "source": [
    "# Remember that the structure of a hc entry is\n",
    "# omb, omc, ns, s12, omnu, As\n",
    "x_hi_omb = np.array([np.array([\n",
    "    0.02415, 0.120567, 0.96, 0.82466774\n",
    "])])\n",
    "guess_hi_omb, uncertainties_hi_omb = m.predict(xtransform(x_hi_omb))\n",
    "\n",
    "x_lo_omb = np.array([np.array([\n",
    "    0.0205, 0.120567, 0.96, 0.82466774, 0\n",
    "])])\n",
    "guess_lo_omb, uncertainties_lo_omb = m.predict(xtransform(x_lo_omb))\n"
   ]
  },
  {
   "cell_type": "code",
   "execution_count": null,
   "id": "d9a02cdd-c1f8-4671-823a-11c82b43e546",
   "metadata": {},
   "outputs": [],
   "source": [
    "pb.loglog(scales, inverse_ytransform(guess[0]),\n",
    "        label=\"om_b Planck\")\n",
    "pb.loglog(scales, inverse_ytransform(guess_hi_omb[0]),\n",
    "        label=\"om_b 0.02415\")\n",
    "pb.loglog(scales, inverse_ytransform(guess_lo_omb[0]),\n",
    "        label=\"om_b 0.0205\")\n",
    "\n",
    "pb.title(\"Aletheia model 0, redshift zero\")\n",
    "pb.ylabel('log $P(k)$')\n",
    "pb.xlabel('$k$')\n",
    "pb.legend()"
   ]
  },
  {
   "cell_type": "code",
   "execution_count": null,
   "id": "06498e21-412a-40a5-b886-b68ffd7dcb33",
   "metadata": {},
   "outputs": [],
   "source": [
    "# Remember that the structure of a hc entry is\n",
    "# omb, omc, ns, s12, omnu, As\n",
    "x_hi_omc = np.array([np.array([\n",
    "    0.022445, 0.155, 0.96, 0.82466774\n",
    "])])\n",
    "guess_hi_omc, uncertainties_hi_omc = m.predict(xtransform(x_hi_omc))\n",
    "\n",
    "x_lo_omc = np.array([np.array([\n",
    "    0.022445, 0.085, 0.96, 0.82466774\n",
    "])])\n",
    "guess_lo_omc, uncertainties_lo_omc = m.predict(xtransform(x_lo_omc))\n"
   ]
  },
  {
   "cell_type": "code",
   "execution_count": null,
   "id": "e5d374ec-0781-439c-a270-e95fa00c3bd1",
   "metadata": {},
   "outputs": [],
   "source": [
    "pb.loglog(scales, inverse_ytransform(guess[0]),\n",
    "        label=\"om_c Planck\")\n",
    "pb.loglog(scales, inverse_ytransform(guess_hi_omc[0]),\n",
    "        label=\"om_c 0.155\")\n",
    "pb.loglog(scales, inverse_ytransform(guess_lo_omc[0]),\n",
    "        label=\"om_c 0.085\")\n",
    "\n",
    "pb.title(\"Aletheia model 0, redshift zero\")\n",
    "pb.ylabel('log $P(k)$')\n",
    "pb.xlabel('$k$')\n",
    "pb.legend()"
   ]
  }
 ],
 "metadata": {
  "kernelspec": {
   "display_name": "Python 3 (ipykernel)",
   "language": "python",
   "name": "python3"
  },
  "language_info": {
   "codemirror_mode": {
    "name": "ipython",
    "version": 3
   },
   "file_extension": ".py",
   "mimetype": "text/x-python",
   "name": "python",
   "nbconvert_exporter": "python",
   "pygments_lexer": "ipython3",
   "version": "3.9.16"
  }
 },
 "nbformat": 4,
 "nbformat_minor": 5
}
