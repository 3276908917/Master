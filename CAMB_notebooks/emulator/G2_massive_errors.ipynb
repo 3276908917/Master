{
 "cells": [
  {
   "cell_type": "code",
   "execution_count": 6,
   "id": "30f09db7-2cfa-446d-817c-a02c1a723faf",
   "metadata": {},
   "outputs": [],
   "source": [
    "import numpy as np\n",
    "import pylab as pb\n",
    "import GPy\n",
    "import copy as cp\n",
    "\n",
    "import pickle\n",
    "\n",
    "pb.ion()\n",
    "\n",
    "file_base = \"\""
   ]
  },
  {
   "cell_type": "code",
   "execution_count": 7,
   "id": "aa78ffac-467f-49ce-ab6e-f3812347c26b",
   "metadata": {},
   "outputs": [],
   "source": [
    "# In this cell, assign m to some serially-loaded trained GPy\n",
    "# emulator"
   ]
  },
  {
   "cell_type": "code",
   "execution_count": 8,
   "id": "7d65295a-58cf-465e-b0dc-080e7b48e4cd",
   "metadata": {},
   "outputs": [],
   "source": [
    "X_raw = np.load(file_base + \"hc_backup_i4999_massive_test_revised.npy\",\n",
    "    allow_pickle=True)\n",
    "Y_raw = np.load(file_base + \"samples_backup_i4999_massive_test_revised.npy\",\n",
    "    allow_pickle=True)"
   ]
  },
  {
   "cell_type": "code",
   "execution_count": 9,
   "id": "e62d1728-e240-4e1d-a3f7-3bcaf786b64a",
   "metadata": {},
   "outputs": [],
   "source": [
    "scales = np.load(\"standard_k.npy\", allow_pickle=True)"
   ]
  },
  {
   "cell_type": "code",
   "execution_count": 10,
   "id": "7012f29c-ad91-41fd-8775-8c844fe1c39f",
   "metadata": {},
   "outputs": [],
   "source": [
    "def is_bad(row):\n",
    "    if float('-inf') in row or float('inf') in row \\\n",
    "        or None in row or True in np.isnan(pspec) \\\n",
    "        or 0 in row:\n",
    "        return True\n",
    "    return False\n",
    "\n",
    "bad_row_indices = []\n",
    "for i in range(len(Y_raw)):\n",
    "    pspec = Y_raw[i]\n",
    "    if is_bad(pspec):\n",
    "        bad_row_indices.append(i)\n",
    "\n",
    "X = np.delete(X_raw, bad_row_indices, 0)\n",
    "Y = np.delete(Y_raw, bad_row_indices, 0)"
   ]
  },
  {
   "cell_type": "code",
   "execution_count": 11,
   "id": "a477781b-ae18-4f79-93a1-8c5dc1f96790",
   "metadata": {},
   "outputs": [],
   "source": [
    "m = pickle.load(open(\"analyses/massive_emulator.nucomet\", \"rb\"))"
   ]
  },
  {
   "cell_type": "code",
   "execution_count": 12,
   "id": "6a88d0c8-5284-43f7-8a10-042f686c233f",
   "metadata": {},
   "outputs": [],
   "source": [
    "def inverse_transform(raw_prediction):\n",
    "    return np.exp(raw_prediction * m.stdev + m.mu)"
   ]
  },
  {
   "cell_type": "code",
   "execution_count": 13,
   "id": "3ab55be8-1f8c-4c83-978f-8b74fd6cf5b8",
   "metadata": {},
   "outputs": [],
   "source": [
    "def nest(array):\n",
    "    return np.array([np.array(array)])"
   ]
  },
  {
   "cell_type": "code",
   "execution_count": null,
   "id": "4b1123b1-12b9-49a4-8f35-8b573c6014a5",
   "metadata": {},
   "outputs": [],
   "source": [
    "preds = np.zeros(Y.shape)\n",
    "rel_errors = np.zeros(Y.shape)\n",
    "\n",
    "for i in range(len(X)):\n",
    "    x = nest(X[i])\n",
    "    raw_pred, _ = m.predict(x)\n",
    "    preds[i] = inverse_transform(raw_pred)\n",
    "    rel_errors[i] = (preds[i] - Y[i]) / Y[i]"
   ]
  },
  {
   "cell_type": "code",
   "execution_count": null,
   "id": "334071cf-d7f6-49f5-ad4e-f38506ddf746",
   "metadata": {},
   "outputs": [],
   "source": [
    "for i in range(len(rel_errors)):\n",
    "    if i % 50 == 0: # plot one out of every one hundred errors\n",
    "        pb.plot(scales, 100 * rel_errors[i],\n",
    "            color='blue', alpha=0.1)\n",
    "        pb.xscale('log')\n",
    "        \n",
    "pb.title(r\"Emulator G, 50 Random Massive-$\\nu$ Models\")\n",
    "pb.ylabel(\"% error between CAMB and NuCOMET\")\n",
    "pb.xlabel(\"scale $k$ [1 / Mpc]\")"
   ]
  },
  {
   "cell_type": "code",
   "execution_count": null,
   "id": "3f52a378-208b-42e6-8426-c3538ed4ca7b",
   "metadata": {},
   "outputs": [],
   "source": []
  }
 ],
 "metadata": {
  "kernelspec": {
   "display_name": "Python 3 (ipykernel)",
   "language": "python",
   "name": "python3"
  },
  "language_info": {
   "codemirror_mode": {
    "name": "ipython",
    "version": 3
   },
   "file_extension": ".py",
   "mimetype": "text/x-python",
   "name": "python",
   "nbconvert_exporter": "python",
   "pygments_lexer": "ipython3",
   "version": "3.9.16"
  }
 },
 "nbformat": 4,
 "nbformat_minor": 5
}
