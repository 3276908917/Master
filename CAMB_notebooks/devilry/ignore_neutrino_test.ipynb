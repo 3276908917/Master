{
 "cells": [
  {
   "cell_type": "code",
   "execution_count": 1,
   "id": "a79dfb1f-a3f4-4ecc-8d41-7cada00b115c",
   "metadata": {},
   "outputs": [],
   "source": [
    "%matplotlib inline\n",
    "%config InlineBackend.figure_format = 'retina'\n",
    "from matplotlib import pyplot as plt\n",
    "import numpy as np\n",
    "\n",
    "import camb\n",
    "from camb import model, initialpower\n",
    "import pandas as pd"
   ]
  },
  {
   "cell_type": "code",
   "execution_count": 2,
   "id": "05e2f7ea-d2ef-48ab-8010-302312dffdec",
   "metadata": {},
   "outputs": [],
   "source": [
    "import importlib.util\n",
    "import sys\n",
    "spec = importlib.util.spec_from_file_location(\n",
    "    \"spectra\", \"../shared/spectra.py\")\n",
    "spectra = importlib.util.module_from_spec(spec)\n",
    "sys.modules[\"spectra\"] = spectra\n",
    "spec.loader.exec_module(spectra)"
   ]
  },
  {
   "cell_type": "code",
   "execution_count": 3,
   "id": "7b7d3638-f5ef-4527-b479-2956bb0d56c8",
   "metadata": {},
   "outputs": [],
   "source": [
    "omeganu_index = 1 # while we debug, we confine our attention to just one value\n",
    "onh2 = spectra.omegas_nu[omeganu_index]\n",
    "onh2_str = spectra.omnu_strings[omeganu_index]"
   ]
  },
  {
   "cell_type": "code",
   "execution_count": 4,
   "id": "d5a2e1f5-1290-4d88-93c1-d3ddc2109a1f",
   "metadata": {},
   "outputs": [],
   "source": [
    "skips_omega_values = np.delete(spectra.omegas_nu, omeganu_index)\n",
    "skips_omega_indices = []\n",
    "for i in range(len(spectra.omegas_nu)):\n",
    "    if spectra.omegas_nu[i] in skips_omega_values:\n",
    "        skips_omega_indices.append(i)"
   ]
  },
  {
   "cell_type": "code",
   "execution_count": 5,
   "id": "a0f669eb-7050-43aa-84f5-d61ec442f31e",
   "metadata": {},
   "outputs": [],
   "source": [
    "# Axe the 0.01 value since Ariel has not tested that one in the shared results\n",
    "powernu3 = spectra.define_powernu(\n",
    "    \"data/power_nu3/Aletheia_powernu3_zorig_nu\",\n",
    "    [\"0.0006\", \"0.0021\", \"0.0064\", \"0.0100\"] \n",
    ")"
   ]
  },
  {
   "cell_type": "code",
   "execution_count": 6,
   "id": "ba0516b3-e5cb-4278-b1cd-c435ad7c61c4",
   "metadata": {},
   "outputs": [],
   "source": [
    "spectra.omegas_nu = spectra.omegas_nu[:(len(spectra.omegas_nu) - 1)]\n",
    "spectra.omnu_strings = spectra.omnu_strings[:(len(spectra.omnu_strings) - 1)]"
   ]
  },
  {
   "cell_type": "code",
   "execution_count": 7,
   "id": "959ba91c-b1b1-4bf3-9313-fb44a3a83ee9",
   "metadata": {},
   "outputs": [
    {
     "name": "stdout",
     "output_type": "stream",
     "text": [
      "012"
     ]
    }
   ],
   "source": [
    "# It's a waste of time to consider all of the omegas and snapshots, so we're\n",
    "# making heavy use of skips.\n",
    "spec_sims = spectra.boltzmann_battery(spectra.omegas_nu, spectra.omnu_strings,\n",
    "    skips_omega = skips_omega_indices, skips_model=[8], skips_snapshot=[1, 2, 3],\n",
    "    fancy_neutrinos=False)"
   ]
  },
  {
   "cell_type": "code",
   "execution_count": 8,
   "id": "e9c0403e-2e67-4335-b27d-30e1dd012071",
   "metadata": {
    "tags": []
   },
   "outputs": [
    {
     "name": "stdout",
     "output_type": "stream",
     "text": [
      "012"
     ]
    }
   ],
   "source": [
    "# It's a waste of time to consider all of the omegas and snapshots, so we're\n",
    "# making heavy use of skips.\n",
    "sims_with_nu = spectra.boltzmann_battery(spectra.omegas_nu, spectra.omnu_strings,\n",
    "    skips_omega = skips_omega_indices, skips_model=[8], skips_snapshot=[1, 2, 3],\n",
    "    fancy_neutrinos=True)"
   ]
  },
  {
   "cell_type": "code",
   "execution_count": 9,
   "id": "b23d3074-d3d1-4f3e-b58e-cce0e2f56aa8",
   "metadata": {},
   "outputs": [
    {
     "ename": "KeyError",
     "evalue": "'k'",
     "output_type": "error",
     "traceback": [
      "\u001b[0;31m---------------------------------------------------------------------------\u001b[0m",
      "\u001b[0;31mKeyError\u001b[0m                                  Traceback (most recent call last)",
      "Cell \u001b[0;32mIn[9], line 16\u001b[0m\n\u001b[1;32m     13\u001b[0m nusim \u001b[38;5;241m=\u001b[39m sims_with_nu[onh2_str][model_i][snap_i]\n\u001b[1;32m     15\u001b[0m \u001b[38;5;66;03m# better_battery access\u001b[39;00m\n\u001b[0;32m---> 16\u001b[0m plt\u001b[38;5;241m.\u001b[39mplot(\u001b[43msim\u001b[49m\u001b[43m[\u001b[49m\u001b[38;5;124;43m\"\u001b[39;49m\u001b[38;5;124;43mk\u001b[39;49m\u001b[38;5;124;43m\"\u001b[39;49m\u001b[43m]\u001b[49m, sim[\u001b[38;5;124m\"\u001b[39m\u001b[38;5;124mP_nu\u001b[39m\u001b[38;5;124m\"\u001b[39m] \u001b[38;5;241m/\u001b[39m sim[\u001b[38;5;124m\"\u001b[39m\u001b[38;5;124mP_no\u001b[39m\u001b[38;5;124m\"\u001b[39m],\n\u001b[1;32m     17\u001b[0m     c\u001b[38;5;241m=\u001b[39m\u001b[38;5;124m'\u001b[39m\u001b[38;5;124mblue\u001b[39m\u001b[38;5;124m'\u001b[39m,\n\u001b[1;32m     18\u001b[0m     label\u001b[38;5;241m=\u001b[39m\u001b[38;5;124m\"\u001b[39m\u001b[38;5;124msimple nu result for z=\u001b[39m\u001b[38;5;124m\"\u001b[39m \u001b[38;5;241m+\u001b[39m \u001b[38;5;28mstr\u001b[39m(z_list[snap_i]))\n\u001b[1;32m     19\u001b[0m \u001b[38;5;66;03m# nu battery access\u001b[39;00m\n\u001b[1;32m     20\u001b[0m plt\u001b[38;5;241m.\u001b[39mplot(nusim[\u001b[38;5;124m\"\u001b[39m\u001b[38;5;124mk\u001b[39m\u001b[38;5;124m\"\u001b[39m], nusim[\u001b[38;5;124m\"\u001b[39m\u001b[38;5;124mP_nu\u001b[39m\u001b[38;5;124m\"\u001b[39m] \u001b[38;5;241m/\u001b[39m nusim[\u001b[38;5;124m\"\u001b[39m\u001b[38;5;124mP_no\u001b[39m\u001b[38;5;124m\"\u001b[39m],\n\u001b[1;32m     21\u001b[0m     c\u001b[38;5;241m=\u001b[39m\u001b[38;5;124m'\u001b[39m\u001b[38;5;124mred\u001b[39m\u001b[38;5;124m'\u001b[39m,\n\u001b[1;32m     22\u001b[0m     label\u001b[38;5;241m=\u001b[39m\u001b[38;5;124m\"\u001b[39m\u001b[38;5;124mfancy nu for z=\u001b[39m\u001b[38;5;124m\"\u001b[39m \u001b[38;5;241m+\u001b[39m \u001b[38;5;28mstr\u001b[39m(z_list[snap_i]))\n",
      "\u001b[0;31mKeyError\u001b[0m: 'k'"
     ]
    }
   ],
   "source": [
    "model_i = 0\n",
    "\n",
    "true_early = powernu3[onh2_str][model_i][0]\n",
    "true_late = powernu3[onh2_str][model_i][4]\n",
    "# The following construction makes indexing a little easier later.\n",
    "true_spec = [true_early, None, None, None, true_late]\n",
    "\n",
    "h = spectra.cosm.loc[model_i][\"h\"]\n",
    "snap_i = 4 # this should be SNAP index, not z index\n",
    "z_list = spectra.parse_redshifts(model_i)\n",
    "\n",
    "sim = spec_sims[onh2_str][model_i][snap_i]\n",
    "nusim = sims_with_nu[onh2_str][model_i][snap_i]\n",
    "\n",
    "# better_battery access\n",
    "plt.plot(sim[\"k\"], sim[\"P_nu\"] / sim[\"P_no\"],\n",
    "    c='blue',\n",
    "    label=\"simple nu result for z=\" + str(z_list[snap_i]))\n",
    "# nu battery access\n",
    "plt.plot(nusim[\"k\"], nusim[\"P_nu\"] / nusim[\"P_no\"],\n",
    "    c='red',\n",
    "    label=\"fancy nu for z=\" + str(z_list[snap_i]))\n",
    "# Ariel's results\n",
    "plt.plot(true_spec[snap_i][\"k\"], true_spec[snap_i][\"ratio\"],\n",
    "    c='yellow',\n",
    "    label=\"powernu3.tar snapshot 4\")\n",
    "\n",
    "snap_i = 0 # This will correspond to z=0 for the model0 case.\n",
    "sim = spec_sims[onh2_str][model_i][snap_i]\n",
    "nusim = sims_with_nu[onh2_str][model_i][snap_i]\n",
    "\n",
    "# better battery access\n",
    "plt.plot(sim[\"k\"], sim[\"P_nu\"] / sim[\"P_no\"],\n",
    "    c='orange',\n",
    "    label=\"simple nu result for z=\" + str(z_list[snap_i]))\n",
    "# nu battery access\n",
    "plt.plot(nusim[\"k\"], nusim[\"P_nu\"] / nusim[\"P_no\"],\n",
    "    c='green',\n",
    "    label=\"fancy nu result for z=\" + str(z_list[snap_i]))\n",
    "# Ariel's results\n",
    "plt.plot(true_spec[snap_i][\"k\"], true_spec[snap_i][\"ratio\"],\n",
    "    c='purple',\n",
    "    label=\"powernu3.tar snapshot 0\")\n",
    "\n",
    "plt.xscale('log')\n",
    "plt.xlabel(r\"k [1 / Mpc]\")\n",
    "plt.ylabel(r\"$P_\\mathrm{massive} / P_0$\")\n",
    "plt.title(r\"$\\omega_\\nu$ = \" + onh2_str + \"; model 0\")\n",
    "plt.legend()"
   ]
  },
  {
   "cell_type": "code",
   "execution_count": null,
   "id": "3d2405a8-e33b-4f17-9703-1dfa24a7137a",
   "metadata": {},
   "outputs": [],
   "source": []
  }
 ],
 "metadata": {
  "kernelspec": {
   "display_name": "Python 3 (ipykernel)",
   "language": "python",
   "name": "python3"
  },
  "language_info": {
   "codemirror_mode": {
    "name": "ipython",
    "version": 3
   },
   "file_extension": ".py",
   "mimetype": "text/x-python",
   "name": "python",
   "nbconvert_exporter": "python",
   "pygments_lexer": "ipython3",
   "version": "3.9.16"
  }
 },
 "nbformat": 4,
 "nbformat_minor": 5
}
