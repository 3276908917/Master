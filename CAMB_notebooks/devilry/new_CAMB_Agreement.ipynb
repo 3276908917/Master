{
 "cells": [
  {
   "cell_type": "code",
   "execution_count": 1,
   "id": "a5cd3948-d731-4701-b8a4-e052070b4d60",
   "metadata": {},
   "outputs": [],
   "source": [
    "%matplotlib inline\n",
    "%config InlineBackend.figure_format = 'retina'\n",
    "from matplotlib import pyplot as plt\n",
    "import numpy as np\n",
    "\n",
    "import camb\n",
    "from camb import model, initialpower\n",
    "import pandas as pd"
   ]
  },
  {
   "cell_type": "code",
   "execution_count": 2,
   "id": "6ad80bff-c055-43ce-a223-204e6d30c783",
   "metadata": {},
   "outputs": [],
   "source": [
    "import importlib.util\n",
    "import sys\n",
    "spec = importlib.util.spec_from_file_location(\n",
    "    \"spectra\", \"../shared/spectra.py\")\n",
    "spectra = importlib.util.module_from_spec(spec)\n",
    "sys.modules[\"spectra\"] = spectra\n",
    "spec.loader.exec_module(spectra)"
   ]
  },
  {
   "cell_type": "code",
   "execution_count": 3,
   "id": "32477594-a659-4a82-910f-829dba66c479",
   "metadata": {},
   "outputs": [],
   "source": [
    "omega_index = 1 # while we debug, we confine our attention to just one value\n",
    "onh2 = spectra.omegas_nu[omega_index]\n",
    "onh2_str = spectra.omnu_strings[omega_index]"
   ]
  },
  {
   "cell_type": "code",
   "execution_count": 4,
   "id": "45b10e42-8e84-466a-95b8-491214c3e471",
   "metadata": {},
   "outputs": [],
   "source": [
    "# Axe the 0.01 value since Ariel has not tested that one in the shared results\n",
    "spectra.omegas_nu = spectra.omegas_nu[:(len(spectra.omegas_nu) - 1)]\n",
    "spectra.omnu_strings = spectra.omnu_strings[:(len(spectra.omnu_strings) - 1)]\n",
    "spectra.define_powernu3()"
   ]
  },
  {
   "cell_type": "code",
   "execution_count": null,
   "id": "98a429ac-360d-4998-89b4-f01c7584defc",
   "metadata": {},
   "outputs": [
    {
     "name": "stdout",
     "output_type": "stream",
     "text": [
      "01"
     ]
    }
   ],
   "source": [
    "# It's a waste of time to consider all of the omegas and snapshots, so we're\n",
    "# making heavy use of skips.\n",
    "spec_sims = spectra.better_battery(spectra.omegas_nu, spectra.omnu_strings,\n",
    "    skips_omega = [0, 2, 3], skips_model=[8], skips_snapshot=[1, 2, 3])"
   ]
  },
  {
   "cell_type": "code",
   "execution_count": null,
   "id": "d4b11e35-352c-4f64-bdb7-56404f64051a",
   "metadata": {},
   "outputs": [],
   "source": [
    "for i in range(len(spec_sims[onh2_str])):\n",
    "    if spec_sims[onh2_str][i] is None:\n",
    "        continue\n",
    "    h = spectra.cosm.loc[i][\"h\"]\n",
    "    for j in range(len(spec_sims[onh2_str][i])):\n",
    "        if spec_sims[onh2_str][i][j] is None:\n",
    "            continue\n",
    "        plt.plot(spec_sims[onh2_str][i][j][\"k\"],\n",
    "            spec_sims[onh2_str][i][j][\"P_nu\"] / \\\n",
    "            spec_sims[onh2_str][i][j][\"P_no\"],\n",
    "            label=\"model \" + str(i) + \", no renormalizing, z=\" + \\\n",
    "            str(spectra.parse_redshifts(i)[j]), c=spectra.colors[i],\n",
    "            linestyle=spectra.styles[i])\n",
    "    plt.xscale('log')\n",
    "    plt.xlabel(r\"k [1 / Mpc]\")\n",
    "    plt.ylabel(r\"$P_\\mathrm{massive} / P_0$\")\n",
    "    plt.title(r\"$\\omega_\\nu$ = \" + str(onh2))"
   ]
  },
  {
   "cell_type": "code",
   "execution_count": null,
   "id": "609c0aff-c73c-4c7d-92cc-19dc9fb7b1f9",
   "metadata": {},
   "outputs": [],
   "source": [
    "for i in range(0, 3):\n",
    "    if spec_sims[onh2_str][i] is None:\n",
    "        continue\n",
    "    h = spectra.cosm.loc[i][\"h\"]\n",
    "    j = 4 # just look at z=0 before moving on\n",
    "    plt.plot(spec_sims[onh2_str][i][j][\"k\"],\n",
    "        spec_sims[onh2_str][i][j][\"P_nu\"] / \\\n",
    "        spec_sims[onh2_str][i][j][\"P_no\"],\n",
    "        label=\"model \" + str(i), c=spectra.colors[i])\n",
    "    plt.xscale('log')\n",
    "    plt.xlabel(r\"k [1 / Mpc]\")\n",
    "    plt.ylabel(r\"$P_\\mathrm{massive} / P_0$\")\n",
    "    plt.title(r\"$\\omega_\\nu$ = \" + str(onh2) + \"; $z=0$?\")"
   ]
  },
  {
   "cell_type": "code",
   "execution_count": null,
   "id": "acc74904-5f8f-4fb0-a6c6-87d6752ae552",
   "metadata": {},
   "outputs": [],
   "source": [
    "i = 0\n",
    "h = spectra.cosm.loc[i][\"h\"]\n",
    "j = 4\n",
    "sim = spec_sims[onh2_str][i][j]\n",
    "\n",
    "plt.plot(sim[\"k\"], sim[\"P_no\"], label=\"my no-neut\", c=spectra.colors[i])\n",
    "plt.plot(sim[\"k\"], sim[\"P_nu\"], label=\"my neuts\", c=\"black\")\n",
    "plt.xscale('log')\n",
    "plt.xlabel(r\"k [1 / Mpc]\")\n",
    "plt.ylabel(r\"$P(k)$ [?]\")\n",
    "plt.title(r\"$\\omega_\\nu$ = \" + str(onh2) + \"; model 0\")\n",
    "plt.legend()\n",
    "\n",
    "# This protects other cells by avoiding accidental reuse\n",
    "del i, h, j, sim"
   ]
  },
  {
   "cell_type": "code",
   "execution_count": null,
   "id": "afc10698-c681-470a-a4de-f9543cefe5bb",
   "metadata": {},
   "outputs": [],
   "source": [
    "true3_early = spectra.powernu3[onh2_str][0][0]\n",
    "true3_late = spectra.powernu3[onh2_str][0][4]\n",
    "\n",
    "LCDM = np.load('../../CAKE21/matteos_spectra/LCDM.npy', allow_pickle=True)\n",
    "nuCDM = np.load('../../CAKE21/matteos_spectra/nuCDM.npy', allow_pickle=True)"
   ]
  },
  {
   "cell_type": "code",
   "execution_count": null,
   "id": "ad586910-1101-4efa-861b-82db5f488599",
   "metadata": {},
   "outputs": [],
   "source": [
    "i = 0\n",
    "h = spectra.cosm.loc[i][\"h\"]\n",
    "j = 4 # this should be SNAP index, not z index\n",
    "z_list = spectra.parse_redshifts(i)\n",
    "sim = spec_sims[onh2_str][i][j]\n",
    "\n",
    "plt.plot(sim[\"k\"], sim[\"P_nu\"] / sim[\"P_no\"], c=spectra.colors[i],\n",
    "    label=\"my result for z=\" + str(sim[\"z\"]))\n",
    "plt.plot(true3_late[\"k\"], true3_late[\"ratio\"],\n",
    "         label=\"powernu3.tar snapshot 4\")\n",
    "plt.plot(LCDM[0]['kk'], nuCDM[0]['Pk'][4]/LCDM[0]['Pk'][4],\n",
    "             label='Matteo, snapshot 4?'.format(0))\n",
    "\n",
    "j = 0 # This will correspond to z=0 for the model0 case.\n",
    "sim = spec_sims[onh2_str][i][j]\n",
    "\n",
    "plt.plot(sim[\"k\"], sim[\"P_nu\"] / sim[\"P_no\"], c=\"black\",\n",
    "    label=\"my result for z=\" + str(sim[\"z\"]))\n",
    "plt.plot(true3_early[\"k\"], true3_early[\"ratio\"],\n",
    "         label=\"powernu3.tar snapshot 0\")\n",
    "plt.plot(LCDM[0]['kk'], nuCDM[0]['Pk'][0]/LCDM[0]['Pk'][0],\n",
    "             label='Matteo, snapshot 0?'.format(0))\n",
    "\n",
    "plt.xscale('log')\n",
    "plt.xlabel(r\"k [1 / Mpc]\")\n",
    "plt.ylabel(r\"$P_\\mathrm{massive} / P_0$\")\n",
    "plt.title(r\"$\\omega_\\nu$ = \" + onh2_str + \"; model 0\")\n",
    "plt.legend()\n",
    "\n",
    "# This protects other cells by avoiding unintended reuse\n",
    "del i, h, j, z_list, sim"
   ]
  },
  {
   "cell_type": "code",
   "execution_count": null,
   "id": "69dfdf41-e78b-4221-af25-9f1d0d45da04",
   "metadata": {},
   "outputs": [],
   "source": [
    "i = 0\n",
    "h = spectra.cosm.loc[i][\"h\"]\n",
    "j = 4 # this should be SNAP index, not z index\n",
    "z_list = spectra.parse_redshifts(i)\n",
    "sim = spec_sims[onh2_str][i][j]\n",
    "\n",
    "plt.plot(sim[\"k\"], sim[\"P_no\"], c=spectra.colors[i],\n",
    "    label=\"my result for z=\" + str(sim[\"z\"]))\n",
    "plt.plot(true3_late[\"k\"], true3_late[\"P_no\"],\n",
    "         label=\"powernu3.tar snapshot 4\")\n",
    "\n",
    "plt.xscale('log')\n",
    "plt.xlabel(r\"k [1 / Mpc]\")\n",
    "plt.ylabel(r\"$P_0$\")\n",
    "plt.title(r\"$\\omega_\\nu$ = \" + onh2_str + \"; model 0\")\n",
    "plt.legend()\n",
    "\n",
    "# This protects other cells by avoiding unintended reuse\n",
    "del i, h, j, z_list, sim"
   ]
  },
  {
   "cell_type": "code",
   "execution_count": null,
   "id": "36194082-a4bc-416b-adad-4bb87fc5d49f",
   "metadata": {},
   "outputs": [],
   "source": [
    "i = 0\n",
    "h = spectra.cosm.loc[i][\"h\"]\n",
    "j = 0 # this should be SNAP index, not z index\n",
    "z_list = spectra.parse_redshifts(i)\n",
    "sim = spec_sims[onh2_str][i][j]\n",
    "\n",
    "plt.plot(sim[\"k\"], sim[\"P_no\"], c=spectra.colors[i],\n",
    "    label=\"my result for z=\" + str(sim[\"z\"]))\n",
    "plt.plot(true3_early[\"k\"], true3_early[\"P_no\"],\n",
    "         label=\"powernu3.tar snapshot 0\")\n",
    "\n",
    "plt.xscale('log')\n",
    "plt.xlabel(r\"k [1 / Mpc]\")\n",
    "plt.ylabel(r\"$P_0$\")\n",
    "plt.title(r\"$\\omega_\\nu$ = \" + onh2_str + \"; model 0\")\n",
    "plt.legend()\n",
    "\n",
    "# This protects other cells by avoiding unintended reuse\n",
    "del i, h, j, z_list, sim"
   ]
  },
  {
   "cell_type": "code",
   "execution_count": null,
   "id": "b18f932d-934e-47b8-8ee6-7c26177e0279",
   "metadata": {},
   "outputs": [],
   "source": [
    "i = 0\n",
    "h = spectra.cosm.loc[i][\"h\"]\n",
    "j = 4 # this should be SNAP index, not z index\n",
    "z_list = spectra.parse_redshifts(i)\n",
    "sim = spec_sims[onh2_str][i][j]\n",
    "\n",
    "plt.plot(sim[\"k\"], sim[\"P_nu\"], c=spectra.colors[i],\n",
    "    label=\"my result for z=\" + str(sim[\"z\"]))\n",
    "plt.plot(true3_late[\"k\"], true3_late[\"P_nu\"],\n",
    "         label=\"powernu3.tar snapshot 4\")\n",
    "\n",
    "plt.xscale('log')\n",
    "plt.xlabel(r\"k [1 / Mpc]\")\n",
    "plt.ylabel(r\"$P_\\mathrm{massive}$\")\n",
    "plt.title(r\"$\\omega_\\nu$ = \" + onh2_str + \"; model 0\")\n",
    "plt.legend()\n",
    "\n",
    "# This protects other cells by avoiding unintended reuse\n",
    "del i, h, j, z_list, sim"
   ]
  },
  {
   "cell_type": "code",
   "execution_count": null,
   "id": "53e3dcf9-55d0-4cf3-ba75-a0404af7bc86",
   "metadata": {},
   "outputs": [],
   "source": [
    "i = 0\n",
    "h = spectra.cosm.loc[i][\"h\"]\n",
    "j = 0 # this should be SNAP index, not z index\n",
    "z_list = spectra.parse_redshifts(i)\n",
    "sim = spec_sims[onh2_str][i][j]\n",
    "\n",
    "plt.plot(sim[\"k\"], sim[\"P_nu\"], c=spectra.colors[i],\n",
    "    label=\"my result for z=\" + str(sim[\"z\"]))\n",
    "plt.plot(true3_early[\"k\"], true3_early[\"P_nu\"],\n",
    "         label=\"powernu3.tar snapshot 0\")\n",
    "\n",
    "plt.xscale('log')\n",
    "plt.xlabel(r\"k [1 / Mpc]\")\n",
    "plt.ylabel(r\"$P_\\mathrm{massive}$\")\n",
    "plt.title(r\"$\\omega_\\nu$ = \" + onh2_str + \"; model 0\")\n",
    "plt.legend()\n",
    "\n",
    "# This protects other cells by avoiding unintended reuse\n",
    "del i, h, j, z_list, sim"
   ]
  }
 ],
 "metadata": {
  "kernelspec": {
   "display_name": "Python 3 (ipykernel)",
   "language": "python",
   "name": "python3"
  },
  "language_info": {
   "codemirror_mode": {
    "name": "ipython",
    "version": 3
   },
   "file_extension": ".py",
   "mimetype": "text/x-python",
   "name": "python",
   "nbconvert_exporter": "python",
   "pygments_lexer": "ipython3",
   "version": "3.9.16"
  }
 },
 "nbformat": 4,
 "nbformat_minor": 5
}
