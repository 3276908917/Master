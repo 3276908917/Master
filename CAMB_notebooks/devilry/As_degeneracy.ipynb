{
 "cells": [
  {
   "cell_type": "code",
   "execution_count": 1,
   "id": "ced4744f-3056-40cd-93eb-ccfcb87e015b",
   "metadata": {},
   "outputs": [],
   "source": [
    "regenerate = True"
   ]
  },
  {
   "cell_type": "code",
   "execution_count": 2,
   "id": "a5cd3948-d731-4701-b8a4-e052070b4d60",
   "metadata": {},
   "outputs": [],
   "source": [
    "%matplotlib inline\n",
    "%config InlineBackend.figure_format = 'retina'\n",
    "from matplotlib import pyplot as plt\n",
    "import numpy as np\n",
    "\n",
    "import camb\n",
    "from camb import model, initialpower\n",
    "import pandas as pd"
   ]
  },
  {
   "cell_type": "code",
   "execution_count": 3,
   "id": "6ad80bff-c055-43ce-a223-204e6d30c783",
   "metadata": {},
   "outputs": [],
   "source": [
    "import importlib.util\n",
    "import sys\n",
    "spec = importlib.util.spec_from_file_location(\n",
    "    \"spectra\", \"../shared/spectra.py\")\n",
    "spectra = importlib.util.module_from_spec(spec)\n",
    "sys.modules[\"spectra\"] = spectra\n",
    "spec.loader.exec_module(spectra)"
   ]
  },
  {
   "cell_type": "code",
   "execution_count": 4,
   "id": "32477594-a659-4a82-910f-829dba66c479",
   "metadata": {},
   "outputs": [],
   "source": [
    "# Please refer to the notebook \"what_is_truth\"\n",
    "# for a detailed review of this parameter.\n",
    "asymptote_sample_size = 10\n",
    "\n",
    "omega_index = 3 # while we debug, we confine our attention to just one value\n",
    "onh2 = spectra.omegas_nu[omega_index]\n",
    "onh2_str = spectra.omnu_strings[omega_index]\n",
    "snap_index=0"
   ]
  },
  {
   "cell_type": "code",
   "execution_count": 5,
   "id": "e36abe13-9eb0-45cc-82d8-4e02839577ce",
   "metadata": {},
   "outputs": [],
   "source": [
    "model0 = {'OmM': 0.318584094,\n",
    " 'OmL': 0.681415906,\n",
    " 'OmK': 0.0,\n",
    " 'OmC': 0.268584094,\n",
    " 'OmB': 0.05,\n",
    " 'h': 0.67,\n",
    " 'w0': -1,\n",
    " 'wa': 0,\n",
    " 'omch2': 0.120567,\n",
    " 'ombh2': 0.022445,\n",
    " 'n_s': 0.96,\n",
    " 'A_s': 2.12723788013000E-09,\n",
    "}"
   ]
  },
  {
   "cell_type": "code",
   "execution_count": 6,
   "id": "2625dbd1-bfcc-4910-aee6-ebd3724a080f",
   "metadata": {},
   "outputs": [],
   "source": [
    "'''\n",
    "First, we need to define a Pandas table containing my exotic cosmologies.\n",
    "'''\n",
    "num_degenerate = 100 # how many models are we testing\n",
    "cosm = None\n",
    "\n",
    "if regenerate == True:\n",
    "    def row_conglomerator():\n",
    "        rows = [spectra.get_As_matched_cosmology() for i in range(num_degenerate)]\n",
    "        rows.insert(0, model0)\n",
    "        conglomerate = {}\n",
    "        for key in rows[0].keys():\n",
    "            conglomerate[key] = [rows[0][key]]\n",
    "            for i in range(1, num_degenerate + 1):\n",
    "                conglomerate[key].append(rows[i][key])\n",
    "        return conglomerate\n",
    "\n",
    "    conglomerate = row_conglomerator()\n",
    "    cosm = pd.DataFrame.from_dict(conglomerate)\n",
    "    # We need to write this dataframe as a CSV. Trying to retrieve it from\n",
    "    # numpy seems obscure.\n",
    "    cosm.to_csv(\"degenerate_cosmologies.csv\")\n",
    "else:\n",
    "    cosm = pd.read_csv(\"degenerate_cosmologies.csv\")"
   ]
  },
  {
   "cell_type": "code",
   "execution_count": 7,
   "id": "16563d65-429b-466c-a783-6543d9e7172d",
   "metadata": {},
   "outputs": [
    {
     "data": {
      "text/html": [
       "<div>\n",
       "<style scoped>\n",
       "    .dataframe tbody tr th:only-of-type {\n",
       "        vertical-align: middle;\n",
       "    }\n",
       "\n",
       "    .dataframe tbody tr th {\n",
       "        vertical-align: top;\n",
       "    }\n",
       "\n",
       "    .dataframe thead th {\n",
       "        text-align: right;\n",
       "    }\n",
       "</style>\n",
       "<table border=\"1\" class=\"dataframe\">\n",
       "  <thead>\n",
       "    <tr style=\"text-align: right;\">\n",
       "      <th></th>\n",
       "      <th>OmM</th>\n",
       "      <th>OmL</th>\n",
       "      <th>OmK</th>\n",
       "      <th>OmC</th>\n",
       "      <th>OmB</th>\n",
       "      <th>h</th>\n",
       "      <th>w0</th>\n",
       "      <th>wa</th>\n",
       "      <th>omch2</th>\n",
       "      <th>ombh2</th>\n",
       "      <th>n_s</th>\n",
       "      <th>A_s</th>\n",
       "    </tr>\n",
       "  </thead>\n",
       "  <tbody>\n",
       "    <tr>\n",
       "      <th>0</th>\n",
       "      <td>0.318584</td>\n",
       "      <td>0.681416</td>\n",
       "      <td>0.0</td>\n",
       "      <td>0.268584</td>\n",
       "      <td>0.05</td>\n",
       "      <td>0.67</td>\n",
       "      <td>-1.0</td>\n",
       "      <td>0.0</td>\n",
       "      <td>0.120567</td>\n",
       "      <td>0.022445</td>\n",
       "      <td>0.96</td>\n",
       "      <td>2.127238e-09</td>\n",
       "    </tr>\n",
       "  </tbody>\n",
       "</table>\n",
       "</div>"
      ],
      "text/plain": [
       "        OmM       OmL  OmK       OmC   OmB     h   w0   wa     omch2  \\\n",
       "0  0.318584  0.681416  0.0  0.268584  0.05  0.67 -1.0  0.0  0.120567   \n",
       "\n",
       "      ombh2   n_s           A_s  \n",
       "0  0.022445  0.96  2.127238e-09  "
      ]
     },
     "execution_count": 7,
     "metadata": {},
     "output_type": "execute_result"
    }
   ],
   "source": [
    "m0_only = pd.Series(model0).to_frame().T\n",
    "m0_only"
   ]
  },
  {
   "cell_type": "code",
   "execution_count": 8,
   "id": "98a429ac-360d-4998-89b4-f01c7584defc",
   "metadata": {},
   "outputs": [
    {
     "name": "stdout",
     "output_type": "stream",
     "text": [
      "0123"
     ]
    }
   ],
   "source": [
    "# It's a waste of time to consider all of the omegas and snapshots, so we're\n",
    "# making heavy use of skips.\n",
    "spec_sim = spectra.better_battery(spectra.omegas_nu, spectra.omnu_strings,\n",
    "    skips_omega = [0, 1, 2], skips_model=[], skips_snapshot=[1, 2, 3],\n",
    "    models=m0_only)"
   ]
  },
  {
   "cell_type": "code",
   "execution_count": null,
   "id": "db131d31-2837-4616-83ea-388e663dcb9b",
   "metadata": {},
   "outputs": [
    {
     "name": "stdout",
     "output_type": "stream",
     "text": [
      "12345678901234567890123456789012345678901"
     ]
    }
   ],
   "source": [
    "target, redshifts = None, None\n",
    "\n",
    "if regenerate:\n",
    "    # The target should always be selected at snapshot\n",
    "    # 0, i.e. z=2\n",
    "    target = spec_sim[onh2_str][0][0]['s12_massless'][0]\n",
    "\n",
    "    # We'll evaluate each cosmology at the corresponding\n",
    "    # redshift entry here, to keep things even.\n",
    "    redshifts = [2] # this is the redshift which in model 0 is associated with the\n",
    "    # sigma12 value we're using\n",
    "    for i in range(1, num_degenerate + 1):\n",
    "        print(i  % 10, end='')\n",
    "        z = spectra.match_s12(target, 0.001, cosm.loc[i])\n",
    "        redshifts.append(z)"
   ]
  },
  {
   "cell_type": "code",
   "execution_count": null,
   "id": "e07dee03-60d0-4ae5-a554-1e7e588ecf58",
   "metadata": {},
   "outputs": [],
   "source": [
    "# This is a disgusting hack, but it's quite succinct\n",
    "def decoy_parser(mindex):\n",
    "    return [redshifts[mindex]]\n",
    "\n",
    "spectra.parse_redshifts = decoy_parser\n",
    "\n",
    "spec_sims = None\n",
    "if regenerate:\n",
    "    spec_sims = spectra.better_battery(spectra.omegas_nu, spectra.omnu_strings,\n",
    "        skips_omega = [0, 1, 2], skips_model=[], skips_snapshot=[],\n",
    "        models=cosm)\n",
    "    \n",
    "    np.save(\"degenerate_spectra.npy\", spec_sims, allow_pickle=True)\n",
    "else:\n",
    "    spec_sims = np.load(\"degenerate_spectra.npy\", allow_pickle=True)"
   ]
  },
  {
   "cell_type": "code",
   "execution_count": null,
   "id": "d4b11e35-352c-4f64-bdb7-56404f64051a",
   "metadata": {},
   "outputs": [],
   "source": [
    "colors = spectra.colors * 200\n",
    "styles = spectra.styles * 200\n",
    "for i in range(len(spec_sims[onh2_str])):\n",
    "    if spec_sims[onh2_str][i] is None:\n",
    "        continue\n",
    "    h = cosm.loc[i][\"h\"]\n",
    "    for j in range(len(spec_sims[onh2_str][i])):\n",
    "        sim = spec_sims[onh2_str][i][j]\n",
    "        \n",
    "        if sim is None:\n",
    "            continue\n",
    "        plt.plot(sim[\"k\"],\n",
    "            sim[\"P_nu\"] / sim[\"P_no\"],\n",
    "            label=\"model \" + str(i) + \", z=\" + str(sim[\"z\"]), c=colors[i],\n",
    "            linestyle=styles[i])\n",
    "    plt.xscale('log')\n",
    "    plt.xlabel(r\"k [1 / Mpc]\")\n",
    "    plt.ylabel(r\"$P_\\mathrm{massive} / P_0$\")\n",
    "    plt.title(r\"$\\omega_\\nu$ = \" + onh2_str)\n",
    "    #plt.legend()"
   ]
  },
  {
   "cell_type": "code",
   "execution_count": null,
   "id": "69dfdf41-e78b-4221-af25-9f1d0d45da04",
   "metadata": {},
   "outputs": [],
   "source": [
    "fig, axs = plt.subplots()\n",
    "ks, rats = spectra.model_ratios_true(snap_index, spec_sims[onh2_str], axs,\n",
    "    massive='x', skips=[], omnuh2_str=onh2_str, models=cosm,\n",
    "    suppress_legend=True);"
   ]
  },
  {
   "cell_type": "code",
   "execution_count": null,
   "id": "d51805ca-fd42-49aa-8ed4-9a9f568c745b",
   "metadata": {},
   "outputs": [],
   "source": [
    "# true_asymptotes = np.array([rats[i][len(rats[i]) - 1] for i in range(len(rats))])\n",
    "\n",
    "true_asymptotes = []\n",
    "for model_i in range(len(rats)):\n",
    "    tail_start_idx = len(rats[model_i]) - asymptote_sample_size\n",
    "    tail = rats[model_i][tail_start_idx:len(rats[model_i])]\n",
    "    true_asymptotes.append(np.average(tail))\n",
    "true_asymptotes = np.array(true_asymptotes)"
   ]
  },
  {
   "cell_type": "code",
   "execution_count": null,
   "id": "6a531e7d-cc2d-404a-a6d3-e97a4842b084",
   "metadata": {},
   "outputs": [],
   "source": [
    "fig, axs = plt.subplots()\n",
    "spectra.model_ratios_true(snap_index, spec_sims[onh2_str], axs,\n",
    "    massive='x', skips=[], omnuh2_str=onh2_str,\n",
    "    title=\"Final points as asymptotes\", models=cosm, suppress_legend=True)\n",
    "for asymptote in true_asymptotes:\n",
    "    axs.axhline(asymptote, linestyle='--')"
   ]
  },
  {
   "cell_type": "code",
   "execution_count": null,
   "id": "ffccf121-c752-40e0-b4ab-dfcf2d813a41",
   "metadata": {},
   "outputs": [],
   "source": [
    "from numpy.polynomial.polynomial import polyfit\n",
    "A_s = [cosm.loc[i][\"A_s\"] for i in range(1 + num_degenerate)]\n",
    "x6 = onh2 * np.log(A_s[1:] / A_s[0])\n",
    "\n",
    "model_desc_6 = r\"\\omega_\\nu \\, \\ln \\left( \\frac{A_s^i}{A_s^0} \\right)$\"\n",
    "\n",
    "#print(len(true_asymptotes))\n",
    "#print(len(A_s))\n",
    "\n",
    "plt.scatter(x6, true_asymptotes, label=\"true values\")\n",
    "\n",
    "b6, m6 = polyfit(x6, true_asymptotes, 1)\n",
    "\n",
    "pred6 = m6 * x6 + b6\n",
    "plt.scatter(x6, pred6, label=\"predictions\")\n",
    "\n",
    "print(\"y-intercept for this fit is\", b6)\n",
    "print(\"slope for this fit is\", m6)\n",
    "\n",
    "plt.ylabel(\"Asymptotes\")\n",
    "plt.xlabel(\"$\" + model_desc_6)\n",
    "plt.title(r\"Fit results: $\\hat{y} = C\" + model_desc_6)\n",
    "plt.legend()\n",
    "\n",
    "chis6 = (true_asymptotes - pred6) ** 2 / pred6\n",
    "red_chisq6 = sum(chis6) / len(x6)\n",
    "print(\"Reduced chi squared value for this fit:\", red_chisq6)"
   ]
  },
  {
   "cell_type": "code",
   "execution_count": null,
   "id": "c0f51498-a552-4533-9f49-c97a9aed829a",
   "metadata": {},
   "outputs": [],
   "source": [
    "fig, axs = plt.subplots()\n",
    "spectra.model_ratios_true(snap_index, spec_sims[onh2_str], axs,\n",
    "    massive='x', omnuh2_str=onh2_str, models=cosm,\n",
    "    title=\"Lukas' Sims with Ansatz 6\", suppress_legend=True)\n",
    "#axs.get_legend().remove()\n",
    "for i in range(len(true_asymptotes)):\n",
    "    axs.axhline(m6 * x6[i] + b6, linestyle='--')"
   ]
  },
  {
   "cell_type": "markdown",
   "id": "53d6a145-101e-496a-b542-a68e72de0437",
   "metadata": {},
   "source": [
    "The estimates are pretty obviously misaligned in several cases, but that's okay,\n",
    "because we're deliberately running this experiment at the worst omega_nu value\n",
    "on the range: 0.01.\n",
    "\n",
    "However, one thing I can't explain: why do the randomly-generated cosmologies\n",
    "tend to cluster toward the higher side of this plot? The Aletheia set doesn't\n",
    "have such a dramatic lopsidedness (see the notebook divergence_asymptotes), but\n",
    "maybe the cosmologies were carefully selected to that end?"
   ]
  },
  {
   "cell_type": "code",
   "execution_count": null,
   "id": "f6bdf421-4120-4e4b-855e-dad4c9c3f96f",
   "metadata": {},
   "outputs": [],
   "source": [
    "'''\n",
    "Unfortunately, chi-squared is not meaningful anymore because there is no\n",
    "longer a common theme to the models (before, one could say that they were all\n",
    "Aletheia cosmologies). All we can do is procure a maximum error term across\n",
    "all randomly-generated cosmologies.\n",
    "'''\n",
    "percent_error = (true_asymptotes - pred6) / true_asymptotes * 100\n",
    "plt.hist(percent_error)\n",
    "plt.title(\"Histogram of Errors\")\n",
    "plt.ylabel(\"# cosmologies associated with error bin\")\n",
    "plt.xlabel(\"Percent error\")"
   ]
  },
  {
   "cell_type": "code",
   "execution_count": null,
   "id": "b5e85995-c10c-4b59-a0dc-a60111f820f9",
   "metadata": {},
   "outputs": [],
   "source": [
    "print(max(percent_error))\n",
    "print(min(percent_error))"
   ]
  },
  {
   "cell_type": "code",
   "execution_count": null,
   "id": "84150398-0c60-42b8-9850-ac9cd58b3d50",
   "metadata": {},
   "outputs": [],
   "source": [
    "np.where([percent_error == min(percent_error)])"
   ]
  },
  {
   "cell_type": "code",
   "execution_count": null,
   "id": "0d22fc24-cbce-4b13-b6f0-4f6e493ec924",
   "metadata": {},
   "outputs": [],
   "source": [
    "percent_error[60]"
   ]
  },
  {
   "cell_type": "code",
   "execution_count": null,
   "id": "9d773c23-af2a-4de4-adf6-2b7567a41ba7",
   "metadata": {},
   "outputs": [],
   "source": [
    "cosm.iloc[60]"
   ]
  },
  {
   "cell_type": "code",
   "execution_count": null,
   "id": "c13934b6-5d10-43db-b606-ffe1043621c9",
   "metadata": {},
   "outputs": [],
   "source": []
  }
 ],
 "metadata": {
  "kernelspec": {
   "display_name": "Python 3 (ipykernel)",
   "language": "python",
   "name": "python3"
  },
  "language_info": {
   "codemirror_mode": {
    "name": "ipython",
    "version": 3
   },
   "file_extension": ".py",
   "mimetype": "text/x-python",
   "name": "python",
   "nbconvert_exporter": "python",
   "pygments_lexer": "ipython3",
   "version": "3.9.16"
  }
 },
 "nbformat": 4,
 "nbformat_minor": 5
}
