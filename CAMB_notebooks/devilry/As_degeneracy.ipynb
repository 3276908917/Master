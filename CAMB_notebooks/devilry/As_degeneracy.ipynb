{
 "cells": [
  {
   "cell_type": "code",
   "execution_count": 1,
   "id": "ced4744f-3056-40cd-93eb-ccfcb87e015b",
   "metadata": {},
   "outputs": [],
   "source": [
    "regenerate = False"
   ]
  },
  {
   "cell_type": "code",
   "execution_count": 2,
   "id": "a5cd3948-d731-4701-b8a4-e052070b4d60",
   "metadata": {},
   "outputs": [],
   "source": [
    "%matplotlib inline\n",
    "%config InlineBackend.figure_format = 'retina'\n",
    "from matplotlib import pyplot as plt\n",
    "import numpy as np\n",
    "\n",
    "import camb\n",
    "from camb import model, initialpower\n",
    "import pandas as pd"
   ]
  },
  {
   "cell_type": "code",
   "execution_count": 3,
   "id": "6ad80bff-c055-43ce-a223-204e6d30c783",
   "metadata": {},
   "outputs": [],
   "source": [
    "from cassL import camb_interface as ci"
   ]
  },
  {
   "cell_type": "code",
   "execution_count": 4,
   "id": "32477594-a659-4a82-910f-829dba66c479",
   "metadata": {},
   "outputs": [],
   "source": [
    "# Please refer to the notebook \"what_is_truth\"\n",
    "# for a detailed review of this parameter.\n",
    "asymptote_sample_size = 10\n",
    "\n",
    "omega_index = 3 # while we debug, we confine our attention to just one value\n",
    "onh2 = ci.OMNUH2_FLOATS[omega_index]\n",
    "onh2_str = ci.OMNUH2_STRS[omega_index]\n",
    "snap_index = 0\n",
    "\n",
    "skips_omega = np.delete(ci.OMNUH2_FLOATS, omega_index)\n",
    "skips_snaps = np.delete(ci.ALETHEIA_SNAPS, snap_index)"
   ]
  },
  {
   "cell_type": "code",
   "execution_count": 5,
   "id": "e36abe13-9eb0-45cc-82d8-4e02839577ce",
   "metadata": {},
   "outputs": [],
   "source": [
    "model0 = ci.specify_neutrino_mass(ci.cosm.iloc[0], onh2)"
   ]
  },
  {
   "cell_type": "code",
   "execution_count": 6,
   "id": "2625dbd1-bfcc-4910-aee6-ebd3724a080f",
   "metadata": {},
   "outputs": [],
   "source": [
    "'''\n",
    "First, we need to define a Pandas table containing my exotic cosmologies.\n",
    "'''\n",
    "num_degenerate = 100 # how many models are we testing\n",
    "random_cosm = None\n",
    "\n",
    "if regenerate == True:\n",
    "    def row_conglomerator():\n",
    "        rows = [ci.get_As_matched_cosmology(onh2) for i in range(num_degenerate)]\n",
    "        rows.insert(0, model0)\n",
    "        conglomerate = {}\n",
    "        for key in rows[0].keys():\n",
    "            conglomerate[key] = [rows[0][key]]\n",
    "            for i in range(1, num_degenerate + 1):\n",
    "                conglomerate[key].append(rows[i][key])\n",
    "        return conglomerate\n",
    "\n",
    "    conglomerate = row_conglomerator()\n",
    "    random_cosm = pd.DataFrame.from_dict(conglomerate)\n",
    "    # We need to write this dataframe as a CSV. Trying to retrieve it from\n",
    "    # numpy seems obscure.\n",
    "    random_cosm.to_csv(\"degenerate_cosmologies.csv\")\n",
    "else:\n",
    "    random_cosm = pd.read_csv(\"degenerate_cosmologies.csv\")"
   ]
  },
  {
   "cell_type": "code",
   "execution_count": 7,
   "id": "16563d65-429b-466c-a783-6543d9e7172d",
   "metadata": {},
   "outputs": [
    {
     "data": {
      "text/html": [
       "<div>\n",
       "<style scoped>\n",
       "    .dataframe tbody tr th:only-of-type {\n",
       "        vertical-align: middle;\n",
       "    }\n",
       "\n",
       "    .dataframe tbody tr th {\n",
       "        vertical-align: top;\n",
       "    }\n",
       "\n",
       "    .dataframe thead th {\n",
       "        text-align: right;\n",
       "    }\n",
       "</style>\n",
       "<table border=\"1\" class=\"dataframe\">\n",
       "  <thead>\n",
       "    <tr style=\"text-align: right;\">\n",
       "      <th></th>\n",
       "      <th>Name</th>\n",
       "      <th>ombh2</th>\n",
       "      <th>omch2</th>\n",
       "      <th>n_s</th>\n",
       "      <th>A_s</th>\n",
       "      <th>OmB</th>\n",
       "      <th>OmC</th>\n",
       "      <th>OmM</th>\n",
       "      <th>OmK</th>\n",
       "      <th>OmL</th>\n",
       "      <th>...</th>\n",
       "      <th>z(4)</th>\n",
       "      <th>z(3)</th>\n",
       "      <th>z(2)</th>\n",
       "      <th>z(1)</th>\n",
       "      <th>z(0)</th>\n",
       "      <th>Lbox</th>\n",
       "      <th>sigma8</th>\n",
       "      <th>omnuh2</th>\n",
       "      <th>mnu</th>\n",
       "      <th>nnu_massive</th>\n",
       "    </tr>\n",
       "  </thead>\n",
       "  <tbody>\n",
       "    <tr>\n",
       "      <th>0</th>\n",
       "      <td>Columbus_0</td>\n",
       "      <td>0.022445</td>\n",
       "      <td>0.120567</td>\n",
       "      <td>0.96</td>\n",
       "      <td>0.0</td>\n",
       "      <td>0.05</td>\n",
       "      <td>0.268584</td>\n",
       "      <td>0.318584</td>\n",
       "      <td>0.0</td>\n",
       "      <td>0.681416</td>\n",
       "      <td>...</td>\n",
       "      <td>2.0</td>\n",
       "      <td>1.0</td>\n",
       "      <td>0.57</td>\n",
       "      <td>0.3</td>\n",
       "      <td>0.0</td>\n",
       "      <td>1000.0</td>\n",
       "      <td>0.82755</td>\n",
       "      <td>0.01</td>\n",
       "      <td>0.930425</td>\n",
       "      <td>1</td>\n",
       "    </tr>\n",
       "  </tbody>\n",
       "</table>\n",
       "<p>1 rows × 24 columns</p>\n",
       "</div>"
      ],
      "text/plain": [
       "         Name     ombh2     omch2   n_s  A_s   OmB       OmC       OmM  OmK  \\\n",
       "0  Columbus_0  0.022445  0.120567  0.96  0.0  0.05  0.268584  0.318584  0.0   \n",
       "\n",
       "        OmL  ... z(4) z(3)  z(2) z(1) z(0)    Lbox   sigma8 omnuh2       mnu  \\\n",
       "0  0.681416  ...  2.0  1.0  0.57  0.3  0.0  1000.0  0.82755   0.01  0.930425   \n",
       "\n",
       "  nnu_massive  \n",
       "0           1  \n",
       "\n",
       "[1 rows x 24 columns]"
      ]
     },
     "execution_count": 7,
     "metadata": {},
     "output_type": "execute_result"
    }
   ],
   "source": [
    "m0_only = pd.Series(model0).to_frame().T\n",
    "m0_only"
   ]
  },
  {
   "cell_type": "code",
   "execution_count": 8,
   "id": "98a429ac-360d-4998-89b4-f01c7584defc",
   "metadata": {},
   "outputs": [],
   "source": [
    "# It's a waste of time to consider all of the omegas and snapshots, so we're\n",
    "# making heavy use of skips.\n",
    "if regenerate:\n",
    "    spec_sim = ci.boltzmann_battery(ci.OMNUH2_FLOATS,\n",
    "        skips_omega = skips_omega, skips_model=list(range(1, 9)), \\\n",
    "        skips_snapshot=skips_snaps)\n",
    "    np.save(\"As_degenerate_spectra.npy\", spec_sim, allow_pickle=True)\n",
    "else:\n",
    "    spec_sim = np.load(\"As_degenerate_spectra.npy\", allow_pickle=True)"
   ]
  },
  {
   "cell_type": "code",
   "execution_count": 9,
   "id": "db131d31-2837-4616-83ea-388e663dcb9b",
   "metadata": {},
   "outputs": [
    {
     "name": "stdout",
     "output_type": "stream",
     "text": [
      "1234567890123456789012345678901234567890123456789012345678901234567890123456789012345678901234567890"
     ]
    }
   ],
   "source": [
    "target, redshifts = None, None\n",
    "\n",
    "if regenerate:\n",
    "    # The target should always be selected at snapshot\n",
    "    # 0, i.e. z=2\n",
    "    target = spec_sim[onh2][0][0]['s12_massless'][0]\n",
    "\n",
    "    # We'll evaluate each cosmology at the corresponding\n",
    "    # redshift entry here, to keep things even.\n",
    "    redshifts = [2] # this is the redshift which in model 0 is associated with the\n",
    "    # sigma12 value we're using\n",
    "    for i in range(1, num_degenerate + 1):\n",
    "        print(i  % 10, end='')\n",
    "        z = ci.match_sigma12(target, 0.001, random_cosm.loc[i])\n",
    "        redshifts.append(z)\n",
    "\n",
    "    np.save(\"degenerate_redshifts.npy\", redshifts, allow_pickle=True)\n",
    "else:\n",
    "    redshifts = np.load(\"degenerate_redshifts.npy\", allow_pickle=True)"
   ]
  },
  {
   "cell_type": "code",
   "execution_count": 10,
   "id": "e5f711a7-5be1-40bd-a746-c611ec6465da",
   "metadata": {},
   "outputs": [
    {
     "data": {
      "text/plain": [
       "0.34330936892866387"
      ]
     },
     "execution_count": 10,
     "metadata": {},
     "output_type": "execute_result"
    }
   ],
   "source": [
    "spec_sim[onh2][0][0]['s12_massless'][0]"
   ]
  },
  {
   "cell_type": "code",
   "execution_count": null,
   "id": "e07dee03-60d0-4ae5-a554-1e7e588ecf58",
   "metadata": {},
   "outputs": [],
   "source": [
    "# This is a disgusting hack, but it's quite succinct\n",
    "def decoy_parser(mindex):\n",
    "    return [redshifts[mindex]]\n",
    "\n",
    "ci.parse_redshifts = decoy_parser\n",
    "\n",
    "spec_sims = None\n",
    "if regenerate:\n",
    "    spec_sims = ci.boltzmann_battery(ci.OMNUH2_FLOATS,\n",
    "        skips_omega = skips_omega, skips_model=[], skips_snapshot=skips_snaps,\n",
    "        models=random_cosm)\n",
    "\n",
    "    np.save(\"degenerate_spectra.npy\", spec_sims, allow_pickle=True)\n",
    "else:\n",
    "    spec_sims = np.load(\"degenerate_spectra.npy\", allow_pickle=True).item()"
   ]
  },
  {
   "cell_type": "code",
   "execution_count": null,
   "id": "d4b11e35-352c-4f64-bdb7-56404f64051a",
   "metadata": {},
   "outputs": [],
   "source": [
    "colors = ci.colors * 200\n",
    "styles = ci.styles * 200\n",
    "for i in range(len(spec_sims[onh2])):\n",
    "    if spec_sims[onh2][i] is None:\n",
    "        continue\n",
    "    h = random_cosm.loc[i][\"h\"]\n",
    "    for j in range(len(spec_sims[onh2][i])):\n",
    "        sim = spec_sims[onh2][i][j]\n",
    "        \n",
    "        if sim is None:\n",
    "            continue\n",
    "        plt.plot(sim[\"k\"],\n",
    "            sim[\"P_nu\"] / sim[\"P_no\"],\n",
    "            label=\"model \" + str(i) + \", z=\" + str(sim[\"z\"]), c=colors[i],\n",
    "            linestyle=styles[i])\n",
    "    plt.xscale('log')\n",
    "    plt.xlabel(r\"k [1 / Mpc]\")\n",
    "    plt.ylabel(r\"$P_\\mathrm{massive} / P_0$\")\n",
    "    plt.title(r\"$\\omega_\\nu$ = \" + onh2_str)"
   ]
  },
  {
   "cell_type": "code",
   "execution_count": null,
   "id": "69dfdf41-e78b-4221-af25-9f1d0d45da04",
   "metadata": {},
   "outputs": [],
   "source": [
    "fig, axs = plt.subplots()\n",
    "ks, rats = ci.model_ratios(snap_index, spec_sims[onh2], axs,\n",
    "    massive='x', skips=[], omnuh2_str=onh2_str, models=random_cosm,\n",
    "    suppress_legend=True, title=\"CAMB $A_s$-degenerate cosmologies\");\n",
    "plt.savefig(\"degenerate_asymptotes.png\")"
   ]
  },
  {
   "cell_type": "code",
   "execution_count": null,
   "id": "d51805ca-fd42-49aa-8ed4-9a9f568c745b",
   "metadata": {},
   "outputs": [],
   "source": [
    "true_asymptotes = []\n",
    "\n",
    "for model_i in range(len(rats)):\n",
    "    tail_start_idx = len(rats[model_i]) - asymptote_sample_size\n",
    "    tail = rats[model_i][tail_start_idx:len(rats[model_i])]\n",
    "    true_asymptotes.append(np.average(tail))\n",
    "\n",
    "true_asymptotes = np.array(true_asymptotes)"
   ]
  },
  {
   "cell_type": "code",
   "execution_count": null,
   "id": "6a531e7d-cc2d-404a-a6d3-e97a4842b084",
   "metadata": {},
   "outputs": [],
   "source": [
    "fig, axs = plt.subplots()\n",
    "ci.model_ratios(snap_index, spec_sims[onh2], axs,\n",
    "    massive='x', skips=[], omnuh2_str=onh2_str,\n",
    "    title=\"Final points as asymptotes\", models=random_cosm, suppress_legend=True)\n",
    "for asymptote in true_asymptotes:\n",
    "    axs.axhline(asymptote, linestyle='--')"
   ]
  },
  {
   "cell_type": "code",
   "execution_count": null,
   "id": "ffccf121-c752-40e0-b4ab-dfcf2d813a41",
   "metadata": {},
   "outputs": [],
   "source": [
    "from numpy.polynomial.polynomial import polyfit\n",
    "A_s = [random_cosm.loc[i][\"A_s\"] for i in range(1 + num_degenerate)]\n",
    "x6 = onh2 * np.log(A_s[1:] / A_s[0])\n",
    "\n",
    "model_desc_6 = r\"\\omega_\\nu \\, \\ln \\left( \\frac{A_s^i}{A_s^0} \\right)$\"\n",
    "\n",
    "plt.scatter(x6, true_asymptotes, label=\"true values\")\n",
    "\n",
    "b6, m6 = polyfit(x6, true_asymptotes, 1)\n",
    "\n",
    "pred6 = m6 * x6 + b6\n",
    "plt.scatter(x6, pred6, label=\"predictions\")\n",
    "\n",
    "print(\"y-intercept for this fit is\", b6)\n",
    "print(\"slope for this fit is\", m6)\n",
    "\n",
    "plt.ylabel(\"Asymptotes\")\n",
    "plt.xlabel(\"$\" + model_desc_6)\n",
    "plt.title(r\"Fit results: $\\hat{y} = C\" + model_desc_6)\n",
    "plt.legend()\n",
    "\n",
    "chis6 = (true_asymptotes - pred6) ** 2 / pred6\n",
    "red_chisq6 = sum(chis6) / len(x6)\n",
    "print(\"Reduced chi squared value for this fit:\", red_chisq6)"
   ]
  },
  {
   "cell_type": "code",
   "execution_count": null,
   "id": "c0f51498-a552-4533-9f49-c97a9aed829a",
   "metadata": {},
   "outputs": [],
   "source": [
    "fig, axs = plt.subplots()\n",
    "ci.model_ratios(snap_index, spec_sims[onh2], axs,\n",
    "    massive='x', omnuh2_str=onh2_str, models=random_cosm,\n",
    "    title=\"Lukas' Sims with Ansatz 6\", suppress_legend=True)\n",
    "\n",
    "for i in range(len(true_asymptotes)):\n",
    "    axs.axhline(m6 * x6[i] + b6, linestyle='--')"
   ]
  },
  {
   "cell_type": "markdown",
   "id": "53d6a145-101e-496a-b542-a68e72de0437",
   "metadata": {},
   "source": [
    "The estimates are pretty obviously misaligned in several cases, but that's okay,\n",
    "because we're deliberately running this experiment at the worst omega_nu value\n",
    "on the range: 0.01.\n",
    "\n",
    "However, one thing I can't explain: why do the randomly-generated cosmologies\n",
    "tend to cluster toward the higher side of this plot? The Aletheia set doesn't\n",
    "have such a dramatic lopsidedness (see the notebook divergence_asymptotes), but\n",
    "maybe the cosmologies were carefully selected to that end?"
   ]
  },
  {
   "cell_type": "markdown",
   "id": "d909c23f-7a82-41e4-abf8-690d34524504",
   "metadata": {},
   "source": [
    "Unfortunately, chi-squared is not meaningful anymore because there is no\n",
    "longer a common theme to the models (before, one could say that they were all\n",
    "Aletheia cosmologies). All we can do is procure a maximum error term across\n",
    "all randomly-generated cosmologies."
   ]
  },
  {
   "cell_type": "code",
   "execution_count": null,
   "id": "f6bdf421-4120-4e4b-855e-dad4c9c3f96f",
   "metadata": {},
   "outputs": [],
   "source": [
    "percent_error = (true_asymptotes - pred6) / true_asymptotes * 100\n",
    "plt.hist(percent_error, bins=30)\n",
    "plt.title(\"Histogram of Errors in Fixed-$A_s$ Experiment\")\n",
    "plt.ylabel(\"# cosmologies associated with error bin\")\n",
    "plt.xlabel(\"Percent error\")\n",
    "plt.savefig(\"degenerate_histogram.png\")"
   ]
  },
  {
   "cell_type": "code",
   "execution_count": null,
   "id": "b5e85995-c10c-4b59-a0dc-a60111f820f9",
   "metadata": {},
   "outputs": [],
   "source": [
    "print(max(percent_error))\n",
    "print(min(percent_error))"
   ]
  },
  {
   "cell_type": "code",
   "execution_count": null,
   "id": "84150398-0c60-42b8-9850-ac9cd58b3d50",
   "metadata": {},
   "outputs": [],
   "source": [
    "np.where([percent_error == max(percent_error)])"
   ]
  },
  {
   "cell_type": "code",
   "execution_count": null,
   "id": "0d22fc24-cbce-4b13-b6f0-4f6e493ec924",
   "metadata": {},
   "outputs": [],
   "source": [
    "percent_error[60]"
   ]
  },
  {
   "cell_type": "code",
   "execution_count": null,
   "id": "c13934b6-5d10-43db-b606-ffe1043621c9",
   "metadata": {},
   "outputs": [],
   "source": [
    "random_cosm.iloc[31]"
   ]
  },
  {
   "cell_type": "code",
   "execution_count": null,
   "id": "e015b6e4-e164-4d73-a53c-37b306933747",
   "metadata": {},
   "outputs": [],
   "source": []
  }
 ],
 "metadata": {
  "kernelspec": {
   "display_name": "Python 3 (ipykernel)",
   "language": "python",
   "name": "python3"
  },
  "language_info": {
   "codemirror_mode": {
    "name": "ipython",
    "version": 3
   },
   "file_extension": ".py",
   "mimetype": "text/x-python",
   "name": "python",
   "nbconvert_exporter": "python",
   "pygments_lexer": "ipython3",
   "version": "3.10.12"
  }
 },
 "nbformat": 4,
 "nbformat_minor": 5
}
