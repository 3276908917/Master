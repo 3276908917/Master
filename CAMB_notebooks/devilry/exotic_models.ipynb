{
 "cells": [
  {
   "cell_type": "code",
   "execution_count": 1,
   "id": "479b142e-7fa9-47ba-bc36-638569b69d69",
   "metadata": {},
   "outputs": [],
   "source": [
    "regenerate = False"
   ]
  },
  {
   "cell_type": "code",
   "execution_count": 2,
   "id": "a5cd3948-d731-4701-b8a4-e052070b4d60",
   "metadata": {},
   "outputs": [],
   "source": [
    "%matplotlib inline\n",
    "%config InlineBackend.figure_format = 'retina'\n",
    "from matplotlib import pyplot as plt\n",
    "import numpy as np\n",
    "\n",
    "import camb\n",
    "from camb import model, initialpower\n",
    "import pandas as pd"
   ]
  },
  {
   "cell_type": "code",
   "execution_count": 3,
   "id": "4d734f29-ad0e-4ace-9951-0154d16e2c9f",
   "metadata": {},
   "outputs": [],
   "source": [
    "from cassL import camb_interface as ci"
   ]
  },
  {
   "cell_type": "code",
   "execution_count": 4,
   "id": "32477594-a659-4a82-910f-829dba66c479",
   "metadata": {},
   "outputs": [],
   "source": [
    "asymptote_sample_size = 10\n",
    "\n",
    "omega_index = 3 # while we debug, we confine our attention to just one value\n",
    "onh2 = ci.OMNUH2_FLOATS[omega_index]\n",
    "onh2_str = ci.OMNUH2_STRS[omega_index]\n",
    "snap_index=0\n",
    "\n",
    "skips_omega = np.delete(ci.OMNUH2_FLOATS, omega_index)\n",
    "skips_snaps = np.delete(ci.ALETHEIA_SNAPS, snap_index)"
   ]
  },
  {
   "cell_type": "code",
   "execution_count": 5,
   "id": "e36abe13-9eb0-45cc-82d8-4e02839577ce",
   "metadata": {},
   "outputs": [],
   "source": [
    "model0 = ci.specify_neutrino_mass(ci.cosm.iloc[0], onh2)"
   ]
  },
  {
   "cell_type": "code",
   "execution_count": 6,
   "id": "2625dbd1-bfcc-4910-aee6-ebd3724a080f",
   "metadata": {},
   "outputs": [],
   "source": [
    "random_cosm = None\n",
    "'''\n",
    "First, we need to define a Pandas table containing my exotic cosmologies.\n",
    "'''\n",
    "num_exotic = 100\n",
    "\n",
    "if regenerate:\n",
    "    \n",
    "    def row_conglomerator():\n",
    "        rows = [ci.get_random_cosmology(onh2) for i in range(num_exotic)]\n",
    "        rows.insert(0, model0)\n",
    "        conglomerate = {}\n",
    "        for key in rows[0].keys():\n",
    "            conglomerate[key] = [rows[0][key]]\n",
    "            for i in range(1, num_exotic + 1):\n",
    "                conglomerate[key].append(rows[i][key])\n",
    "        return conglomerate\n",
    "\n",
    "    conglomerate = row_conglomerator()\n",
    "    random_cosm = pd.DataFrame.from_dict(conglomerate)\n",
    "    # We need to write this dataframe as a CSV. Trying to retrieve it from\n",
    "    # numpy seems obscure.\n",
    "    random_cosm.to_csv(\"exotic_cosmologies.csv\")\n",
    "else:\n",
    "    random_cosm = pd.read_csv(\"exotic_cosmologies.csv\")"
   ]
  },
  {
   "cell_type": "code",
   "execution_count": 7,
   "id": "16563d65-429b-466c-a783-6543d9e7172d",
   "metadata": {},
   "outputs": [
    {
     "data": {
      "text/html": [
       "<div>\n",
       "<style scoped>\n",
       "    .dataframe tbody tr th:only-of-type {\n",
       "        vertical-align: middle;\n",
       "    }\n",
       "\n",
       "    .dataframe tbody tr th {\n",
       "        vertical-align: top;\n",
       "    }\n",
       "\n",
       "    .dataframe thead th {\n",
       "        text-align: right;\n",
       "    }\n",
       "</style>\n",
       "<table border=\"1\" class=\"dataframe\">\n",
       "  <thead>\n",
       "    <tr style=\"text-align: right;\">\n",
       "      <th></th>\n",
       "      <th>Name</th>\n",
       "      <th>ombh2</th>\n",
       "      <th>omch2</th>\n",
       "      <th>n_s</th>\n",
       "      <th>A_s</th>\n",
       "      <th>OmB</th>\n",
       "      <th>OmC</th>\n",
       "      <th>OmM</th>\n",
       "      <th>OmK</th>\n",
       "      <th>OmL</th>\n",
       "      <th>...</th>\n",
       "      <th>z(4)</th>\n",
       "      <th>z(3)</th>\n",
       "      <th>z(2)</th>\n",
       "      <th>z(1)</th>\n",
       "      <th>z(0)</th>\n",
       "      <th>Lbox</th>\n",
       "      <th>sigma8</th>\n",
       "      <th>omnuh2</th>\n",
       "      <th>mnu</th>\n",
       "      <th>nnu_massive</th>\n",
       "    </tr>\n",
       "  </thead>\n",
       "  <tbody>\n",
       "    <tr>\n",
       "      <th>0</th>\n",
       "      <td>Columbus_0</td>\n",
       "      <td>0.022445</td>\n",
       "      <td>0.120567</td>\n",
       "      <td>0.96</td>\n",
       "      <td>0.0</td>\n",
       "      <td>0.05</td>\n",
       "      <td>0.268584</td>\n",
       "      <td>0.318584</td>\n",
       "      <td>0.0</td>\n",
       "      <td>0.681416</td>\n",
       "      <td>...</td>\n",
       "      <td>2.0</td>\n",
       "      <td>1.0</td>\n",
       "      <td>0.57</td>\n",
       "      <td>0.3</td>\n",
       "      <td>0.0</td>\n",
       "      <td>1000.0</td>\n",
       "      <td>0.82755</td>\n",
       "      <td>0.01</td>\n",
       "      <td>0.930425</td>\n",
       "      <td>1</td>\n",
       "    </tr>\n",
       "  </tbody>\n",
       "</table>\n",
       "<p>1 rows × 24 columns</p>\n",
       "</div>"
      ],
      "text/plain": [
       "         Name     ombh2     omch2   n_s  A_s   OmB       OmC       OmM  OmK  \\\n",
       "0  Columbus_0  0.022445  0.120567  0.96  0.0  0.05  0.268584  0.318584  0.0   \n",
       "\n",
       "        OmL  ... z(4) z(3)  z(2) z(1) z(0)    Lbox   sigma8 omnuh2       mnu  \\\n",
       "0  0.681416  ...  2.0  1.0  0.57  0.3  0.0  1000.0  0.82755   0.01  0.930425   \n",
       "\n",
       "  nnu_massive  \n",
       "0           1  \n",
       "\n",
       "[1 rows x 24 columns]"
      ]
     },
     "execution_count": 7,
     "metadata": {},
     "output_type": "execute_result"
    }
   ],
   "source": [
    "m0_only = pd.Series(model0).to_frame().T\n",
    "m0_only"
   ]
  },
  {
   "cell_type": "code",
   "execution_count": 8,
   "id": "98a429ac-360d-4998-89b4-f01c7584defc",
   "metadata": {},
   "outputs": [],
   "source": [
    "# It's a waste of time to consider all of the omegas and snapshots, so we're\n",
    "# making heavy use of skips.\n",
    "if regenerate:\n",
    "    spec_sim = ci.boltzmann_battery(ci.OMNUH2_FLOATS,\n",
    "        skips_omega = skips_omega, skips_model=[], skips_snapshot=skips_snaps,\n",
    "        models=m0_only)\n",
    "    np.save(\"exotic_spectra.npy\", spec_sim)\n",
    "else:\n",
    "    spec_sim = np.load(\"exotic_spectra.npy\", allow_pickle=True)"
   ]
  },
  {
   "cell_type": "code",
   "execution_count": 9,
   "id": "db131d31-2837-4616-83ea-388e663dcb9b",
   "metadata": {},
   "outputs": [
    {
     "name": "stdout",
     "output_type": "stream",
     "text": [
      "12345678901234567890123456789012No solution.\n",
      "34567890123456789012345678901234567890123456789012345678901234567890"
     ]
    }
   ],
   "source": [
    "target, redshifts = None, None\n",
    "\n",
    "if regenerate:\n",
    "    # The target should always be selected at snapshot\n",
    "    # 0, i.e. z=2\n",
    "    target = spec_sim[onh2][0][0]['s12_massless'][0]\n",
    "\n",
    "    # We'll evaluate each cosmology at the corresponding\n",
    "    # redshift entry here, to keep things even.\n",
    "    redshifts = [2] # this is the redshift which in model 0 is associated with the\n",
    "    # sigma12 value we're using\n",
    "    for i in range(1, num_exotic + 1):\n",
    "        print(i  % 10, end='')\n",
    "        z = ci.match_sigma12(target, 0.001, random_cosm.loc[i])\n",
    "        redshifts.append(z)\n",
    "    np.save(\"exotic_redshifts.npy\", redshifts)\n",
    "else:\n",
    "    redshifts = np.load(\"exotic_redshifts.npy\", allow_pickle=True)"
   ]
  },
  {
   "cell_type": "code",
   "execution_count": 10,
   "id": "e07dee03-60d0-4ae5-a554-1e7e588ecf58",
   "metadata": {},
   "outputs": [
    {
     "ename": "NameError",
     "evalue": "name 'm_index' is not defined",
     "output_type": "error",
     "traceback": [
      "\u001b[1;31m---------------------------------------------------------------------------\u001b[0m",
      "\u001b[1;31mNameError\u001b[0m                                 Traceback (most recent call last)",
      "Cell \u001b[1;32mIn[10], line 9\u001b[0m\n\u001b[0;32m      7\u001b[0m spec_sims \u001b[38;5;241m=\u001b[39m \u001b[38;5;28;01mNone\u001b[39;00m\n\u001b[0;32m      8\u001b[0m \u001b[38;5;28;01mif\u001b[39;00m regenerate:\n\u001b[1;32m----> 9\u001b[0m     spec_sims \u001b[38;5;241m=\u001b[39m \u001b[43mci\u001b[49m\u001b[38;5;241;43m.\u001b[39;49m\u001b[43mboltzmann_battery\u001b[49m\u001b[43m(\u001b[49m\u001b[43mci\u001b[49m\u001b[38;5;241;43m.\u001b[39;49m\u001b[43mOMNUH2_FLOATS\u001b[49m\u001b[43m,\u001b[49m\n\u001b[0;32m     10\u001b[0m \u001b[43m        \u001b[49m\u001b[43mskips_omega\u001b[49m\u001b[43m \u001b[49m\u001b[38;5;241;43m=\u001b[39;49m\u001b[43m \u001b[49m\u001b[43mskips_omega\u001b[49m\u001b[43m,\u001b[49m\u001b[43m \u001b[49m\u001b[43mskips_model\u001b[49m\u001b[38;5;241;43m=\u001b[39;49m\u001b[43m[\u001b[49m\u001b[43m]\u001b[49m\u001b[43m,\u001b[49m\u001b[43m \u001b[49m\u001b[43mskips_snapshot\u001b[49m\u001b[38;5;241;43m=\u001b[39;49m\u001b[43mskips_snaps\u001b[49m\u001b[43m,\u001b[49m\n\u001b[0;32m     11\u001b[0m \u001b[43m        \u001b[49m\u001b[43mmodels\u001b[49m\u001b[38;5;241;43m=\u001b[39;49m\u001b[43mrandom_cosm\u001b[49m\u001b[43m)\u001b[49m\n\u001b[0;32m     13\u001b[0m     np\u001b[38;5;241m.\u001b[39msave(\u001b[38;5;124m\"\u001b[39m\u001b[38;5;124mexotic_spectra.npy\u001b[39m\u001b[38;5;124m\"\u001b[39m, spec_sims, allow_pickle\u001b[38;5;241m=\u001b[39m\u001b[38;5;28;01mTrue\u001b[39;00m)\n\u001b[0;32m     14\u001b[0m \u001b[38;5;28;01melse\u001b[39;00m:\n\u001b[0;32m     15\u001b[0m     \u001b[38;5;66;03m# We use the .item() accessor because we're loading a Python dict\u001b[39;00m\n",
      "File \u001b[1;32mc:\\ihateonedrive\\github\\master\\cassL\\camb_interface.py:500\u001b[0m, in \u001b[0;36mboltzmann_battery\u001b[1;34m(omnuh2_floats, skips_omega, skips_model, skips_snapshot, hubble_units, models, fancy_neutrinos, k_points)\u001b[0m\n\u001b[0;32m    498\u001b[0m z_input \u001b[38;5;241m=\u001b[39m parse_redshifts(mindex)\n\u001b[0;32m    499\u001b[0m \u001b[38;5;28;01mif\u001b[39;00m \u001b[38;5;28;01mNone\u001b[39;00m \u001b[38;5;129;01min\u001b[39;00m z_input:\n\u001b[1;32m--> 500\u001b[0m     spectra[this_omnuh2_float][\u001b[43mm_index\u001b[49m] \u001b[38;5;241m=\u001b[39m \u001b[38;5;28;01mNone\u001b[39;00m\n\u001b[0;32m    501\u001b[0m     \u001b[38;5;28;01mcontinue\u001b[39;00m\n\u001b[0;32m    503\u001b[0m \u001b[38;5;28;01mfor\u001b[39;00m snap_index \u001b[38;5;129;01min\u001b[39;00m \u001b[38;5;28mrange\u001b[39m(\u001b[38;5;28mlen\u001b[39m(z_input)):\n\u001b[0;32m    504\u001b[0m     \u001b[38;5;66;03m#  Since z_input is ordered from z large to z small, and since\u001b[39;00m\n\u001b[0;32m    505\u001b[0m     \u001b[38;5;66;03m# snap indices run from z large to z small,\u001b[39;00m\n\u001b[0;32m    506\u001b[0m     \u001b[38;5;66;03m# z_index = snap_index in this case and NOT in general.\u001b[39;00m\n",
      "\u001b[1;31mNameError\u001b[0m: name 'm_index' is not defined"
     ]
    }
   ],
   "source": [
    "# This is a disgusting hack, but it's quite succinct\n",
    "def decoy_parser(mindex):\n",
    "    return [redshifts[mindex]]\n",
    "\n",
    "ci.parse_redshifts = decoy_parser\n",
    "\n",
    "spec_sims = None\n",
    "if regenerate:\n",
    "    spec_sims = ci.boltzmann_battery(ci.OMNUH2_FLOATS,\n",
    "        skips_omega = skips_omega, skips_model=[], skips_snapshot=skips_snaps,\n",
    "        models=random_cosm)\n",
    "    \n",
    "    np.save(\"exotic_spectra.npy\", spec_sims, allow_pickle=True)\n",
    "else:\n",
    "    # We use the .item() accessor because we're loading a Python dict\n",
    "    spec_sims = np.load(\"exotic_spectra.npy\", allow_pickle=True).item()"
   ]
  },
  {
   "cell_type": "code",
   "execution_count": null,
   "id": "d4b11e35-352c-4f64-bdb7-56404f64051a",
   "metadata": {},
   "outputs": [],
   "source": [
    "colors = ci.colors * 200\n",
    "styles = ci.styles * 200\n",
    "for i in range(len(spec_sims[onh2])):\n",
    "    if spec_sims[onh2][i] is None:\n",
    "        continue\n",
    "    h = random_cosm.loc[i][\"h\"]\n",
    "    for j in range(len(spec_sims[onh2][i])):\n",
    "        sim = spec_sims[onh2][i][j]\n",
    "        \n",
    "        if sim is None:\n",
    "            continue\n",
    "        plt.plot(sim[\"k\"],\n",
    "            sim[\"P_nu\"] / sim[\"P_no\"],\n",
    "            label=\"model \" + str(i) + \", z=\" + str(sim[\"z\"]), c=colors[i],\n",
    "            linestyle=styles[i])\n",
    "    plt.xscale('log')\n",
    "    plt.xlabel(r\"k [1 / Mpc]\")\n",
    "    plt.ylabel(r\"$P_\\mathrm{massive} / P_0$\")\n",
    "    plt.title(r\"$\\omega_\\nu$ = \" + onh2_str)\n",
    "    #plt.legend()"
   ]
  },
  {
   "cell_type": "code",
   "execution_count": null,
   "id": "69dfdf41-e78b-4221-af25-9f1d0d45da04",
   "metadata": {},
   "outputs": [],
   "source": [
    "fig, axs = plt.subplots()\n",
    "ks, rats = ci.model_ratios(snap_index, spec_sims[onh2], axs,\n",
    "    massive='x', skips=[], omnuh2_str=onh2_str, models=random_cosm,\n",
    "    suppress_legend=True, title=\"CAMB random cosmologies\");\n",
    "plt.savefig(\"exotic_asymptotes.png\")"
   ]
  },
  {
   "cell_type": "code",
   "execution_count": null,
   "id": "d51805ca-fd42-49aa-8ed4-9a9f568c745b",
   "metadata": {},
   "outputs": [],
   "source": [
    "# true_asymptotes = np.array([rats[i][len(rats[i]) - 1] for i in range(len(rats))])\n",
    "\n",
    "true_asymptotes = []\n",
    "for model_i in range(len(rats)):\n",
    "    tail_start_idx = len(rats[model_i]) - asymptote_sample_size\n",
    "    tail = rats[model_i][tail_start_idx:len(rats[model_i])]\n",
    "    true_asymptotes.append(np.average(tail))\n",
    "true_asymptotes = np.array(true_asymptotes)"
   ]
  },
  {
   "cell_type": "code",
   "execution_count": null,
   "id": "6a531e7d-cc2d-404a-a6d3-e97a4842b084",
   "metadata": {},
   "outputs": [],
   "source": [
    "fig, axs = plt.subplots()\n",
    "ci.model_ratios(snap_index, spec_sims[onh2], axs,\n",
    "    massive='x', skips=[], omnuh2_str=onh2_str,\n",
    "    title=\"Final points as asymptotes\", models=random_cosm, suppress_legend=True)\n",
    "for asymptote in true_asymptotes:\n",
    "    axs.axhline(asymptote, linestyle='--')"
   ]
  },
  {
   "cell_type": "code",
   "execution_count": null,
   "id": "ffccf121-c752-40e0-b4ab-dfcf2d813a41",
   "metadata": {},
   "outputs": [],
   "source": [
    "from numpy.polynomial.polynomial import polyfit\n",
    "A_s = [random_cosm.loc[i][\"A_s\"] for i in range(1 + num_exotic)]\n",
    "x6 = onh2 * np.log(A_s[1:] / A_s[0])\n",
    "\n",
    "model_desc_6 = r\"\\omega_\\nu \\, \\ln \\left( \\frac{A_s^i}{A_s^0} \\right)$\"\n",
    "\n",
    "#print(len(true_asymptotes))\n",
    "#print(len(A_s))\n",
    "\n",
    "plt.scatter(x6, true_asymptotes, label=\"true values\")\n",
    "\n",
    "b6, m6 = polyfit(x6, true_asymptotes, 1)\n",
    "\n",
    "pred6 = m6 * x6 + b6\n",
    "plt.scatter(x6, pred6, label=\"predictions\")\n",
    "\n",
    "print(\"y-intercept for this fit is\", b6)\n",
    "print(\"slope for this fit is\", m6)\n",
    "\n",
    "plt.ylabel(\"Asymptotes\")\n",
    "plt.xlabel(\"$\" + model_desc_6)\n",
    "plt.title(r\"Fit results: $\\hat{y} = C\" + model_desc_6)\n",
    "plt.legend()\n",
    "\n",
    "chis6 = (true_asymptotes - pred6) ** 2 / pred6\n",
    "red_chisq6 = sum(chis6) / len(x6)\n",
    "print(\"Reduced chi squared value for this fit:\", red_chisq6)"
   ]
  },
  {
   "cell_type": "code",
   "execution_count": null,
   "id": "c0f51498-a552-4533-9f49-c97a9aed829a",
   "metadata": {},
   "outputs": [],
   "source": [
    "fig, axs = plt.subplots()\n",
    "ci.model_ratios(snap_index, spec_sims[onh2], axs,\n",
    "    massive='x', omnuh2_str=onh2_str, models=random_cosm,\n",
    "    title=\"Lukas' Sims with Ansatz 6\", suppress_legend=True)\n",
    "#axs.get_legend().remove()\n",
    "for i in range(len(true_asymptotes)):\n",
    "    axs.axhline(m6 * x6[i] + b6, linestyle='--')"
   ]
  },
  {
   "cell_type": "markdown",
   "id": "53d6a145-101e-496a-b542-a68e72de0437",
   "metadata": {},
   "source": [
    "The estimates are pretty obviously misaligned in several cases, but that's okay,\n",
    "because we're deliberately running this experiment at the worst omega_nu value\n",
    "on the range: 0.01.\n",
    "\n",
    "However, one thing I can't explain: why do the randomly-generated cosmologies\n",
    "tend to cluster toward the higher side of this plot? The Aletheia set doesn't\n",
    "have such a dramatic lopsidedness (see the notebook divergence_asymptotes), but\n",
    "maybe the cosmologies were carefully selected to that end?"
   ]
  },
  {
   "cell_type": "code",
   "execution_count": null,
   "id": "f6bdf421-4120-4e4b-855e-dad4c9c3f96f",
   "metadata": {},
   "outputs": [],
   "source": [
    "'''\n",
    "Unfortunately, chi-squared is not meaningful anymore because there is no\n",
    "longer a common theme to the models (before, one could say that they were all\n",
    "Aletheia cosmologies). All we can do is procure a maximum error term across\n",
    "all randomly-generated cosmologies.\n",
    "'''\n",
    "percent_error = (true_asymptotes - pred6) / true_asymptotes * 100\n",
    "plt.hist(percent_error, bins=15)\n",
    "plt.title(\"Histogram of Errors in the Random Cosmology Experiment\")\n",
    "plt.ylabel(\"# cosmologies associated with error bin\")\n",
    "plt.xlabel(\"Percent error\")\n",
    "plt.savefig(\"exotic_histogram.png\")"
   ]
  },
  {
   "cell_type": "code",
   "execution_count": null,
   "id": "b5e85995-c10c-4b59-a0dc-a60111f820f9",
   "metadata": {},
   "outputs": [],
   "source": [
    "print(max(percent_error))\n",
    "print(min(percent_error))"
   ]
  },
  {
   "cell_type": "code",
   "execution_count": null,
   "id": "84150398-0c60-42b8-9850-ac9cd58b3d50",
   "metadata": {},
   "outputs": [],
   "source": [
    "np.where([percent_error == min(percent_error)])"
   ]
  },
  {
   "cell_type": "code",
   "execution_count": null,
   "id": "0d22fc24-cbce-4b13-b6f0-4f6e493ec924",
   "metadata": {},
   "outputs": [],
   "source": [
    "percent_error[60]"
   ]
  },
  {
   "cell_type": "code",
   "execution_count": null,
   "id": "9d773c23-af2a-4de4-adf6-2b7567a41ba7",
   "metadata": {},
   "outputs": [],
   "source": [
    "random_cosm.iloc[60]"
   ]
  },
  {
   "cell_type": "markdown",
   "id": "646279bf-b47b-4d6e-b2f7-eb55aba77581",
   "metadata": {},
   "source": [
    "The subject of the next notebook must of course be: \"what makes a model bad?\" in\n",
    "the sense that the error would be counted as an outlier wrt this histogram with\n",
    "which I am concluding this notebook"
   ]
  },
  {
   "cell_type": "code",
   "execution_count": null,
   "id": "8a67da69-6ac5-42c9-acad-9336bb562a4a",
   "metadata": {},
   "outputs": [],
   "source": []
  }
 ],
 "metadata": {
  "kernelspec": {
   "display_name": "Python 3 (ipykernel)",
   "language": "python",
   "name": "python3"
  },
  "language_info": {
   "codemirror_mode": {
    "name": "ipython",
    "version": 3
   },
   "file_extension": ".py",
   "mimetype": "text/x-python",
   "name": "python",
   "nbconvert_exporter": "python",
   "pygments_lexer": "ipython3",
   "version": "3.10.12"
  }
 },
 "nbformat": 4,
 "nbformat_minor": 5
}
