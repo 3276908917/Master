{
 "cells": [
  {
   "cell_type": "code",
   "execution_count": 1,
   "id": "a5cd3948-d731-4701-b8a4-e052070b4d60",
   "metadata": {},
   "outputs": [],
   "source": [
    "%matplotlib inline\n",
    "%config InlineBackend.figure_format = 'retina'\n",
    "from matplotlib import pyplot as plt\n",
    "import numpy as np\n",
    "\n",
    "import camb\n",
    "from camb import model, initialpower\n",
    "import pandas as pd"
   ]
  },
  {
   "cell_type": "code",
   "execution_count": 2,
   "id": "6ad80bff-c055-43ce-a223-204e6d30c783",
   "metadata": {},
   "outputs": [
    {
     "ename": "SyntaxError",
     "evalue": "invalid syntax (spectra.py, line 242)",
     "output_type": "error",
     "traceback": [
      "Traceback \u001b[0;36m(most recent call last)\u001b[0m:\n",
      "\u001b[0m  File \u001b[1;32m~/anaconda3/envs/camb/lib/python3.9/site-packages/IPython/core/interactiveshell.py:3433\u001b[0m in \u001b[1;35mrun_code\u001b[0m\n    exec(code_obj, self.user_global_ns, self.user_ns)\u001b[0m\n",
      "\u001b[0m  Cell \u001b[1;32mIn[2], line 7\u001b[0m\n    spec.loader.exec_module(spectra)\u001b[0m\n",
      "\u001b[0m  File \u001b[1;32m<frozen importlib._bootstrap_external>:846\u001b[0m in \u001b[1;35mexec_module\u001b[0m\n",
      "\u001b[0m  File \u001b[1;32m<frozen importlib._bootstrap_external>:983\u001b[0m in \u001b[1;35mget_code\u001b[0m\n",
      "\u001b[0m  File \u001b[1;32m<frozen importlib._bootstrap_external>:913\u001b[0m in \u001b[1;35msource_to_code\u001b[0m\n",
      "\u001b[0;36m  File \u001b[0;32m<frozen importlib._bootstrap>:228\u001b[0;36m in \u001b[0;35m_call_with_frames_removed\u001b[0;36m\n",
      "\u001b[0;36m  File \u001b[0;32m../shared/spectra.py:242\u001b[0;36m\u001b[0m\n\u001b[0;31m    if mlc[\"w0\"] != -1 or float(mlc[\"wa\"] !=0:\u001b[0m\n\u001b[0m                                             ^\u001b[0m\n\u001b[0;31mSyntaxError\u001b[0m\u001b[0;31m:\u001b[0m invalid syntax\n"
     ]
    }
   ],
   "source": [
    "import importlib.util\n",
    "import sys\n",
    "spec = importlib.util.spec_from_file_location(\n",
    "    \"spectra\", \"../shared/spectra.py\")\n",
    "spectra = importlib.util.module_from_spec(spec)\n",
    "sys.modules[\"spectra\"] = spectra\n",
    "spec.loader.exec_module(spectra)"
   ]
  },
  {
   "cell_type": "code",
   "execution_count": null,
   "id": "32477594-a659-4a82-910f-829dba66c479",
   "metadata": {},
   "outputs": [],
   "source": [
    "omega_index = 1 # while we debug, we confine our attention to just one value\n",
    "onh2 = spectra.omegas_nu[omega_index]\n",
    "onh2_str = spectra.omnu_strings[omega_index]"
   ]
  },
  {
   "cell_type": "code",
   "execution_count": null,
   "id": "1efff039-1bdb-4679-a0a6-43306774def5",
   "metadata": {},
   "outputs": [],
   "source": [
    "k_massless_list, z_massless_list, p_massless_list, s12_massless_list, \\\n",
    "    k_massive_list, z_massive_list, p_massive_list, s12_massive_list = \\\n",
    "    spectra.boltzmann_battery(onh2, skips=[8])"
   ]
  },
  {
   "cell_type": "code",
   "execution_count": null,
   "id": "98a429ac-360d-4998-89b4-f01c7584defc",
   "metadata": {},
   "outputs": [],
   "source": [
    "# It's a waste of time to consider all of the omegas and snapshots\n",
    "spec_sims = spectra.better_battery(spectra.omegas_nu, spectra.omnu_strings,\n",
    "    skips_omega = [0, 3], skips_model=[8], skips_snapshot=[1, 2, 3])"
   ]
  },
  {
   "cell_type": "code",
   "execution_count": null,
   "id": "153b4ae6-4533-42bc-b1ad-415f811962b3",
   "metadata": {},
   "outputs": [],
   "source": [
    "for i in range(len(k_massive_list)):\n",
    "    h = spectra.cosm.loc[i][\"h\"]\n",
    "    for j in range(5):\n",
    "        plt.plot(k_massless_list[i] * h,\n",
    "                 p_massive_list[i][j] / p_massless_list[i][j],\n",
    "                 label=\"model \" + str(i) + \", no renormalizing, z=\" + \\\n",
    "                 str(spectra.parse_redshifts(i)[j]), c=spectra.colors[i],\n",
    "                 linestyle=spectra.styles[i])\n",
    "    plt.xscale('log')\n",
    "    plt.xlabel(r\"k [1 / Mpc]\")\n",
    "    plt.ylabel(r\"$P_\\mathrm{massive} / P_0$\")\n",
    "    plt.title(r\"$\\omega_\\nu$ = \" + str(onh2))"
   ]
  },
  {
   "cell_type": "code",
   "execution_count": null,
   "id": "d4b11e35-352c-4f64-bdb7-56404f64051a",
   "metadata": {},
   "outputs": [],
   "source": [
    "\"\"\"\n",
    "The point of this cell is merely to demonstrate that something is wrong with\n",
    "the newly-introduced spec_sims \n",
    "\"\"\"\n",
    "for i in range(len(spec_sims[onh2_str])):\n",
    "    if spec_sims[onh2_str][i] is None:\n",
    "        continue\n",
    "    h = spectra.cosm.loc[i][\"h\"]\n",
    "    for j in range(len(spec_sims[onh2_str][i])):\n",
    "        if spec_sims[onh2_str][i][j] is None:\n",
    "            continue\n",
    "        plt.plot(spec_sims[onh2_str][i][j][\"k\"] * h,\n",
    "            spec_sims[onh2_str][i][j][\"P_nu\"] / \\\n",
    "            spec_sims[onh2_str][i][j][\"P_no\"],\n",
    "            label=\"model \" + str(i) + \", no renormalizing, z=\" + \\\n",
    "            str(spectra.parse_redshifts(i)[j]), c=spectra.colors[i],\n",
    "            linestyle=spectra.styles[i])\n",
    "    plt.xscale('log')\n",
    "    plt.xlabel(r\"k [1 / Mpc]\")\n",
    "    plt.ylabel(r\"$P_\\mathrm{massive} / P_0$\")\n",
    "    plt.title(r\"$\\omega_\\nu$ = \" + str(onh2))"
   ]
  },
  {
   "cell_type": "code",
   "execution_count": null,
   "id": "a6fe6e72-6c40-4bec-8277-57ffcf062a78",
   "metadata": {},
   "outputs": [],
   "source": [
    "for i in range(0, 3):\n",
    "    h = spectra.cosm.loc[i][\"h\"]\n",
    "    j = 4 # just look at z=0 before moving on\n",
    "    plt.plot(k_massless_list[i] * h,\n",
    "             p_massive_list[i][j] / p_massless_list[i][j],\n",
    "                 label=\"model \" + str(i), c=spectra.colors[i])\n",
    "    plt.xscale('log')\n",
    "    plt.xlabel(r\"k [1 / Mpc]\")\n",
    "    plt.ylabel(r\"$P_\\mathrm{massive} / P_0$\")\n",
    "    plt.title(r\"$\\omega_\\nu$ = \" + str(onh2) + \"; $z=0$\")\n",
    "    plt.legend()"
   ]
  },
  {
   "cell_type": "markdown",
   "id": "f8d7828c-abbc-4dc1-aaf0-7813150e5d9c",
   "metadata": {},
   "source": [
    "Currently I am not re-normalizing the amplitude of one model based on its counterpart. At least, I *think* I'm not doing that, but I'm really quite unsure"
   ]
  },
  {
   "cell_type": "code",
   "execution_count": null,
   "id": "98865800-da7a-445a-8509-0f376d29a2c3",
   "metadata": {},
   "outputs": [],
   "source": [
    "#baseline = spectra.powernu2[0][0]\n",
    "#baseline_max = spectra.powernu2[0][4] # why is this \"max\"?\n",
    "baseline = spectra.powernu[onh2_str][0][0]\n",
    "baseline_max = spectra.powernu[onh2_str][0][4] # why is this \"max\"?"
   ]
  },
  {
   "cell_type": "code",
   "execution_count": null,
   "id": "c13163ce-4c84-4e56-986b-8bfe2c71b966",
   "metadata": {},
   "outputs": [],
   "source": [
    "# Let's just look at model 0 for the initial comparisons\n",
    "i = 0\n",
    "# Let's just look at redshift 0 for the initial comparisons\n",
    "j = 4\n",
    "\n",
    "h = spectra.cosm.loc[i][\"h\"]\n",
    "plt.plot(k_massless_list[i] * h, p_massive_list[i][j] / p_massless_list[i][j],\n",
    "             label=\"my result for z=\" + str(z_massive_list[i][j]),\n",
    "             c=spectra.colors[i])\n",
    "j = 0 # This will correspond to z=2 for the model0 case.\n",
    "plt.plot(k_massless_list[i] * h, p_massive_list[i][j] / p_massless_list[i][j],\n",
    "             label=\"my result for z=\"  + str(z_massive_list[i][j]), c=\"black\")\n",
    "plt.plot(baseline[\"k\"], baseline[\"ratio\"], label=\"powernu.tar snapshot 0\")\n",
    "plt.plot(baseline_max[\"k\"], baseline_max[\"ratio\"],\n",
    "         label=\"powernu.tar snapshot 4\")\n",
    "plt.xscale('log')\n",
    "plt.xlabel(r\"k [1 / Mpc]\")\n",
    "plt.ylabel(r\"$P_\\mathrm{massive} / P_0$\")\n",
    "plt.title(r\"$\\omega_\\nu$ = \" + str(onh2) + \"; model 0\")\n",
    "plt.legend()"
   ]
  },
  {
   "cell_type": "markdown",
   "id": "e6b1373f-628b-41c4-b304-8a130ece9862",
   "metadata": {},
   "source": [
    "We've now made absolutely certain that my lines here should overlap with Ariel's. What went wrong?"
   ]
  },
  {
   "cell_type": "code",
   "execution_count": null,
   "id": "86f75a6f-f374-43cf-9606-7646a2903f56",
   "metadata": {},
   "outputs": [],
   "source": [
    "h = spectra.cosm.loc[i][\"h\"]\n",
    "j = 4\n",
    "plt.plot(k_massless_list[i] * h, p_massless_list[i][j],\n",
    "             label=\"my no-neut\", c=spectra.colors[i])\n",
    "plt.plot(k_massless_list[i] * h, p_massive_list[i][j],\n",
    "             label=\"my neuts\", c=\"black\")\n",
    "plt.xscale('log')\n",
    "plt.xlabel(r\"k [1 / Mpc]\")\n",
    "plt.ylabel(r\"$P(k)$ [?]\")\n",
    "plt.title(r\"$\\omega_\\nu$ = \" + str(onh2) + \"; model 0\")\n",
    "plt.legend()"
   ]
  },
  {
   "cell_type": "code",
   "execution_count": null,
   "id": "acc74904-5f8f-4fb0-a6c6-87d6752ae552",
   "metadata": {},
   "outputs": [],
   "source": []
  }
 ],
 "metadata": {
  "kernelspec": {
   "display_name": "Python 3 (ipykernel)",
   "language": "python",
   "name": "python3"
  },
  "language_info": {
   "codemirror_mode": {
    "name": "ipython",
    "version": 3
   },
   "file_extension": ".py",
   "mimetype": "text/x-python",
   "name": "python",
   "nbconvert_exporter": "python",
   "pygments_lexer": "ipython3",
   "version": "3.9.15"
  }
 },
 "nbformat": 4,
 "nbformat_minor": 5
}
