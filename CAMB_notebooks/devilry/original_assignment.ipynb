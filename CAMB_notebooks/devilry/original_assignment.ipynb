{
 "cells": [
  {
   "cell_type": "code",
   "execution_count": 1,
   "id": "a5cd3948-d731-4701-b8a4-e052070b4d60",
   "metadata": {},
   "outputs": [],
   "source": [
    "%matplotlib inline\n",
    "%config InlineBackend.figure_format = 'retina'\n",
    "from matplotlib import pyplot as plt\n",
    "import numpy as np\n",
    "\n",
    "import camb\n",
    "from camb import model, initialpower\n",
    "import pandas as pd"
   ]
  },
  {
   "cell_type": "code",
   "execution_count": 2,
   "id": "6ad80bff-c055-43ce-a223-204e6d30c783",
   "metadata": {},
   "outputs": [],
   "source": [
    "import importlib.util\n",
    "import sys\n",
    "spec = importlib.util.spec_from_file_location(\n",
    "    \"spectra\", \"../shared/spectra.py\")\n",
    "spectra = importlib.util.module_from_spec(spec)\n",
    "sys.modules[\"spectra\"] = spectra\n",
    "spec.loader.exec_module(spectra)"
   ]
  },
  {
   "cell_type": "code",
   "execution_count": 3,
   "id": "32477594-a659-4a82-910f-829dba66c479",
   "metadata": {},
   "outputs": [],
   "source": [
    "omega_index = 1 # while we debug, we confine our attention to just one value\n",
    "onh2 = spectra.omegas_nu[omega_index]\n",
    "onh2_str = spectra.omnu_strings[omega_index]"
   ]
  },
  {
   "cell_type": "code",
   "execution_count": 4,
   "id": "98a429ac-360d-4998-89b4-f01c7584defc",
   "metadata": {},
   "outputs": [
    {
     "ename": "TypeError",
     "evalue": "can't multiply sequence by non-int of type 'float'",
     "output_type": "error",
     "traceback": [
      "\u001b[0;31m---------------------------------------------------------------------------\u001b[0m",
      "\u001b[0;31mTypeError\u001b[0m                                 Traceback (most recent call last)",
      "Cell \u001b[0;32mIn[4], line 3\u001b[0m\n\u001b[1;32m      1\u001b[0m \u001b[38;5;66;03m# It's a waste of time to consider all of the omegas and snapshots, so we're\u001b[39;00m\n\u001b[1;32m      2\u001b[0m \u001b[38;5;66;03m# making heavy use of skips.\u001b[39;00m\n\u001b[0;32m----> 3\u001b[0m spec_sims \u001b[38;5;241m=\u001b[39m \u001b[43mspectra\u001b[49m\u001b[38;5;241;43m.\u001b[39;49m\u001b[43mbetter_battery\u001b[49m\u001b[43m(\u001b[49m\u001b[43mspectra\u001b[49m\u001b[38;5;241;43m.\u001b[39;49m\u001b[43momegas_nu\u001b[49m\u001b[43m,\u001b[49m\u001b[43m \u001b[49m\u001b[43mspectra\u001b[49m\u001b[38;5;241;43m.\u001b[39;49m\u001b[43momnu_strings\u001b[49m\u001b[43m,\u001b[49m\n\u001b[1;32m      4\u001b[0m \u001b[43m    \u001b[49m\u001b[43mskips_omega\u001b[49m\u001b[43m \u001b[49m\u001b[38;5;241;43m=\u001b[39;49m\u001b[43m \u001b[49m\u001b[43m[\u001b[49m\u001b[38;5;241;43m0\u001b[39;49m\u001b[43m,\u001b[49m\u001b[43m \u001b[49m\u001b[38;5;241;43m3\u001b[39;49m\u001b[43m]\u001b[49m\u001b[43m,\u001b[49m\u001b[43m \u001b[49m\u001b[43mskips_model\u001b[49m\u001b[38;5;241;43m=\u001b[39;49m\u001b[43m[\u001b[49m\u001b[38;5;241;43m8\u001b[39;49m\u001b[43m]\u001b[49m\u001b[43m,\u001b[49m\u001b[43m \u001b[49m\u001b[43mskips_snapshot\u001b[49m\u001b[38;5;241;43m=\u001b[39;49m\u001b[43m[\u001b[49m\u001b[38;5;241;43m1\u001b[39;49m\u001b[43m,\u001b[49m\u001b[43m \u001b[49m\u001b[38;5;241;43m2\u001b[39;49m\u001b[43m,\u001b[49m\u001b[43m \u001b[49m\u001b[38;5;241;43m3\u001b[39;49m\u001b[43m]\u001b[49m\u001b[43m)\u001b[49m\n",
      "File \u001b[0;32m~/Documents/Master/CAMB_notebooks/shared/spectra.py:173\u001b[0m, in \u001b[0;36mbetter_battery\u001b[0;34m(onh2s, onh2_strs, skips_omega, skips_model, skips_snapshot, h_units)\u001b[0m\n\u001b[1;32m    169\u001b[0m inner_dict[\u001b[38;5;124m\"\u001b[39m\u001b[38;5;124mP_no\u001b[39m\u001b[38;5;124m\"\u001b[39m] \u001b[38;5;241m=\u001b[39m massless_tuple[\u001b[38;5;241m2\u001b[39m] \u001b[38;5;28;01mif\u001b[39;00m h_units \\\n\u001b[1;32m    170\u001b[0m     \u001b[38;5;28;01melse\u001b[39;00m massless_tuple[\u001b[38;5;241m2\u001b[39m] \u001b[38;5;241m/\u001b[39m h \u001b[38;5;241m*\u001b[39m\u001b[38;5;241m*\u001b[39m \u001b[38;5;241m3\u001b[39m\n\u001b[1;32m    171\u001b[0m inner_dict[\u001b[38;5;124m\"\u001b[39m\u001b[38;5;124ms12_massive\u001b[39m\u001b[38;5;124m\"\u001b[39m] \u001b[38;5;241m=\u001b[39m massless_tuple[\u001b[38;5;241m3\u001b[39m]\n\u001b[0;32m--> 173\u001b[0m massive_tuple \u001b[38;5;241m=\u001b[39m \u001b[43mkzps\u001b[49m\u001b[43m(\u001b[49m\u001b[43mrow\u001b[49m\u001b[43m,\u001b[49m\u001b[43m \u001b[49m\u001b[43mom\u001b[49m\u001b[43m,\u001b[49m\u001b[43m \u001b[49m\u001b[43mnu_massive\u001b[49m\u001b[38;5;241;43m=\u001b[39;49m\u001b[38;5;28;43;01mTrue\u001b[39;49;00m\u001b[43m,\u001b[49m\u001b[43m \u001b[49m\u001b[43mzs\u001b[49m\u001b[38;5;241;43m=\u001b[39;49m\u001b[43m[\u001b[49m\u001b[43mz\u001b[49m\u001b[43m]\u001b[49m\u001b[43m)\u001b[49m\n\u001b[1;32m    174\u001b[0m inner_dict[\u001b[38;5;124m\"\u001b[39m\u001b[38;5;124mP_nu\u001b[39m\u001b[38;5;124m\"\u001b[39m] \u001b[38;5;241m=\u001b[39m massive_tuple[\u001b[38;5;241m2\u001b[39m] \u001b[38;5;28;01mif\u001b[39;00m h_units \\\n\u001b[1;32m    175\u001b[0m     \u001b[38;5;28;01melse\u001b[39;00m massive_tuple[\u001b[38;5;241m2\u001b[39m] \u001b[38;5;241m/\u001b[39m h \u001b[38;5;241m*\u001b[39m\u001b[38;5;241m*\u001b[39m \u001b[38;5;241m3\u001b[39m\n\u001b[1;32m    176\u001b[0m inner_dict[\u001b[38;5;124m\"\u001b[39m\u001b[38;5;124ms12_massless\u001b[39m\u001b[38;5;124m\"\u001b[39m] \u001b[38;5;241m=\u001b[39m massive_tuple[\u001b[38;5;241m3\u001b[39m]\n",
      "File \u001b[0;32m~/Documents/Master/CAMB_notebooks/shared/spectra.py:213\u001b[0m, in \u001b[0;36mkzps\u001b[0;34m(mlc, omnuh2_in, nu_massive, zs, nnu_massive_in)\u001b[0m\n\u001b[1;32m    204\u001b[0m \u001b[38;5;28;01mif\u001b[39;00m nu_massive:\n\u001b[1;32m    205\u001b[0m     \u001b[38;5;124;03m'''This is a horrible workaround, and I would like to get rid of it\u001b[39;00m\n\u001b[1;32m    206\u001b[0m \u001b[38;5;124;03m    ASAP The following line destroys dependence on TCMB and\u001b[39;00m\n\u001b[1;32m    207\u001b[0m \u001b[38;5;124;03m    neutrino_hierarchy, possibly more. But CAMB does not accept omnuh2 as\u001b[39;00m\n\u001b[0;32m   (...)\u001b[0m\n\u001b[1;32m    211\u001b[0m \u001b[38;5;124;03m    following expression? Even if we're changing N_massive to 1,\u001b[39;00m\n\u001b[1;32m    212\u001b[0m \u001b[38;5;124;03m    N_total_eff = 3.046 nonetheless, right?'''\u001b[39;00m\n\u001b[0;32m--> 213\u001b[0m     mnu_in \u001b[38;5;241m=\u001b[39m \u001b[43momnuh2_in\u001b[49m\u001b[43m \u001b[49m\u001b[38;5;241;43m*\u001b[39;49m\u001b[43m \u001b[49m\u001b[43mcamb\u001b[49m\u001b[38;5;241;43m.\u001b[39;49m\u001b[43mconstants\u001b[49m\u001b[38;5;241;43m.\u001b[39;49m\u001b[43mneutrino_mass_fac\u001b[49m \u001b[38;5;241m/\u001b[39m \\\n\u001b[1;32m    214\u001b[0m         (camb\u001b[38;5;241m.\u001b[39mconstants\u001b[38;5;241m.\u001b[39mdefault_nnu \u001b[38;5;241m/\u001b[39m \u001b[38;5;241m3.0\u001b[39m) \u001b[38;5;241m*\u001b[39m\u001b[38;5;241m*\u001b[39m \u001b[38;5;241m0.75\u001b[39m \n\u001b[1;32m    215\u001b[0m     \u001b[38;5;66;03m#print(\"The mnu value\", mnu_in, \"corresponds to the omnuh2 value\",\u001b[39;00m\n\u001b[1;32m    216\u001b[0m     \u001b[38;5;66;03m#    omnuh2_in)\u001b[39;00m\n\u001b[1;32m    217\u001b[0m     omch2_in \u001b[38;5;241m-\u001b[39m\u001b[38;5;241m=\u001b[39m omnuh2_in\n",
      "\u001b[0;31mTypeError\u001b[0m: can't multiply sequence by non-int of type 'float'"
     ]
    }
   ],
   "source": [
    "# It's a waste of time to consider all of the omegas and snapshots, so we're\n",
    "# making heavy use of skips.\n",
    "spec_sims = spectra.better_battery(spectra.omegas_nu, spectra.omnu_strings,\n",
    "    skips_omega = [0, 3], skips_model=[8], skips_snapshot=[1, 2, 3])"
   ]
  },
  {
   "cell_type": "code",
   "execution_count": null,
   "id": "0528406c-3ef9-47e0-9fac-bb82d3473005",
   "metadata": {},
   "outputs": [],
   "source": [
    "spec_sims"
   ]
  },
  {
   "cell_type": "code",
   "execution_count": null,
   "id": "d4b11e35-352c-4f64-bdb7-56404f64051a",
   "metadata": {},
   "outputs": [],
   "source": [
    "for i in range(len(spec_sims[onh2_str])):\n",
    "    if spec_sims[onh2_str][i] is None:\n",
    "        continue\n",
    "    h = spectra.cosm.loc[i][\"h\"]\n",
    "    for j in range(len(spec_sims[onh2_str][i])):\n",
    "        if spec_sims[onh2_str][i][j] is None:\n",
    "            continue\n",
    "        plt.plot(spec_sims[onh2_str][i][j][\"k\"] * h,\n",
    "            spec_sims[onh2_str][i][j][\"P_nu\"] / \\\n",
    "            spec_sims[onh2_str][i][j][\"P_no\"],\n",
    "            label=\"model \" + str(i) + \", no renormalizing, z=\" + \\\n",
    "            str(spectra.parse_redshifts(i)[j]), c=spectra.colors[i],\n",
    "            linestyle=spectra.styles[i])\n",
    "    plt.xscale('log')\n",
    "    plt.xlabel(r\"k [1 / Mpc]\")\n",
    "    plt.ylabel(r\"$P_\\mathrm{massive} / P_0$\")\n",
    "    plt.title(r\"$\\omega_\\nu$ = \" + str(onh2))"
   ]
  },
  {
   "cell_type": "code",
   "execution_count": null,
   "id": "609c0aff-c73c-4c7d-92cc-19dc9fb7b1f9",
   "metadata": {},
   "outputs": [],
   "source": [
    "for i in range(0, 3):\n",
    "    if spec_sims[onh2_str][i] is None:\n",
    "        continue\n",
    "    h = spectra.cosm.loc[i][\"h\"]\n",
    "    j = 4 # just look at z=0 before moving on\n",
    "    plt.plot(spec_sims[onh2_str][i][j][\"k\"] * h,\n",
    "        spec_sims[onh2_str][i][j][\"P_nu\"] / \\\n",
    "        spec_sims[onh2_str][i][j][\"P_no\"],\n",
    "        label=\"model \" + str(i), c=spectra.colors[i])\n",
    "    plt.xscale('log')\n",
    "    plt.xlabel(r\"k [1 / Mpc]\")\n",
    "    plt.ylabel(r\"$P_\\mathrm{massive} / P_0$\")\n",
    "    plt.title(r\"$\\omega_\\nu$ = \" + str(onh2) + \"; $z=0$?\")"
   ]
  },
  {
   "cell_type": "markdown",
   "id": "f8d7828c-abbc-4dc1-aaf0-7813150e5d9c",
   "metadata": {},
   "source": [
    "Currently I am not re-normalizing the amplitude of one model based on its counterpart. At least, I *think* I'm not doing that, but I'm really quite unsure"
   ]
  },
  {
   "cell_type": "code",
   "execution_count": null,
   "id": "98865800-da7a-445a-8509-0f376d29a2c3",
   "metadata": {},
   "outputs": [],
   "source": [
    "#true_early = spectra.powernu2[0][0]\n",
    "#true_late = spectra.powernu2[0][4]\n",
    "true_early = spectra.powernu[onh2_str][0][0]\n",
    "true_late = spectra.powernu[onh2_str][0][4]"
   ]
  },
  {
   "cell_type": "code",
   "execution_count": null,
   "id": "1e3ee318-ede6-4f6d-81b9-1af2d0b86716",
   "metadata": {},
   "outputs": [],
   "source": [
    "i = 0\n",
    "h = spectra.cosm.loc[i][\"h\"]\n",
    "j = 4\n",
    "z_list = spectra.parse_redshifts(i)\n",
    "sim = spec_sims[onh2_str][i][j]\n",
    "\n",
    "plt.plot(sim[\"k\"] * h, sim[\"P_nu\"] / sim[\"P_no\"], c=spectra.colors[i],\n",
    "    label=\"my result for z=\" + str(z_list[j]))\n",
    "plt.plot(true_late[\"k\"], true_late[\"ratio\"],\n",
    "    label=\"powernu.tar snapshot 4\")\n",
    "\n",
    "j = 0 # This will correspond to z=2 for the model0 case.\n",
    "sim = spec_sims[onh2_str][i][j]\n",
    "\n",
    "plt.plot(sim[\"k\"] * h, sim[\"P_nu\"] / sim[\"P_no\"], c=\"black\",\n",
    "    label=\"my result for z=\" + str(z_list[j]))\n",
    "plt.plot(true_early[\"k\"], true_early[\"ratio\"], label=\"powernu.tar snapshot 0\")\n",
    "\n",
    "plt.xscale('log')\n",
    "plt.xlabel(r\"k [1 / Mpc]\")\n",
    "plt.ylabel(r\"$P_\\mathrm{massive} / P_0$\")\n",
    "plt.title(r\"$\\omega_\\nu$ = \" + str(onh2) + \"; model 0\")\n",
    "plt.legend()\n",
    "\n",
    "# This protects other cells by avoiding unintended reuse\n",
    "del i, h, j, z_list, sim"
   ]
  },
  {
   "cell_type": "markdown",
   "id": "e6b1373f-628b-41c4-b304-8a130ece9862",
   "metadata": {},
   "source": [
    "We've now made absolutely certain that my lines here should overlap with Ariel's. What went wrong?"
   ]
  },
  {
   "cell_type": "code",
   "execution_count": null,
   "id": "acc74904-5f8f-4fb0-a6c6-87d6752ae552",
   "metadata": {},
   "outputs": [],
   "source": [
    "i = 0\n",
    "h = spectra.cosm.loc[i][\"h\"]\n",
    "j = 4\n",
    "sim = spec_sims[onh2_str][i][j]\n",
    "\n",
    "plt.plot(sim[\"k\"] * h, sim[\"P_no\"], label=\"my no-neut\", c=spectra.colors[i])\n",
    "plt.plot(sim[\"k\"] * h, sim[\"P_nu\"], label=\"my neuts\", c=\"black\")\n",
    "plt.xscale('log')\n",
    "plt.xlabel(r\"k [1 / Mpc]\")\n",
    "plt.ylabel(r\"$P(k)$ [?]\")\n",
    "plt.title(r\"$\\omega_\\nu$ = \" + str(onh2) + \"; model 0\")\n",
    "plt.legend()\n",
    "\n",
    "# This protects other cells by avoiding unintended reuse\n",
    "del i, h, j, sim"
   ]
  },
  {
   "cell_type": "code",
   "execution_count": null,
   "id": "afc10698-c681-470a-a4de-f9543cefe5bb",
   "metadata": {},
   "outputs": [],
   "source": []
  }
 ],
 "metadata": {
  "kernelspec": {
   "display_name": "Python 3 (ipykernel)",
   "language": "python",
   "name": "python3"
  },
  "language_info": {
   "codemirror_mode": {
    "name": "ipython",
    "version": 3
   },
   "file_extension": ".py",
   "mimetype": "text/x-python",
   "name": "python",
   "nbconvert_exporter": "python",
   "pygments_lexer": "ipython3",
   "version": "3.9.15"
  }
 },
 "nbformat": 4,
 "nbformat_minor": 5
}
