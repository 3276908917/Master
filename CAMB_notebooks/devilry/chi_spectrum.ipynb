{
 "cells": [
  {
   "cell_type": "code",
   "execution_count": 7,
   "id": "9b290afa-bba7-4323-9837-8b6bdd468349",
   "metadata": {},
   "outputs": [],
   "source": [
    "regenerate=True"
   ]
  },
  {
   "cell_type": "code",
   "execution_count": 8,
   "id": "b1d17a99-d97a-437d-9c3c-9e14f3a5bc7f",
   "metadata": {},
   "outputs": [],
   "source": [
    "%matplotlib inline\n",
    "%config InlineBackend.figure_format = 'retina'\n",
    "from matplotlib import pyplot as plt\n",
    "import numpy as np\n",
    "\n",
    "import camb\n",
    "from camb import model, initialpower\n",
    "import pandas as pd\n",
    "\n",
    "plt.rcdefaults()"
   ]
  },
  {
   "cell_type": "code",
   "execution_count": 9,
   "id": "de26f0e4-c667-4a92-9454-5a0a6dcbca04",
   "metadata": {},
   "outputs": [],
   "source": [
    "asymptote_sample_size = 10\n",
    "snap_index = 0"
   ]
  },
  {
   "cell_type": "code",
   "execution_count": 10,
   "id": "86d2e014-fa8e-4fc8-8523-4e796a75105f",
   "metadata": {},
   "outputs": [],
   "source": [
    "import importlib.util\n",
    "import sys\n",
    "spec = importlib.util.spec_from_file_location(\n",
    "    \"spectra\", \"../shared/spectra.py\")\n",
    "spectra = importlib.util.module_from_spec(spec)\n",
    "sys.modules[\"spectra\"] = spectra\n",
    "spec.loader.exec_module(spectra)"
   ]
  },
  {
   "cell_type": "code",
   "execution_count": 11,
   "id": "943955c0-b2d3-4a8d-8def-a06eb1dd66e8",
   "metadata": {},
   "outputs": [],
   "source": [
    "# Would it be more helpful to create a logspace?\n",
    "onh2s = np.linspace(0, 0.01, 100)\n",
    "onh2_strs = [str(np.around(onh2e, 4)) for onh2e in onh2s]"
   ]
  },
  {
   "cell_type": "code",
   "execution_count": null,
   "id": "97d1b390-59ca-40a0-b097-4a5e455eae34",
   "metadata": {},
   "outputs": [
    {
     "name": "stdout",
     "output_type": "stream",
     "text": [
      "0123456789012345"
     ]
    }
   ],
   "source": [
    "spec_sims = None\n",
    "\n",
    "if regenerate:\n",
    "    # It's a waste of time to consider all of the omegas and snapshots, so we're\n",
    "    # making heavy use of skips.\n",
    "    spec_sims = spectra.better_battery(onh2s, onh2_strs,\n",
    "        skips_omega=[], skips_model=[8], skips_snapshot=[1, 2, 3], h_units=False)\n",
    "    np.save(\"spec_sims.npy\", spec_sims, allow_pickle=True)\n",
    "else:\n",
    "    # .item() is a little strange, but it allows me to recover a Python object\n",
    "    # from a NumPy saving routine.\n",
    "    spec_sims = np.load(\"spec_sims.npy\", allow_pickle=True).item()"
   ]
  },
  {
   "cell_type": "code",
   "execution_count": null,
   "id": "be0ec413-4648-4db9-8651-e777c36e54aa",
   "metadata": {},
   "outputs": [],
   "source": [
    "#data = spec_sims[onh2_str]\n",
    "#data = spectra.powernu3[onh2_str]\n",
    "#dTitle = \"Lukas\"\n",
    "#dTitle = \"Ariel III\"\n",
    "\n",
    "demo_index = 5\n",
    "data = spec_sims[onh2_str]\n",
    "dTitle = \"Space \" + str(demo_index) + \"th\""
   ]
  },
  {
   "cell_type": "markdown",
   "id": "d7655cba-d9a6-40e1-9024-d0540927bd96",
   "metadata": {},
   "source": [
    "fig, axs = plt.subplots()\n",
    "spectra.model_ratios_true(\n",
    "    4, spec_sims[onh2_str], axs, massive='x', skips=[7, 8], omnuh2_str=onh2_str,\n",
    "    title=\"Simulation attempt\");"
   ]
  },
  {
   "cell_type": "code",
   "execution_count": null,
   "id": "5dadf1b5-d410-4b1c-8624-a31d7383fd87",
   "metadata": {},
   "outputs": [],
   "source": [
    "fig, axs = plt.subplots()\n",
    "A_s = [spectra.cosm.loc[i][\"A_s\"] for i in range(7)]\n",
    "from numpy.polynomial.polynomial import polyfit\n",
    "\n",
    "chi_space = []\n",
    "max_err_space = []\n",
    "best_b = []\n",
    "best_m = []\n",
    "\n",
    "for i in range(len(spec_sims)):    \n",
    "    data = spec_sims[onh2_strs[i]]\n",
    "    onh2 = onh2s[i]\n",
    "    dTitle = \"Space \" + str(i) + \"th\"\n",
    "    ks, rats = spectra.model_ratios_true(snap_index, data, axs, massive='x',\n",
    "        skips=[7, 8], omnuh2_str=onh2_str, suppress_legend=True);\n",
    "    true_asymptotes = np.array([rats[i][len(rats[i]) - 1] for i in range(len(rats))])\n",
    "               \n",
    "    x6 = onh2 * np.log(A_s[1:] / A_s[0])\n",
    "    b6, m6 = polyfit(x6, true_asymptotes, 1)\n",
    "    pred6 = m6 * x6 + b6\n",
    "    best_b.append(b6)\n",
    "    best_m.append(m6)\n",
    "    \n",
    "    errors = (true_asymptotes - pred6) / true_asymptotes * 100\n",
    "    max_err_space.append(max(errors))           \n",
    "               \n",
    "    chisq6 = (true_asymptotes - pred6) ** 2 / pred6\n",
    "    red_chisq6 = sum(chisq6) / len(x6)\n",
    "    chi_space.append(red_chisq6)"
   ]
  },
  {
   "cell_type": "code",
   "execution_count": null,
   "id": "33b66759-e240-46e5-98ef-4b40aa854491",
   "metadata": {},
   "outputs": [],
   "source": [
    "plt.title(r\"$\\omega_\\nu$ vs. $\\hat{b}$\")\n",
    "plt.ylabel(\"Best-fit y-intercept\")\n",
    "plt.xlabel(\"Physical density in neutrinos\")\n",
    "plt.scatter(onh2s, best_b)"
   ]
  },
  {
   "cell_type": "code",
   "execution_count": null,
   "id": "54ab8e1a-57bd-4019-a886-ad78283bc6ee",
   "metadata": {},
   "outputs": [],
   "source": [
    "plt.title(r\"$\\omega_\\nu$ vs. $\\hat{m}$\")\n",
    "plt.ylabel(\"Best-fit slope\")\n",
    "plt.xlabel(\"Physical density in neutrinos\")\n",
    "plt.scatter(onh2s, best_m)"
   ]
  },
  {
   "cell_type": "code",
   "execution_count": null,
   "id": "421cae93-a11b-4d17-b275-9d0812506755",
   "metadata": {},
   "outputs": [],
   "source": [
    "plt.title(r\"$\\omega_\\nu$ vs. $\\chi_\\mathrm{red}^2$\")\n",
    "plt.ylabel(\"Reduced chi squared\")\n",
    "plt.xlabel(\"Physical density in neutrinos\")\n",
    "plt.scatter(onh2s, chi_space)"
   ]
  },
  {
   "cell_type": "code",
   "execution_count": null,
   "id": "326345c4-6cf1-4345-96ed-bca2efdffe3e",
   "metadata": {
    "tags": []
   },
   "outputs": [],
   "source": [
    "plt.title(r\"$\\omega_\\nu$ vs. max. % error\")\n",
    "plt.ylabel(\"Maximum percent error across asymptotes\")\n",
    "plt.xlabel(\"Physical density in neutrinos\")\n",
    "plt.scatter(onh2s, max_err_space)"
   ]
  },
  {
   "cell_type": "code",
   "execution_count": null,
   "id": "955c87e4-afe2-45ba-ab2b-a5778839c9b6",
   "metadata": {},
   "outputs": [],
   "source": []
  }
 ],
 "metadata": {
  "kernelspec": {
   "display_name": "Python 3 (ipykernel)",
   "language": "python",
   "name": "python3"
  },
  "language_info": {
   "codemirror_mode": {
    "name": "ipython",
    "version": 3
   },
   "file_extension": ".py",
   "mimetype": "text/x-python",
   "name": "python",
   "nbconvert_exporter": "python",
   "pygments_lexer": "ipython3",
   "version": "3.8.15"
  }
 },
 "nbformat": 4,
 "nbformat_minor": 5
}
