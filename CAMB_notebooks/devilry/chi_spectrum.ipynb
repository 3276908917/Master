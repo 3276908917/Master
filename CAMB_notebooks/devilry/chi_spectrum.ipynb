{
 "cells": [
  {
   "cell_type": "code",
   "execution_count": 6,
   "id": "b1d17a99-d97a-437d-9c3c-9e14f3a5bc7f",
   "metadata": {},
   "outputs": [],
   "source": [
    "%matplotlib inline\n",
    "%config InlineBackend.figure_format = 'retina'\n",
    "from matplotlib import pyplot as plt\n",
    "import numpy as np\n",
    "\n",
    "import camb\n",
    "from camb import model, initialpower\n",
    "import pandas as pd\n",
    "\n",
    "plt.rcdefaults()"
   ]
  },
  {
   "cell_type": "code",
   "execution_count": 7,
   "id": "de26f0e4-c667-4a92-9454-5a0a6dcbca04",
   "metadata": {},
   "outputs": [],
   "source": [
    "snap_index = 0"
   ]
  },
  {
   "cell_type": "code",
   "execution_count": 8,
   "id": "86d2e014-fa8e-4fc8-8523-4e796a75105f",
   "metadata": {},
   "outputs": [],
   "source": [
    "import importlib.util\n",
    "import sys\n",
    "spec = importlib.util.spec_from_file_location(\n",
    "    \"spectra\", \"../shared/spectra.py\")\n",
    "spectra = importlib.util.module_from_spec(spec)\n",
    "sys.modules[\"spectra\"] = spectra\n",
    "spec.loader.exec_module(spectra)"
   ]
  },
  {
   "cell_type": "code",
   "execution_count": 9,
   "id": "943955c0-b2d3-4a8d-8def-a06eb1dd66e8",
   "metadata": {},
   "outputs": [],
   "source": [
    "# Would it be more helpful to create a logspace?\n",
    "onh2s = np.linspace(0.0006, 0.006, 10)\n",
    "onh2_strs = [str(onh2e) for onh2e in onh2s]"
   ]
  },
  {
   "cell_type": "code",
   "execution_count": null,
   "id": "97d1b390-59ca-40a0-b097-4a5e455eae34",
   "metadata": {},
   "outputs": [],
   "source": [
    "# It's a waste of time to consider all of the omegas and snapshots, so we're\n",
    "# making heavy use of skips.\n",
    "spec_sims = spectra.better_battery(onh2s, onh2_strs,\n",
    "    skips_model=[8], skips_snapshot=[1, 2, 3], h_units=False)"
   ]
  },
  {
   "cell_type": "code",
   "execution_count": null,
   "id": "be0ec413-4648-4db9-8651-e777c36e54aa",
   "metadata": {},
   "outputs": [],
   "source": [
    "#data = spec_sims[onh2_str]\n",
    "#data = spectra.powernu3[onh2_str]\n",
    "#dTitle = \"Lukas\"\n",
    "#dTitle = \"Ariel III\"\n",
    "\n",
    "data = spec_sims[onh2_strs[5]]\n",
    "dTitle = \"Space 6th\""
   ]
  },
  {
   "cell_type": "markdown",
   "id": "d7655cba-d9a6-40e1-9024-d0540927bd96",
   "metadata": {},
   "source": [
    "fig, axs = plt.subplots()\n",
    "spectra.model_ratios_true(\n",
    "    4, spec_sims[onh2_str], axs, massive='x', skips=[7, 8], omnuh2_str=onh2_str,\n",
    "    title=\"Simulation attempt\");"
   ]
  },
  {
   "cell_type": "code",
   "execution_count": null,
   "id": "6c586c72-5f92-41b9-8301-b7bd8b70b810",
   "metadata": {},
   "outputs": [],
   "source": [
    "fig, axs = plt.subplots()\n",
    "ks, rats = spectra.model_ratios_true(snap_index, data, axs,\n",
    "    massive='x', skips=[7, 8], omnuh2_str=onh2_str);"
   ]
  },
  {
   "cell_type": "code",
   "execution_count": null,
   "id": "75a1d0a6-be9d-48b9-8a3c-c20ac98d6518",
   "metadata": {},
   "outputs": [],
   "source": [
    "# Be careful with the indexing here; rats[0] is the ratio of model 1 to model 0\n",
    "true_asymptotes = np.array([rats[i][len(rats[i]) - 1] for i in range(len(rats))])\n",
    "zc_asymptotes = true_asymptotes - 1"
   ]
  },
  {
   "cell_type": "code",
   "execution_count": null,
   "id": "20bad88d-9d5f-4a9d-92c6-213a6ff1d0be",
   "metadata": {},
   "outputs": [],
   "source": [
    "true_asymptotes"
   ]
  },
  {
   "cell_type": "code",
   "execution_count": null,
   "id": "ac5d87df-f79c-4c43-a6cd-ef81f6bd4aa3",
   "metadata": {},
   "outputs": [],
   "source": [
    "fig, axs = plt.subplots()\n",
    "spectra.model_ratios_true(snap_index, data, axs,\n",
    "    massive='x', skips=[7, 8], omnuh2_str=onh2_str,\n",
    "    title=\"Final points as asymptotes\")\n",
    "for asymptote in true_asymptotes:\n",
    "    axs.axhline(asymptote, linestyle='--')"
   ]
  },
  {
   "cell_type": "code",
   "execution_count": null,
   "id": "b4a2c235-738c-4d2c-a76f-3f90a6f22398",
   "metadata": {},
   "outputs": [],
   "source": [
    "from numpy.polynomial.polynomial import polyfit\n",
    "A_s = [spectra.cosm.loc[i][\"A_s\"] for i in range(7)]\n",
    "x6 = onh2 * np.log(A_s[1:] / A_s[0])\n",
    "\n",
    "model_desc_6 = r\"\\omega_\\nu \\, \\ln \\left( \\frac{A_s^i}{A_s^0} \\right)$\"\n",
    "\n",
    "plt.scatter(x6, true_asymptotes, label=\"true values\")\n",
    "\n",
    "b6, m6 = polyfit(x6, true_asymptotes, 1)\n",
    "\n",
    "pred6 = m6 * x6 + b6\n",
    "plt.scatter(x6, pred6, label=\"predictions\")\n",
    "\n",
    "print(\"y-intercept for this fit is\", b6)\n",
    "print(\"slope for this fit is\", m6)\n",
    "\n",
    "plt.ylabel(\"Asymptotes\")\n",
    "plt.xlabel(\"$\" + model_desc_6)\n",
    "plt.title(r\"Fit results: $\\hat{y} = C\" + model_desc_6)\n",
    "plt.legend()\n",
    "\n",
    "chis6 = (true_asymptotes - pred6) ** 2 / pred6\n",
    "red_chisq6 = sum(chis6) / len(x6)\n",
    "print(\"Reduced chi squared value for this fit:\", red_chisq6)"
   ]
  },
  {
   "cell_type": "code",
   "execution_count": null,
   "id": "10544c25-8e15-4a77-bc4d-9e0254c3ebe2",
   "metadata": {},
   "outputs": [],
   "source": [
    "pred6"
   ]
  },
  {
   "cell_type": "code",
   "execution_count": null,
   "id": "d0d95667-b42d-42ea-9033-23e202098eda",
   "metadata": {},
   "outputs": [],
   "source": [
    "fig, axs = plt.subplots()\n",
    "spectra.model_ratios_true(snap_index, data, axs,\n",
    "    massive='x', skips=[7, 8], omnuh2_str=onh2_str,\n",
    "    title=dTitle + \" with Ansatz 6\")\n",
    "#axs.get_legend().remove()\n",
    "for i in range(len(true_asymptotes)):\n",
    "    axs.axhline(m6 * x6[i] + b6, linestyle='--')"
   ]
  },
  {
   "cell_type": "code",
   "execution_count": null,
   "id": "5dadf1b5-d410-4b1c-8624-a31d7383fd87",
   "metadata": {},
   "outputs": [],
   "source": [
    "chi_squared = []\n",
    "maximum_error = []\n",
    "\n",
    "for i in range(len(spectra)):    \n",
    "    data = spec_sims[onh2_strs[i]]\n",
    "    dTitle = \"Space \" + str(i) + \"th\"\n",
    "    ks, rats = spectra.model_ratios_true(snap_index, data, axs,\n",
    "        massive='x', skips=[7, 8], omnuh2_str=onh2_str);\n",
    "    true_asymptotes = np.array([rats[i][len(rats[i]) - 1] for i in range(len(rats))])\n",
    "               \n",
    "    x6 = onh2 * np.log(A_s[1:] / A_s[0])\n",
    "    b6, m6 = polyfit(x6, true_asymptotes, 1)\n",
    "    pred6 = m6 * x6 + b6\n",
    "\n",
    "    errors = (true_asymptotes - pred6) / true_asymptotes\n",
    "    maximum_error.append(max(errors))           \n",
    "               \n",
    "    chis6 = (true_asymptotes - pred6) ** 2 / pred6\n",
    "    red_chisq6 = sum(chis6) / len(x6)\n",
    "    chi_squared.append(red_chisq6)"
   ]
  },
  {
   "cell_type": "code",
   "execution_count": null,
   "id": "421cae93-a11b-4d17-b275-9d0812506755",
   "metadata": {},
   "outputs": [],
   "source": [
    "plt.title(r\"$\\omega_\\nu$ vs. $\\chi_\\mathrm{red}^2$\")\n",
    "plt.ylabel(\"Reduced chi squared\")\n",
    "plt.xlabel(\"Physical density in neutrinos\")\n",
    "plt.scatter(onh2s, chis6)"
   ]
  },
  {
   "cell_type": "code",
   "execution_count": null,
   "id": "326345c4-6cf1-4345-96ed-bca2efdffe3e",
   "metadata": {},
   "outputs": [],
   "source": [
    "plt.title(r\"$\\omega_\\nu$ vs. max. % error\")\n",
    "plt.ylabel(\"Maximum percent error across asymptotes\")\n",
    "plt.xlabel(\"Physical density in neutrinos\")\n",
    "plt.scatter(onh2s, errors)"
   ]
  }
 ],
 "metadata": {
  "kernelspec": {
   "display_name": "Python 3 (ipykernel)",
   "language": "python",
   "name": "python3"
  },
  "language_info": {
   "codemirror_mode": {
    "name": "ipython",
    "version": 3
   },
   "file_extension": ".py",
   "mimetype": "text/x-python",
   "name": "python",
   "nbconvert_exporter": "python",
   "pygments_lexer": "ipython3",
   "version": "3.10.8"
  }
 },
 "nbformat": 4,
 "nbformat_minor": 5
}
