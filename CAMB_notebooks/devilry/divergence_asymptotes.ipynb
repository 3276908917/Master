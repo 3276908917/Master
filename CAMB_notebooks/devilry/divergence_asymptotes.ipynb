{
 "cells": [
  {
   "cell_type": "code",
   "execution_count": 7,
   "id": "b1d17a99-d97a-437d-9c3c-9e14f3a5bc7f",
   "metadata": {},
   "outputs": [],
   "source": [
    "%matplotlib inline\n",
    "%config InlineBackend.figure_format = 'retina'\n",
    "from matplotlib import pyplot as plt\n",
    "import numpy as np\n",
    "\n",
    "import camb\n",
    "from camb import model, initialpower\n",
    "import pandas as pd\n",
    "\n",
    "plt.rcdefaults()\n",
    "\n",
    "# This determines whether we should ask CAMB to recompute all of the CL power\n",
    "# spectra. This should be True if CL is updated or the file\n",
    "# \"div_asym_battery.npy\" doesn't exist.\n",
    "regenerate=True"
   ]
  },
  {
   "cell_type": "code",
   "execution_count": 2,
   "id": "de26f0e4-c667-4a92-9454-5a0a6dcbca04",
   "metadata": {},
   "outputs": [],
   "source": [
    "snap_index = 0"
   ]
  },
  {
   "cell_type": "code",
   "execution_count": 3,
   "id": "86d2e014-fa8e-4fc8-8523-4e796a75105f",
   "metadata": {},
   "outputs": [],
   "source": [
    "from cassL import camb_interface as ci"
   ]
  },
  {
   "cell_type": "code",
   "execution_count": 4,
   "id": "dfeb9264-e737-463f-8a94-3baa60940173",
   "metadata": {},
   "outputs": [],
   "source": [
    "omega_index = 2 # while we debug, we confine our attention to just one value\n",
    "onh2 = ci.OMNUH2_FLOATS[omega_index]\n",
    "onh2_str = ci.OMNUH2_STRS[omega_index]"
   ]
  },
  {
   "cell_type": "code",
   "execution_count": 5,
   "id": "08d8e0d2-b315-41bd-8a6b-2b04726111f9",
   "metadata": {},
   "outputs": [],
   "source": [
    "powernu3 = ci.load_benchmark(\n",
    "    \"../../power_nu3/Aletheia_powernu3_zorig_nu\",\n",
    "    [\"0.0006\", \"0.0021\", \"0.0064\", \"0.0100\"] \n",
    ")"
   ]
  },
  {
   "cell_type": "code",
   "execution_count": 9,
   "id": "97d1b390-59ca-40a0-b097-4a5e455eae34",
   "metadata": {},
   "outputs": [],
   "source": [
    "# It's a waste of time to consider all of the omegas and snapshots, so we're\n",
    "# making heavy use of skips.\n",
    "if regenerate:\n",
    "    spec_sims = ci.boltzmann_battery(ci.OMNUH2_FLOATS,\n",
    "        skips_omega = [0, 1], skips_model=[8], skips_snapshot=[1, 2, 3],\n",
    "        hubble_units=False)\n",
    "    np.save(\"div_asym_battery.npy\", spec_sims)\n",
    "else:\n",
    "    spec_sims = np.load(\"div_asym_battery.npy\", allow_pickle=True).item()"
   ]
  },
  {
   "cell_type": "code",
   "execution_count": 10,
   "id": "be0ec413-4648-4db9-8651-e777c36e54aa",
   "metadata": {},
   "outputs": [
    {
     "ename": "KeyError",
     "evalue": "'0.006'",
     "output_type": "error",
     "traceback": [
      "\u001b[1;31m---------------------------------------------------------------------------\u001b[0m",
      "\u001b[1;31mKeyError\u001b[0m                                  Traceback (most recent call last)",
      "Cell \u001b[1;32mIn[10], line 1\u001b[0m\n\u001b[1;32m----> 1\u001b[0m data \u001b[38;5;241m=\u001b[39m \u001b[43mspec_sims\u001b[49m\u001b[43m[\u001b[49m\u001b[43monh2_str\u001b[49m\u001b[43m]\u001b[49m\n\u001b[0;32m      2\u001b[0m \u001b[38;5;66;03m#data = spectra.powernu3[onh2_str]\u001b[39;00m\n\u001b[0;32m      3\u001b[0m dTitle \u001b[38;5;241m=\u001b[39m \u001b[38;5;124m\"\u001b[39m\u001b[38;5;124mLukas\u001b[39m\u001b[38;5;124m\"\u001b[39m\n",
      "\u001b[1;31mKeyError\u001b[0m: '0.006'"
     ]
    }
   ],
   "source": [
    "data = spec_sims[onh2_str]\n",
    "#data = spectra.powernu3[onh2_str]\n",
    "dTitle = \"Lukas\"\n",
    "#dTitle = \"Ariel III\""
   ]
  },
  {
   "cell_type": "markdown",
   "id": "d7655cba-d9a6-40e1-9024-d0540927bd96",
   "metadata": {},
   "source": [
    "fig, axs = plt.subplots()\n",
    "spectra.model_ratios_true(\n",
    "    4, spec_sims[onh2_str], axs, massive='x', skips=[7, 8], omnuh2_str=onh2_str,\n",
    "    title=\"Simulation attempt\");"
   ]
  },
  {
   "cell_type": "code",
   "execution_count": null,
   "id": "c9b454e5-35f7-4aaf-b89c-81a35a9650e5",
   "metadata": {},
   "outputs": [],
   "source": [
    "fig, axs = plt.subplots()\n",
    "spectra.model_ratios_true(4, spectra.powernu[onh2_str], axs,\n",
    "    massive='x', skips=[7, 8], omnuh2_str=onh2_str);"
   ]
  },
  {
   "cell_type": "code",
   "execution_count": null,
   "id": "6c586c72-5f92-41b9-8301-b7bd8b70b810",
   "metadata": {},
   "outputs": [],
   "source": [
    "fig, axs = plt.subplots()\n",
    "ks, rats = spectra.model_ratios_true(snap_index, data, axs,\n",
    "    massive='x', skips=[7, 8], omnuh2_str=onh2_str);"
   ]
  },
  {
   "cell_type": "code",
   "execution_count": null,
   "id": "75a1d0a6-be9d-48b9-8a3c-c20ac98d6518",
   "metadata": {},
   "outputs": [],
   "source": [
    "# Be careful with the indexing here; rats[0] is the ratio of model 1 to model 0\n",
    "true_asymptotes = np.array([rats[i][len(rats[i]) - 1] for i in range(len(rats))])\n",
    "zc_asymptotes = true_asymptotes - 1"
   ]
  },
  {
   "cell_type": "code",
   "execution_count": null,
   "id": "20bad88d-9d5f-4a9d-92c6-213a6ff1d0be",
   "metadata": {},
   "outputs": [],
   "source": [
    "true_asymptotes"
   ]
  },
  {
   "cell_type": "code",
   "execution_count": null,
   "id": "ac5d87df-f79c-4c43-a6cd-ef81f6bd4aa3",
   "metadata": {},
   "outputs": [],
   "source": [
    "fig, axs = plt.subplots()\n",
    "spectra.model_ratios_true(snap_index, data, axs,\n",
    "    massive='x', skips=[7, 8], omnuh2_str=onh2_str,\n",
    "    title=\"Final points as asymptotes\")\n",
    "for asymptote in true_asymptotes:\n",
    "    axs.axhline(asymptote, linestyle='--')"
   ]
  },
  {
   "cell_type": "code",
   "execution_count": null,
   "id": "96691c42-7a67-4668-a30b-b4885eaa94b9",
   "metadata": {},
   "outputs": [],
   "source": [
    "A_s = [spectra.cosm.loc[i][\"A_s\"] for i in range(7)]\n",
    "from numpy.polynomial.polynomial import polyfit\n",
    "\n",
    "x1 = onh2 * (A_s[1:] / A_s[0])\n",
    "model_desc_1 = r\"\\omega_\\nu \\, \\frac{A_s^i}{A_s^0}$\"\n",
    "\n",
    "plt.scatter(x1, true_asymptotes, label=\"true values\")\n",
    "\n",
    "b1, m1 = polyfit(x1, true_asymptotes, 1)\n",
    "pred1 = m1 * x1 + b1 \n",
    "\n",
    "plt.scatter(x1, pred1, label=\"predictions\")\n",
    "print(\"y-intercept for this fit is\", b1)\n",
    "print(\"slope for this fit is\", m1)\n",
    "print(np.square(true_asymptotes - pred1))\n",
    "\n",
    "plt.ylabel(\"Asymptotes\")\n",
    "plt.xlabel(\"$\" + model_desc_1)\n",
    "plt.title(r\"Fit results: $\\hat{y} = \" + model_desc_1)\n",
    "plt.legend()\n",
    "\n",
    "chis1 = (true_asymptotes - pred1) ** 2 / pred1\n",
    "red_chisq1 = sum(chis1) / len(x1)\n",
    "print(\"Reduced chi squared value for this fit:\", red_chisq1)"
   ]
  },
  {
   "cell_type": "code",
   "execution_count": null,
   "id": "7d2ce68e-edd5-4e0a-b26b-3ea6065de7bb",
   "metadata": {},
   "outputs": [],
   "source": [
    "pred1"
   ]
  },
  {
   "cell_type": "code",
   "execution_count": null,
   "id": "712b1b16-099e-4a6a-b5be-db783ad9bbcb",
   "metadata": {},
   "outputs": [],
   "source": [
    "from sklearn.linear_model import LinearRegression\n",
    "reg_b_centered_noyint = LinearRegression()\n",
    "reg_b_centered_noyint.fit_intercept=False\n",
    "X = x1.reshape(-1, 1)\n",
    "fit_b_centered_noyint = reg_b_centered_noyint.fit(X, zc_asymptotes)\n",
    "m_centered_noyint = fit_b_centered_noyint.coef_[0]\n",
    "b_centered_noyint = fit_b_centered_noyint.intercept_\n",
    "print(\"slope for this fit is\", m_centered_noyint, b_centered_noyint)"
   ]
  },
  {
   "cell_type": "code",
   "execution_count": null,
   "id": "962621ae-d0e2-4010-a0b6-7e07c592844a",
   "metadata": {},
   "outputs": [],
   "source": [
    "reg_b_centered_yint = LinearRegression()\n",
    "reg_b_centered_yint.fit_intercept=True\n",
    "X = x1.reshape(-1, 1)\n",
    "fit_b_centered_yint = reg_b_centered_yint.fit(X, zc_asymptotes)\n",
    "m_centered_yint = fit_b_centered_yint.coef_[0]\n",
    "b_centered_yint = fit_b_centered_yint.intercept_\n",
    "print(\"slope for this fit is\", m_centered_yint, b_centered_yint)"
   ]
  },
  {
   "cell_type": "code",
   "execution_count": null,
   "id": "668e961f-2b9d-48c8-8388-778c5f3122d9",
   "metadata": {},
   "outputs": [],
   "source": [
    "plt.scatter(x1, true_asymptotes, label=\"true values\")\n",
    "plt.scatter(x1, m1 * onh2 * (A_s[1:] / A_s[0]) + b1, label=\"predictions\")\n",
    "\n",
    "plt.ylabel(\"Asymptotes\")\n",
    "plt.xlabel(\"$\" + model_desc_1)\n",
    "plt.title(r\"Fit results: $\\hat{y} = C\" + model_desc_1)\n",
    "plt.legend()"
   ]
  },
  {
   "cell_type": "code",
   "execution_count": null,
   "id": "a16b4a66-71fb-400e-88a6-88011af01c0a",
   "metadata": {},
   "outputs": [],
   "source": [
    "C = m1"
   ]
  },
  {
   "cell_type": "code",
   "execution_count": null,
   "id": "57a1fd22-3687-48e7-a237-fab68f856e97",
   "metadata": {},
   "outputs": [],
   "source": [
    "fig, axs = plt.subplots()\n",
    "spectra.model_ratios_true(snap_index, data, axs,\n",
    "    massive='x', skips=[7, 8], omnuh2_str=onh2_str,\n",
    "    title=dTitle + \" with Ansatz 1\");\n",
    "for i in range(len(true_asymptotes)):\n",
    "    axs.axhline(m1 * x1[i] + b1, linestyle='--')"
   ]
  },
  {
   "cell_type": "code",
   "execution_count": null,
   "id": "57aab6ca-4991-4a13-b910-726ca0de9f79",
   "metadata": {},
   "outputs": [],
   "source": [
    "x2 = onh2 * np.sqrt(A_s[1:] / A_s[0])\n",
    "model_desc_2 = r\"\\omega_\\nu \\, \\sqrt{\\frac{A_s^i}{A_s^0}}$\"\n",
    "\n",
    "plt.scatter(x2, true_asymptotes, label=\"true values\")\n",
    "\n",
    "b2, m2 = polyfit(x2, true_asymptotes, 1)\n",
    "\n",
    "pred2 = m2 * x2 + b2\n",
    "plt.scatter(x2, pred2, label=\"predictions\")\n",
    "\n",
    "print(\"y-intercept for this fit is\", b2)\n",
    "print(\"slope for this fit is\", m2)\n",
    "\n",
    "plt.ylabel(\"Asymptotes\")\n",
    "plt.xlabel(\"$\" + model_desc_2)\n",
    "plt.title(r\"Fit results: $\\hat{y} = C\" + model_desc_2)\n",
    "plt.legend()\n",
    "\n",
    "chis2 = (true_asymptotes - pred2) ** 2 / pred2\n",
    "red_chisq2 = sum(chis2) / len(x2)\n",
    "print(\"Reduced chi squared value for this fit:\", red_chisq2)"
   ]
  },
  {
   "cell_type": "code",
   "execution_count": null,
   "id": "dd5d5db2-8743-42b0-9034-3710617bdee8",
   "metadata": {},
   "outputs": [],
   "source": [
    "fig, axs = plt.subplots()\n",
    "spectra.model_ratios_true(snap_index, data, axs,\n",
    "    massive='x', skips=[7, 8], omnuh2_str=onh2_str,\n",
    "    title=dTitle + \" with Ansatz 2\");\n",
    "\n",
    "for i in range(len(true_asymptotes)):\n",
    "    axs.axhline(m2 * x2[i] + b2, \\\n",
    "        linestyle='--')"
   ]
  },
  {
   "cell_type": "code",
   "execution_count": null,
   "id": "0478f085-8d7a-40e1-8153-01fb5cbf12f7",
   "metadata": {},
   "outputs": [],
   "source": [
    "x3 = onh2 * np.power(A_s[1:] / A_s[0], 1/3)\n",
    "model_desc_3 = r\"\\omega_\\nu \\, \\left( \\frac{A_s^i}{A_s^0} \\right)^{1/3}$\"\n",
    "\n",
    "plt.scatter(x3, true_asymptotes, label=\"true values\")\n",
    "\n",
    "b3, m3 = polyfit(x3, true_asymptotes, 1)\n",
    "\n",
    "pred3 = m3 * x3 + b3\n",
    "plt.scatter(x3, pred3, label=\"predictions\")\n",
    "\n",
    "print(\"y-intercept for this fit is\", b3)\n",
    "print(\"slope for this fit is\", m3)\n",
    "\n",
    "plt.ylabel(\"Asymptotes\")\n",
    "plt.xlabel(\"$\" + model_desc_3)\n",
    "plt.title(r\"Fit results: $\\hat{y} = C\" + model_desc_3)\n",
    "plt.legend()\n",
    "\n",
    "chis3 = (true_asymptotes - pred3) ** 2 / pred3\n",
    "red_chisq3 = sum(chis3) / len(x3)\n",
    "print(\"Reduced chi squared value for this fit:\", red_chisq3)"
   ]
  },
  {
   "cell_type": "code",
   "execution_count": null,
   "id": "405f46d2-b958-4941-9625-b93f9145a89c",
   "metadata": {},
   "outputs": [],
   "source": [
    "fig, axs = plt.subplots()\n",
    "spectra.model_ratios_true(snap_index, data, axs,\n",
    "    massive='x', skips=[7, 8], omnuh2_str=onh2_str,\n",
    "    title=dTitle + \" with Ansatz 3\")\n",
    "for i in range(len(true_asymptotes)):\n",
    "    axs.axhline(m3 * x3[i] + b3, linestyle='--')"
   ]
  },
  {
   "cell_type": "code",
   "execution_count": null,
   "id": "4c733607-d3e5-4f65-bd51-ba4433d4f3fd",
   "metadata": {},
   "outputs": [],
   "source": [
    "x4 = onh2 * np.power(A_s[1:] / A_s[0], 1/4)\n",
    "model_desc_4 = r\"\\omega_\\nu \\, \\left( \\frac{A_s^i}{A_s^0} \\right)^{1/4}$\"\n",
    "\n",
    "plt.scatter(x4, true_asymptotes, label=\"true values\")\n",
    "\n",
    "b4, m4 = polyfit(x4, true_asymptotes, 1)\n",
    "\n",
    "pred4 = m4 * x4 + b4\n",
    "plt.scatter(x4, pred4, label=\"predictions\")\n",
    "\n",
    "print(\"y-intercept for this fit is\", b4)\n",
    "print(\"slope for this fit is\", m4)\n",
    "\n",
    "plt.ylabel(\"Asymptotes\")\n",
    "plt.xlabel(\"$\" + model_desc_4)\n",
    "plt.title(r\"Fit results: $\\hat{y} = C\" + model_desc_4)\n",
    "plt.legend()\n",
    "\n",
    "chis4 = (true_asymptotes - pred4) ** 2 / pred4\n",
    "red_chisq4 = sum(chis4) / len(x4)\n",
    "print(\"Reduced chi squared value for this fit:\", red_chisq4)"
   ]
  },
  {
   "cell_type": "code",
   "execution_count": null,
   "id": "656780f3-8a7f-4cf2-b91d-302ad2e3158e",
   "metadata": {},
   "outputs": [],
   "source": [
    "fig, axs = plt.subplots()\n",
    "spectra.model_ratios_true(snap_index, data, axs,\n",
    "    massive='x', skips=[7, 8], omnuh2_str=onh2_str,\n",
    "    title=dTitle + \" with Ansatz 4\")\n",
    "for i in range(len(true_asymptotes)):\n",
    "    axs.axhline(m4 * x4[i] + b4, linestyle='--')"
   ]
  },
  {
   "cell_type": "code",
   "execution_count": null,
   "id": "b4569485-45a9-4cde-b12a-296564e4c9d7",
   "metadata": {},
   "outputs": [],
   "source": [
    "x5 = onh2 * np.power(A_s[1:] / A_s[0], 1/5)\n",
    "model_desc_5 = r\"\\omega_\\nu \\, \\left( \\frac{A_s^i}{A_s^0} \\right)^{1/5}$\"\n",
    "\n",
    "plt.scatter(x5, true_asymptotes, label=\"true values\")\n",
    "\n",
    "b5, m5 = polyfit(x5, true_asymptotes, 1)\n",
    "\n",
    "pred5 = m5 * x5 + b5\n",
    "plt.scatter(x5, pred5, label=\"predictions\")\n",
    "\n",
    "print(\"y-intercept for this fit is\", b5)\n",
    "print(\"slope for this fit is\", m5)\n",
    "\n",
    "plt.ylabel(\"Asymptotes\")\n",
    "plt.xlabel(\"$\" + model_desc_5)\n",
    "plt.title(r\"Fit results: $\\hat{y} = C\" + model_desc_5)\n",
    "plt.legend()\n",
    "\n",
    "chis5 = (true_asymptotes - pred5) ** 2 / pred5\n",
    "red_chisq5 = sum(chis5) / len(x5)\n",
    "print(\"Reduced chi squared value for this fit:\", red_chisq5)"
   ]
  },
  {
   "cell_type": "code",
   "execution_count": null,
   "id": "b527bc96-b301-468b-9769-fb51bd7228c0",
   "metadata": {},
   "outputs": [],
   "source": [
    "pred5"
   ]
  },
  {
   "cell_type": "code",
   "execution_count": null,
   "id": "1e3d0685-65cc-45d0-9ca0-5439d932d523",
   "metadata": {},
   "outputs": [],
   "source": [
    "fig, axs = plt.subplots()\n",
    "spectra.model_ratios_true(snap_index, data, axs,\n",
    "    massive='x', skips=[7, 8], omnuh2_str=onh2_str,\n",
    "    title=dTitle + \" with Ansatz 5\")\n",
    "for i in range(len(true_asymptotes)):\n",
    "    axs.axhline(m5 * x5[i] + b5, linestyle='--')"
   ]
  },
  {
   "cell_type": "code",
   "execution_count": null,
   "id": "01f77748-fa3a-4c51-b8e4-b800038d9a4b",
   "metadata": {},
   "outputs": [],
   "source": [
    "n = np.array(list(range(1, 6)))\n",
    "red_chisqs = np.array([red_chisq1, red_chisq2, red_chisq3, red_chisq4,\n",
    "    red_chisq5])\n",
    "plt.scatter(n, red_chisqs)\n",
    "plt.yscale('log')\n",
    "plt.title(r\"$\\chi_\\mathrm{red}^2$ vs. root index\")\n",
    "plt.xlabel(r\"Model $n$ such that predicted asymptote \" +\n",
    "           \"$\\propto (A_s^i / A_s^0)^{1/n}$\")\n",
    "plt.ylabel(\"Reduced chi squared goodness of fit\")"
   ]
  },
  {
   "cell_type": "code",
   "execution_count": null,
   "id": "b4a2c235-738c-4d2c-a76f-3f90a6f22398",
   "metadata": {},
   "outputs": [],
   "source": [
    "x6 = onh2 * np.log(A_s[1:] / A_s[0])\n",
    "model_desc_6 = r\"\\omega_\\nu \\, \\ln \\left( \\frac{A_s^i}{A_s^0} \\right) + 1$\"\n",
    "\n",
    "plt.scatter(x6, true_asymptotes, label=\"true values\")\n",
    "\n",
    "b6, m6 = polyfit(x6, true_asymptotes, 1)\n",
    "\n",
    "pred6 = m6 * x6 + b6\n",
    "plt.scatter(x6, pred6, label=\"predictions\")\n",
    "\n",
    "print(\"y-intercept for this fit is\", b6)\n",
    "print(\"slope for this fit is\", m6)\n",
    "\n",
    "plt.ylabel(\"Asymptotes\")\n",
    "plt.xlabel(\"$\" + model_desc_6)\n",
    "plt.title(r\"Fit results: $\\hat{y} = C\" + model_desc_6)\n",
    "plt.legend()\n",
    "\n",
    "chis6 = (true_asymptotes - pred6) ** 2 / pred6\n",
    "red_chisq6 = sum(chis6) / len(x6)\n",
    "print(\"Reduced chi squared value for this fit:\", red_chisq6)"
   ]
  },
  {
   "cell_type": "code",
   "execution_count": null,
   "id": "10544c25-8e15-4a77-bc4d-9e0254c3ebe2",
   "metadata": {},
   "outputs": [],
   "source": [
    "pred6"
   ]
  },
  {
   "cell_type": "code",
   "execution_count": null,
   "id": "d0d95667-b42d-42ea-9033-23e202098eda",
   "metadata": {},
   "outputs": [],
   "source": [
    "fig, axs = plt.subplots()\n",
    "spectra.model_ratios_true(snap_index, data, axs,\n",
    "    massive='x', skips=[7, 8], omnuh2_str=onh2_str,\n",
    "    title=dTitle + \" with Ansatz 6\")\n",
    "#axs.get_legend().remove()\n",
    "for i in range(len(true_asymptotes)):\n",
    "    axs.axhline(m6 * x6[i] + b6, linestyle='--')"
   ]
  },
  {
   "cell_type": "code",
   "execution_count": null,
   "id": "5dadf1b5-d410-4b1c-8624-a31d7383fd87",
   "metadata": {},
   "outputs": [],
   "source": []
  }
 ],
 "metadata": {
  "kernelspec": {
   "display_name": "Python 3 (ipykernel)",
   "language": "python",
   "name": "python3"
  },
  "language_info": {
   "codemirror_mode": {
    "name": "ipython",
    "version": 3
   },
   "file_extension": ".py",
   "mimetype": "text/x-python",
   "name": "python",
   "nbconvert_exporter": "python",
   "pygments_lexer": "ipython3",
   "version": "3.10.9"
  }
 },
 "nbformat": 4,
 "nbformat_minor": 5
}
