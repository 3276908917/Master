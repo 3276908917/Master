{
 "cells": [
  {
   "cell_type": "markdown",
   "id": "2e50d410-89f0-479d-9e0e-8cb297bb3da4",
   "metadata": {},
   "source": [
    "In the CAMB set_cosmology function, mnu is a parameter and omnuh2 is a derivative quantity. Here is the associated calculation:"
   ]
  },
  {
   "cell_type": "code",
   "execution_count": 3,
   "id": "8555acdb-fa2e-4da2-83ac-7e365a0e449e",
   "metadata": {},
   "outputs": [],
   "source": [
    "neutrino_mass_fac = neutrino_mass_fac * \\\n",
    "  (COBE_CMBTemp / TCMB) ** 3\n",
    "\n",
    "if not isinstance(neutrino_hierarchy, str):\n",
    "    neutrino_hierarchy = neutrino_hierarchies[neutrino_hierarchy - 1]\n",
    "\n",
    "if nnu >= standard_neutrino_neff or \\\n",
    "  neutrino_hierarchy != neutrino_hierarchy_degenerate:\n",
    "    omnuh2 = mnu / neutrino_mass_fac * (standard_neutrino_neff / 3) ** 0.75\n",
    "else:\n",
    "    omnuh2 = mnu / neutrino_mass_fac * (nnu / 3.0) ** 0.75\n",
    "\n",
    "omnuh2_sterile = meffsterile / neutrino_mass_fac\n",
    "if omnuh2_sterile > 0 and nnu < standard_neutrino_neff:\n",
    "    raise CAMBError('sterile neutrino mass required Neff> %.3g' \\\n",
    "                    % constants.default_nnu)\n",
    "if omnuh2 and not num_massive_neutrinos:\n",
    "    raise CAMBError('non-zero mnu with zero num_massive_neutrinos')\n",
    "\n",
    "omnuh2 = omnuh2 + omnuh2_sterile"
   ]
  },
  {
   "cell_type": "markdown",
   "id": "62a030d2-7c9a-4dad-9f3c-42a61ffa147f",
   "metadata": {},
   "source": [
    "Where the constants are provided as follows:"
   ]
  },
  {
   "cell_type": "code",
   "execution_count": 1,
   "id": "53c77bcb-7e9e-4806-ba54-72c87bfb8344",
   "metadata": {},
   "outputs": [],
   "source": [
    "\"\"\"constants.py\"\"\"\n",
    "const_pi = 3.1415926535897932384626433832795\n",
    "zeta3 = 1.2020569031595942853997\n",
    "c = 2.99792458e8\n",
    "h_p = 6.62606896e-34\n",
    "hbar = h_p / 2 / const_pi\n",
    "G = 6.6738e-11\n",
    "k_B = 1.3806504e-23\n",
    "eV = 1.60217646e-19\n",
    "Mpc = 3.085678e22\n",
    "kappa = 8. * const_pi * G\n",
    "COBE_CMBTemp = 2.7255\n",
    "default_nnu = 3.046\n",
    "inv_neutrino_mass_fac = zeta3 * 3. / 2 / const_pi ** 2 * \\\n",
    "  4. / 11 * ((k_B * COBE_CMBTemp / hbar / c) ** 3 * \\\n",
    "  kappa / 3 / (100 * 1000 / Mpc) ** 2 / (c ** 2 / eV))\n",
    "neutrino_mass_fac = 1 / inv_neutrino_mass_fac\n",
    "\"\"\"model.py\"\"\"\n",
    "neutrino_hierarchy_normal = 'normal'\n",
    "neutrino_hierarchy_inverted = 'inverted'\n",
    "neutrino_hierarchy_degenerate = 'degenerate'\n",
    "neutrino_hierarchies = [\n",
    "    neutrino_hierarchy_normal,\n",
    "    neutrino_hierarchy_inverted,\n",
    "    neutrino_hierarchy_degenerate\n",
    "]"
   ]
  },
  {
   "cell_type": "markdown",
   "id": "0646edd8-c780-4973-b10a-7ab09e7773c1",
   "metadata": {},
   "source": [
    "These are the default parameters:"
   ]
  },
  {
   "cell_type": "code",
   "execution_count": 2,
   "id": "f48ad122-7ece-4ab4-9c35-37760d87443b",
   "metadata": {},
   "outputs": [],
   "source": [
    "neutrino_hierarchy = 'degenerate'\n",
    "num_massive_neutrinos=1 # As far as I can tell, this is just an error-checking parameter\n",
    "mnu=0.06 # This is the value that we are trying to reverse-engineer\n",
    "nnu=default_nnu\n",
    "meffsterile=0.0\n",
    "standard_neutrino_neff=default_nnu # This seems pointless to me\n",
    "TCMB=COBE_CMBTemp"
   ]
  },
  {
   "cell_type": "markdown",
   "id": "670a9228-18c5-443b-8f1b-6853301f8722",
   "metadata": {},
   "source": [
    "Why is standard_neutrino_neff a parameter? Doesn't it suffice\n",
    "to have a parameter nnu as well as the constant\n",
    "default_nnu?"
   ]
  },
  {
   "cell_type": "markdown",
   "id": "f851c348-6779-4ab7-bbd9-69da919bd2c5",
   "metadata": {},
   "source": [
    "In other words, if we try to reverse-engineer an appropriate mnu value, then we make the following meaningful assumptions:\n",
    "* The temperature of the CMB corresponds to that measured by COBE\n",
    "* No sterile neutrinos\n",
    "* Neff = 3.046\n",
    "    (I find that the most helpful definition of Neff is simply\n",
    "    as the solution to the following equation:\n",
    "    rho_radiation = [1 + 7/8 * (4/11) ** (4/3) * Neff] * rho_photons\n",
    "    $%\\rho_\\text{rad} = $\n",
    "    )\n",
    "* Degenerate neutrino mass hierarchy\n",
    "\n",
    "Technically, we can recover all of the original dependencies (that is to say, we can undo the assumptions), but that will require us to leave the calculation symbolic."
   ]
  },
  {
   "cell_type": "code",
   "execution_count": null,
   "id": "148cea37-b921-41a5-8f50-36ed6208d1d4",
   "metadata": {},
   "outputs": [],
   "source": []
  }
 ],
 "metadata": {
  "kernelspec": {
   "display_name": "Python 3 (ipykernel)",
   "language": "python",
   "name": "python3"
  },
  "language_info": {
   "codemirror_mode": {
    "name": "ipython",
    "version": 3
   },
   "file_extension": ".py",
   "mimetype": "text/x-python",
   "name": "python",
   "nbconvert_exporter": "python",
   "pygments_lexer": "ipython3",
   "version": "3.9.13"
  }
 },
 "nbformat": 4,
 "nbformat_minor": 5
}
