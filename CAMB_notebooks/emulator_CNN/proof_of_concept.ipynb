{
 "cells": [
  {
   "cell_type": "markdown",
   "id": "bdc4f7cf",
   "metadata": {},
   "source": [
    "## Setup"
   ]
  },
  {
   "cell_type": "code",
   "execution_count": 15,
   "id": "53aead2a",
   "metadata": {},
   "outputs": [],
   "source": [
    "import tensorflow as tf\n",
    "import numpy as np\n",
    "import matplotlib.pyplot as plt\n",
    "\n",
    "from tensorflow.keras import layers\n",
    "from tensorflow.keras.models import Model\n",
    "\n",
    "import copy as cp"
   ]
  },
  {
   "cell_type": "code",
   "execution_count": 25,
   "id": "c91ff963-10a5-4695-ad6f-e7b4a687fb18",
   "metadata": {},
   "outputs": [],
   "source": [
    "def load_data(test=False):\n",
    "    X_raw = Y_raw = None\n",
    "    segment = False\n",
    "\n",
    "    if test:\n",
    "        X_raw = np.load(\"../emulator/hc_test_G3.npy\", allow_pickle=True)\n",
    "        Y_raw = np.load(\"../emulator/samples_test_G3.npy\", allow_pickle=True)\n",
    "    else:\n",
    "        X_raw = np.load(\"../emulator/hc_G3_redo.npy\", allow_pickle=True)\n",
    "        Y_raw = np.load(\"../emulator/samples_G3_redo.npy\", allow_pickle=True)\n",
    "    \n",
    "    scales = np.load(\"../emulator/standard_k.npy\", allow_pickle=True)\n",
    "    \n",
    "    return scales, X_raw, Y_raw"
   ]
  },
  {
   "cell_type": "code",
   "execution_count": 8,
   "id": "a857db1a-f5e3-4a82-a8f6-aa352dc1c0df",
   "metadata": {},
   "outputs": [],
   "source": [
    "def eliminate_holes(X_raw, Y_raw):\n",
    "    def is_bad(row):\n",
    "        if float('-inf') in row or float('inf') in row \\\n",
    "            or None in row or True in np.isnan(pspec) \\\n",
    "            or 0 in row:\n",
    "            return True\n",
    "        return False\n",
    "\n",
    "    bad_row_indices = []\n",
    "    for i in range(len(Y_raw)):\n",
    "        pspec = Y_raw[i]\n",
    "        if is_bad(pspec):\n",
    "            bad_row_indices.append(i)\n",
    "\n",
    "    X = np.delete(X_raw, bad_row_indices, 0)\n",
    "    Y = np.delete(Y_raw, bad_row_indices, 0)\n",
    "    \n",
    "    return X, Y"
   ]
  },
  {
   "cell_type": "code",
   "execution_count": 17,
   "id": "9f693ce0-d137-427f-9d60-6f8ef079c465",
   "metadata": {},
   "outputs": [],
   "source": [
    "def normalize_data(Y):\n",
    "    Ylog = np.log(Y)\n",
    "    mu = np.mean(Ylog, axis=0)\n",
    "    stdev = np.std(Ylog, axis=0)\n",
    "    \n",
    "    Y_normalized = cp.deepcopy(Ylog)\n",
    "\n",
    "    for i in range(len(Y)):\n",
    "        Y_normalized[i] -= mu\n",
    "        Y_normalized[i] /= stdev\n",
    "        \n",
    "    return Y_normalized"
   ]
  },
  {
   "cell_type": "code",
   "execution_count": 2,
   "id": "edac0c0d",
   "metadata": {},
   "outputs": [],
   "source": [
    "def loadData(ns = 50, N_train = 70, N_test = 29, cov_len = 126):\n",
    "    \"\"\"\n",
    "    Load the covariance matrices\n",
    "    \"\"\"\n",
    "\n",
    "    name_root=\"samples2/ns50/xiell_cov_noisy_ns{}_\".format(ns)\n",
    "    train_data = np.zeros((N_train, cov_len, cov_len))\n",
    "    test_data = np.zeros((N_test, cov_len, cov_len))\n",
    "    for i in range(N_train):\n",
    "        train_data[i] = np.loadtxt(name_root+\"{:04d}.dat\".format(i+1))\n",
    "    for i in range(N_test):\n",
    "        test_data[i] = np.loadtxt(name_root+\"{:04d}.dat\".format(N_train+i+1))\n",
    "    \n",
    "    return train_data, test_data\n",
    "    "
   ]
  },
  {
   "cell_type": "code",
   "execution_count": 23,
   "id": "2d46fa36",
   "metadata": {},
   "outputs": [],
   "source": [
    "def preprocess_cov(array, theory_cov):\n",
    "    cov_len = len(theory_cov)\n",
    "    for i in range(cov_len):\n",
    "        for j in range(cov_len):\n",
    "            array[:, i, j] /= np.sqrt(theory_cov[i, i] * theory_cov[j, j])\n",
    "    array = np.reshape(array, (len(array), cov_len, cov_len))\n",
    "    return array"
   ]
  },
  {
   "cell_type": "code",
   "execution_count": 24,
   "id": "b3d6d0f3",
   "metadata": {},
   "outputs": [],
   "source": [
    "def preprocess_alpha(covs, theory_cov):\n",
    "    \"\"\"\n",
    "    Normalizes the supplied array and reshapes it into the appropriate format.\n",
    "    \"\"\"\n",
    "    covs_norm = []\n",
    "    for cov in covs:\n",
    "      theory_diag = np.diagonal(theory_cov)\n",
    "      cov_ii = cov/np.sqrt(theory_diag)\n",
    "      cov_jj = np.transpose(cov_ii)/np.sqrt(theory_diag)\n",
    "      covs_norm.append(np.transpose(cov_jj))\n",
    "\n",
    "    \n",
    "    return np.array(covs_norm)"
   ]
  },
  {
   "cell_type": "code",
   "execution_count": 25,
   "id": "001ee102",
   "metadata": {},
   "outputs": [],
   "source": [
    "def preprocess_theory(theory_cov, N = 70):\n",
    "    cov_len = len(theory_cov)\n",
    "    array = np.zeros((N, cov_len, cov_len))\n",
    "    for i in range(cov_len):\n",
    "        for j in range(cov_len):\n",
    "            array[:, i, j] = theory_cov[i, j] / np.sqrt(theory_cov[i, i] * theory_cov[j, j])\n",
    "    array = np.reshape(array, (len(array), cov_len, cov_len, 1))\n",
    "    return array"
   ]
  },
  {
   "cell_type": "markdown",
   "id": "3fbb8013",
   "metadata": {},
   "source": [
    "## Prepare the data"
   ]
  },
  {
   "cell_type": "code",
   "execution_count": 26,
   "id": "ccaaa659",
   "metadata": {},
   "outputs": [],
   "source": [
    "# Since we only need images from the dataset to encode and decode, we\n",
    "# won't use the labels.\n",
    "k, raw_train_x, raw_train_y = load_data(test=False)\n",
    "\n",
    "# Normalize and reshape the data\n",
    "consolidated_train_x, consolidated_train_y = \\\n",
    "    eliminate_holes(raw_train_x, raw_train_y)\n",
    "\n",
    "normalized_train_y = normalize_data(consolidated_train_y)\n",
    "\n",
    "k, raw_test_x, raw_test_y = load_data(test=True)\n",
    "\n",
    "# Normalize and reshape the data\n",
    "consolidated_test_x, consolidated_test_y = \\\n",
    "    eliminate_holes(raw_test_x, raw_test_y)\n",
    "\n",
    "normalized_test_y = normalize_data(consolidated_test_y)"
   ]
  },
  {
   "cell_type": "markdown",
   "id": "78957b33",
   "metadata": {},
   "source": [
    "## Build the FCNN"
   ]
  },
  {
   "cell_type": "code",
   "execution_count": 32,
   "id": "77d2ac5f",
   "metadata": {},
   "outputs": [
    {
     "name": "stdout",
     "output_type": "stream",
     "text": [
      "Model: \"model_5\"\n",
      "_________________________________________________________________\n",
      " Layer (type)                Output Shape              Param #   \n",
      "=================================================================\n",
      " input_6 (InputLayer)        [(None, 6)]               0         \n",
      "                                                                 \n",
      " dense_10 (Dense)            (None, 64)                448       \n",
      "                                                                 \n",
      " dense_11 (Dense)            (None, 300)               19500     \n",
      "                                                                 \n",
      "=================================================================\n",
      "Total params: 19,948\n",
      "Trainable params: 19,948\n",
      "Non-trainable params: 0\n",
      "_________________________________________________________________\n"
     ]
    }
   ],
   "source": [
    "input_layer = layers.Input(shape=(6))\n",
    "\n",
    "# Encoder\n",
    "#x = layers.Conv2D(64, (3, 3), activation=\"relu\", padding=\"same\")(input)\n",
    "# x = layers.MaxPooling2D((3, 3), padding=\"same\")(x)\n",
    "#x = layers.Conv2D(32, (3, 3), activation=\"relu\", padding=\"same\")(x)\n",
    "# x = layers.MaxPooling2D((3, 3), padding=\"same\")(x)\n",
    "\n",
    "x = layers.Dense(64, activation='relu')(input_layer)\n",
    "x = layers.Dense(300, activation='softmax')(x)\n",
    "\n",
    "# Decoder\n",
    "#x = layers.Conv2DTranspose(32, (3, 3), strides=1, activation=\"relu\", padding=\"same\")(x)\n",
    "#x = layers.Conv2DTranspose(64, (3, 3), strides=1, activation=\"relu\", padding=\"same\")(x)\n",
    "#x = layers.Conv2D(1, (3, 3), activation=\"sigmoid\", padding=\"same\")(x)\n",
    "\n",
    "# Emulator\n",
    "emu = Model(input_layer, x)\n",
    "emu.compile(optimizer=\"adam\", loss=\"mean_squared_error\")\n",
    "emu.summary()"
   ]
  },
  {
   "cell_type": "markdown",
   "id": "77a5a1be",
   "metadata": {},
   "source": [
    "## Training and testing"
   ]
  },
  {
   "cell_type": "code",
   "execution_count": 49,
   "id": "dfe2d157",
   "metadata": {},
   "outputs": [
    {
     "name": "stdout",
     "output_type": "stream",
     "text": [
      "Epoch 1/10\n",
      "157/157 [==============================] - 0s 3ms/step - loss: 0.9982 - val_loss: 0.9982\n",
      "Epoch 2/10\n",
      "157/157 [==============================] - 0s 3ms/step - loss: 0.9982 - val_loss: 0.9982\n",
      "Epoch 3/10\n",
      "157/157 [==============================] - 0s 3ms/step - loss: 0.9982 - val_loss: 0.9982\n",
      "Epoch 4/10\n",
      "157/157 [==============================] - 0s 3ms/step - loss: 0.9982 - val_loss: 0.9982\n",
      "Epoch 5/10\n",
      "157/157 [==============================] - 0s 2ms/step - loss: 0.9982 - val_loss: 0.9982\n",
      "Epoch 6/10\n",
      "157/157 [==============================] - 0s 2ms/step - loss: 0.9982 - val_loss: 0.9982\n",
      "Epoch 7/10\n",
      "157/157 [==============================] - 0s 2ms/step - loss: 0.9982 - val_loss: 0.9982\n",
      "Epoch 8/10\n",
      "157/157 [==============================] - 0s 2ms/step - loss: 0.9982 - val_loss: 0.9982\n",
      "Epoch 9/10\n",
      "157/157 [==============================] - 1s 4ms/step - loss: 0.9982 - val_loss: 0.9982\n",
      "Epoch 10/10\n",
      "157/157 [==============================] - 0s 3ms/step - loss: 0.9982 - val_loss: 0.9982\n"
     ]
    },
    {
     "data": {
      "text/plain": [
       "<keras.callbacks.History at 0x7f1bf0871790>"
      ]
     },
     "execution_count": 49,
     "metadata": {},
     "output_type": "execute_result"
    }
   ],
   "source": [
    "emu.fit(\n",
    "    x=consolidated_train_x,\n",
    "    y=normalized_train_y,\n",
    "    epochs=10,\n",
    "    batch_size=32, # we've got to play around with this\n",
    "    # values tested so far: 1\n",
    "    shuffle=True,\n",
    "    validation_data=(consolidated_test_x, normalized_test_y),\n",
    ")\n",
    "# predictions = emu.predict(test_data)"
   ]
  },
  {
   "cell_type": "code",
   "execution_count": 54,
   "id": "7815569a-ed85-4d99-a222-92efdc3ae444",
   "metadata": {},
   "outputs": [
    {
     "data": {
      "text/plain": [
       "(6,)"
      ]
     },
     "execution_count": 54,
     "metadata": {},
     "output_type": "execute_result"
    }
   ],
   "source": [
    "consolidated_train_x[0].shape"
   ]
  },
  {
   "cell_type": "code",
   "execution_count": 56,
   "id": "65106d5d",
   "metadata": {},
   "outputs": [
    {
     "ename": "TypeError",
     "evalue": "in user code:\n\n    File \"/home/lfinkbei/anaconda3/envs/camb/lib/python3.9/site-packages/keras/engine/training.py\", line 2169, in predict_function  *\n        return step_function(self, iterator)\n    File \"/home/lfinkbei/anaconda3/envs/camb/lib/python3.9/site-packages/keras/engine/training.py\", line 2155, in step_function  **\n        outputs = model.distribute_strategy.run(run_step, args=(data,))\n    File \"/home/lfinkbei/anaconda3/envs/camb/lib/python3.9/site-packages/keras/engine/training.py\", line 2143, in run_step  **\n        outputs = model.predict_step(data)\n    File \"/home/lfinkbei/anaconda3/envs/camb/lib/python3.9/site-packages/keras/engine/training.py\", line 2111, in predict_step\n        return self(x, training=False)\n    File \"/home/lfinkbei/anaconda3/envs/camb/lib/python3.9/site-packages/keras/utils/traceback_utils.py\", line 70, in error_handler\n        raise e.with_traceback(filtered_tb) from None\n    File \"/home/lfinkbei/anaconda3/envs/camb/lib/python3.9/site-packages/keras/activations.py\", line 83, in softmax\n        if x.shape.rank > 1:\n\n    TypeError: Exception encountered when calling layer 'dense_11' (type Dense).\n    \n    '>' not supported between instances of 'NoneType' and 'int'\n    \n    Call arguments received by layer 'dense_11' (type Dense):\n      • inputs=tf.Tensor(shape=<unknown>, dtype=float32)\n",
     "output_type": "error",
     "traceback": [
      "\u001b[0;31m---------------------------------------------------------------------------\u001b[0m",
      "\u001b[0;31mTypeError\u001b[0m                                 Traceback (most recent call last)",
      "Cell \u001b[0;32mIn[56], line 1\u001b[0m\n\u001b[0;32m----> 1\u001b[0m first_prediction \u001b[38;5;241m=\u001b[39m \u001b[43memu\u001b[49m\u001b[38;5;241;43m.\u001b[39;49m\u001b[43mpredict\u001b[49m\u001b[43m(\u001b[49m\u001b[43mconsolidated_train_x\u001b[49m\u001b[43m[\u001b[49m\u001b[38;5;241;43m0\u001b[39;49m\u001b[43m]\u001b[49m\u001b[43m)\u001b[49m\n\u001b[1;32m      2\u001b[0m plt\u001b[38;5;241m.\u001b[39mloglog(k, first_prediction)\n",
      "File \u001b[0;32m~/anaconda3/envs/camb/lib/python3.9/site-packages/keras/utils/traceback_utils.py:70\u001b[0m, in \u001b[0;36mfilter_traceback.<locals>.error_handler\u001b[0;34m(*args, **kwargs)\u001b[0m\n\u001b[1;32m     67\u001b[0m     filtered_tb \u001b[38;5;241m=\u001b[39m _process_traceback_frames(e\u001b[38;5;241m.\u001b[39m__traceback__)\n\u001b[1;32m     68\u001b[0m     \u001b[38;5;66;03m# To get the full stack trace, call:\u001b[39;00m\n\u001b[1;32m     69\u001b[0m     \u001b[38;5;66;03m# `tf.debugging.disable_traceback_filtering()`\u001b[39;00m\n\u001b[0;32m---> 70\u001b[0m     \u001b[38;5;28;01mraise\u001b[39;00m e\u001b[38;5;241m.\u001b[39mwith_traceback(filtered_tb) \u001b[38;5;28;01mfrom\u001b[39;00m \u001b[38;5;28;01mNone\u001b[39;00m\n\u001b[1;32m     71\u001b[0m \u001b[38;5;28;01mfinally\u001b[39;00m:\n\u001b[1;32m     72\u001b[0m     \u001b[38;5;28;01mdel\u001b[39;00m filtered_tb\n",
      "File \u001b[0;32m/tmp/__autograph_generated_file93i9dgiw.py:15\u001b[0m, in \u001b[0;36mouter_factory.<locals>.inner_factory.<locals>.tf__predict_function\u001b[0;34m(iterator)\u001b[0m\n\u001b[1;32m     13\u001b[0m \u001b[38;5;28;01mtry\u001b[39;00m:\n\u001b[1;32m     14\u001b[0m     do_return \u001b[38;5;241m=\u001b[39m \u001b[38;5;28;01mTrue\u001b[39;00m\n\u001b[0;32m---> 15\u001b[0m     retval_ \u001b[38;5;241m=\u001b[39m ag__\u001b[38;5;241m.\u001b[39mconverted_call(ag__\u001b[38;5;241m.\u001b[39mld(step_function), (ag__\u001b[38;5;241m.\u001b[39mld(\u001b[38;5;28mself\u001b[39m), ag__\u001b[38;5;241m.\u001b[39mld(iterator)), \u001b[38;5;28;01mNone\u001b[39;00m, fscope)\n\u001b[1;32m     16\u001b[0m \u001b[38;5;28;01mexcept\u001b[39;00m:\n\u001b[1;32m     17\u001b[0m     do_return \u001b[38;5;241m=\u001b[39m \u001b[38;5;28;01mFalse\u001b[39;00m\n",
      "\u001b[0;31mTypeError\u001b[0m: in user code:\n\n    File \"/home/lfinkbei/anaconda3/envs/camb/lib/python3.9/site-packages/keras/engine/training.py\", line 2169, in predict_function  *\n        return step_function(self, iterator)\n    File \"/home/lfinkbei/anaconda3/envs/camb/lib/python3.9/site-packages/keras/engine/training.py\", line 2155, in step_function  **\n        outputs = model.distribute_strategy.run(run_step, args=(data,))\n    File \"/home/lfinkbei/anaconda3/envs/camb/lib/python3.9/site-packages/keras/engine/training.py\", line 2143, in run_step  **\n        outputs = model.predict_step(data)\n    File \"/home/lfinkbei/anaconda3/envs/camb/lib/python3.9/site-packages/keras/engine/training.py\", line 2111, in predict_step\n        return self(x, training=False)\n    File \"/home/lfinkbei/anaconda3/envs/camb/lib/python3.9/site-packages/keras/utils/traceback_utils.py\", line 70, in error_handler\n        raise e.with_traceback(filtered_tb) from None\n    File \"/home/lfinkbei/anaconda3/envs/camb/lib/python3.9/site-packages/keras/activations.py\", line 83, in softmax\n        if x.shape.rank > 1:\n\n    TypeError: Exception encountered when calling layer 'dense_11' (type Dense).\n    \n    '>' not supported between instances of 'NoneType' and 'int'\n    \n    Call arguments received by layer 'dense_11' (type Dense):\n      • inputs=tf.Tensor(shape=<unknown>, dtype=float32)\n"
     ]
    }
   ],
   "source": [
    "first_prediction = emu.predict(consolidated_train_x[0])\n",
    "plt.loglog(k, first_prediction)"
   ]
  },
  {
   "cell_type": "code",
   "execution_count": 50,
   "id": "4a114cb0-d2bf-4ff4-8b32-0d228dce6d89",
   "metadata": {},
   "outputs": [
    {
     "name": "stdout",
     "output_type": "stream",
     "text": [
      "157/157 [==============================] - 0s 730us/step\n"
     ]
    }
   ],
   "source": [
    "predictions = emu.predict(consolidated_test_x)"
   ]
  },
  {
   "cell_type": "code",
   "execution_count": 51,
   "id": "79948b58-676d-4a70-80ad-26f5a1a1e283",
   "metadata": {},
   "outputs": [
    {
     "data": {
      "text/plain": [
       "(5000, 300)"
      ]
     },
     "execution_count": 51,
     "metadata": {},
     "output_type": "execute_result"
    }
   ],
   "source": [
    "predictions.shape"
   ]
  },
  {
   "cell_type": "code",
   "execution_count": 52,
   "id": "953cc52e-6d57-4a9d-9c97-65d95afea21c",
   "metadata": {},
   "outputs": [
    {
     "data": {
      "text/plain": [
       "[<matplotlib.lines.Line2D at 0x7f1b3056d520>]"
      ]
     },
     "execution_count": 52,
     "metadata": {},
     "output_type": "execute_result"
    },
    {
     "data": {
      "image/png": "[encoded data removed]",
      "text/plain": [
       "<Figure size 640x480 with 1 Axes>"
      ]
     },
     "metadata": {},
     "output_type": "display_data"
    }
   ],
   "source": [
    "plt.loglog(k, predictions[0])"
   ]
  },
  {
   "cell_type": "code",
   "execution_count": null,
   "id": "b562e531-23c1-48a9-8547-0075f67ffe24",
   "metadata": {},
   "outputs": [],
   "source": []
  }
 ],
 "metadata": {
  "kernelspec": {
   "display_name": "Python 3 (ipykernel)",
   "language": "python",
   "name": "python3"
  },
  "language_info": {
   "codemirror_mode": {
    "name": "ipython",
    "version": 3
   },
   "file_extension": ".py",
   "mimetype": "text/x-python",
   "name": "python",
   "nbconvert_exporter": "python",
   "pygments_lexer": "ipython3",
   "version": "3.9.16"
  },
  "vscode": {
   "interpreter": {
    "hash": "23262661808f7a123023321b882c61e6062caf1b3faf8a2c27cc43e1b4060f86"
   }
  }
 },
 "nbformat": 4,
 "nbformat_minor": 5
}
