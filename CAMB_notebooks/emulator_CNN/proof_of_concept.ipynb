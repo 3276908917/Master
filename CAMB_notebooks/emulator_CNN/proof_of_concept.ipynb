{
 "cells": [
  {
   "cell_type": "markdown",
   "id": "bdc4f7cf",
   "metadata": {},
   "source": [
    "## Setup"
   ]
  },
  {
   "cell_type": "code",
   "execution_count": 15,
   "id": "53aead2a",
   "metadata": {},
   "outputs": [],
   "source": [
    "import tensorflow as tf\n",
    "import numpy as np\n",
    "import matplotlib.pyplot as plt\n",
    "\n",
    "from tensorflow.keras import layers\n",
    "from tensorflow.keras.models import Model\n",
    "\n",
    "import copy as cp"
   ]
  },
  {
   "cell_type": "code",
   "execution_count": 25,
   "id": "c91ff963-10a5-4695-ad6f-e7b4a687fb18",
   "metadata": {},
   "outputs": [],
   "source": [
    "def load_data(test=False):\n",
    "    X_raw = Y_raw = None\n",
    "    segment = False\n",
    "\n",
    "    if test:\n",
    "        X_raw = np.load(\"../emulator/hc_test_G3.npy\", allow_pickle=True)\n",
    "        Y_raw = np.load(\"../emulator/samples_test_G3.npy\", allow_pickle=True)\n",
    "    else:\n",
    "        X_raw = np.load(\"../emulator/hc_G3_redo.npy\", allow_pickle=True)\n",
    "        Y_raw = np.load(\"../emulator/samples_G3_redo.npy\", allow_pickle=True)\n",
    "    \n",
    "    scales = np.load(\"../emulator/standard_k.npy\", allow_pickle=True)\n",
    "    \n",
    "    return scales, X_raw, Y_raw"
   ]
  },
  {
   "cell_type": "code",
   "execution_count": 8,
   "id": "a857db1a-f5e3-4a82-a8f6-aa352dc1c0df",
   "metadata": {},
   "outputs": [],
   "source": [
    "def eliminate_holes(X_raw, Y_raw):\n",
    "    def is_bad(row):\n",
    "        if float('-inf') in row or float('inf') in row \\\n",
    "            or None in row or True in np.isnan(pspec) \\\n",
    "            or 0 in row:\n",
    "            return True\n",
    "        return False\n",
    "\n",
    "    bad_row_indices = []\n",
    "    for i in range(len(Y_raw)):\n",
    "        pspec = Y_raw[i]\n",
    "        if is_bad(pspec):\n",
    "            bad_row_indices.append(i)\n",
    "\n",
    "    X = np.delete(X_raw, bad_row_indices, 0)\n",
    "    Y = np.delete(Y_raw, bad_row_indices, 0)\n",
    "    \n",
    "    return X, Y"
   ]
  },
  {
   "cell_type": "code",
   "execution_count": 60,
   "id": "9f693ce0-d137-427f-9d60-6f8ef079c465",
   "metadata": {},
   "outputs": [],
   "source": [
    "def normalize_data(Y):\n",
    "    Ylog = np.log(Y)\n",
    "    mu = np.mean(Ylog, axis=0)\n",
    "    stdev = np.std(Ylog, axis=0)\n",
    "    \n",
    "    Y_normalized = cp.deepcopy(Ylog)\n",
    "\n",
    "    for i in range(len(Y)):\n",
    "        Y_normalized[i] -= mu\n",
    "        Y_normalized[i] /= stdev\n",
    "        \n",
    "    return mu, stdev, Y_normalized"
   ]
  },
  {
   "cell_type": "code",
   "execution_count": 62,
   "id": "4bf95aa5-2d8f-4384-88d4-e5f76e48ca4d",
   "metadata": {},
   "outputs": [],
   "source": [
    "def inverse_transform(mu, stdev, raw_prediction):\n",
    "    return np.exp(raw_prediction * stdev + mu)"
   ]
  },
  {
   "cell_type": "markdown",
   "id": "3fbb8013",
   "metadata": {},
   "source": [
    "## Prepare the data"
   ]
  },
  {
   "cell_type": "code",
   "execution_count": 61,
   "id": "ccaaa659",
   "metadata": {},
   "outputs": [],
   "source": [
    "# Since we only need images from the dataset to encode and decode, we\n",
    "# won't use the labels.\n",
    "k, raw_train_x, raw_train_y = load_data(test=False)\n",
    "\n",
    "# Normalize and reshape the data\n",
    "consolidated_train_x, consolidated_train_y = \\\n",
    "    eliminate_holes(raw_train_x, raw_train_y)\n",
    "\n",
    "train_mu, train_std, normalized_train_y = \\\n",
    "    normalize_data(consolidated_train_y)\n",
    "\n",
    "k, raw_test_x, raw_test_y = load_data(test=True)\n",
    "\n",
    "# Normalize and reshape the data\n",
    "consolidated_test_x, consolidated_test_y = \\\n",
    "    eliminate_holes(raw_test_x, raw_test_y)\n",
    "\n",
    "test_mu, test_std, normalized_test_y = \\\n",
    "    normalize_data(consolidated_test_y)"
   ]
  },
  {
   "cell_type": "markdown",
   "id": "78957b33",
   "metadata": {},
   "source": [
    "## Build the FCNN"
   ]
  },
  {
   "cell_type": "code",
   "execution_count": 135,
   "id": "77d2ac5f",
   "metadata": {},
   "outputs": [
    {
     "name": "stdout",
     "output_type": "stream",
     "text": [
      "Model: \"model_16\"\n",
      "_________________________________________________________________\n",
      " Layer (type)                Output Shape              Param #   \n",
      "=================================================================\n",
      " input_17 (InputLayer)       [(None, 6)]               0         \n",
      "                                                                 \n",
      " dense_52 (Dense)            (None, 64)                448       \n",
      "                                                                 \n",
      " dense_53 (Dense)            (None, 128)               8320      \n",
      "                                                                 \n",
      " dense_54 (Dense)            (None, 256)               33024     \n",
      "                                                                 \n",
      " dense_55 (Dense)            (None, 256)               65792     \n",
      "                                                                 \n",
      " dense_56 (Dense)            (None, 256)               65792     \n",
      "                                                                 \n",
      " dense_57 (Dense)            (None, 256)               65792     \n",
      "                                                                 \n",
      " dense_58 (Dense)            (None, 256)               65792     \n",
      "                                                                 \n",
      " dense_59 (Dense)            (None, 256)               65792     \n",
      "                                                                 \n",
      " dense_60 (Dense)            (None, 300)               77100     \n",
      "                                                                 \n",
      "=================================================================\n",
      "Total params: 447,852\n",
      "Trainable params: 447,852\n",
      "Non-trainable params: 0\n",
      "_________________________________________________________________\n"
     ]
    }
   ],
   "source": [
    "input_layer = layers.Input(shape=(6))\n",
    "\n",
    "# Encoder\n",
    "#x = layers.Conv2D(64, (3, 3), activation=\"relu\", padding=\"same\")(input)\n",
    "# x = layers.MaxPooling2D((3, 3), padding=\"same\")(x)\n",
    "#x = layers.Conv2D(32, (3, 3), activation=\"relu\", padding=\"same\")(x)\n",
    "# x = layers.MaxPooling2D((3, 3), padding=\"same\")(x)\n",
    "\n",
    "x = layers.Dense(64, activation='relu')(input_layer)\n",
    "x = layers.Dense(128, activation='relu')(x)\n",
    "x = layers.Dense(300, activation='softmax')(x)\n",
    "\n",
    "# Decoder\n",
    "#x = layers.Conv2DTranspose(32, (3, 3), strides=1, activation=\"relu\", padding=\"same\")(x)\n",
    "#x = layers.Conv2DTranspose(64, (3, 3), strides=1, activation=\"relu\", padding=\"same\")(x)\n",
    "#x = layers.Conv2D(1, (3, 3), activation=\"sigmoid\", padding=\"same\")(x)\n",
    "\n",
    "# Emulator\n",
    "emu = Model(input_layer, x)\n",
    "emu.compile(optimizer=\"adam\", loss=\"mean_squared_error\")\n",
    "emu.summary()"
   ]
  },
  {
   "cell_type": "markdown",
   "id": "77a5a1be",
   "metadata": {},
   "source": [
    "## Training and testing"
   ]
  },
  {
   "cell_type": "code",
   "execution_count": 136,
   "id": "dfe2d157",
   "metadata": {},
   "outputs": [
    {
     "name": "stdout",
     "output_type": "stream",
     "text": [
      "Epoch 1/10\n",
      "157/157 [==============================] - 2s 7ms/step - loss: 1.0000 - val_loss: 1.0000\n",
      "Epoch 2/10\n",
      "157/157 [==============================] - 1s 6ms/step - loss: 0.9999 - val_loss: 0.9998\n",
      "Epoch 3/10\n",
      "157/157 [==============================] - 1s 7ms/step - loss: 0.9997 - val_loss: 0.9996\n",
      "Epoch 4/10\n",
      "157/157 [==============================] - 1s 6ms/step - loss: 0.9999 - val_loss: 1.0001\n",
      "Epoch 5/10\n",
      "157/157 [==============================] - 1s 6ms/step - loss: 0.9997 - val_loss: 0.9992\n",
      "Epoch 6/10\n",
      "157/157 [==============================] - 1s 7ms/step - loss: 0.9992 - val_loss: 1.0001\n",
      "Epoch 7/10\n",
      "157/157 [==============================] - 1s 6ms/step - loss: 0.9996 - val_loss: 0.9983\n",
      "Epoch 8/10\n",
      "157/157 [==============================] - 1s 7ms/step - loss: 0.9985 - val_loss: 0.9982\n",
      "Epoch 9/10\n",
      "157/157 [==============================] - 1s 7ms/step - loss: 0.9983 - val_loss: 0.9982\n",
      "Epoch 10/10\n",
      "157/157 [==============================] - 1s 7ms/step - loss: 0.9983 - val_loss: 0.9982\n"
     ]
    },
    {
     "data": {
      "text/plain": [
       "<keras.callbacks.History at 0x7f1bb152c760>"
      ]
     },
     "execution_count": 136,
     "metadata": {},
     "output_type": "execute_result"
    }
   ],
   "source": [
    "emu.fit(\n",
    "    x=consolidated_train_x,\n",
    "    y=normalized_train_y,\n",
    "    epochs=10,\n",
    "    batch_size=32, # we've got to play around with this\n",
    "    shuffle=True,\n",
    "    validation_data=(consolidated_test_x, normalized_test_y),\n",
    ")\n",
    "# predictions = emu.predict(test_data)"
   ]
  },
  {
   "cell_type": "code",
   "execution_count": 137,
   "id": "7815569a-ed85-4d99-a222-92efdc3ae444",
   "metadata": {},
   "outputs": [
    {
     "data": {
      "text/plain": [
       "(6,)"
      ]
     },
     "execution_count": 137,
     "metadata": {},
     "output_type": "execute_result"
    }
   ],
   "source": [
    "consolidated_train_x[0].shape"
   ]
  },
  {
   "cell_type": "markdown",
   "id": "6ff6caf6-b1c9-44cd-9134-5ef2e123b31f",
   "metadata": {},
   "source": [
    "first_prediction = emu.predict(consolidated_train_x[0])\n",
    "plt.loglog(k, first_prediction)"
   ]
  },
  {
   "cell_type": "code",
   "execution_count": 138,
   "id": "4a114cb0-d2bf-4ff4-8b32-0d228dce6d89",
   "metadata": {},
   "outputs": [
    {
     "name": "stdout",
     "output_type": "stream",
     "text": [
      "157/157 [==============================] - 0s 1ms/step\n"
     ]
    }
   ],
   "source": [
    "predictions = emu.predict(consolidated_test_x)"
   ]
  },
  {
   "cell_type": "code",
   "execution_count": 139,
   "id": "79948b58-676d-4a70-80ad-26f5a1a1e283",
   "metadata": {},
   "outputs": [
    {
     "data": {
      "text/plain": [
       "(5000, 300)"
      ]
     },
     "execution_count": 139,
     "metadata": {},
     "output_type": "execute_result"
    }
   ],
   "source": [
    "predictions.shape"
   ]
  },
  {
   "cell_type": "code",
   "execution_count": 140,
   "id": "953cc52e-6d57-4a9d-9c97-65d95afea21c",
   "metadata": {},
   "outputs": [
    {
     "name": "stdout",
     "output_type": "stream",
     "text": [
      "215098399692.45816\n"
     ]
    },
    {
     "data": {
      "image/png": "[encoded data removed]",
      "text/plain": [
       "<Figure size 640x480 with 1 Axes>"
      ]
     },
     "metadata": {},
     "output_type": "display_data"
    }
   ],
   "source": [
    "test_index = 0\n",
    "pred = inverse_transform(train_mu, train_std, predictions[test_index])\n",
    "actual = inverse_transform(train_mu, train_std, normalized_test_y[test_index])\n",
    "\n",
    "plt.loglog(k, pred)\n",
    "plt.loglog(k, actual)\n",
    "\n",
    "print(sum((pred - actual) ** 2))"
   ]
  },
  {
   "cell_type": "code",
   "execution_count": 141,
   "id": "d5fbd35b-2137-4ac8-a599-bfd501e62556",
   "metadata": {},
   "outputs": [
    {
     "data": {
      "text/plain": [
       "[<matplotlib.lines.Line2D at 0x7f1bb0f0c040>]"
      ]
     },
     "execution_count": 141,
     "metadata": {},
     "output_type": "execute_result"
    },
    {
     "data": {
      "image/png": "[encoded data removed]",
      "text/plain": [
       "<Figure size 640x480 with 1 Axes>"
      ]
     },
     "metadata": {},
     "output_type": "display_data"
    }
   ],
   "source": [
    "plt.loglog(k, inverse_transform(train_mu, train_std, normalized_test_y[0]))"
   ]
  },
  {
   "cell_type": "code",
   "execution_count": null,
   "id": "04f7a78e-a450-4087-955c-925cbfc0632b",
   "metadata": {},
   "outputs": [],
   "source": []
  }
 ],
 "metadata": {
  "kernelspec": {
   "display_name": "Python 3 (ipykernel)",
   "language": "python",
   "name": "python3"
  },
  "language_info": {
   "codemirror_mode": {
    "name": "ipython",
    "version": 3
   },
   "file_extension": ".py",
   "mimetype": "text/x-python",
   "name": "python",
   "nbconvert_exporter": "python",
   "pygments_lexer": "ipython3",
   "version": "3.9.16"
  },
  "vscode": {
   "interpreter": {
    "hash": "23262661808f7a123023321b882c61e6062caf1b3faf8a2c27cc43e1b4060f86"
   }
  }
 },
 "nbformat": 4,
 "nbformat_minor": 5
}
