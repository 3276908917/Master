{
 "cells": [
  {
   "cell_type": "code",
   "execution_count": 1,
   "id": "a5cd3948-d731-4701-b8a4-e052070b4d60",
   "metadata": {},
   "outputs": [],
   "source": [
    "%matplotlib inline\n",
    "%config InlineBackend.figure_format = 'retina'\n",
    "from matplotlib import pyplot as plt\n",
    "import numpy as np\n",
    "\n",
    "from cassL import camb_interface as ci\n",
    "from cassL import user_interface as ui\n",
    "from cassL import utils\n",
    "\n",
    "import camb\n",
    "from camb import model, initialpower\n",
    "\n",
    "import copy as cp"
   ]
  },
  {
   "cell_type": "code",
   "execution_count": 2,
   "id": "a0af3d72-d907-4c38-a19d-96fc5f2eb96b",
   "metadata": {},
   "outputs": [],
   "source": [
    "import importlib.util\n",
    "import sys\n",
    "\n",
    "spec = importlib.util.spec_from_file_location(\n",
    "    \"andreap\", \"../emulator/andreap.py\")\n",
    "andreap = importlib.util.module_from_spec(spec)\n",
    "sys.modules[\"andreap\"] = andreap\n",
    "spec.loader.exec_module(andreap)"
   ]
  },
  {
   "cell_type": "code",
   "execution_count": 3,
   "id": "45b10e42-8e84-466a-95b8-491214c3e471",
   "metadata": {},
   "outputs": [],
   "source": [
    "# Axe the 0.01 value since Ariel has not tested that one in the shared results\n",
    "powernu3 = ci.load_benchmark(\n",
    "    \"../../benchmarks/power_nu3/Aletheia_powernu3_zorig_nu\",\n",
    "    [\"0.0006\", \"0.0021\", \"0.0064\", \"0.0100\"] \n",
    ")"
   ]
  },
  {
   "cell_type": "code",
   "execution_count": 4,
   "id": "fb7acdff-a522-445a-9959-faffcc86bc2a",
   "metadata": {},
   "outputs": [],
   "source": [
    "spectra = ci.boltzmann_battery(ci.OMNUH2_FLOATS, skips_omega=[],\n",
    "                               skips_model=[8], k_points=1000,\n",
    "                               skips_snapshot=[])"
   ]
  },
  {
   "cell_type": "code",
   "execution_count": 5,
   "id": "536dfe5c-b940-42a2-b3fa-9f0586e2732e",
   "metadata": {},
   "outputs": [],
   "source": [
    "np.save(\"Lukas_spectra.npy\", spectra)"
   ]
  },
  {
   "cell_type": "markdown",
   "id": "0bbf9788-79bb-4f8f-9bc8-7efb5a1829a3",
   "metadata": {},
   "source": [
    "spectra = np.load(\"Lukas_spectra.npy\", allow_pickle=True).item()"
   ]
  },
  {
   "cell_type": "code",
   "execution_count": null,
   "id": "25a84d58-083c-4b1d-8589-b86b0589b1f0",
   "metadata": {},
   "outputs": [
    {
     "name": "stdout",
     "output_type": "stream",
     "text": [
      "0.0006356\n",
      "0.002148659574468\n",
      "0.006356\n"
     ]
    }
   ],
   "source": [
    "Andrea_swarm = []\n",
    "Ariel_swarm = []\n",
    "k_axes = []\n",
    "\n",
    "omnuh2_index = 0\n",
    "for key in spectra:\n",
    "    omnuh2 = key\n",
    "    print(key)\n",
    " \n",
    "    for modeli in range(len(spectra[key])):\n",
    "        #print(\"model\", modeli)\n",
    "        if modeli == 8:\n",
    "            continue\n",
    "            \n",
    "        model = ci.cosm.iloc[modeli]\n",
    "        model = ci.specify_neutrino_mass(model, omnuh2, 1)\n",
    "        \n",
    "        z_array = ci.parse_redshifts(modeli)\n",
    "        \n",
    "        for snapi in range(len(spectra[key][modeli])):\n",
    "            #print(\"snap\", snapi)\n",
    "            z = z_array[snapi]\n",
    "            \n",
    "            Lukas_spec = spectra[key][modeli][snapi]\n",
    "            Ariel_spec = powernu3[ci.OMNUH2_STRS[omnuh2_index]][modeli][snapi]\n",
    "\n",
    "            andrea_interpolator = andreap.cassL_to_andrea_cosmology(\n",
    "                model, hybrid=False)\n",
    "            \n",
    "            if omnuh2_index == 0: # add the massless-neutrino case to our errors just once\n",
    "                samples = np.zeros((2, 2, 1000))\n",
    "                samples[0][0] = Ariel_spec[\"k\"]\n",
    "                samples[0][1] = Ariel_spec[\"P_no\"]\n",
    "                samples[1][0] = Lukas_spec[\"k\"]\n",
    "                samples[1][1] = Lukas_spec[\"P_no\"]\n",
    "                base_k, interpd_P = utils.homogenize_k_axes(samples)\n",
    "            \n",
    "                andrea_no_Pk = andrea_interpolator['mzero'].P(z, base_k)\n",
    "                Andrea_errors = (andrea_no_Pk - interpd_P[1]) / andrea_no_Pk\n",
    "                Andrea_swarm.append(Andrea_errors)\n",
    "                Ariel_errors = (interpd_P[0] - interpd_P[1]) / interpd_P[0]\n",
    "                Ariel_swarm.append(Ariel_errors)\n",
    "                k_axes.append(base_k)\n",
    "            \n",
    "            samples = np.zeros((2, 2, 1000))\n",
    "            samples[0][0] = Ariel_spec[\"k\"]\n",
    "            samples[0][1] = Ariel_spec[\"P_nu\"]\n",
    "            samples[1][0] = Lukas_spec[\"k\"]\n",
    "            samples[1][1] = Lukas_spec[\"P_nu\"]\n",
    "            base_k, interpd_P = utils.homogenize_k_axes(samples)\n",
    "            \n",
    "            andrea_Pk = andrea_interpolator['mnu'].P(z, base_k)\n",
    "            Andrea_errors = (andrea_Pk - interpd_P[1]) / andrea_Pk\n",
    "            Andrea_swarm.append(Andrea_errors)\n",
    "            Ariel_errors = (interpd_P[0] - interpd_P[1]) / interpd_P[0]\n",
    "            Ariel_swarm.append(Ariel_errors)\n",
    "            k_axes.append(base_k)\n",
    "            \n",
    "    omnuh2_index += 1"
   ]
  },
  {
   "cell_type": "code",
   "execution_count": null,
   "id": "41b46c5f-02e2-4564-8f5f-0fc6142e418c",
   "metadata": {},
   "outputs": [],
   "source": [
    "np.save(\"Andrea_swarm.npy\", Andrea_swarm)\n",
    "#np.save(\"Ariel_swarm.npy\", Ariel_swarm)"
   ]
  },
  {
   "cell_type": "code",
   "execution_count": null,
   "id": "17e92579-4305-4a2d-8159-b4ff65e20fd9",
   "metadata": {},
   "outputs": [],
   "source": [
    "Ariel_swarm = np.load(\"Ariel_swarm.npy\")\n",
    "\n",
    "for i in range(len(Ariel_swarm)):\n",
    "    plt.plot(k_axes[i], 100 * Ariel_swarm[i], color=\"blue\", alpha=0.01)\n",
    "\n",
    "plt.xscale('log')\n",
    "plt.ylim((-0.2, 0.15))\n",
    "plt.ylabel(\"% error between CL and Sánchez codes\")\n",
    "plt.xlabel(\"Inverse scale $k$\")\n",
    "plt.title(\"Error Curves Using Sánchez's Spectra\")\n",
    "plt.savefig(\"../plots/camb_interface/accuracy/Ariel.png\")"
   ]
  },
  {
   "cell_type": "code",
   "execution_count": null,
   "id": "d090ebb2-7ae7-4186-9d7c-2af19edeef34",
   "metadata": {},
   "outputs": [],
   "source": [
    "for i in range(int(len(Andrea_swarm) / 5)):\n",
    "    plt.plot(k_axes[i], 100 * Andrea_swarm[i], color=\"blue\", alpha=0.05)\n",
    "\n",
    "plt.xscale('log')\n",
    "plt.ylabel(\"% error between CL and Pezzotta codes\")\n",
    "#plt.ylim((-20, 20))\n",
    "plt.xlabel(\"Inverse scale $k$\")\n",
    "plt.title(\"Error Curves Using Pezzotta's Spectra\")"
   ]
  },
  {
   "cell_type": "code",
   "execution_count": null,
   "id": "a5545f87-adb8-45b1-bff3-7f2e34a68682",
   "metadata": {},
   "outputs": [],
   "source": [
    "i = 10\n",
    "plt.plot(k_axes[i], 100 * Andrea_swarm[i], color=\"blue\", alpha=0.05)\n",
    "\n",
    "plt.xscale('log')\n",
    "plt.ylabel(\"% error between CL and Pezzotta codes\")\n",
    "#plt.ylim((-20, 20))\n",
    "plt.xlabel(\"Inverse scale $k$\")\n",
    "plt.title(\"Error Curves Using Pezzotta's Spectra\")"
   ]
  },
  {
   "cell_type": "code",
   "execution_count": null,
   "id": "a63c0874-ac01-4d0e-abc8-2a4154aa6972",
   "metadata": {},
   "outputs": [],
   "source": []
  }
 ],
 "metadata": {
  "kernelspec": {
   "display_name": "Python 3 (ipykernel)",
   "language": "python",
   "name": "python3"
  },
  "language_info": {
   "codemirror_mode": {
    "name": "ipython",
    "version": 3
   },
   "file_extension": ".py",
   "mimetype": "text/x-python",
   "name": "python",
   "nbconvert_exporter": "python",
   "pygments_lexer": "ipython3",
   "version": "3.9.16"
  }
 },
 "nbformat": 4,
 "nbformat_minor": 5
}
