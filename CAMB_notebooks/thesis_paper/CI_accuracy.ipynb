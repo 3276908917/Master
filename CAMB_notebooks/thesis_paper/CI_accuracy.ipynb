{
 "cells": [
  {
   "cell_type": "code",
   "execution_count": 1,
   "id": "a5cd3948-d731-4701-b8a4-e052070b4d60",
   "metadata": {},
   "outputs": [],
   "source": [
    "%matplotlib inline\n",
    "%config InlineBackend.figure_format = 'retina'\n",
    "from matplotlib import pyplot as plt\n",
    "import numpy as np\n",
    "\n",
    "from cassL import camb_interface as ci\n",
    "from cassL import user_interface as ui\n",
    "\n",
    "import camb\n",
    "from camb import model, initialpower\n",
    "\n",
    "import copy as cp"
   ]
  },
  {
   "cell_type": "code",
   "execution_count": 2,
   "id": "a0af3d72-d907-4c38-a19d-96fc5f2eb96b",
   "metadata": {},
   "outputs": [],
   "source": [
    "import importlib.util\n",
    "import sys\n",
    "\n",
    "spec = importlib.util.spec_from_file_location(\n",
    "    \"andreap\", \"../emulator/andreap.py\")\n",
    "andreap = importlib.util.module_from_spec(spec)\n",
    "sys.modules[\"andreap\"] = andreap\n",
    "spec.loader.exec_module(andreap)"
   ]
  },
  {
   "cell_type": "code",
   "execution_count": 3,
   "id": "45b10e42-8e84-466a-95b8-491214c3e471",
   "metadata": {},
   "outputs": [],
   "source": [
    "# Axe the 0.01 value since Ariel has not tested that one in the shared results\n",
    "powernu3 = ci.load_benchmark(\n",
    "    \"../../power_nu3/Aletheia_powernu3_zorig_nu\",\n",
    "    [\"0.0006\", \"0.0021\", \"0.0064\", \"0.0100\"] \n",
    ")"
   ]
  },
  {
   "cell_type": "code",
   "execution_count": null,
   "id": "98a429ac-360d-4998-89b4-f01c7584defc",
   "metadata": {},
   "outputs": [],
   "source": [
    "spectra = ci.boltzmann_battery(ci.OMNUH2_FLOATS, skips_omega=[],\n",
    "                               skips_model=[8], k_points=1000,\n",
    "                               skips_snapshot=[])"
   ]
  },
  {
   "cell_type": "code",
   "execution_count": null,
   "id": "25a84d58-083c-4b1d-8589-b86b0589b1f0",
   "metadata": {},
   "outputs": [],
   "source": [
    "Andrea_swarm = []\n",
    "Ariel_swarm = []\n",
    "k_axes = []\n",
    "\n",
    "omnuh2_index = 0\n",
    "for key in spectra:\n",
    "    omnuh2 = key\n",
    " \n",
    "    for modeli in range(len(spectra[key])):\n",
    "        if modeli == 8:\n",
    "            continue\n",
    "            \n",
    "        model = ci.cosm.iloc[modeli]\n",
    "        model = ci.specify_neutrino_mass(model, omnuh2, 1)\n",
    "        \n",
    "        z_array = ci.parse_redshifts(modeli)\n",
    "        \n",
    "        for snapi in range(len(spectra[key][modeli])):\n",
    "            z = z_array[snapi]\n",
    "            \n",
    "            Lukas_spec = spectra[key][modeli][snapi]\n",
    "            Ariel_spec = powernu3[ci.OMNUH2_STRS[omnuh2_index]][modeli][snapi]\n",
    "            \n",
    "            # Possible bug? The code after this returned an error before this section did...\n",
    "            # but shouldn't this code be executed first, always?\n",
    "            if omnuh2_index == 0: # add the massless-neutrino case to our errors just once\n",
    "                model_no = ci.specify_neutrino_mass(model, 0, 0)\n",
    "                andrea_interpolator = andreap.cassL_to_andrea_cosmology(\n",
    "                    model_no, hybrid=False)\n",
    "                andrea_no_Pk = andrea_interpolator['mzero'].P(z, Lukas_spec[\"k\"])\n",
    "                Andrea_errors = (andrea_no_Pk - Lukas_spec[\"P_no\"]) / andrea_no_Pk\n",
    "                Andrea_swarm.append(Andrea_errors)\n",
    "                Ariel_errors = (Ariel_spec[\"P_no\"] - Lukas_spec[\"P_no\"]) / Ariel_spec[\"P_no\"]\n",
    "                Ariel_swarm.append(Ariel_errors)\n",
    "                k_axes.append(Lukas_spec[\"k\"])\n",
    "            \n",
    "            andrea_interpolator = andreap.cassL_to_andrea_cosmology(\n",
    "                model, hybrid=False)\n",
    "            andrea_Pk = andrea_interpolator['mnu'].P(z, Lukas_spec[\"k\"])\n",
    "            Andrea_errors = (andrea_no_Pk - Lukas_spec[\"P_nu\"]) / andrea_no_Pk\n",
    "            Andrea_swarm.append(Andrea_errors)\n",
    "            Ariel_errors = (Ariel_spec[\"P_nu\"] - Lukas_spec[\"P_nu\"]) / Ariel_spec[\"P_nu\"]\n",
    "            Ariel_swarm.append(Ariel_errors)\n",
    "            k_axes.append(Lukas_spec[\"k\"])\n",
    "    \n",
    "    omnuh2_index += 1"
   ]
  },
  {
   "cell_type": "code",
   "execution_count": null,
   "id": "17e92579-4305-4a2d-8159-b4ff65e20fd9",
   "metadata": {},
   "outputs": [],
   "source": [
    "for i in range(len(Ariel_swarm)):\n",
    "    plt.plot(k_axes[i], 100 * Ariel_swarm[i], color=\"blue\")\n",
    "\n",
    "plt.ylabel(\"% error between CL and Sánchez codes\")\n",
    "plt.xlabel(\"Inverse scale $k$\")\n",
    "plt.title(\"Error Curves Using Sánchez's Spectra\")"
   ]
  },
  {
   "cell_type": "code",
   "execution_count": null,
   "id": "d090ebb2-7ae7-4186-9d7c-2af19edeef34",
   "metadata": {},
   "outputs": [],
   "source": [
    "for i in range(len(Andrea_swarm)):\n",
    "    plt.plot(k_axes[i], Andrea_swarm[i], color=\"blue\")\n",
    "\n",
    "plt.ylabel(\"% error between CL and Pezzotta codes\")\n",
    "plt.xlabel(\"Inverse scale $k$\")\n",
    "plt.title(\"Error Curves Using Pezzotta's Spectra\")"
   ]
  }
 ],
 "metadata": {
  "kernelspec": {
   "display_name": "Python 3 (ipykernel)",
   "language": "python",
   "name": "python3"
  },
  "language_info": {
   "codemirror_mode": {
    "name": "ipython",
    "version": 3
   },
   "file_extension": ".py",
   "mimetype": "text/x-python",
   "name": "python",
   "nbconvert_exporter": "python",
   "pygments_lexer": "ipython3",
   "version": "3.10.9"
  }
 },
 "nbformat": 4,
 "nbformat_minor": 5
}
