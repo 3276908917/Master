{
 "cells": [
  {
   "cell_type": "markdown",
   "id": "4c7e863b-59bb-4d3b-857e-364f312eec70",
   "metadata": {},
   "source": [
    "The goal for this notebook will be two double-panel plots\n",
    "\n",
    "1. A double-panel plot with percent error curves on the left, squared error curves on the right\n",
    "\n",
    "2. A double-panel plot with median percent error histogram on the left, median squared error curves on the right"
   ]
  },
  {
   "cell_type": "code",
   "execution_count": 37,
   "id": "9de5de82-f20c-419e-ab8b-98065cf1e87c",
   "metadata": {},
   "outputs": [],
   "source": [
    "# First, load the emulator of choice\n",
    "from cassL import train_emu as te\n",
    "import numpy as np\n",
    "import matplotlib.pyplot as plt"
   ]
  },
  {
   "cell_type": "code",
   "execution_count": 38,
   "id": "1e35dbe7-ed17-4948-83f9-a1fa4dae2d7a",
   "metadata": {},
   "outputs": [],
   "source": [
    "experiment = \"s^*\"\n",
    "\n",
    "if experiment==\"N_k\":\n",
    "    emu_experiments = [\"Hnu2_100scales\", \"Hnu2_200scales\", \"Hnu2direct\", \"Hnu2_400scales\", \"Hnu2_500scales\"]\n",
    "    plot_labels = [\"100\", \"200\", \"300\", \"400\", \"500\"]\n",
    "    file_name = experiment\n",
    "    colors = [\"blue\", \"orange\", \"black\", \"red\", \"green\"]\n",
    "\n",
    "elif experiment==\"N_s\":\n",
    "    emu_experiments = [\"Hnu2_3000samples\", \"Hnu2_4000samples\", \"Hnu2direct\", \"Hnu2_6000samples\", \"Hnu2_7000samples\"]\n",
    "    plot_labels = [\"3000\", \"4000\", \"5000\", \"6000\", \"7000\"]\n",
    "    file_name = experiment\n",
    "    colors = [\"blue\", \"orange\", \"black\", \"red\", \"green\"]\n",
    "\n",
    "# 0.054465034369611746\n",
    "# 0.0628887755100201\n",
    "# 0.07131761401323776\n",
    "# 0.07972327155708492\n",
    "    \n",
    "elif experiment==\"s^*\":\n",
    "    emu_experiments = [\"Hnu2_worst_minsep\", \"Hnu2_lowmed_minsep\", \"Hnu2_highmed_minsep\", \"Hnu2direct\"]\n",
    "    plot_labels = [\"0.0545\", \"0.0629\", \"0.0713\", \"0.0797\"]\n",
    "    file_name = \"minsep\"\n",
    "    colors = [\"blue\", \"orange\", \"red\", \"black\"]"
   ]
  },
  {
   "cell_type": "code",
   "execution_count": 39,
   "id": "73cd809b-7943-45a7-9c93-f2187637c76a",
   "metadata": {},
   "outputs": [
    {
     "name": "stdout",
     "output_type": "stream",
     "text": [
      "$0.0545$ & 0.167753 & 0.045098 & 0.232575 & 205.656917 \\\\\n",
      "$0.0629$ & 0.169627 & 0.044320 & 0.234392 & 174.772714 \\\\\n",
      "$0.0713$ & 0.194701 & 0.050606 & 0.275545 & 203.590333 \\\\\n",
      "$0.0797$ & 0.173023 & 0.044955 & 0.244320 & 224.434379 \\\\\n"
     ]
    }
   ],
   "source": [
    "# let's build a LaTeX table\n",
    "if experiment != \"N_k\":\n",
    "    for emu_name in emu_experiments:\n",
    "        next_deltas = np.abs(np.load(\"../../cassL/thesis_deltas/\" + emu_name + \".npy\"))\n",
    "\n",
    "        means = np.mean(next_deltas, axis = 1)\n",
    "        medians = np.median(next_deltas, axis=1)\n",
    "        stds = np.std(next_deltas, axis=1)\n",
    "        ptps = np.ptp(next_deltas, axis=1) \n",
    "\n",
    "        next_mean = \"%.6f\" % np.median(means)\n",
    "        next_median = \"%.6f\" % np.median(medians)\n",
    "        next_std = \"%.6f\" % np.median(stds)\n",
    "        next_ptp = \"%.6f\" % np.max(ptps)\n",
    "\n",
    "        plot_label = plot_labels[emu_experiments.index(emu_name)]\n",
    "\n",
    "        print(\"$\" + plot_label + \"$ & \" + next_mean + \" & \" + next_median + \" & \" + \\\n",
    "              next_std + \" & \" + next_ptp + \" \\\\\\\\\")"
   ]
  },
  {
   "cell_type": "code",
   "execution_count": 40,
   "id": "b41faeb8-0641-4092-ad9a-ccf03446fb39",
   "metadata": {},
   "outputs": [
    {
     "name": "stdout",
     "output_type": "stream",
     "text": [
      "$0.0545$ & 0.002835 & 0.002240 & 0.002025 & 0.192945 \\\\\n",
      "$0.0629$ & 0.002850 & 0.002179 & 0.002079 & 0.196711 \\\\\n",
      "$0.0713$ & 0.003052 & 0.002409 & 0.002059 & 0.266151 \\\\\n",
      "$0.0797$ & 0.002883 & 0.002255 & 0.002058 & 0.291348 \\\\\n"
     ]
    }
   ],
   "source": [
    "# let's build a LaTeX table\n",
    "\n",
    "for emu_name in emu_experiments:\n",
    "    next_percerr = np.abs(np.load(\"../../cassL/thesis_percents/\" + emu_name + \".npy\"))\n",
    "    \n",
    "    means = np.mean(next_percerr, axis = 1)\n",
    "    medians = np.median(next_percerr, axis=1)\n",
    "    stds = np.std(next_percerr, axis=1)\n",
    "    ptps = np.ptp(next_percerr, axis=1) \n",
    "    \n",
    "    next_mean = \"%.6f\" % np.median(means)\n",
    "    next_median = \"%.6f\" % np.median(medians)\n",
    "    next_std = \"%.6f\" % np.median(stds)\n",
    "    next_ptp = \"%.6f\" % np.max(ptps)\n",
    "    \n",
    "    plot_label = plot_labels[emu_experiments.index(emu_name)]\n",
    "    \n",
    "    print(\"$\" + plot_label + \"$ & \" + next_mean + \" & \" + next_median + \" & \" + \\\n",
    "          next_std + \" & \" + next_ptp + \" \\\\\\\\\")"
   ]
  },
  {
   "cell_type": "code",
   "execution_count": 41,
   "id": "4740e9d2-2f2c-4d72-8659-0c1a084837ce",
   "metadata": {},
   "outputs": [
    {
     "data": {
      "text/plain": [
       "3"
      ]
     },
     "execution_count": 41,
     "metadata": {},
     "output_type": "execute_result"
    }
   ],
   "source": [
    "np.around(3, 4)"
   ]
  },
  {
   "cell_type": "code",
   "execution_count": null,
   "id": "6d0b590d-34a7-4df3-9dec-19ce74cb1f57",
   "metadata": {},
   "outputs": [],
   "source": []
  }
 ],
 "metadata": {
  "kernelspec": {
   "display_name": "Python 3 (ipykernel)",
   "language": "python",
   "name": "python3"
  },
  "language_info": {
   "codemirror_mode": {
    "name": "ipython",
    "version": 3
   },
   "file_extension": ".py",
   "mimetype": "text/x-python",
   "name": "python",
   "nbconvert_exporter": "python",
   "pygments_lexer": "ipython3",
   "version": "3.10.9"
  }
 },
 "nbformat": 4,
 "nbformat_minor": 5
}
