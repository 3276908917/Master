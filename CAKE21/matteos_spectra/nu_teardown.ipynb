{
 "cells": [
  {
   "cell_type": "markdown",
   "metadata": {},
   "source": [
    "# Except for some extremely minor revisions, all of the credit for this notebook goes to Matteo Esposito!"
   ]
  },
  {
   "cell_type": "code",
   "execution_count": 1,
   "metadata": {},
   "outputs": [
    {
     "name": "stderr",
     "output_type": "stream",
     "text": [
      "2023-04-04 14:48:23.875176: I tensorflow/core/platform/cpu_feature_guard.cc:193] This TensorFlow binary is optimized with oneAPI Deep Neural Network Library (oneDNN) to use the following CPU instructions in performance-critical operations:  SSE4.1 SSE4.2 AVX AVX2 AVX512F AVX512_VNNI FMA\n",
      "To enable them in other operations, rebuild TensorFlow with the appropriate compiler flags.\n"
     ]
    }
   ],
   "source": [
    "import numpy as np\n",
    "from scipy.interpolate import interp1d\n",
    "import matplotlib.pyplot as plt\n",
    "import matplotlib.colors as mcolors\n",
    "import matplotlib.pyplot as plt\n",
    "import copy\n",
    "import camb\n",
    "from utilities import *\n",
    "%load_ext autoreload\n",
    "%autoreload 2\n",
    "#Plotting settings\n",
    "%matplotlib inline\n",
    "plt.rcParams.update({'axes.labelsize': 'x-large'})\n",
    "plt.rcParams['figure.figsize'] = [12, 8]\n",
    "plt.rcParams['figure.dpi'] = 100 # 200 e.g. is really fine, but slower\n",
    "linestyles=['solid', '--', '-.', ':', (0, (3, 5, 1, 5, 1, 5)), (0, (1, 10))]\n",
    "colors=list(mcolors.TABLEAU_COLORS.values())#['orange', 'blue', 'green', 'magenta', 'red', 'cyan']\n",
    "\n",
    "cosmo_dict = make_cosmo_suite(fname='/home/lfinkbei/Documents/Master/' + \\\n",
    "    'CAMB_notebooks/shared/data/cosmologies.dat', use_sigma8=False)"
   ]
  },
  {
   "cell_type": "code",
   "execution_count": 2,
   "metadata": {},
   "outputs": [],
   "source": [
    "model0 = {\n",
    "    'ombh2' : 0.022445,\n",
    "    'omch2' : 0.120567,\n",
    "    'n_s' : 0.96,\n",
    "    'A_s' : 2.12723788013000E-09,\n",
    "    'h' : 0.67,\n",
    "    'w0' : -1.00,\n",
    "    'wa' : 0.00,\n",
    "    'OmK' : 0.00\n",
    "}            "
   ]
  },
  {
   "cell_type": "code",
   "execution_count": 28,
   "metadata": {},
   "outputs": [],
   "source": [
    "def get_camb_Pk(mlc, mnu=0., sim_idx=0, z_idx=range(5), z=None, ns = 0.96):\n",
    "    '''\n",
    "    print(\"s12\", s12)\n",
    "    print(\"sim_idx\", sim_idx)\n",
    "    '''\n",
    "    \n",
    "    #Set up a new set of parameters for CAMB\n",
    "    try:\n",
    "        # Lukas. This line is obscure.\n",
    "        zz = [1/cosmo_dict['Columbus_%d_%d' %(sim_idx, i)]['expfactor']-1 for i in z_idx]\n",
    "        z_idx = z_idx[0]\n",
    "    except:\n",
    "        pass\n",
    "    \n",
    "    if z is not None:\n",
    "        zz = z\n",
    "\n",
    "    cosmo_params = cosmo_dict['Columbus_%d_%d' %(sim_idx, z_idx)]\n",
    "    pars = camb.CAMBparams()\n",
    "    h = mlc['h']\n",
    "    ombh2 = mlc['ombh2']\n",
    "    omch2 = mlc['omch2']\n",
    "    omk = mlc['OmK']\n",
    "   \n",
    "    pars.set_cosmology(H0=h*100, ombh2=ombh2,mnu=mnu, omk=omk,\n",
    "        tau=0.0952, neutrino_hierarchy=\"degenerate\", omch2=omch2)\n",
    "    pars.set_cosmology(H0=h*100, ombh2=ombh2, mnu=mnu, omk=omk,\n",
    "        tau=0.0952, neutrino_hierarchy=\"degenerate\", omch2=omch2-pars.omnuh2)\n",
    "    \n",
    "    ''' Lukas\n",
    "    I'm commenting out these definitions because they are unused.\n",
    "    fb = pars.ombh2/(pars.ombh2+pars.omch2+pars.omnuh2)\n",
    "    fnu = pars.omnuh2/(pars.ombh2+pars.omch2+pars.omnuh2)\n",
    "    '''\n",
    "    \n",
    "    pars.InitPower.set_params(As=mlc['A_s'], ns=mlc['n_s'],\n",
    "        r=0, nt=0.0, ntrun=0.0)\n",
    "    pars.NonLinear = camb.model.NonLinear_none\n",
    "    pars.WantCls = False\n",
    "    pars.WantScalars = False\n",
    "    pars.Want_CMB = False\n",
    "    pars.DoLensing = False\n",
    "    pars.YHe = 0.24\n",
    "    pars.set_accuracy(AccuracyBoost=2)\n",
    "    if mlc['w0'] != -1 or mlc['wa'] != 0:\n",
    "        pars.set_dark_energy(w=w0, wa=wa, dark_energy_model='ppf') \n",
    "        \n",
    "    # Lukas. I added the \"/ h\"\n",
    "    # Lukas. I've verified that for model 0, these redshifts are correct.\n",
    "    pars.set_matter_power(redshifts=zz, kmax=20.0 / h, nonlinear=False)    \n",
    "        \n",
    "    results = camb.get_results(pars)\n",
    "\n",
    "    R, zz, sigma12 = results.get_sigmaR(12, hubble_units=False, return_R_z=True)\n",
    "    \n",
    "    # Lukas: I changed var1 and var2 to 8, they were both 2 before\n",
    "    # Lukas: I changed npoints to 100000, it was 200 before\n",
    "    kh, z, pkh = results.get_matter_power_spectrum(var1=8, var2=8, minkh=1e-4/h,\n",
    "        maxkh=10.0 / h, npoints = 100000) \n",
    "    \n",
    "    return {'kk': kh*h, 'zz': z, 'Pk': pkh/(h**3)}"
   ]
  },
  {
   "cell_type": "code",
   "execution_count": 29,
   "metadata": {},
   "outputs": [
    {
     "name": "stdout",
     "output_type": "stream",
     "text": [
      "Note: redshifts have been re-sorted (earliest first)\n",
      "Note: redshifts have been re-sorted (earliest first)\n"
     ]
    }
   ],
   "source": [
    "nsims = 9\n",
    "LCDM = get_camb_Pk(model0, mnu=0)\n",
    "\n",
    "mnu_Lukas = 0.1998324308090579 # this is intended to mimic a physical neutrino\n",
    "# density of 0.002148659574468\n",
    "mnu_Matteo = 0.3\n",
    "nuCDM = get_camb_Pk(model0, mnu=mnu_Lukas)\n",
    "# Lukas: for the purposes of debugging, ignore the rest of these"
   ]
  },
  {
   "cell_type": "code",
   "execution_count": 31,
   "metadata": {},
   "outputs": [],
   "source": [
    "np.save('LCDM_tiny.npy', LCDM, allow_pickle=True)\n",
    "np.save('nuCDM_tiny.npy', nuCDM, allow_pickle=True)"
   ]
  },
  {
   "cell_type": "code",
   "execution_count": null,
   "metadata": {},
   "outputs": [],
   "source": []
  }
 ],
 "metadata": {
  "kernelspec": {
   "display_name": "Python 3 (ipykernel)",
   "language": "python",
   "name": "python3"
  },
  "language_info": {
   "codemirror_mode": {
    "name": "ipython",
    "version": 3
   },
   "file_extension": ".py",
   "mimetype": "text/x-python",
   "name": "python",
   "nbconvert_exporter": "python",
   "pygments_lexer": "ipython3",
   "version": "3.9.16"
  }
 },
 "nbformat": 4,
 "nbformat_minor": 4
}
