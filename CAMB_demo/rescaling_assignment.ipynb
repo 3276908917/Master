{
 "cells": [
  {
   "cell_type": "code",
   "execution_count": 1,
   "id": "a5cd3948-d731-4701-b8a4-e052070b4d60",
   "metadata": {},
   "outputs": [],
   "source": [
    "%matplotlib inline\n",
    "%config InlineBackend.figure_format = 'retina'\n",
    "import sys, platform, os\n",
    "import matplotlib\n",
    "from matplotlib import pyplot as plt\n",
    "import numpy as np\n",
    "import camb\n",
    "from camb import model, initialpower\n",
    "import pandas as pd\n",
    "import re"
   ]
  },
  {
   "cell_type": "code",
   "execution_count": 2,
   "id": "6ad80bff-c055-43ce-a223-204e6d30c783",
   "metadata": {},
   "outputs": [],
   "source": [
    "omega_nu = np.array([0.0006356, 0.002, 0.006356])\n",
    "omega_index = 0 # while we debug, we confine our attention to just one value"
   ]
  },
  {
   "cell_type": "code",
   "execution_count": 3,
   "id": "6168e2ef-b1b9-4e4d-a221-89845ca44e5a",
   "metadata": {},
   "outputs": [],
   "source": [
    "cosm = pd.read_csv(\"cosmology_Aletheia.dat\", sep='\\s+')\n",
    "\n",
    "# The following code is somewhat hard;\n",
    "# I'm not sure how better to do it.\n",
    "redshift_column = re.compile(\"z.+\")\n",
    "\n",
    "def parse_redshifts(model_num):\n",
    "    z = []\n",
    "    model = cosm.loc[model_num]\n",
    "    \n",
    "    for column in cosm.columns:\n",
    "        if redshift_column.match(column):\n",
    "            z.append(model[column])\n",
    "    return np.array(z)"
   ]
  },
  {
   "cell_type": "code",
   "execution_count": 4,
   "id": "8242a512-26b1-4dfc-b906-978757f29919",
   "metadata": {},
   "outputs": [],
   "source": [
    "def kzps(mlc, omnuh2_in, massive_neutrinos=False, sigma12_in=1, zs = [0]):\n",
    "    \"\"\"\n",
    "    Returns the scale axis, redshifts, power spectrum, and sigma12\n",
    "    of a Lambda-CDM model\n",
    "    @param mlc : \"MassLess Cosmology\"\n",
    "        a dictionary of values\n",
    "        for CAMBparams fields\n",
    "    @param omnuh2_in : neutrino physical mass density\n",
    "    @param sigma12 : if the spectrum should be rescaled,\n",
    "        this parameter determines the desired sigma12 of the model\n",
    "    @massive_neutrinos : if this is True,\n",
    "        the value in omnuh2_in is used to set omnuh2.\n",
    "        If this is False,\n",
    "        the value in omnuh2_in is simply added to omch2.\n",
    "    \"\"\"\n",
    "    pars = camb.CAMBparams()\n",
    "    omch2_in = mlc[\"omch2\"]\n",
    "    if massive_neutrinos:\n",
    "        omch2_in = mlc[\"omch2\"] - omnuh2_in\n",
    "        pars.omnuh2=omnuh2_in\n",
    "    pars.set_cosmology(\n",
    "        H0=mlc[\"h\"] * 100,\n",
    "        ombh2=mlc[\"ombh2\"],\n",
    "        omch2=omch2_in,\n",
    "        omk=mlc[\"OmK\"])\n",
    "    pars.InitPower.set_params(As=mlc[\"A_s\"], ns=mlc[\"n_s\"])\n",
    "    pars.set_dark_energy(w=mlc[\"w0\"], wa=float(mlc[\"wa\"]))\n",
    "    \n",
    "    pars.set_matter_power(redshifts=zs, kmax=2.0)\n",
    "    pars.NonLinear = model.NonLinear_none\n",
    "    results = camb.get_results(pars)\n",
    "    results.calc_power_spectra(pars)\n",
    "    \n",
    "    if sigma12_in != 1:\n",
    "        sigma12_unmodified = results.get_sigmaR(12, hubble_units=False)\n",
    "        As_rescaled = 2e-9 * (sigma12_in / sigma12_unmodified) ** 2\n",
    "\n",
    "        pars.InitPower.set_params(As=As_rescaled, ns=mlc[\"n_s\"])\n",
    "\n",
    "    k, z, p = results.get_matter_power_spectrum(minkh=1e-4, maxkh=1, npoints = 200)\n",
    "    sigma12 = results.get_sigmaR(12, hubble_units=False)\n",
    "    return k, z, p, sigma12"
   ]
  },
  {
   "cell_type": "code",
   "execution_count": null,
   "id": "1efff039-1bdb-4679-a0a6-43306774def5",
   "metadata": {},
   "outputs": [],
   "source": [
    "# Let us begin our demonstration by considering only the\n",
    "# middle of the\n",
    "# given neutrino mass physical densities, omega_nu[omega_index]\n",
    "k_massless_list = []\n",
    "z_massless_list = []\n",
    "p_massless_list = []\n",
    "s12_massless_list = []\n",
    "\n",
    "k_massive_list = []\n",
    "z_massive_list = []\n",
    "p_massive_list = []\n",
    "s12_massive_list = []\n",
    "\n",
    "for index, row in cosm.iterrows():\n",
    "    # Basically hard-code ignoring pattern\n",
    "    # Until we figure out the DE shenanigans\n",
    "    if row[\"wa\"] == \"-\" or row[\"w0\"] + float(row[\"wa\"]) < -1:\n",
    "        continue # not sure how to handle this yet\n",
    "    if index > 2:\n",
    "        continue # we're confining our attention while we debug\n",
    "\n",
    "    z_in = parse_redshifts(index)\n",
    "    \n",
    "    k, z, p, s12 = kzps(row, omega_nu[omega_index], massive_neutrinos=False,\n",
    "                       zs=z_in)\n",
    "    k_massless_list.append(k)\n",
    "    z_massless_list.append(z)\n",
    "    p_massless_list.append(p)\n",
    "    s12_massless_list.append(s12)\n",
    "    \n",
    "    k, z, p, s12 = kzps(row, omega_nu[omega_index], massive_neutrinos=True,\n",
    "                       zs=z_in)\n",
    "    k_massive_list.append(k)\n",
    "    z_massive_list.append(z)\n",
    "    p_massive_list.append(p)\n",
    "    s12_massive_list.append(s12)"
   ]
  },
  {
   "cell_type": "code",
   "execution_count": null,
   "id": "835dde89-51af-47f6-8ac9-9fd52f188bbc",
   "metadata": {},
   "outputs": [],
   "source": [
    "colors = [\"green\", \"blue\", \"brown\"]"
   ]
  },
  {
   "cell_type": "code",
   "execution_count": null,
   "id": "153b4ae6-4533-42bc-b1ad-415f811962b3",
   "metadata": {},
   "outputs": [],
   "source": [
    "for i in range(0, 3):\n",
    "    h = cosm.loc[i][\"h\"]\n",
    "    for j in range(5):\n",
    "        plt.plot(k_massless_list[i] * h, p_massive_list[i][j] / p_massless_list[i][j],\n",
    "                 label=\"model \" + str(i) + \\\n",
    "                 \", no renormalizing, z=\" + str(parse_redshifts(index)[j]),\n",
    "                c=colors[i])\n",
    "    plt.xscale('log')\n",
    "    plt.xlabel(r\"k [1 / Mpc]\")\n",
    "    plt.ylabel(r\"$P_\\mathrm{massive} / P_0$\")\n",
    "    plt.title(r\"$\\omega_\\nu$ = \" + str(omega_nu[omega_index]))\n",
    "    #plt.legend()"
   ]
  },
  {
   "cell_type": "code",
   "execution_count": null,
   "id": "a6fe6e72-6c40-4bec-8277-57ffcf062a78",
   "metadata": {},
   "outputs": [],
   "source": [
    "for i in range(0, 3):\n",
    "    h = cosm.loc[i][\"h\"]\n",
    "    j = 4 # just look at z=0 before moving on\n",
    "    plt.plot(k_massless_list[i] * h, p_massive_list[i][j] / p_massless_list[i][j],\n",
    "                 label=\"model \" + str(i), c=colors[i])\n",
    "    plt.xscale('log')\n",
    "    plt.xlabel(r\"k [1 / Mpc]\")\n",
    "    plt.ylabel(r\"$P_\\mathrm{massive} / P_0$\")\n",
    "    plt.title(r\"$\\omega_\\nu$ = \" + str(omega_nu[omega_index]) + \"; $z=0$\")\n",
    "    plt.legend()"
   ]
  },
  {
   "cell_type": "markdown",
   "id": "f8d7828c-abbc-4dc1-aaf0-7813150e5d9c",
   "metadata": {},
   "source": [
    "Problems? and problems:\n",
    "* I am currently not re-normalizing the amplitude of one model mased on its counterpart. At least, I *think* I'm not doing that.\n",
    "* I need to set a k_min value so that the x axes align better"
   ]
  },
  {
   "cell_type": "code",
   "execution_count": null,
   "id": "98865800-da7a-445a-8509-0f376d29a2c3",
   "metadata": {},
   "outputs": [],
   "source": []
  }
 ],
 "metadata": {
  "kernelspec": {
   "display_name": "Python 3 (ipykernel)",
   "language": "python",
   "name": "python3"
  },
  "language_info": {
   "codemirror_mode": {
    "name": "ipython",
    "version": 3
   },
   "file_extension": ".py",
   "mimetype": "text/x-python",
   "name": "python",
   "nbconvert_exporter": "python",
   "pygments_lexer": "ipython3",
   "version": "3.9.13"
  }
 },
 "nbformat": 4,
 "nbformat_minor": 5
}
