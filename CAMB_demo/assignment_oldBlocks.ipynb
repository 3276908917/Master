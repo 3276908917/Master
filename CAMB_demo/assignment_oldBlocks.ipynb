{
 "cells": [
  {
   "cell_type": "code",
   "execution_count": null,
   "id": "2aa75b51-c21a-47ea-a428-441850e412b4",
   "metadata": {},
   "outputs": [],
   "source": [
    "massive = []\n",
    "massless = []\n",
    "\n",
    "mnu_start = 0.06\n",
    "mstep = 0.02\n",
    "for i in range(0, 4):\n",
    "    msum = mnu_start + mstep * i\n",
    "    label = r\"$\\Sigma m_\\nu = $\" + str(msum) + \" [eV]\"\n",
    "    k, z, p, s, omnuh2 = kzps(msum, 1)\n",
    "    massive.append((label, k, z, p, s))\n",
    "    label0 = r\"$\\Sigma m_\\nu = 0$ norm'd to \" + str(msum)\n",
    "    k0, z0, p0, s0, omnuh2 = kzps(0, s, omnuh2)\n",
    "    massless.append((label0, k0, z0, p0, s0))"
   ]
  },
  {
   "cell_type": "code",
   "execution_count": null,
   "id": "0ea73bb0-54e5-48d9-ab7d-acb8eddd8215",
   "metadata": {},
   "outputs": [],
   "source": [
    "for i in range(len(massive)):\n",
    "    plt.plot(massive[i][1], massive[i][3][0] / massless[i][3][0], label=massive[i][0])\n",
    "\n",
    "title = \"Comparison of massive neutrino linear power spectra\\n\" + \\\n",
    "    \"to renormalized massless counterparts\\n\" + \\\n",
    "    \"z = 0\"\n",
    "plt.title(title)\n",
    "plt.xlabel(r\"k [h / Mpc]\")\n",
    "plt.ylabel(r\"$P_\\mathrm{massive} / P_0$\")\n",
    "plt.legend()"
   ]
  },
  {
   "cell_type": "markdown",
   "id": "fd2b9a23-e83f-4bf9-8139-75e777e0ebca",
   "metadata": {},
   "source": [
    "Ivanov 2021 (\"Cosmological Constraints...\") puts the limit at M_tot < 0.64 eV 95% CL.\n",
    "\n",
    "Planck 2018 data apparently puts the limit at M_tot < 0.12 eV for 95% CL.\n",
    "\n",
    "    This is cited in Amiri et al, 2021 (\"Constraining neutrino mass...\")\n",
    "\n",
    "Font-Ribera et al. 2014 (\"DESI and other...\") puts the limit at M_tot > 0.06 eV."
   ]
  },
  {
   "cell_type": "code",
   "execution_count": null,
   "id": "99d6605f-0b37-44a5-b0eb-e40d840ca94c",
   "metadata": {},
   "outputs": [],
   "source": []
  }
 ],
 "metadata": {
  "kernelspec": {
   "display_name": "Python 3 (ipykernel)",
   "language": "python",
   "name": "python3"
  },
  "language_info": {
   "codemirror_mode": {
    "name": "ipython",
    "version": 3
   },
   "file_extension": ".py",
   "mimetype": "text/x-python",
   "name": "python",
   "nbconvert_exporter": "python",
   "pygments_lexer": "ipython3",
   "version": "3.7.13"
  }
 },
 "nbformat": 4,
 "nbformat_minor": 5
}
